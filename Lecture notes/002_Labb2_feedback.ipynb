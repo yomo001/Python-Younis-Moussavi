{
 "cells": [
  {
   "cell_type": "markdown",
   "metadata": {},
   "source": [
    "# Do's and dont's\n",
    "Ways to improve code readabilty. Examples are based upon observations from labb 2 submissions."
   ]
  },
  {
   "cell_type": "markdown",
   "metadata": {},
   "source": [
    "### Do not:"
   ]
  },
  {
   "cell_type": "code",
   "execution_count": 4,
   "metadata": {},
   "outputs": [],
   "source": [
    "if is_pikachu == True:   \n",
    "    ...\n"
   ]
  },
  {
   "cell_type": "markdown",
   "metadata": {},
   "source": [
    "#### Instead do:"
   ]
  },
  {
   "cell_type": "code",
   "execution_count": null,
   "metadata": {},
   "outputs": [],
   "source": []
  },
  {
   "cell_type": "markdown",
   "metadata": {},
   "source": [
    "### Do not:"
   ]
  },
  {
   "cell_type": "code",
   "execution_count": null,
   "metadata": {},
   "outputs": [],
   "source": [
    "point1 = (24, 31)\n",
    "point2 = (25, 30.5)\n",
    "point3 = (24.5, 32.2)\n",
    "point4 = (26, 29)"
   ]
  },
  {
   "cell_type": "markdown",
   "metadata": {},
   "source": [
    "#### Instead do:"
   ]
  },
  {
   "cell_type": "code",
   "execution_count": null,
   "metadata": {},
   "outputs": [],
   "source": []
  },
  {
   "cell_type": "markdown",
   "metadata": {},
   "source": [
    "### Do not:\n",
    "- För många listar\n",
    "- Skapa listor innan de ska användas ,  i python behöver ej deklareras först, rekommenderas ej\n",
    "- Om man sedan appendar till pichu i en for loop långt ned har man ingen koll på vad pichu var för ngt. \n",
    "- "
   ]
  },
  {
   "cell_type": "code",
   "execution_count": null,
   "metadata": {},
   "outputs": [],
   "source": [
    "pichu = []               # Skapa tomma listor precis innan de ska användas\n",
    "pika = []\n",
    "pichu_width = []\n",
    "pichu_height = []\n",
    "pika_width = []\n",
    "pika_height = []\n",
    "pichu_label = []\n",
    "pika_label = []\n",
    "...\n",
    "..."
   ]
  },
  {
   "cell_type": "markdown",
   "metadata": {},
   "source": [
    "#### Instead do:"
   ]
  },
  {
   "cell_type": "markdown",
   "metadata": {},
   "source": [
    "- Try to reduce the number of variables (e.g, by combining them)\n",
    "- Don't initialize variables in advance but only when they actually are used"
   ]
  },
  {
   "cell_type": "markdown",
   "metadata": {},
   "source": [
    "### Do not:"
   ]
  },
  {
   "cell_type": "code",
   "execution_count": null,
   "metadata": {},
   "outputs": [],
   "source": [
    "line = file_rows(\"datapoints.txt\")\n",
    "\n",
    "for i in line:\n",
    "    removeNewline = i.replace(\"\\n\", \"\")\n",
    "    ..."
   ]
  },
  {
   "cell_type": "markdown",
   "metadata": {},
   "source": [
    "#### Instead do:\n",
    "- Tydligare variabelnamn (typ for line in \"lines\"). \n",
    "- Metoder GÖR ngt medan variabler ÄR ngt.\n",
    "    - Use verbs for function/method names\n",
    "    - Use nouns (substantiv) for variable names\n",
    "    - Use singular for numerics, values, plural for collections (e.g. lists and sets)"
   ]
  },
  {
   "cell_type": "code",
   "execution_count": null,
   "metadata": {},
   "outputs": [],
   "source": [
    "rows = read_textfile(\"datapoints.txt\") # Obs, här ändras namn till ngt som GÖR ngt (funktion, metod)\n",
    "\n",
    "for row in rows:\n",
    "    removeNewline = row.replace(\"\\n\", \"\")\n",
    "    ..."
   ]
  },
  {
   "cell_type": "markdown",
   "metadata": {},
   "source": [
    "### Do not:"
   ]
  },
  {
   "cell_type": "code",
   "execution_count": null,
   "metadata": {},
   "outputs": [],
   "source": [
    "# Tar in bredd och höjd från användaren.\n",
    "def be_användaren_om_bredd_och_höjd():\n",
    "    bredd = input(\"Mata in bredd: \")\n",
    "    höjd = input(\"Mata in höjd: \")\n",
    "    return (bredd, höjd)"
   ]
  },
  {
   "cell_type": "markdown",
   "metadata": {},
   "source": [
    "#### Instead do:\n",
    "- Utgå ifrån att andra som ej kan svenska läser koden. \n",
    "- Om uttryckligen ska vara för svenskar på svenska, då kan de delar som användaren ser vara på svenska\n",
    "- Write comments, code and user interface in english"
   ]
  },
  {
   "cell_type": "code",
   "execution_count": null,
   "metadata": {},
   "outputs": [],
   "source": []
  },
  {
   "cell_type": "markdown",
   "metadata": {},
   "source": [
    "### Do not:"
   ]
  },
  {
   "cell_type": "code",
   "execution_count": null,
   "metadata": {},
   "outputs": [],
   "source": [
    "if pokemons[0][1] == datapoints[2][0][1]:    \n",
    "    ..."
   ]
  },
  {
   "cell_type": "markdown",
   "metadata": {},
   "source": [
    "#### Instead do:\n",
    "- Vad betyder detta??? Måste leta upp dessa variabler överallt. Man kan kommentera.\n",
    "- Men- man vill skriva koden så tydlig som möjligt och kommentera mindre. \n",
    "- Function förtydligar men ngt annat:\n",
    "- **Det enklaste: Dictionaries, med nycklar blir mkt tydligare vad man tittar efter.**\n",
    "- Man vill inte ha så mkt listor i listor, tänk på det, 2 st blir 2 d array ok är bra men beror på också vad man vill göra, 3 blir 3d, svårare. Hålla så enkelt som möjligt. 2 listar och den andra kan innehålla olika, får då bredd och variation, bra eller dåligt?"
   ]
  },
  {
   "cell_type": "code",
   "execution_count": null,
   "metadata": {},
   "outputs": [],
   "source": [
    "if pokemons[\"pichus\"][\"width\"] == datapoints[\"pokemons\"][\"labels\"][\"width\"]:"
   ]
  },
  {
   "cell_type": "markdown",
   "metadata": {},
   "source": [
    "### Do not:"
   ]
  },
  {
   "cell_type": "code",
   "execution_count": null,
   "metadata": {},
   "outputs": [],
   "source": [
    "width = 24.0\n",
    "height = 32.5\n",
    "label = 1\n",
    "\n",
    "pokemon = [width, height, label]"
   ]
  },
  {
   "cell_type": "markdown",
   "metadata": {},
   "source": [
    "#### Instead do:\n",
    "- **Skapa inte en lista med olika saker**. Avoild lists where items represent different things.\n",
    "- Instead use dictionaries in these cases\n",
    "- **Only use lists in items where each item in the list represent the same thing**\n",
    " - e.g. pokemons[\"pichu\", \"pikashu\"] , t.ex. de är objekter av samma klass som i sin tur har attribut\n",
    "- Har man något som ska ha flera labels, och senare ska sökas igenom och kollas upp, då blir listor otydligt. Tydligare med dictionary som har keys där den förklarar vad det är man vill ha"
   ]
  },
  {
   "cell_type": "code",
   "execution_count": null,
   "metadata": {},
   "outputs": [],
   "source": [
    "width = 24.0\n",
    "height = 32.5\n",
    "label = 1\n",
    "\n",
    "pokemon = {\"width\": width, \"height\": height, \"label\": label}\n",
    "\n",
    "pokemon = [1][5]  #vs. att kolla upp via dictionary"
   ]
  },
  {
   "cell_type": "markdown",
   "metadata": {},
   "source": [
    "### Do not:"
   ]
  },
  {
   "cell_type": "code",
   "execution_count": null,
   "metadata": {},
   "outputs": [],
   "source": [
    "def classify_point(point, training_data = pokemons):\n",
    "    ..."
   ]
  },
  {
   "cell_type": "markdown",
   "metadata": {},
   "source": [
    "#### Instead do:\n",
    "- Sätt inte default värden som har globala variabelvärden, vi vill ha fristående funktioner inte beroende av övrigt. Ska gå att sätta in närsomhelst, behöver inte kunna läsa annan kod för att förstå vad funktionen säger."
   ]
  },
  {
   "cell_type": "code",
   "execution_count": null,
   "metadata": {},
   "outputs": [],
   "source": []
  },
  {
   "cell_type": "markdown",
   "metadata": {},
   "source": [
    "### Do not:"
   ]
  },
  {
   "cell_type": "code",
   "execution_count": null,
   "metadata": {},
   "outputs": [],
   "source": [
    "def euclidean_distance(x1, y1, x2, y2):\n",
    "    # Calculate distance\n",
    "    distance = math.sqrt((x2 - x1)**2 + (y2 - y1)**2)\n",
    "    return distance"
   ]
  },
  {
   "cell_type": "markdown",
   "metadata": {},
   "source": [
    "#### Instead do:"
   ]
  },
  {
   "cell_type": "code",
   "execution_count": null,
   "metadata": {},
   "outputs": [],
   "source": [
    "def euclidean_distance(x1, y1, x2, y2):\n",
    "    # commentary deleted- unneccesary  \n",
    "    return math.sqrt((x2 - x1)**2 + (y2 - y1)**2)   # Behöver inte gå mellansteg och lagra i extra variabel, direkt returna\n"
   ]
  },
  {
   "cell_type": "markdown",
   "metadata": {},
   "source": [
    "### Do not:"
   ]
  },
  {
   "cell_type": "code",
   "execution_count": null,
   "metadata": {},
   "outputs": [],
   "source": [
    "dp = load(\"datapoints\")\n",
    "\n",
    "poke_list = []\n",
    "\n",
    "for p in dp:\n",
    "    poke_list.append({\"w\": p[0], \"h\": p[1]})\n",
    "\n",
    "poke_srt = sorted(poke_list)"
   ]
  },
  {
   "cell_type": "markdown",
   "metadata": {},
   "source": [
    "#### Instead do:\n",
    "- Avoid making abbreviations for names \n",
    "- Tydligare variabelnamn. I längre kod blir krångligare också.\n",
    "- Man behöver hela tiden anta betydelse istället för att bara läsa koden.\n",
    "- Så kort kod som möjligt, MEN inte genom att korta ned namnen för mycket\n",
    "- Ange inte list i variabelnamn för att ange att det är en list\n",
    "- Ange inte string i variabelnamn för att ange att det är en string - etc.\n",
    "- Ha variabelnamn som går att förstå, inga internskämt/förståelse grejer som bara vissa förstår \n"
   ]
  },
  {
   "cell_type": "code",
   "execution_count": null,
   "metadata": {},
   "outputs": [],
   "source": [
    "datapoints = load(\"datapoints\")\n",
    "\n",
    "pokemons = []\n",
    "\n",
    "for point in datapoints:\n",
    "    pokemons.append({\"width\": p[0], \"height\": p[1]})\n",
    "\n",
    "sorted_pokemons = sorted(pokemons)"
   ]
  },
  {
   "cell_type": "markdown",
   "metadata": {},
   "source": [
    "### Do not:"
   ]
  },
  {
   "cell_type": "code",
   "execution_count": null,
   "metadata": {},
   "outputs": [],
   "source": [
    "random.shuffle(pichus)\n",
    "random.shuffle(pikachus)\n",
    "\n",
    "new_pichu_training_data = []\n",
    "new_pikachu_training_data = []\n",
    "new_pichu_test_data = []\n",
    "new_pikachu_test_data = []\n",
    "\n",
    "# Append Pichus to new training data and test data\n",
    "for pichu in pichus:\n",
    "    if len(new_pichu_training_data) < 50:\n",
    "        new_pichu_training_data.append(pichu)\n",
    "    else:\n",
    "        new_pichu_test_data.append(pichu)\n",
    "\n",
    "# Append Pikachus to new training data and test data\n",
    "for pikachu in pikachus:\n",
    "    if len(new_pikachu_training_data) < 50:\n",
    "        new_pikachu_training_data.append(pikachu)\n",
    "    else:\n",
    "        new_pikachu_test_data.append(pikachu)\n",
    "\n",
    "new_training_data = new_pichu_training_data + new_pikachu_training_data\n",
    "new_test_data = new_pichu_test_data + new_pikachu_test_data\n",
    "\n",
    "# Här loopar man så att första 50 går in i en lista, resten i andra (testdata), därefter slår ihop. Går göra effektivare med slice"
   ]
  },
  {
   "cell_type": "markdown",
   "metadata": {},
   "source": [
    "#### Instead do:\n",
    "- Samma kod två gånger, gör i functioner.\n",
    "- Hade kunnat slica istället, på två rader kod istället för 24 rader. "
   ]
  },
  {
   "cell_type": "code",
   "execution_count": null,
   "metadata": {},
   "outputs": [],
   "source": [
    "random.shuffle(pichus)\n",
    "random.shuffle(pikachus)\n",
    "\n",
    "new_training_data = pichus[:50] + pikashu[:50]\n",
    "new_test_data = pichus[:-25] + pikashu[:-25]"
   ]
  },
  {
   "cell_type": "markdown",
   "metadata": {},
   "source": [
    "### Do not:"
   ]
  },
  {
   "cell_type": "code",
   "execution_count": null,
   "metadata": {},
   "outputs": [],
   "source": [
    "TP = 0\n",
    "FP = 0\n",
    "TN = 0\n",
    "FN = 0\n",
    "\n",
    "# For loop to classify each test point and update counts (TP, TN, FP, FN)\n",
    "for actual_label, predicted_label in results:\n",
    "    \n",
    "    if actual_label == \"Pikachu\":\n",
    "        if predicted_label == \"Pikachu\":\n",
    "            TP += 1\n",
    "        else:\n",
    "            FP += 1\n",
    "    else:\n",
    "        if predicted_label == \"Pichu\":\n",
    "            TN += 1\n",
    "        else:\n",
    "            FN += 1\n",
    "    \n",
    "total = TP + TN + FP + FN\n",
    "accuracy = (TP + TN) / total"
   ]
  },
  {
   "cell_type": "markdown",
   "metadata": {},
   "source": [
    "#### Instead do:\n",
    "- Behöver inte alla parametrar, tänk på stora bokstäver \n",
    "- Tänker större - behövs alla variabler? \n",
    "- Blir enklare att läsa koden, vill man påvisa av någon anledning vad som gjorts, då kanske bättre skriva koden med alla fyra parametrar. \n",
    "- Annars nedan effektivare kod."
   ]
  },
  {
   "cell_type": "code",
   "execution_count": null,
   "metadata": {},
   "outputs": [],
   "source": [
    "correct_predictions = 0\n",
    "\n",
    "# For loop to classify each test point and update counts (TP, TN, FP, FN)\n",
    "for actual_label, predicted_label in results:\n",
    "    if actual_label == predicted_label:\n",
    "            correct_predictions += 1\n",
    "    \n",
    "total = len(results)\n",
    "accuracy = correct_predictions/ total"
   ]
  },
  {
   "cell_type": "markdown",
   "metadata": {},
   "source": [
    "### Do not:"
   ]
  },
  {
   "cell_type": "code",
   "execution_count": null,
   "metadata": {},
   "outputs": [],
   "source": [
    "def classify_point(point, training_data):\n",
    "    \n",
    "    # Get a list with all distances from the test point to each training point\n",
    "    distances = []\n",
    "\n",
    "    for training_point in training_data:\n",
    "        # Calculate the euclidian distance to current training point\n",
    "        distances.append(math.sqrt((training_point[0] - point[0])**2 + (training_point[1] - point[1])**2))\n",
    "\n",
    "    ..."
   ]
  },
  {
   "cell_type": "markdown",
   "metadata": {},
   "source": [
    "#### Instead do\n",
    "- Bryta ned funktion i mindre delar, där varje funktion gör en sak (den här fortsätter långt ned och gör många olika saker)\n",
    "- Funktionen gör massa mer saker än bara klassificering.\n",
    "- Istället för kommentar som säger att avstånd beräknas - ha en separat funktion då som säger det.\n",
    "- "
   ]
  },
  {
   "cell_type": "code",
   "execution_count": null,
   "metadata": {},
   "outputs": [],
   "source": [
    "\n",
    "def euclidean_distance(p1, p2):\n",
    "    return math.sqrt((p1[0] - p2[0])**2 + (p1[1] - p2[1])**2))\n",
    "\n",
    "def classify_point(point, training_data):\n",
    "    distances = [euclidean_distance(point, training_point) for training_point in training_data]  # Använder list comprehension istället\n",
    "# Här lägger den till euclidean distance för varje värde i listan training_data\n",
    "\n",
    "\n",
    "    # for training_point in training_data:\n",
    "    #     distances.append(euclidean_distance(point, training_point))\n",
    "\n",
    "    "
   ]
  }
 ],
 "metadata": {
  "kernelspec": {
   "display_name": "Learning_Python-3NYKqp0N",
   "language": "python",
   "name": "python3"
  },
  "language_info": {
   "codemirror_mode": {
    "name": "ipython",
    "version": 3
   },
   "file_extension": ".py",
   "mimetype": "text/x-python",
   "name": "python",
   "nbconvert_exporter": "python",
   "pygments_lexer": "ipython3",
   "version": "3.9.0"
  },
  "orig_nbformat": 4
 },
 "nbformat": 4,
 "nbformat_minor": 2
}
