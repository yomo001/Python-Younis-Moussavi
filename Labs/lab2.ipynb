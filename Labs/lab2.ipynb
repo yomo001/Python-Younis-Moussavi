{
 "cells": [
  {
   "cell_type": "code",
   "execution_count": 1,
   "metadata": {},
   "outputs": [
    {
     "name": "stdout",
     "output_type": "stream",
     "text": [
      "[{'width': 21.959384499160468, 'height': 31.23956701424158, 'label': 0}, {'width': 23.63591632187622, 'height': 36.46821490673444, 'label': 1}, {'width': 17.714056417303343, 'height': 31.44170391314962, 'label': 0}, {'width': 21.78020031891186, 'height': 33.213397759738264, 'label': 1}, {'width': 25.20630552859312, 'height': 36.558816149350534, 'label': 1}, {'width': 19.332572350434354, 'height': 32.25325633655492, 'label': 0}, {'width': 24.73645685241186, 'height': 35.33291181124776, 'label': 1}, {'width': 23.79257560586339, 'height': 38.10372825362463, 'label': 1}, {'width': 24.557612968127465, 'height': 36.73144402805611, 'label': 1}, {'width': 20.191281253428173, 'height': 35.06966921830237, 'label': 0}, {'width': 25.813562951888365, 'height': 35.561029988644336, 'label': 1}, {'width': 24.923378667802954, 'height': 34.463907946680294, 'label': 1}, {'width': 25.311244044578427, 'height': 34.117212558131975, 'label': 1}, {'width': 22.819091361866796, 'height': 34.25516433025548, 'label': 1}, {'width': 19.639358214988224, 'height': 34.56117030001663, 'label': 0}, {'width': 18.341233265627693, 'height': 31.399261188293124, 'label': 0}, {'width': 22.723629043769336, 'height': 34.83845262048311, 'label': 1}, {'width': 25.82936770950206, 'height': 33.16210202637511, 'label': 1}, {'width': 20.23890182459327, 'height': 32.78945132868386, 'label': 0}, {'width': 17.905128921789093, 'height': 28.88813385482529, 'label': 0}, {'width': 24.385289647525166, 'height': 37.335669057387726, 'label': 1}, {'width': 26.525412887538252, 'height': 35.2192205449002, 'label': 1}, {'width': 19.299333494980544, 'height': 30.486337996080024, 'label': 0}, {'width': 20.118681851201636, 'height': 31.89116680793916, 'label': 0}, {'width': 22.980962976720388, 'height': 35.3191819848619, 'label': 1}, {'width': 17.96926166354966, 'height': 32.48406633310577, 'label': 0}, {'width': 21.58631807419169, 'height': 30.975094109600928, 'label': 0}, {'width': 18.659636883604406, 'height': 33.04492931889734, 'label': 0}, {'width': 19.209914415003638, 'height': 31.420355685575746, 'label': 0}, {'width': 18.16229126686346, 'height': 29.93643755301725, 'label': 0}, {'width': 19.120619567709372, 'height': 30.699542112256864, 'label': 0}, {'width': 25.17676132371397, 'height': 34.393601274285054, 'label': 1}, {'width': 18.583516818010633, 'height': 31.317010181098944, 'label': 0}, {'width': 24.68867147060795, 'height': 35.363481550256644, 'label': 1}, {'width': 23.02865997158701, 'height': 35.4082866561793, 'label': 1}, {'width': 20.282109030336354, 'height': 33.18796105898338, 'label': 0}, {'width': 17.672876665469843, 'height': 32.67247775608707, 'label': 0}, {'width': 20.795121649361587, 'height': 32.493051910886486, 'label': 0}, {'width': 20.101930916301317, 'height': 31.19190374413498, 'label': 0}, {'width': 20.39204407747099, 'height': 32.08774193592624, 'label': 0}, {'width': 23.868174335146136, 'height': 35.449698119416254, 'label': 1}, {'width': 26.388368121945867, 'height': 35.62090746957761, 'label': 1}, {'width': 25.567802785102412, 'height': 35.66631613405574, 'label': 1}, {'width': 23.99071038023876, 'height': 35.06411342600334, 'label': 1}, {'width': 23.792145242488125, 'height': 35.107650004447365, 'label': 1}, {'width': 24.111063562798908, 'height': 31.418267572382227, 'label': 1}, {'width': 20.098954730848863, 'height': 33.067467402673685, 'label': 0}, {'width': 20.88810038727894, 'height': 32.644004609994596, 'label': 0}, {'width': 24.587154114074174, 'height': 35.61397200548726, 'label': 1}, {'width': 21.65956855815321, 'height': 36.81907508404582, 'label': 1}, {'width': 18.59843317023302, 'height': 32.60944545701523, 'label': 0}, {'width': 21.069573240979203, 'height': 32.21936612110862, 'label': 0}, {'width': 24.87225986527509, 'height': 36.149522366845794, 'label': 1}, {'width': 20.276898330625336, 'height': 33.84658247356705, 'label': 0}, {'width': 19.592545899041802, 'height': 30.59392660926762, 'label': 0}, {'width': 20.323269906838078, 'height': 32.29574812465895, 'label': 0}, {'width': 21.35018601896744, 'height': 33.94708664610186, 'label': 0}, {'width': 20.1569063412357, 'height': 31.639314277796213, 'label': 0}, {'width': 18.929553010373773, 'height': 33.331523282909906, 'label': 0}, {'width': 22.121125492746756, 'height': 34.690328304537594, 'label': 1}, {'width': 19.499062316347583, 'height': 31.139578977011656, 'label': 0}, {'width': 26.517189386365075, 'height': 34.7011323493234, 'label': 1}, {'width': 23.388322747322558, 'height': 36.769999842308025, 'label': 1}, {'width': 20.579090632339703, 'height': 30.771060416224586, 'label': 0}, {'width': 20.240420339246214, 'height': 33.87654102727224, 'label': 1}, {'width': 24.59096971887165, 'height': 33.61859674823029, 'label': 1}, {'width': 25.116586706562245, 'height': 36.20121874558056, 'label': 1}, {'width': 25.557501503948984, 'height': 36.39246631338593, 'label': 1}, {'width': 24.387651550868913, 'height': 33.2827564295772, 'label': 1}, {'width': 19.69944356712352, 'height': 30.714803909172808, 'label': 0}, {'width': 22.826788929142136, 'height': 37.16482263385777, 'label': 1}, {'width': 24.609041154081922, 'height': 36.104823979389685, 'label': 1}, {'width': 19.893039297257797, 'height': 30.792717627266093, 'label': 0}, {'width': 20.554378047506688, 'height': 31.190868044454003, 'label': 0}, {'width': 19.55060327163345, 'height': 34.602756266320824, 'label': 0}, {'width': 23.619820901736276, 'height': 36.98566859418098, 'label': 1}, {'width': 25.15076144887497, 'height': 33.89409391341271, 'label': 1}, {'width': 24.47796159427686, 'height': 35.32146634770389, 'label': 1}, {'width': 24.004087953898246, 'height': 35.618803262029324, 'label': 1}, {'width': 20.759216855120783, 'height': 32.46166610892119, 'label': 0}, {'width': 22.493387946548573, 'height': 36.78517041843648, 'label': 1}, {'width': 20.008781128403864, 'height': 32.15292152986537, 'label': 0}, {'width': 22.42591934771403, 'height': 34.789785253591695, 'label': 1}, {'width': 22.15365577923418, 'height': 37.131777154514445, 'label': 1}, {'width': 19.56686423226426, 'height': 30.326934442372128, 'label': 0}, {'width': 24.991105175469915, 'height': 34.10979431232785, 'label': 1}, {'width': 25.5491811833759, 'height': 33.52624549604696, 'label': 1}, {'width': 21.762001750531006, 'height': 33.05861298355044, 'label': 0}, {'width': 18.989418138097026, 'height': 30.90556767082746, 'label': 0}, {'width': 20.216002852334192, 'height': 33.41610156154373, 'label': 1}, {'width': 19.689909518113225, 'height': 31.931042667213433, 'label': 0}, {'width': 25.922634453956498, 'height': 35.2215760062586, 'label': 1}, {'width': 20.670175582205307, 'height': 32.56517816055985, 'label': 0}, {'width': 26.5173046073707, 'height': 35.18452932633369, 'label': 1}, {'width': 19.615470460641276, 'height': 31.431998074581394, 'label': 0}, {'width': 19.63004376836659, 'height': 33.17007380684688, 'label': 0}, {'width': 23.213535136458052, 'height': 30.885396636777646, 'label': 0}, {'width': 20.286130095999752, 'height': 32.05337469378953, 'label': 0}, {'width': 21.23487155577698, 'height': 36.5105588800243, 'label': 1}, {'width': 21.735098682375444, 'height': 36.51127780882874, 'label': 1}, {'width': 18.310337204918557, 'height': 32.21783772801109, 'label': 0}, {'width': 19.510846016895872, 'height': 29.897476657136767, 'label': 0}, {'width': 24.686621418656394, 'height': 33.104763826036056, 'label': 1}, {'width': 23.417849657642716, 'height': 30.787174197048245, 'label': 0}, {'width': 27.194383786280955, 'height': 36.267507265697255, 'label': 1}, {'width': 22.943474306364404, 'height': 37.07911595862419, 'label': 1}, {'width': 18.424438779822488, 'height': 31.79940219340467, 'label': 0}, {'width': 23.506242342727596, 'height': 34.65976495915212, 'label': 1}, {'width': 22.091553997471266, 'height': 31.28659385225738, 'label': 0}, {'width': 23.982852691650397, 'height': 36.01635437187656, 'label': 1}, {'width': 22.69081372502663, 'height': 35.561787418827784, 'label': 1}, {'width': 25.23472228644244, 'height': 32.641361593924174, 'label': 1}, {'width': 25.094170820930774, 'height': 34.58523945069137, 'label': 1}, {'width': 21.19030359241021, 'height': 35.40347944144049, 'label': 0}, {'width': 23.22258522384455, 'height': 30.98700760873653, 'label': 0}, {'width': 23.6967469082275, 'height': 32.52744160379351, 'label': 0}, {'width': 21.07884990354048, 'height': 32.02998372994636, 'label': 0}, {'width': 16.866105280907732, 'height': 28.984730409305136, 'label': 0}, {'width': 25.102866296361412, 'height': 33.30022994232253, 'label': 1}, {'width': 25.276930013476704, 'height': 35.131360854176535, 'label': 1}, {'width': 19.213188999276543, 'height': 31.71415755285442, 'label': 0}, {'width': 19.245073847748515, 'height': 32.58876412530819, 'label': 0}, {'width': 25.31359693611633, 'height': 35.516462459726284, 'label': 1}, {'width': 18.43905922308554, 'height': 30.82782241883467, 'label': 0}, {'width': 19.64717255190365, 'height': 32.82976709158487, 'label': 0}, {'width': 23.729020953235672, 'height': 40.1471703193656, 'label': 1}, {'width': 24.77859198674412, 'height': 34.15166673260206, 'label': 1}, {'width': 20.860495554922544, 'height': 29.030638237258632, 'label': 0}, {'width': 24.601954468608902, 'height': 32.78817486174627, 'label': 1}, {'width': 21.78836263199249, 'height': 32.339722449295664, 'label': 0}, {'width': 23.10295249458573, 'height': 34.771846982043876, 'label': 1}, {'width': 20.01813734259072, 'height': 32.22092994622254, 'label': 0}, {'width': 23.846379201803554, 'height': 36.1414458257896, 'label': 1}, {'width': 23.783158802270272, 'height': 36.043496466883504, 'label': 1}, {'width': 24.961373776424374, 'height': 33.9228476372155, 'label': 1}, {'width': 25.023623126719983, 'height': 34.28266788814326, 'label': 1}, {'width': 18.836400960218388, 'height': 35.028108243261656, 'label': 0}, {'width': 23.062887108583702, 'height': 35.04075442599907, 'label': 1}, {'width': 23.114574183632723, 'height': 35.530813208835745, 'label': 1}, {'width': 23.64067859798334, 'height': 38.192278809575996, 'label': 1}, {'width': 23.631672104136165, 'height': 34.52980905331491, 'label': 1}, {'width': 20.411629224757448, 'height': 32.263992292489995, 'label': 0}, {'width': 19.574019952530243, 'height': 31.935886159584427, 'label': 0}, {'width': 21.457545842765146, 'height': 31.659809960209728, 'label': 0}, {'width': 18.124817511542226, 'height': 31.997288449746307, 'label': 0}, {'width': 18.990689973799388, 'height': 32.387963045016726, 'label': 0}, {'width': 23.541999631800756, 'height': 32.4751927528317, 'label': 0}, {'width': 19.64060341428934, 'height': 30.2915567287162, 'label': 0}, {'width': 21.989953947825015, 'height': 33.64590281447322, 'label': 1}, {'width': 22.30210323807139, 'height': 32.73237945145149, 'label': 0}]\n"
     ]
    }
   ],
   "source": [
    "import csv\n",
    "import matplotlib.pyplot as plt\n",
    "\n",
    "# Läsa in datapunkter, gör om till dictionary\n",
    "\n",
    "pokemon = []\n",
    "\n",
    "with open(\"..\\\\data\\\\datapoints.csv\") as file:\n",
    "    reader = csv.DictReader(file)\n",
    "    for row in reader:\n",
    "        pokemon.append({\"width\": float(row[\"width\"]), \"height\": float(row[\"height\"]), \"label\": int(row[\"label\"])})\n",
    "print(pokemon)"
   ]
  },
  {
   "cell_type": "code",
   "execution_count": 2,
   "metadata": {},
   "outputs": [],
   "source": [
    "#width för varje sort\n",
    "pichu_width = [item[\"width\"] for item in pokemon if item[\"label\"] == 0]\n",
    "pikashu_width = [item[\"width\"] for item in pokemon if item[\"label\"] == 1]\n",
    "\n",
    "#height för varje sort\n",
    "pichu_height = [item[\"height\"] for item in pokemon if item[\"label\"] == 0]\n",
    "pikashu_height = [item[\"height\"] for item in pokemon if item[\"label\"] == 1]\n"
   ]
  },
  {
   "cell_type": "markdown",
   "metadata": {},
   "source": [
    "# Plotta värden för width vs. heigt för Pichu och Pikashu"
   ]
  },
  {
   "cell_type": "code",
   "execution_count": 3,
   "metadata": {},
   "outputs": [
    {
     "data": {
      "text/plain": [
       "<matplotlib.collections.PathCollection at 0x230984a9f50>"
      ]
     },
     "execution_count": 3,
     "metadata": {},
     "output_type": "execute_result"
    },
    {
     "data": {
      "image/png": "[encoded data removed]",
      "text/plain": [
       "<Figure size 640x480 with 1 Axes>"
      ]
     },
     "metadata": {},
     "output_type": "display_data"
    }
   ],
   "source": [
    "\n",
    "#Plotta datapunkter \n",
    "plt.scatter(pichu_width, pichu_height, marker = \"o\")\n",
    "plt.scatter(pikashu_width, pikashu_height,  marker = \"o\")\n"
   ]
  },
  {
   "cell_type": "markdown",
   "metadata": {},
   "source": [
    "# Läsa in värden för testpoints"
   ]
  },
  {
   "cell_type": "code",
   "execution_count": 4,
   "metadata": {},
   "outputs": [
    {
     "name": "stdout",
     "output_type": "stream",
     "text": [
      "['1. (25, 32)', '2. (24.2, 31.5)', '3. (22, 34)', '4. (20.5, 34)']\n"
     ]
    }
   ],
   "source": [
    "#Läsa in värden för testpoints\n",
    "with open(\"..\\\\data\\\\testpoints.txt\") as file: \n",
    "   testpoints = [testpoint.strip(\"\\n\") for testpoint in file.readlines()]\n",
    "print(testpoints[1:]) \n"
   ]
  },
  {
   "cell_type": "code",
   "execution_count": 5,
   "metadata": {},
   "outputs": [
    {
     "name": "stdout",
     "output_type": "stream",
     "text": [
      "['25, 32', '24.2, 31.5', '22, 34', '20.5, 34']\n"
     ]
    }
   ],
   "source": [
    "# Få fram siffror utan parentes\n",
    "sliced_testpoint = []\n",
    "\n",
    "for item in testpoints[1:]:\n",
    "   # ta fram index \n",
    "   start_index = item.index(\"(\")\n",
    "   stop_index = item.index(\")\")\n",
    "   # skapa varje värde, se till att parenteser ej kommer med\n",
    "   sliced_string = item[start_index+1: stop_index]\n",
    "   # appenda till lista\n",
    "   sliced_testpoint.append(sliced_string)\n",
    "print(sliced_testpoint)"
   ]
  },
  {
   "cell_type": "code",
   "execution_count": 6,
   "metadata": {},
   "outputs": [
    {
     "name": "stdout",
     "output_type": "stream",
     "text": [
      "[25.0, 24.2, 22.0, 20.5] [32.0, 31.5, 34.0, 34.0]\n"
     ]
    }
   ],
   "source": [
    "# Få ut i enskilda x och y värden\n",
    "\n",
    "test_width = []\n",
    "test_height = []\n",
    "\n",
    "for values in sliced_testpoint:\n",
    "    x, y = values.split(', ')\n",
    "    test_width.append(float(x))\n",
    "    test_height.append(float(y))\n",
    "print(test_width, test_height)\n"
   ]
  },
  {
   "cell_type": "markdown",
   "metadata": {},
   "source": [
    "# Plotta även ut testpoints i samma plot"
   ]
  },
  {
   "cell_type": "code",
   "execution_count": 7,
   "metadata": {},
   "outputs": [
    {
     "data": {
      "text/plain": [
       "Text(0, 0.5, 'Height')"
      ]
     },
     "execution_count": 7,
     "metadata": {},
     "output_type": "execute_result"
    },
    {
     "data": {
      "image/png": "[encoded data removed]",
      "text/plain": [
       "<Figure size 640x480 with 1 Axes>"
      ]
     },
     "metadata": {},
     "output_type": "display_data"
    }
   ],
   "source": [
    "# plotta testpunker\n",
    "plt.scatter(test_width, test_height, label = \"Testpoints\", marker = \"o\", color = \"green\")\n",
    "\n",
    "#Plotta datapunkter \n",
    "plt.scatter(pichu_width, pichu_height, label = \"Pichu\", marker = \"o\",  color = \"red\")\n",
    "plt.scatter(pikashu_width, pikashu_height, label = \"Pikashu\", marker = \"o\", color = \"blue\")\n",
    "\n",
    "plt.legend()\n",
    "plt.xlabel(\"Width\")\n",
    "plt.ylabel(\"Height\")"
   ]
  },
  {
   "cell_type": "markdown",
   "metadata": {},
   "source": [
    "# Funktion för att beräkna avstånd mellan data och testpoint"
   ]
  },
  {
   "cell_type": "code",
   "execution_count": 28,
   "metadata": {},
   "outputs": [
    {
     "data": {
      "text/plain": [
       "[4.671795022653235,\n",
       " 3.4408493296965403,\n",
       " 4.5634818565112445,\n",
       " 3.3433151410232775,\n",
       " 6.222007092703426,\n",
       " 4.752080478758416,\n",
       " 3.6527823993100914,\n",
       " 2.4650990240276256,\n",
       " 2.1399677267653545,\n",
       " 3.1372167034396403,\n",
       " 3.638499417218305,\n",
       " 1.4277016205320445,\n",
       " 5.370962028110472,\n",
       " 3.5623398762857184,\n",
       " 3.8850327604803505,\n",
       " 2.4001190857580688,\n",
       " 3.3778593209502157,\n",
       " 3.9373340521618427,\n",
       " 3.6306261788740977,\n",
       " 3.8779552531299815,\n",
       " 3.710023449738221,\n",
       " 3.2260589926366356,\n",
       " 3.334126822030886,\n",
       " 1.0623655711316322,\n",
       " 3.637476512909947,\n",
       " 5.8636138074868,\n",
       " 4.151488096450845,\n",
       " 3.940277250995002,\n",
       " 3.098060619590939,\n",
       " 5.034918277630381,\n",
       " 5.1161513634857485,\n",
       " 1.6694793213039807,\n",
       " 4.2028361148591715,\n",
       " 4.4277046244228595,\n",
       " 1.4214199522923856,\n",
       " 5.603413173924324,\n",
       " 4.123400140778744,\n",
       " 5.1731794550630665,\n",
       " 1.9000844105707402,\n",
       " 3.362240740336625,\n",
       " 3.7533422243175028,\n",
       " 5.401940384712471,\n",
       " 3.7958915903422024,\n",
       " 5.868288693195262,\n",
       " 2.109813062390686,\n",
       " 1.6220435525527015,\n",
       " 4.989185538891209,\n",
       " 3.3510903150659375,\n",
       " 3.5275260880435244,\n",
       " 5.875485819203661,\n",
       " 5.568770787369253,\n",
       " 1.1483506635878937,\n",
       " 4.798639230476866,\n",
       " 5.479663935838978,\n",
       " 3.0505182472152863,\n",
       " 4.143149899216151,\n",
       " 4.244840499882802,\n",
       " 0.6829635758323602,\n",
       " 2.5869540314674677,\n",
       " 1.3042926733824607,\n",
       " 3.143582515448482,\n",
       " 3.5304180020226754,\n",
       " 8.245712337334218,\n",
       " 2.163028256061473,\n",
       " 0.8829834980050161,\n",
       " 3.3588576822580993,\n",
       " 4.299117871608259,\n",
       " 4.2226255076897,\n",
       " 1.92323556047951,\n",
       " 2.2827901216880258,\n",
       " 3.605356269957816,\n",
       " 4.002683153175278,\n",
       " 6.339721723349097,\n",
       " 2.876152825708887,\n",
       " 3.430652024164659]"
      ]
     },
     "execution_count": 28,
     "metadata": {},
     "output_type": "execute_result"
    }
   ],
   "source": [
    "import math\n",
    "\n",
    "# Skapa lista med avstånd mellan testpunkt och pokemon - OBS MÅSTE ANGE INDEX, BARA EN PUNKT I TAGET, därför funkar inte zip på de två första\n",
    "\n",
    "def list_distance_test(pokemon_width, pokemon_height, test_width, test_height):\n",
    "\n",
    "\n",
    "    difference_width = [(pokemon_width - test_width)**2 for pokemon_width in pokemon_width]\n",
    "    difference_height = [(pokemon_height - test_height)**2 for pokemon_height in pokemon_height]\n",
    "    distance_pokemon = [math.sqrt(difference_width + difference_height) for difference_width, difference_height in zip(difference_width, difference_height)]      # https://stackoverflow.com/questions/11677860/subtract-values-in-one-list-from-corresponding-values-in-another-list\n",
    "    return distance_pokemon\n",
    "\n",
    "list_distance_test(pikashu_width, pikashu_height, test_width[0], test_height[0])\n"
   ]
  },
  {
   "cell_type": "markdown",
   "metadata": {},
   "source": [
    "### Som ovan fast ger värdet summerat för alla avstånd"
   ]
  },
  {
   "cell_type": "code",
   "execution_count": 9,
   "metadata": {},
   "outputs": [
    {
     "name": "stdout",
     "output_type": "stream",
     "text": [
      "275.1650112279647\n",
      "197.01407338337813\n"
     ]
    }
   ],
   "source": [
    "def list_distance_test_sum(pokemon_width, pokemon_height, test_width, test_height):\n",
    "\n",
    "\n",
    "    difference_width = [(pokemon_width - test_width)**2 for pokemon_width in pokemon_width]\n",
    "    difference_height = [(pokemon_height - test_height)**2 for pokemon_height in pokemon_height]\n",
    "    distance_pokemon = [math.sqrt(difference_width + difference_height) for difference_width, difference_height in zip(difference_width, difference_height)]      # https://stackoverflow.com/questions/11677860/subtract-values-in-one-list-from-corresponding-values-in-another-list\n",
    "    distance_pokemon_sum = sum(distance_pokemon)\n",
    "    return distance_pokemon_sum\n",
    "\n",
    "print(list_distance_test_sum(pikashu_width, pikashu_height, test_width[0], test_height[0]))\n",
    "print(list_distance_test_sum(pichu_width, pichu_height, test_width[3], test_height[3]))"
   ]
  },
  {
   "cell_type": "markdown",
   "metadata": {},
   "source": [
    "### Uträkning avstånd mellan samtliga testpoints och alla datapoints"
   ]
  },
  {
   "cell_type": "code",
   "execution_count": null,
   "metadata": {},
   "outputs": [],
   "source": [
    "# Listor för samtliga datapunkter i en lista ej summerat\n",
    "\n",
    "# Summera avstånden för alla testpunkter till utvald pokemon och lägga i lista i ordning\n",
    "# Förutsätter att testpoints har definierade listor x och \n",
    "\n",
    "def list_distance_single_tests(pokemon_width, pokemon_height, test_width, test_height):\n",
    "    list_testpoints = []\n",
    "    list_all_testpoints = []\n",
    "    for i, item in enumerate(test_width):              \n",
    "        all_distances = list_distance_test(pokemon_width, pokemon_height, item, test_height[i])\n",
    "        list_testpoints.append(all_distances)   \n",
    "        list_all_testpoints.append(list_testpoints)                                                       #summerar varje lista för enskilt test och lägger i lista så att varje summering motsvarar testet i den ordning de kommer \n",
    "    return list_all_testpoints\n"
   ]
  },
  {
   "cell_type": "code",
   "execution_count": 12,
   "metadata": {},
   "outputs": [
    {
     "data": {
      "text/plain": [
       "[275.1650112279647, 302.692706010773, 222.84313860875315, 308.2525493919872]"
      ]
     },
     "execution_count": 12,
     "metadata": {},
     "output_type": "execute_result"
    }
   ],
   "source": [
    "# Lista med summering för samtliga datapunkter\n",
    "\n",
    "# Summera avstånden för alla testpunkter till utvald pokemon och lägga i lista i ordning\n",
    "# Förutsätter att testpoints har definierade listor x och y \n",
    "     \n",
    "def list_distance_tests_sums(pokemon_width, pokemon_height, test_width, test_height):\n",
    "    list_sums = []\n",
    "    for i, item in enumerate(test_width):              \n",
    "        all_distances = list_distance_test(pokemon_width, pokemon_height, item, test_height[i])\n",
    "        list_sums.append(sum(all_distances))                                                           #summerar varje lista för enskilt test och lägger i lista så att varje summering motsvarar testet i den ordning de kommer \n",
    "    return list_sums\n",
    "\n",
    "list_distance_tests_sums(pikashu_width, pikashu_height, test_width, test_height)\n",
    "\n"
   ]
  },
  {
   "cell_type": "markdown",
   "metadata": {},
   "source": [
    "### Inledande klassificering innan uppgift"
   ]
  },
  {
   "cell_type": "code",
   "execution_count": 22,
   "metadata": {},
   "outputs": [
    {
     "name": "stdout",
     "output_type": "stream",
     "text": [
      "[False, False, False, True]\n",
      "['Pikashu', 'Pikashu', 'Pikashu', 'Pichu']\n"
     ]
    }
   ],
   "source": [
    "# Lösa inledande delen med att klassificera om punkterna är Pikashu eller Pichu\n",
    "distances_to_pikashu = list_distance_tests_sums(pikashu_width, pikashu_height, test_width, test_height)\n",
    "distances_to_pichu = list_distance_tests_sums(pichu_width, pichu_height, test_width, test_height)\n",
    "\n",
    "classify = [distances1 < distances2 for distances1, distances2 in zip(distances_to_pichu, distances_to_pikashu)]\n",
    "print(classify)\n",
    "\n",
    "output = [\"Pichu\" if i else \"Pikashu\" for i in classify]    # gpt\n",
    "print(output)\n",
    "\n",
    "# output.count(\"Pikashu\") Räkna antal Pikashu\n"
   ]
  },
  {
   "cell_type": "markdown",
   "metadata": {},
   "source": [
    "# Uppgift 1"
   ]
  },
  {
   "cell_type": "code",
   "execution_count": 23,
   "metadata": {},
   "outputs": [],
   "source": [
    "# Function för input\n",
    "\n",
    "def input_datapoints(testpoint = \"Input: \"):\n",
    "    while True:\n",
    "        try:  \n",
    "            return float(input(testpoint))          \n",
    "        except ValueError:\n",
    "            print(\"You have to enter a positive numeric number: \")\n",
    "\n",
    "input_width = input_datapoints(\"Enter width(cm) \")\n",
    "input_height = input_datapoints(\"Enter height(cm) \")"
   ]
  },
  {
   "cell_type": "code",
   "execution_count": 24,
   "metadata": {},
   "outputs": [],
   "source": [
    "# Function för classificering\n",
    "\n",
    "def classify_by_input():\n",
    "    # take input with try, except handling\n",
    "    input_width = input_datapoints(\"Enter width(cm) \")\n",
    "    input_height = input_datapoints(\"Enter height(cm) \")\n",
    "\n",
    "    # calculate distances of input datapoints and pokemons datapoints, OBS FÖR ENSKILD DATAPUNKT\n",
    "    distances_to_pikashu= list_distance_test_sum(pikashu_width, pikashu_height, input_width, input_height)\n",
    "    distances_to_pichu= list_distance_test_sum(pichu_width, pichu_height, input_width, input_height)\n",
    "\n",
    "    # classify which pokemon it is\n",
    "    if distances_to_pichu < distances_to_pikashu:\n",
    "        output = \"This is Pichu!\"\n",
    "    else:\n",
    "        output = \"This is Pikashu!\"\n",
    "    return output"
   ]
  },
  {
   "cell_type": "markdown",
   "metadata": {},
   "source": [
    "### Lösning uppgift 1"
   ]
  },
  {
   "cell_type": "code",
   "execution_count": 25,
   "metadata": {},
   "outputs": [
    {
     "data": {
      "text/plain": [
       "'This is Pichu!'"
      ]
     },
     "execution_count": 25,
     "metadata": {},
     "output_type": "execute_result"
    }
   ],
   "source": [
    "# Test av function för classificiering\n",
    "classify_by_input()"
   ]
  },
  {
   "cell_type": "markdown",
   "metadata": {},
   "source": [
    "# Uppgift 2"
   ]
  },
  {
   "cell_type": "markdown",
   "metadata": {},
   "source": [
    "# Ta reda på vilken pokemon testpoints är utifrån 10 närmsta datapoints\n",
    "\n",
    "### Märka avstånd från Pikashu"
   ]
  },
  {
   "cell_type": "code",
   "execution_count": 29,
   "metadata": {},
   "outputs": [
    {
     "name": "stdout",
     "output_type": "stream",
     "text": [
      "[{'Pikashu': 4.671795022653235}, {'Pikashu': 3.4408493296965403}, {'Pikashu': 4.5634818565112445}, {'Pikashu': 3.3433151410232775}, {'Pikashu': 6.222007092703426}, {'Pikashu': 4.752080478758416}, {'Pikashu': 3.6527823993100914}, {'Pikashu': 2.4650990240276256}, {'Pikashu': 2.1399677267653545}, {'Pikashu': 3.1372167034396403}, {'Pikashu': 3.638499417218305}, {'Pikashu': 1.4277016205320445}, {'Pikashu': 5.370962028110472}, {'Pikashu': 3.5623398762857184}, {'Pikashu': 3.8850327604803505}, {'Pikashu': 2.4001190857580688}, {'Pikashu': 3.3778593209502157}, {'Pikashu': 3.9373340521618427}, {'Pikashu': 3.6306261788740977}, {'Pikashu': 3.8779552531299815}, {'Pikashu': 3.710023449738221}, {'Pikashu': 3.2260589926366356}, {'Pikashu': 3.334126822030886}, {'Pikashu': 1.0623655711316322}, {'Pikashu': 3.637476512909947}, {'Pikashu': 5.8636138074868}, {'Pikashu': 4.151488096450845}, {'Pikashu': 3.940277250995002}, {'Pikashu': 3.098060619590939}, {'Pikashu': 5.034918277630381}, {'Pikashu': 5.1161513634857485}, {'Pikashu': 1.6694793213039807}, {'Pikashu': 4.2028361148591715}, {'Pikashu': 4.4277046244228595}, {'Pikashu': 1.4214199522923856}, {'Pikashu': 5.603413173924324}, {'Pikashu': 4.123400140778744}, {'Pikashu': 5.1731794550630665}, {'Pikashu': 1.9000844105707402}, {'Pikashu': 3.362240740336625}, {'Pikashu': 3.7533422243175028}, {'Pikashu': 5.401940384712471}, {'Pikashu': 3.7958915903422024}, {'Pikashu': 5.868288693195262}, {'Pikashu': 2.109813062390686}, {'Pikashu': 1.6220435525527015}, {'Pikashu': 4.989185538891209}, {'Pikashu': 3.3510903150659375}, {'Pikashu': 3.5275260880435244}, {'Pikashu': 5.875485819203661}, {'Pikashu': 5.568770787369253}, {'Pikashu': 1.1483506635878937}, {'Pikashu': 4.798639230476866}, {'Pikashu': 5.479663935838978}, {'Pikashu': 3.0505182472152863}, {'Pikashu': 4.143149899216151}, {'Pikashu': 4.244840499882802}, {'Pikashu': 0.6829635758323602}, {'Pikashu': 2.5869540314674677}, {'Pikashu': 1.3042926733824607}, {'Pikashu': 3.143582515448482}, {'Pikashu': 3.5304180020226754}, {'Pikashu': 8.245712337334218}, {'Pikashu': 2.163028256061473}, {'Pikashu': 0.8829834980050161}, {'Pikashu': 3.3588576822580993}, {'Pikashu': 4.299117871608259}, {'Pikashu': 4.2226255076897}, {'Pikashu': 1.92323556047951}, {'Pikashu': 2.2827901216880258}, {'Pikashu': 3.605356269957816}, {'Pikashu': 4.002683153175278}, {'Pikashu': 6.339721723349097}, {'Pikashu': 2.876152825708887}, {'Pikashu': 3.430652024164659}]\n"
     ]
    }
   ],
   "source": [
    "# Listor på avstånd samtliga datapunkter\n",
    "\n",
    "list_distance_test(pikashu_width, pikashu_height, test_width[0], test_height[0])\n",
    "\n",
    "# Skapa variabler för enskilda datapoints avstånd från Pikashu\n",
    "Testpoints1_pikashu = list_distance_test(pikashu_width, pikashu_height, test_width[0], test_height[0])\n",
    "Testpoints2_pikashu = list_distance_test(pikashu_width, pikashu_height, test_width[1], test_height[1])\n",
    "Testpoints3_pikashu = list_distance_test(pikashu_width, pikashu_height, test_width[2], test_height[2])\n",
    "Testpoints4_pikashu = list_distance_test(pikashu_width, pikashu_height, test_width[3], test_height[3])\n",
    "\n",
    "# Label så att jag vet att det är Pikashu\n",
    "Testpoints1_pikashu_labeled = [{'Pikashu': item} for item in Testpoints1_pikashu]\n",
    "Testpoints2_pikashu_labeled = [{'Pikashu': item} for item in Testpoints2_pikashu]\n",
    "Testpoints3_pikashu_labeled = [{'Pikashu': item} for item in Testpoints3_pikashu]\n",
    "Testpoints4_pikashu_labeled = [{'Pikashu': item} for item in Testpoints4_pikashu]\n",
    "\n",
    "print(Testpoints1_pikashu_labeled)\n",
    "# # Skriv ut samtliga datapoints per set\n",
    "# counter = 1\n",
    "# for i, item in enumerate(list_all_testpoints):\n",
    "#     testpoint = item[i]\n",
    "#     counter += 1\n",
    "#     print(f\"Testpoint {counter} = {testpoint}\")"
   ]
  },
  {
   "cell_type": "markdown",
   "metadata": {},
   "source": [
    "### Märka avstånd från Pichu"
   ]
  },
  {
   "cell_type": "code",
   "execution_count": 30,
   "metadata": {},
   "outputs": [
    {
     "name": "stdout",
     "output_type": "stream",
     "text": [
      "[{'Pichu': 3.1342624251608395}, {'Pichu': 7.307302403132844}, {'Pichu': 5.673083371066072}, {'Pichu': 5.704966703971587}, {'Pichu': 5.941049878001488}, {'Pichu': 6.685810462664509}, {'Pichu': 4.826104975673654}, {'Pichu': 7.747316085065725}, {'Pichu': 5.898200680170333}, {'Pichu': 4.882531262929347}, {'Pichu': 7.047382618425012}, {'Pichu': 3.564218901072862}, {'Pichu': 6.42589151240829}, {'Pichu': 5.819027290950527}, {'Pichu': 7.1423070986768105}, {'Pichu': 6.021486941395395}, {'Pichu': 6.452730547409747}, {'Pichu': 4.865156387958634}, {'Pichu': 7.357918366756199}, {'Pichu': 4.233686588600583}, {'Pichu': 4.964282456451075}, {'Pichu': 4.60879121150983}, {'Pichu': 5.015947705672343}, {'Pichu': 4.162025992565388}, {'Pichu': 6.4305117713172235}, {'Pichu': 3.9365436620361485}, {'Pichu': 5.071247993436599}, {'Pichu': 5.5872714480411}, {'Pichu': 4.686072056373611}, {'Pichu': 4.136700195030928}, {'Pichu': 4.8565059845288605}, {'Pichu': 6.214763141648545}, {'Pichu': 5.567821812542812}, {'Pichu': 4.58854357477802}, {'Pichu': 5.454138565345194}, {'Pichu': 5.247721252778881}, {'Pichu': 4.518655670216102}, {'Pichu': 6.039061589767436}, {'Pichu': 4.2658384027079705}, {'Pichu': 4.993560935692461}, {'Pichu': 5.684902165452815}, {'Pichu': 3.4066543870057955}, {'Pichu': 6.109408845524667}, {'Pichu': 5.3105382062056155}, {'Pichu': 4.366555374904225}, {'Pichu': 5.4144052810540435}, {'Pichu': 5.495953297029337}, {'Pichu': 2.1056584162623655}, {'Pichu': 4.714172072567614}, {'Pichu': 6.693208616772818}, {'Pichu': 5.878045241193087}, {'Pichu': 1.9935260555425007}, {'Pichu': 6.578620283943528}, {'Pichu': 2.9946629996148713}, {'Pichu': 5.108567218536976}, {'Pichu': 2.045814476254729}, {'Pichu': 1.405938571427235}, {'Pichu': 3.921264732586414}, {'Pichu': 8.674796482099524}, {'Pichu': 5.793866365621854}, {'Pichu': 5.78496484113067}, {'Pichu': 6.664828892024575}, {'Pichu': 5.416758727816007}, {'Pichu': 5.094370062024012}, {'Pichu': 3.2295550662804375}, {'Pichu': 4.9867590255021295}, {'Pichu': 6.867269665311389}, {'Pichu': 4.595958909911408}, {'Pichu': 5.42635882153703}, {'Pichu': 3.558751286516523}, {'Pichu': 6.87518302317118}, {'Pichu': 6.02182051503479}, {'Pichu': 1.5334840155713727}, {'Pichu': 5.625114236539731}, {'Pichu': 2.795536907095536}]\n"
     ]
    }
   ],
   "source": [
    "# Listor på avstånd samtliga datapunkter\n",
    "\n",
    "\n",
    "# Skapa variabler för enskilda datapoints avstånd från Pikashu\n",
    "Testpoints1_pichu = list_distance_test(pichu_width, pichu_height, test_width[0], test_height[0])\n",
    "Testpoints2_pichu = list_distance_test(pichu_width, pichu_height, test_width[1], test_height[1])\n",
    "Testpoints3_pichu = list_distance_test(pichu_width, pichu_height, test_width[2], test_height[2])\n",
    "Testpoints4_pichu = list_distance_test(pichu_width, pichu_height, test_width[3], test_height[3])\n",
    "\n",
    "# Label så att jag vet att det är Pikashu\n",
    "Testpoints1_pichu_labeled = [{'Pichu': item} for item in Testpoints1_pichu]\n",
    "Testpoints2_pichu_labeled = [{'Pichu': item} for item in Testpoints2_pichu]\n",
    "Testpoints3_pichu_labeled = [{'Pichu': item} for item in Testpoints3_pichu]\n",
    "Testpoints4_pichu_labeled = [{'Pichu': item} for item in Testpoints4_pichu]\n",
    "\n",
    "print(Testpoints1_pichu_labeled)"
   ]
  },
  {
   "cell_type": "markdown",
   "metadata": {},
   "source": [
    "### Slå ihop båda dictionaries för varje datapoint"
   ]
  },
  {
   "cell_type": "code",
   "execution_count": 32,
   "metadata": {},
   "outputs": [
    {
     "name": "stdout",
     "output_type": "stream",
     "text": [
      "[{'Pikashu': 0.6829635758323602}, {'Pikashu': 0.8829834980050161}, {'Pikashu': 1.0623655711316322}, {'Pikashu': 1.1483506635878937}, {'Pikashu': 1.3042926733824607}, {'Pichu': 1.405938571427235}, {'Pikashu': 1.4214199522923856}, {'Pikashu': 1.4277016205320445}, {'Pichu': 1.5334840155713727}, {'Pikashu': 1.6220435525527015}, {'Pikashu': 1.6694793213039807}, {'Pikashu': 1.9000844105707402}, {'Pikashu': 1.92323556047951}, {'Pichu': 1.9935260555425007}, {'Pichu': 2.045814476254729}, {'Pichu': 2.1056584162623655}, {'Pikashu': 2.109813062390686}, {'Pikashu': 2.1399677267653545}, {'Pikashu': 2.163028256061473}, {'Pikashu': 2.2827901216880258}, {'Pikashu': 2.4001190857580688}, {'Pikashu': 2.4650990240276256}, {'Pikashu': 2.5869540314674677}, {'Pichu': 2.795536907095536}, {'Pikashu': 2.876152825708887}, {'Pichu': 2.9946629996148713}, {'Pikashu': 3.0505182472152863}, {'Pikashu': 3.098060619590939}, {'Pichu': 3.1342624251608395}, {'Pikashu': 3.1372167034396403}, {'Pikashu': 3.143582515448482}, {'Pikashu': 3.2260589926366356}, {'Pichu': 3.2295550662804375}, {'Pikashu': 3.334126822030886}, {'Pikashu': 3.3433151410232775}, {'Pikashu': 3.3510903150659375}, {'Pikashu': 3.3588576822580993}, {'Pikashu': 3.362240740336625}, {'Pikashu': 3.3778593209502157}, {'Pichu': 3.4066543870057955}, {'Pikashu': 3.430652024164659}, {'Pikashu': 3.4408493296965403}, {'Pikashu': 3.5275260880435244}, {'Pikashu': 3.5304180020226754}, {'Pichu': 3.558751286516523}, {'Pikashu': 3.5623398762857184}, {'Pichu': 3.564218901072862}, {'Pikashu': 3.605356269957816}, {'Pikashu': 3.6306261788740977}, {'Pikashu': 3.637476512909947}, {'Pikashu': 3.638499417218305}, {'Pikashu': 3.6527823993100914}, {'Pikashu': 3.710023449738221}, {'Pikashu': 3.7533422243175028}, {'Pikashu': 3.7958915903422024}, {'Pikashu': 3.8779552531299815}, {'Pikashu': 3.8850327604803505}, {'Pichu': 3.921264732586414}, {'Pichu': 3.9365436620361485}, {'Pikashu': 3.9373340521618427}, {'Pikashu': 3.940277250995002}, {'Pikashu': 4.002683153175278}, {'Pikashu': 4.123400140778744}, {'Pichu': 4.136700195030928}, {'Pikashu': 4.143149899216151}, {'Pikashu': 4.151488096450845}, {'Pichu': 4.162025992565388}, {'Pikashu': 4.2028361148591715}, {'Pikashu': 4.2226255076897}, {'Pichu': 4.233686588600583}, {'Pikashu': 4.244840499882802}, {'Pichu': 4.2658384027079705}, {'Pikashu': 4.299117871608259}, {'Pichu': 4.366555374904225}, {'Pikashu': 4.4277046244228595}, {'Pichu': 4.518655670216102}, {'Pikashu': 4.5634818565112445}, {'Pichu': 4.58854357477802}, {'Pichu': 4.595958909911408}, {'Pichu': 4.60879121150983}, {'Pikashu': 4.671795022653235}, {'Pichu': 4.686072056373611}, {'Pichu': 4.714172072567614}, {'Pikashu': 4.752080478758416}, {'Pikashu': 4.798639230476866}, {'Pichu': 4.826104975673654}, {'Pichu': 4.8565059845288605}, {'Pichu': 4.865156387958634}, {'Pichu': 4.882531262929347}, {'Pichu': 4.964282456451075}, {'Pichu': 4.9867590255021295}, {'Pikashu': 4.989185538891209}, {'Pichu': 4.993560935692461}, {'Pichu': 5.015947705672343}, {'Pikashu': 5.034918277630381}, {'Pichu': 5.071247993436599}, {'Pichu': 5.094370062024012}, {'Pichu': 5.108567218536976}, {'Pikashu': 5.1161513634857485}, {'Pikashu': 5.1731794550630665}, {'Pichu': 5.247721252778881}, {'Pichu': 5.3105382062056155}, {'Pikashu': 5.370962028110472}, {'Pikashu': 5.401940384712471}, {'Pichu': 5.4144052810540435}, {'Pichu': 5.416758727816007}, {'Pichu': 5.42635882153703}, {'Pichu': 5.454138565345194}, {'Pikashu': 5.479663935838978}, {'Pichu': 5.495953297029337}, {'Pichu': 5.567821812542812}, {'Pikashu': 5.568770787369253}, {'Pichu': 5.5872714480411}, {'Pikashu': 5.603413173924324}, {'Pichu': 5.625114236539731}, {'Pichu': 5.673083371066072}, {'Pichu': 5.684902165452815}, {'Pichu': 5.704966703971587}, {'Pichu': 5.78496484113067}, {'Pichu': 5.793866365621854}, {'Pichu': 5.819027290950527}, {'Pikashu': 5.8636138074868}, {'Pikashu': 5.868288693195262}, {'Pikashu': 5.875485819203661}, {'Pichu': 5.878045241193087}, {'Pichu': 5.898200680170333}, {'Pichu': 5.941049878001488}, {'Pichu': 6.021486941395395}, {'Pichu': 6.02182051503479}, {'Pichu': 6.039061589767436}, {'Pichu': 6.109408845524667}, {'Pichu': 6.214763141648545}, {'Pikashu': 6.222007092703426}, {'Pikashu': 6.339721723349097}, {'Pichu': 6.42589151240829}, {'Pichu': 6.4305117713172235}, {'Pichu': 6.452730547409747}, {'Pichu': 6.578620283943528}, {'Pichu': 6.664828892024575}, {'Pichu': 6.685810462664509}, {'Pichu': 6.693208616772818}, {'Pichu': 6.867269665311389}, {'Pichu': 6.87518302317118}, {'Pichu': 7.047382618425012}, {'Pichu': 7.1423070986768105}, {'Pichu': 7.307302403132844}, {'Pichu': 7.357918366756199}, {'Pichu': 7.747316085065725}, {'Pikashu': 8.245712337334218}, {'Pichu': 8.674796482099524}]\n"
     ]
    }
   ],
   "source": [
    "# Slå ihop båda dictionaries för pikashu och pichu\n",
    "combined_dictionary1 = Testpoints1_pikashu_labeled + Testpoints1_pichu_labeled\n",
    "combined_dictionary2 = Testpoints2_pikashu_labeled + Testpoints2_pichu_labeled\n",
    "combined_dictionary3 = Testpoints3_pikashu_labeled + Testpoints3_pichu_labeled\n",
    "combined_dictionary4 = Testpoints4_pikashu_labeled + Testpoints4_pichu_labeled\n",
    "\n",
    "# Sortera i stigande ordning  \n",
    "combined_dictionary1_sorted = sorted(combined_dictionary1, key=lambda x: list(x.values())[0]) # https://blogboard.io/blog/knowledge/python-sorted-lambda/\n",
    "combined_dictionary2_sorted = sorted(combined_dictionary2, key=lambda x: list(x.values())[0])\n",
    "combined_dictionary3_sorted = sorted(combined_dictionary3, key=lambda x: list(x.values())[0])\n",
    "combined_dictionary4_sorted = sorted(combined_dictionary4, key=lambda x: list(x.values())[0])\n",
    "\n",
    "print(combined_dictionary1_sorted)\n",
    "print(combined_dictionary2_sorted)\n",
    "print(combined_dictionary3_sorted)\n",
    "print(combined_dictionary4_sorted)\n",
    "\n"
   ]
  },
  {
   "cell_type": "markdown",
   "metadata": {},
   "source": [
    "### Lösning uppgift 2"
   ]
  },
  {
   "cell_type": "code",
   "execution_count": 36,
   "metadata": {},
   "outputs": [
    {
     "name": "stdout",
     "output_type": "stream",
     "text": [
      "This is Pikashu! count_of_pikashu = 8 and count_of_pichu = 2\n",
      "Hmm, who is this?! count_of_pikashu = 5 and count_of_pichu = 5\n",
      "This is Pikashu! count_of_pikashu = 7 and count_of_pichu = 3\n",
      "This is Pichu! count_of_pikashu = 2 and count_of_pichu = 8\n"
     ]
    }
   ],
   "source": [
    "# Räkna antal Pikashu bland 10 lägsta avstånden på datapoints till testpoint\n",
    "#Include all lists in one list:\n",
    "all_combined_labeled = [combined_dictionary1_sorted, combined_dictionary2_sorted, combined_dictionary3_sorted, combined_dictionary4_sorted ]\n",
    "\n",
    "for list in all_combined_labeled:\n",
    "    nearest_10_points = list[:10]\n",
    "    count_of_pikashu = sum(1 for d in nearest_10_points if 'Pikashu' in d)    #OBS KÄLLA\n",
    "    count_of_pichu = sum(1 for d in nearest_10_points if 'Pichu' in d)\n",
    "    if count_of_pikashu > count_of_pichu:\n",
    "        print(f\"This is Pikashu! {count_of_pikashu = } and {count_of_pichu = }\")\n",
    "    elif count_of_pikashu == count_of_pichu:\n",
    "        print(f\"Hmm, who is this?! {count_of_pikashu = } and {count_of_pichu = }\")\n",
    "    else:\n",
    "        print(f\"This is Pichu! {count_of_pikashu = } and {count_of_pichu = }\")"
   ]
  }
 ],
 "metadata": {
  "kernelspec": {
   "display_name": "python-programming-YOUNIS-MOUSSAVI-yU_f8x7q",
   "language": "python",
   "name": "python3"
  },
  "language_info": {
   "codemirror_mode": {
    "name": "ipython",
    "version": 3
   },
   "file_extension": ".py",
   "mimetype": "text/x-python",
   "name": "python",
   "nbconvert_exporter": "python",
   "pygments_lexer": "ipython3",
   "version": "3.11.5"
  },
  "orig_nbformat": 4
 },
 "nbformat": 4,
 "nbformat_minor": 2
}
