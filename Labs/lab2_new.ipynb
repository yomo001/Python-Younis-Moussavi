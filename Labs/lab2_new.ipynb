{
 "cells": [
  {
   "cell_type": "markdown",
   "metadata": {},
   "source": [
    "# Laboration 2,  Python programming"
   ]
  },
  {
   "cell_type": "markdown",
   "metadata": {},
   "source": [
    "# Preparation "
   ]
  },
  {
   "cell_type": "markdown",
   "metadata": {},
   "source": [
    "### Read values from file with Pokemon datapoints"
   ]
  },
  {
   "cell_type": "code",
   "execution_count": 2,
   "metadata": {},
   "outputs": [
    {
     "name": "stdout",
     "output_type": "stream",
     "text": [
      "[{'width': 21.959384499160468, 'height': 31.23956701424158, 'label': 0}, {'width': 23.63591632187622, 'height': 36.46821490673444, 'label': 1}, {'width': 17.714056417303343, 'height': 31.44170391314962, 'label': 0}, {'width': 21.78020031891186, 'height': 33.213397759738264, 'label': 1}, {'width': 25.20630552859312, 'height': 36.558816149350534, 'label': 1}, {'width': 19.332572350434354, 'height': 32.25325633655492, 'label': 0}, {'width': 24.73645685241186, 'height': 35.33291181124776, 'label': 1}, {'width': 23.79257560586339, 'height': 38.10372825362463, 'label': 1}, {'width': 24.557612968127465, 'height': 36.73144402805611, 'label': 1}, {'width': 20.191281253428173, 'height': 35.06966921830237, 'label': 0}, {'width': 25.813562951888365, 'height': 35.561029988644336, 'label': 1}, {'width': 24.923378667802954, 'height': 34.463907946680294, 'label': 1}, {'width': 25.311244044578427, 'height': 34.117212558131975, 'label': 1}, {'width': 22.819091361866796, 'height': 34.25516433025548, 'label': 1}, {'width': 19.639358214988224, 'height': 34.56117030001663, 'label': 0}, {'width': 18.341233265627693, 'height': 31.399261188293124, 'label': 0}, {'width': 22.723629043769336, 'height': 34.83845262048311, 'label': 1}, {'width': 25.82936770950206, 'height': 33.16210202637511, 'label': 1}, {'width': 20.23890182459327, 'height': 32.78945132868386, 'label': 0}, {'width': 17.905128921789093, 'height': 28.88813385482529, 'label': 0}, {'width': 24.385289647525166, 'height': 37.335669057387726, 'label': 1}, {'width': 26.525412887538252, 'height': 35.2192205449002, 'label': 1}, {'width': 19.299333494980544, 'height': 30.486337996080024, 'label': 0}, {'width': 20.118681851201636, 'height': 31.89116680793916, 'label': 0}, {'width': 22.980962976720388, 'height': 35.3191819848619, 'label': 1}, {'width': 17.96926166354966, 'height': 32.48406633310577, 'label': 0}, {'width': 21.58631807419169, 'height': 30.975094109600928, 'label': 0}, {'width': 18.659636883604406, 'height': 33.04492931889734, 'label': 0}, {'width': 19.209914415003638, 'height': 31.420355685575746, 'label': 0}, {'width': 18.16229126686346, 'height': 29.93643755301725, 'label': 0}, {'width': 19.120619567709372, 'height': 30.699542112256864, 'label': 0}, {'width': 25.17676132371397, 'height': 34.393601274285054, 'label': 1}, {'width': 18.583516818010633, 'height': 31.317010181098944, 'label': 0}, {'width': 24.68867147060795, 'height': 35.363481550256644, 'label': 1}, {'width': 23.02865997158701, 'height': 35.4082866561793, 'label': 1}, {'width': 20.282109030336354, 'height': 33.18796105898338, 'label': 0}, {'width': 17.672876665469843, 'height': 32.67247775608707, 'label': 0}, {'width': 20.795121649361587, 'height': 32.493051910886486, 'label': 0}, {'width': 20.101930916301317, 'height': 31.19190374413498, 'label': 0}, {'width': 20.39204407747099, 'height': 32.08774193592624, 'label': 0}, {'width': 23.868174335146136, 'height': 35.449698119416254, 'label': 1}, {'width': 26.388368121945867, 'height': 35.62090746957761, 'label': 1}, {'width': 25.567802785102412, 'height': 35.66631613405574, 'label': 1}, {'width': 23.99071038023876, 'height': 35.06411342600334, 'label': 1}, {'width': 23.792145242488125, 'height': 35.107650004447365, 'label': 1}, {'width': 24.111063562798908, 'height': 31.418267572382227, 'label': 1}, {'width': 20.098954730848863, 'height': 33.067467402673685, 'label': 0}, {'width': 20.88810038727894, 'height': 32.644004609994596, 'label': 0}, {'width': 24.587154114074174, 'height': 35.61397200548726, 'label': 1}, {'width': 21.65956855815321, 'height': 36.81907508404582, 'label': 1}, {'width': 18.59843317023302, 'height': 32.60944545701523, 'label': 0}, {'width': 21.069573240979203, 'height': 32.21936612110862, 'label': 0}, {'width': 24.87225986527509, 'height': 36.149522366845794, 'label': 1}, {'width': 20.276898330625336, 'height': 33.84658247356705, 'label': 0}, {'width': 19.592545899041802, 'height': 30.59392660926762, 'label': 0}, {'width': 20.323269906838078, 'height': 32.29574812465895, 'label': 0}, {'width': 21.35018601896744, 'height': 33.94708664610186, 'label': 0}, {'width': 20.1569063412357, 'height': 31.639314277796213, 'label': 0}, {'width': 18.929553010373773, 'height': 33.331523282909906, 'label': 0}, {'width': 22.121125492746756, 'height': 34.690328304537594, 'label': 1}, {'width': 19.499062316347583, 'height': 31.139578977011656, 'label': 0}, {'width': 26.517189386365075, 'height': 34.7011323493234, 'label': 1}, {'width': 23.388322747322558, 'height': 36.769999842308025, 'label': 1}, {'width': 20.579090632339703, 'height': 30.771060416224586, 'label': 0}, {'width': 20.240420339246214, 'height': 33.87654102727224, 'label': 1}, {'width': 24.59096971887165, 'height': 33.61859674823029, 'label': 1}, {'width': 25.116586706562245, 'height': 36.20121874558056, 'label': 1}, {'width': 25.557501503948984, 'height': 36.39246631338593, 'label': 1}, {'width': 24.387651550868913, 'height': 33.2827564295772, 'label': 1}, {'width': 19.69944356712352, 'height': 30.714803909172808, 'label': 0}, {'width': 22.826788929142136, 'height': 37.16482263385777, 'label': 1}, {'width': 24.609041154081922, 'height': 36.104823979389685, 'label': 1}, {'width': 19.893039297257797, 'height': 30.792717627266093, 'label': 0}, {'width': 20.554378047506688, 'height': 31.190868044454003, 'label': 0}, {'width': 19.55060327163345, 'height': 34.602756266320824, 'label': 0}, {'width': 23.619820901736276, 'height': 36.98566859418098, 'label': 1}, {'width': 25.15076144887497, 'height': 33.89409391341271, 'label': 1}, {'width': 24.47796159427686, 'height': 35.32146634770389, 'label': 1}, {'width': 24.004087953898246, 'height': 35.618803262029324, 'label': 1}, {'width': 20.759216855120783, 'height': 32.46166610892119, 'label': 0}, {'width': 22.493387946548573, 'height': 36.78517041843648, 'label': 1}, {'width': 20.008781128403864, 'height': 32.15292152986537, 'label': 0}, {'width': 22.42591934771403, 'height': 34.789785253591695, 'label': 1}, {'width': 22.15365577923418, 'height': 37.131777154514445, 'label': 1}, {'width': 19.56686423226426, 'height': 30.326934442372128, 'label': 0}, {'width': 24.991105175469915, 'height': 34.10979431232785, 'label': 1}, {'width': 25.5491811833759, 'height': 33.52624549604696, 'label': 1}, {'width': 21.762001750531006, 'height': 33.05861298355044, 'label': 0}, {'width': 18.989418138097026, 'height': 30.90556767082746, 'label': 0}, {'width': 20.216002852334192, 'height': 33.41610156154373, 'label': 1}, {'width': 19.689909518113225, 'height': 31.931042667213433, 'label': 0}, {'width': 25.922634453956498, 'height': 35.2215760062586, 'label': 1}, {'width': 20.670175582205307, 'height': 32.56517816055985, 'label': 0}, {'width': 26.5173046073707, 'height': 35.18452932633369, 'label': 1}, {'width': 19.615470460641276, 'height': 31.431998074581394, 'label': 0}, {'width': 19.63004376836659, 'height': 33.17007380684688, 'label': 0}, {'width': 23.213535136458052, 'height': 30.885396636777646, 'label': 0}, {'width': 20.286130095999752, 'height': 32.05337469378953, 'label': 0}, {'width': 21.23487155577698, 'height': 36.5105588800243, 'label': 1}, {'width': 21.735098682375444, 'height': 36.51127780882874, 'label': 1}, {'width': 18.310337204918557, 'height': 32.21783772801109, 'label': 0}, {'width': 19.510846016895872, 'height': 29.897476657136767, 'label': 0}, {'width': 24.686621418656394, 'height': 33.104763826036056, 'label': 1}, {'width': 23.417849657642716, 'height': 30.787174197048245, 'label': 0}, {'width': 27.194383786280955, 'height': 36.267507265697255, 'label': 1}, {'width': 22.943474306364404, 'height': 37.07911595862419, 'label': 1}, {'width': 18.424438779822488, 'height': 31.79940219340467, 'label': 0}, {'width': 23.506242342727596, 'height': 34.65976495915212, 'label': 1}, {'width': 22.091553997471266, 'height': 31.28659385225738, 'label': 0}, {'width': 23.982852691650397, 'height': 36.01635437187656, 'label': 1}, {'width': 22.69081372502663, 'height': 35.561787418827784, 'label': 1}, {'width': 25.23472228644244, 'height': 32.641361593924174, 'label': 1}, {'width': 25.094170820930774, 'height': 34.58523945069137, 'label': 1}, {'width': 21.19030359241021, 'height': 35.40347944144049, 'label': 0}, {'width': 23.22258522384455, 'height': 30.98700760873653, 'label': 0}, {'width': 23.6967469082275, 'height': 32.52744160379351, 'label': 0}, {'width': 21.07884990354048, 'height': 32.02998372994636, 'label': 0}, {'width': 16.866105280907732, 'height': 28.984730409305136, 'label': 0}, {'width': 25.102866296361412, 'height': 33.30022994232253, 'label': 1}, {'width': 25.276930013476704, 'height': 35.131360854176535, 'label': 1}, {'width': 19.213188999276543, 'height': 31.71415755285442, 'label': 0}, {'width': 19.245073847748515, 'height': 32.58876412530819, 'label': 0}, {'width': 25.31359693611633, 'height': 35.516462459726284, 'label': 1}, {'width': 18.43905922308554, 'height': 30.82782241883467, 'label': 0}, {'width': 19.64717255190365, 'height': 32.82976709158487, 'label': 0}, {'width': 23.729020953235672, 'height': 40.1471703193656, 'label': 1}, {'width': 24.77859198674412, 'height': 34.15166673260206, 'label': 1}, {'width': 20.860495554922544, 'height': 29.030638237258632, 'label': 0}, {'width': 24.601954468608902, 'height': 32.78817486174627, 'label': 1}, {'width': 21.78836263199249, 'height': 32.339722449295664, 'label': 0}, {'width': 23.10295249458573, 'height': 34.771846982043876, 'label': 1}, {'width': 20.01813734259072, 'height': 32.22092994622254, 'label': 0}, {'width': 23.846379201803554, 'height': 36.1414458257896, 'label': 1}, {'width': 23.783158802270272, 'height': 36.043496466883504, 'label': 1}, {'width': 24.961373776424374, 'height': 33.9228476372155, 'label': 1}, {'width': 25.023623126719983, 'height': 34.28266788814326, 'label': 1}, {'width': 18.836400960218388, 'height': 35.028108243261656, 'label': 0}, {'width': 23.062887108583702, 'height': 35.04075442599907, 'label': 1}, {'width': 23.114574183632723, 'height': 35.530813208835745, 'label': 1}, {'width': 23.64067859798334, 'height': 38.192278809575996, 'label': 1}, {'width': 23.631672104136165, 'height': 34.52980905331491, 'label': 1}, {'width': 20.411629224757448, 'height': 32.263992292489995, 'label': 0}, {'width': 19.574019952530243, 'height': 31.935886159584427, 'label': 0}, {'width': 21.457545842765146, 'height': 31.659809960209728, 'label': 0}, {'width': 18.124817511542226, 'height': 31.997288449746307, 'label': 0}, {'width': 18.990689973799388, 'height': 32.387963045016726, 'label': 0}, {'width': 23.541999631800756, 'height': 32.4751927528317, 'label': 0}, {'width': 19.64060341428934, 'height': 30.2915567287162, 'label': 0}, {'width': 21.989953947825015, 'height': 33.64590281447322, 'label': 1}, {'width': 22.30210323807139, 'height': 32.73237945145149, 'label': 0}]\n"
     ]
    }
   ],
   "source": [
    "import csv\n",
    "import matplotlib.pyplot as plt             # for later use of package\n",
    "\n",
    "# Read datapoints, transform to dictionaries\n",
    "\n",
    "pokemon_list = []\n",
    "\n",
    "with open(\"..\\\\data\\\\datapoints.csv\") as file:\n",
    "    reader = csv.DictReader(file)\n",
    "    for row in reader:\n",
    "        pokemon_list.append({\"width\": float(row[\"width\"]), \"height\": float(row[\"height\"]), \"label\": int(row[\"label\"])})\n",
    "print(pokemon_list)"
   ]
  },
  {
   "cell_type": "markdown",
   "metadata": {},
   "source": [
    "### Read values for testpoints and handle the data to get the desired structure"
   ]
  },
  {
   "cell_type": "code",
   "execution_count": 3,
   "metadata": {},
   "outputs": [
    {
     "name": "stdout",
     "output_type": "stream",
     "text": [
      "['Test points:', '1. (25, 32)', '2. (24.2, 31.5)', '3. (22, 34)', '4. (20.5, 34)']\n"
     ]
    }
   ],
   "source": [
    "#Read values for testpoints\n",
    "with open(\"..\\\\data\\\\testpoints.txt\") as file: \n",
    "   lines = [testpoint.strip(\"\\n\") for testpoint in file.readlines()] \n",
    "print(lines) \n"
   ]
  },
  {
   "cell_type": "code",
   "execution_count": 4,
   "metadata": {},
   "outputs": [
    {
     "name": "stdout",
     "output_type": "stream",
     "text": [
      "['25, 32', '24.2, 31.5', '22, 34', '20.5, 34']\n"
     ]
    }
   ],
   "source": [
    "# Get values inside parenthesis\n",
    "sliced_testpoints = []\n",
    "\n",
    "for item in lines[1:]:\n",
    "   # ta fram index \n",
    "   start_index = item.index(\"(\")\n",
    "   stop_index = item.index(\")\")\n",
    "   # skapa varje värde, se till att parenteser ej kommer med\n",
    "   sliced_string = item[start_index+1: stop_index]\n",
    "   # appenda till lista\n",
    "   sliced_testpoints.append(sliced_string)\n",
    "print(sliced_testpoints)"
   ]
  },
  {
   "cell_type": "markdown",
   "metadata": {},
   "source": [
    "### Final format for testpoints"
   ]
  },
  {
   "cell_type": "code",
   "execution_count": 30,
   "metadata": {},
   "outputs": [
    {
     "data": {
      "text/plain": [
       "[{'width': 25.0, 'height': 32.0},\n",
       " {'width': 24.2, 'height': 31.5},\n",
       " {'width': 22.0, 'height': 34.0},\n",
       " {'width': 20.5, 'height': 34.0}]"
      ]
     },
     "execution_count": 30,
     "metadata": {},
     "output_type": "execute_result"
    }
   ],
   "source": [
    "# Get in dictionaries\n",
    "testpoints = []\n",
    "\n",
    "for text in sliced_testpoints:\n",
    "    width, height = text.split(', ')\n",
    "    testpoints.append({\"width\": float(width), \"height\": float(height)})\n",
    "\n",
    "testpoints"
   ]
  },
  {
   "cell_type": "markdown",
   "metadata": {},
   "source": [
    "### Scatterplot data and testpoints"
   ]
  },
  {
   "cell_type": "code",
   "execution_count": 32,
   "metadata": {},
   "outputs": [
    {
     "data": {
      "text/plain": [
       "Text(0, 0.5, 'Height')"
      ]
     },
     "execution_count": 32,
     "metadata": {},
     "output_type": "execute_result"
    },
    {
     "data": {
      "image/png": "[encoded data removed]",
      "text/plain": [
       "<Figure size 640x480 with 1 Axes>"
      ]
     },
     "metadata": {},
     "output_type": "display_data"
    }
   ],
   "source": [
    "# Scatterplot testpoints   Green \n",
    "\n",
    "for i in testpoints:\n",
    "    plt.scatter(i[\"width\"], i[\"height\"], marker = \"o\", color = \"green\")\n",
    "\n",
    "#Scatterplot datapoints    Pikashu in red, Pichu in blue\n",
    "\n",
    "for i in pokemon_list:\n",
    "    if i[\"label\"] == 0:\n",
    "        plt.scatter(i[\"width\"], i[\"height\"], marker = \"o\", color = \"blue\")\n",
    "    else:\n",
    "        plt.scatter(i[\"width\"], i[\"height\"], marker = \"o\", color = \"red\")\n",
    "\n",
    "# Add axis - labels\n",
    "plt.xlabel(\"Width\")\n",
    "plt.ylabel(\"Height\")"
   ]
  },
  {
   "cell_type": "markdown",
   "metadata": {},
   "source": [
    "### Function to determine distance between datapoints and testpoints"
   ]
  },
  {
   "cell_type": "code",
   "execution_count": 33,
   "metadata": {},
   "outputs": [],
   "source": [
    "import math\n",
    "\n",
    "# For loop to calculate the distance and return the values in a list with desired key:value pairs. (In later assignments i effectivised this)\n",
    "def list_distances(pokemon_list, testpoints):\n",
    "    list_distances = []\n",
    "    test_width = testpoints[\"width\"]\n",
    "    test_height = testpoints[\"height\"]\n",
    "\n",
    "    for i in pokemon_list:\n",
    "        difference_width = (i[\"width\"]- test_width)**2\n",
    "        difference_height = (i[\"height\"]- test_height)**2\n",
    "        distance = math.sqrt(difference_width + difference_height)\n",
    "        label = i[\"label\"]\n",
    "        list_distances.append({\"distance\": distance, \"label\": label})\n",
    "    return list_distances"
   ]
  },
  {
   "cell_type": "markdown",
   "metadata": {},
   "source": [
    "### Create the lists of distance for all testpoints"
   ]
  },
  {
   "cell_type": "code",
   "execution_count": 34,
   "metadata": {},
   "outputs": [
    {
     "name": "stdout",
     "output_type": "stream",
     "text": [
      "[{'distance': 3.6306313580166933, 'label': 1}, {'distance': 2.71405695369736, 'label': 1}, {'distance': 1.0582437258984485, 'label': 0}, {'distance': 3.6870401318935104, 'label': 0}, {'distance': 5.933246905659891, 'label': 0}, {'distance': 1.1440716426799353, 'label': 0}, {'distance': 3.650333833995459, 'label': 1}, {'distance': 3.8646393562266543, 'label': 0}, {'distance': 3.8702711671538257, 'label': 1}, {'distance': 4.369845531409012, 'label': 1}, {'distance': 2.964989440060515, 'label': 1}, {'distance': 3.2122023480949005, 'label': 1}, {'distance': 4.5215716035347695, 'label': 1}, {'distance': 3.450868862046961, 'label': 1}, {'distance': 0.12078857390630211, 'label': 1}, {'distance': 1.1038572544225178, 'label': 0}, {'distance': 4.364648765908399, 'label': 0}, {'distance': 2.1543698620911247, 'label': 1}, {'distance': 4.697870961005528, 'label': 1}, {'distance': 2.6658693522137704, 'label': 0}, {'distance': 4.420823279295339, 'label': 1}, {'distance': 4.243549843326297, 'label': 0}, {'distance': 4.109634231612954, 'label': 0}, {'distance': 3.5726447283675626, 'label': 0}, {'distance': 4.153316440386073, 'label': 0}, {'distance': 6.236878567986388, 'label': 0}, {'distance': 3.050905933231468, 'label': 1}, {'distance': 5.553877118995497, 'label': 1}, {'distance': 3.570253024416765, 'label': 1}, {'distance': 5.838609903121851, 'label': 1}, {'distance': 5.516263926902485, 'label': 1}, {'distance': 1.540570186049894, 'label': 1}, {'distance': 4.9907211264915, 'label': 0}, {'distance': 2.5396615326825405, 'label': 1}, {'distance': 3.0826513745096094, 'label': 1}, {'distance': 3.756284438114169, 'label': 0}, {'distance': 5.5846793804914725, 'label': 1}, {'distance': 4.789737872206024, 'label': 1}, {'distance': 4.646470503909989, 'label': 0}, {'distance': 4.865557160219275, 'label': 0}, {'distance': 3.235029255526091, 'label': 1}, {'distance': 5.710378286106572, 'label': 0}, {'distance': 3.807875248434635, 'label': 1}, {'distance': 2.8433545155422912, 'label': 1}, {'distance': 5.828887039409312, 'label': 1}, {'distance': 5.718862797667169, 'label': 1}, {'distance': 4.7168243941979755, 'label': 0}, {'distance': 4.100020646697308, 'label': 0}, {'distance': 4.080041917558165, 'label': 1}, {'distance': 5.859632749240489, 'label': 0}, {'distance': 4.009015128135599, 'label': 1}, {'distance': 3.5467377518448497, 'label': 0}, {'distance': 1.6769219846042456, 'label': 1}, {'distance': 6.715611371710977, 'label': 1}, {'distance': 6.486205561934189, 'label': 0}, {'distance': 4.61803186911516, 'label': 1}, {'distance': 3.5039157513317574, 'label': 0}, {'distance': 3.7876852967442622, 'label': 1}, {'distance': 8.659987055106283, 'label': 1}, {'distance': 2.553650051714465, 'label': 0}, {'distance': 4.585033844925612, 'label': 0}, {'distance': 4.165691237268443, 'label': 0}, {'distance': 6.095501461759736, 'label': 0}, {'distance': 5.7833164431348445, 'label': 0}, {'distance': 4.386359146164021, 'label': 1}, {'distance': 2.2557001491052464, 'label': 0}, {'distance': 3.853046702438224, 'label': 0}, {'distance': 2.727063209996072, 'label': 1}, {'distance': 5.619463373614143, 'label': 0}, {'distance': 2.5759722434270564, 'label': 1}, {'distance': 5.492742220139161, 'label': 0}, {'distance': 4.74304947159542, 'label': 0}, {'distance': 1.3494302017035518, 'label': 1}, {'distance': 4.622955607281442, 'label': 1}, {'distance': 5.000134973720603, 'label': 1}, {'distance': 3.0540122819084328, 'label': 1}, {'distance': 3.8942636653621205, 'label': 1}, {'distance': 2.893632647193814, 'label': 0}, {'distance': 4.5625778600159395, 'label': 1}, {'distance': 4.991407358088606, 'label': 0}, {'distance': 5.157932885353089, 'label': 1}, {'distance': 3.9636124314034547, 'label': 1}, {'distance': 4.530641669318392, 'label': 0}, {'distance': 5.004402347095072, 'label': 0}, {'distance': 4.925367705290264, 'label': 0}, {'distance': 1.1764205836884245, 'label': 0}, {'distance': 4.929038873412081, 'label': 0}, {'distance': 5.077306073188801, 'label': 1}, {'distance': 2.901998557989246, 'label': 1}, {'distance': 4.779333619320275, 'label': 0}, {'distance': 5.8000225288990945, 'label': 0}, {'distance': 4.714734183323097, 'label': 0}, {'distance': 3.0804549082722037, 'label': 1}, {'distance': 3.212017949792982, 'label': 0}, {'distance': 6.8152216876346685, 'label': 0}, {'distance': 5.751732787769724, 'label': 0}, {'distance': 3.7376528966137013, 'label': 1}, {'distance': 5.579613696870172, 'label': 0}, {'distance': 7.753231124157447, 'label': 0}, {'distance': 3.693553514652896, 'label': 0}, {'distance': 5.332140123856518, 'label': 1}, {'distance': 4.100926411473111, 'label': 1}, {'distance': 4.695700403755523, 'label': 0}, {'distance': 2.1192184242011822, 'label': 0}, {'distance': 4.390390228450257, 'label': 0}, {'distance': 2.2629121130302403, 'label': 0}, {'distance': 4.132148832021597, 'label': 1}, {'distance': 5.243652701472216, 'label': 1}, {'distance': 3.9517863011766865, 'label': 1}, {'distance': 5.589632043877193, 'label': 0}, {'distance': 4.6548971011889, 'label': 1}, {'distance': 5.244379194295331, 'label': 0}, {'distance': 3.6587049602886585, 'label': 0}, {'distance': 4.241771110489734, 'label': 0}, {'distance': 4.38509687325458, 'label': 1}, {'distance': 2.3275356665040023, 'label': 1}, {'distance': 3.952796627346967, 'label': 0}, {'distance': 3.1658270133785145, 'label': 0}, {'distance': 5.992031257259302, 'label': 1}, {'distance': 3.718866444638356, 'label': 1}, {'distance': 1.7926052526260061, 'label': 1}, {'distance': 4.174398678535782, 'label': 1}, {'distance': 5.284447872615416, 'label': 0}, {'distance': 3.8315620436743862, 'label': 1}, {'distance': 6.419948787624172, 'label': 0}, {'distance': 5.8946036050306905, 'label': 1}, {'distance': 4.333100535219056, 'label': 1}, {'distance': 6.631594311527737, 'label': 0}, {'distance': 3.081856445972628, 'label': 1}, {'distance': 6.6162845679926585, 'label': 1}, {'distance': 2.747106482813683, 'label': 0}, {'distance': 5.367714999626179, 'label': 0}, {'distance': 5.0731351741131245, 'label': 0}, {'distance': 4.045493146890496, 'label': 0}, {'distance': 2.434329615279367, 'label': 1}, {'distance': 5.142065577760276, 'label': 0}, {'distance': 5.629872093397717, 'label': 1}, {'distance': 1.1622608231748421, 'label': 0}, {'distance': 4.16798138509737, 'label': 1}, {'distance': 6.307970098634282, 'label': 0}, {'distance': 4.571342911388546, 'label': 0}, {'distance': 4.352660910288609, 'label': 1}, {'distance': 3.9575562274117435, 'label': 0}, {'distance': 4.266038230819813, 'label': 0}, {'distance': 2.013950196588773, 'label': 1}, {'distance': 4.123459935674309, 'label': 1}, {'distance': 4.955425929391221, 'label': 0}, {'distance': 4.5685381804857625, 'label': 0}, {'distance': 5.822172015745565, 'label': 1}, {'distance': 4.665922567935458, 'label': 1}]\n"
     ]
    }
   ],
   "source": [
    "distance_list1 = list_distances(pokemon_list, testpoints[0])\n",
    "distance_list2 = list_distances(pokemon_list, testpoints[1])\n",
    "distance_list3 = list_distances(pokemon_list, testpoints[2])\n",
    "distance_list4 = list_distances(pokemon_list, testpoints[3])\n",
    "\n",
    "print(distance_list2)   # just for control"
   ]
  },
  {
   "cell_type": "markdown",
   "metadata": {},
   "source": [
    "### Sort the lists in ascending order and answer to the first part and **control of classification**"
   ]
  },
  {
   "cell_type": "code",
   "execution_count": 36,
   "metadata": {},
   "outputs": [
    {
     "name": "stdout",
     "output_type": "stream",
     "text": [
      "sorted_list1[0] = {'distance': 0.6829635758323602, 'label': 1}\n",
      "sorted_list2[0] = {'distance': 0.12078857390630211, 'label': 1}\n",
      "sorted_list3[0] = {'distance': 0.3542396645807627, 'label': 1}\n",
      "sorted_list4[0] = {'distance': 0.2707605811313157, 'label': 0}\n",
      "\n",
      "The list represent the testpoints in the same order, Label 1 = PIKASHU, Label 2 = Pichu\n"
     ]
    }
   ],
   "source": [
    "sorted_list1 = sorted(distance_list1, key=lambda x: x[\"distance\"]) \n",
    "sorted_list2 = sorted(distance_list2, key=lambda x: x[\"distance\"])\n",
    "sorted_list3 = sorted(distance_list3, key=lambda x: x[\"distance\"])\n",
    "sorted_list4 = sorted(distance_list4, key=lambda x: x[\"distance\"])\n",
    "print(f\"{sorted_list1[0] = }\\n{sorted_list2[0] = }\\n{sorted_list3[0] = }\\n{sorted_list4[0] = }\\n\")   # Print index 0 for each list (smallest number)\n",
    "print(\"The list represent the testpoints in the same order, Label 1 = PIKASHU, Label 2 = Pichu\")"
   ]
  },
  {
   "cell_type": "markdown",
   "metadata": {},
   "source": [
    "# Assignment 1"
   ]
  },
  {
   "cell_type": "markdown",
   "metadata": {},
   "source": [
    "### Creating the input function"
   ]
  },
  {
   "cell_type": "code",
   "execution_count": 10,
   "metadata": {},
   "outputs": [],
   "source": [
    "# Function för input, with try, except handling. \n",
    "\n",
    "def input_datapoints():\n",
    "    input_list = []\n",
    "    while True:\n",
    "        try:\n",
    "            input_width = float(input(\"Input width: \"))\n",
    "            input_height = float(input(\"Input height: \"))\n",
    "            if input_width < 0 or input_height < 0:            \n",
    "                raise ValueError(\"Value must be positive\")\n",
    "            input_list.append({\"width\":float(input_width), \"height\":float(input_height)})\n",
    "            break\n",
    "        except ValueError:\n",
    "            print(\"You have to enter a positive numeric number: \")        #Källa\n",
    "    return input_list\n"
   ]
  },
  {
   "cell_type": "markdown",
   "metadata": {},
   "source": [
    "### Answer to uppgift 1, calling function for input in the function for distance"
   ]
  },
  {
   "cell_type": "code",
   "execution_count": 11,
   "metadata": {},
   "outputs": [],
   "source": [
    "# Function för classificering\n",
    "\n",
    "def classify_by_input():\n",
    "    # take input with try, except handling\n",
    "\n",
    "    input_data = input_datapoints()\n",
    "\n",
    "    # calculate distances of input datapoints and pokemons datapoints, OBS FÖR ENSKILD DATAPUNKT\n",
    "    distance_list = list_distances(pokemon_list, input_data[0])    # I enter index for input_data because list indeces cannot be string, within the loop it has to be something other than a string (the whole list is a string)\n",
    "    \n",
    "    # sort and print the distance_list\n",
    "    sorted_list = sorted(distance_list, key=lambda x: x[\"distance\"])\n",
    "    return sorted_list"
   ]
  },
  {
   "cell_type": "markdown",
   "metadata": {},
   "source": [
    "### Answer uppgift 1"
   ]
  },
  {
   "cell_type": "code",
   "execution_count": 12,
   "metadata": {},
   "outputs": [
    {
     "name": "stdout",
     "output_type": "stream",
     "text": [
      "list_distance_input[0] = {'distance': 9.071542292922365, 'label': 0}\n"
     ]
    }
   ],
   "source": [
    "# Test av function för classificiering\n",
    "list_distance_input = classify_by_input()\n",
    "print(f\"{list_distance_input[0] = }\")     # print the first index = smallest distance and see label, 0 = Pichu, 1 = Pikashu"
   ]
  },
  {
   "cell_type": "markdown",
   "metadata": {},
   "source": [
    "### Answer uppgift 2"
   ]
  },
  {
   "cell_type": "markdown",
   "metadata": {},
   "source": [
    "### Ta reda på vilken pokemon testpoints är utifrån 10 närmsta distances"
   ]
  },
  {
   "cell_type": "code",
   "execution_count": 13,
   "metadata": {},
   "outputs": [
    {
     "name": "stdout",
     "output_type": "stream",
     "text": [
      "count_sorted_list1 = 2 Pichu, and 8 Pikashu\n",
      "count_sorted_list2 = 5 Pichu, and 5 Pikashu\n",
      "count_sorted_list3 = 3 Pichu, and 7 Pikashu\n",
      "count_sorted_list4 = 8 Pichu, and 2 Pikashu\n"
     ]
    }
   ],
   "source": [
    "# Count occurences of Pichu and Pikashu in the smallest 10 distances\n",
    "count_sorted_list1 = sum(1 for key in sorted_list1[0:10] if key['label'] == 0)\n",
    "count_sorted_list2 = sum(1 for key in sorted_list2[0:10] if key['label'] == 0)\n",
    "count_sorted_list3 = sum(1 for key in sorted_list3[0:10] if key['label'] == 0)\n",
    "count_sorted_list4 = sum(1 for key in sorted_list4[0:10] if key['label'] == 0)\n",
    "\n",
    "# print slices of already existing sorted lists and keep smallest 10 distances\n",
    "#print(f\"{sorted_list1[0:10] =}\\n{sorted_list2[0:10] =}\\n{sorted_list3[0:10] =}\\n{sorted_list4[0:10] =}\\n\") \n",
    "\n",
    "print(f\"{count_sorted_list1 = } Pichu, and {10 - count_sorted_list1} Pikashu\") \n",
    "print(f\"{count_sorted_list2 = } Pichu, and {10 - count_sorted_list2} Pikashu\") \n",
    "print(f\"{count_sorted_list3 = } Pichu, and {10 - count_sorted_list3} Pikashu\") \n",
    "print(f\"{count_sorted_list4 = } Pichu, and {10 - count_sorted_list4} Pikashu\") "
   ]
  },
  {
   "cell_type": "markdown",
   "metadata": {},
   "source": [
    "## Bonusuppgift\n",
    "### Assignment 3 - creating the function to randomize the list according to the instructions"
   ]
  },
  {
   "cell_type": "code",
   "execution_count": 14,
   "metadata": {},
   "outputs": [],
   "source": [
    "\n",
    "# Dela in ursprungsdatan slumpmässigt så att 100 är träningsdata (50 Pikashu, 50 Pichu), 50 testdata (25 Pikashu, 25 Pichu)\n",
    "import random\n",
    "\n",
    "def randomize_list(pokemon_list):\n",
    "    random.shuffle(pokemon_list)      # Randomize values in list of pokemons\n",
    "\n",
    "    # Separate the shuffled values into Pikashu and Pichu lists to pick the correct amount of traning/test data.\n",
    "    pikashu_list = []\n",
    "    pichu_list = []\n",
    "    for item in pokemon_list:\n",
    "        if item['label'] == 1:\n",
    "            pikashu_list.append(item)\n",
    "        else:\n",
    "            pichu_list.append(item)\n",
    "\n",
    "    # Picking traning and test data according to instructions of the assignment\n",
    "    training_data1 = pikashu_list[:50]              # takes 50 Pikashu training data values from the shuffled pokemon_list\n",
    "    training_data2 = pichu_list[:50]                # takes 50 Pichu training data values from the shuffled pokemon_list\n",
    "\n",
    "    test_data1 = pikashu_list[50:]                  # takes 25 Pikashu test data values from the shuffled pokemon_list\n",
    "    test_data2 = pichu_list[50:]                    # takes 25 Pichu test data values from the shuffled pokemon_list\n",
    "\n",
    "    # all training and test data combined in separate lists \n",
    "    training_data = training_data1 + training_data2\n",
    "    test_data = test_data1 + test_data2\n",
    "\n",
    "    return training_data, test_data\n",
    "\n",
    "\n"
   ]
  },
  {
   "cell_type": "markdown",
   "metadata": {},
   "source": [
    "### Solving assignment 3 with the created function"
   ]
  },
  {
   "cell_type": "code",
   "execution_count": 15,
   "metadata": {},
   "outputs": [],
   "source": [
    "# Unpacking of the variables created in the function\n",
    "\n",
    "training_data, test_data = randomize_list(pokemon_list)"
   ]
  },
  {
   "cell_type": "markdown",
   "metadata": {},
   "source": [
    "### Uppgift 4  - creating functions to use in the solutions\n",
    "\n",
    "### Function to create a list of all the distances of the test_data"
   ]
  },
  {
   "cell_type": "code",
   "execution_count": 16,
   "metadata": {},
   "outputs": [],
   "source": [
    "# This function returns a list, with separate lists for all distances of each testpoint\n",
    "def model_testing(training_data, test_data):    # function to count all distances for each testpoint and place each iteration in list within list\n",
    "    \n",
    "    list_distances = []   \n",
    "\n",
    "    for test in test_data:         #Loop through test_data list\n",
    "        list_distance = []\n",
    "        for training in training_data:       # Calculate distance for test_data point and all training data\n",
    "            difference_width = (training[\"width\"]- test[\"width\"])**2\n",
    "            difference_height = (training[\"height\"]- test[\"height\"])**2\n",
    "            distance = math.sqrt(difference_width + difference_height)\n",
    "            training_label = training[\"label\"]     \n",
    "            test_label = test[\"label\"]\n",
    "            list_distance.append({\"distance\": distance, \"training_label\": training_label, \"test_label\": test_label})    # appending the distances to a list, labels for comparison\n",
    "        list_distances.append(list_distance)       # appending the list of distances to a list, in order to know which list is for which datapoint\n",
    "    return list_distances\n",
    "\n"
   ]
  },
  {
   "cell_type": "markdown",
   "metadata": {},
   "source": [
    "### Sort the innerlists in ascending order"
   ]
  },
  {
   "cell_type": "code",
   "execution_count": 17,
   "metadata": {},
   "outputs": [],
   "source": [
    "\n",
    "def sort_innerlists(list_distances):\n",
    "# sort the innerlists of the list in ascending order\n",
    "    sorted_innerlists = []\n",
    "    for list in list_distances:\n",
    "        sorted_innerlist = sorted(list, key=lambda list: list[\"distance\"])   # Källa: https://www.freecodecamp.org/news/sort-dictionary-by-value-in-python/\n",
    "        sorted_innerlists.append(sorted_innerlist)\n",
    "    return sorted_innerlists\n",
    "\n"
   ]
  },
  {
   "cell_type": "markdown",
   "metadata": {},
   "source": [
    "### Function to calculate the accuracy of the model"
   ]
  },
  {
   "cell_type": "code",
   "execution_count": 18,
   "metadata": {},
   "outputs": [],
   "source": [
    "# Defining what the measurement variables mean:\n",
    "# TP: training_label = 1,  test_label = 1\n",
    "# FP: training_label = 0,  test_label = 1\n",
    "# FN: training_label = 1,  test_label = 0\n",
    "# TN: training_label = 0,  test_label = 0\n",
    "\n",
    "# Function for calculating accuracy\n",
    "\n",
    "def calculate_accuracy(sorted_innerlists):\n",
    "\n",
    "    TP = 0\n",
    "    TN = 0\n",
    "    FP = 0\n",
    "    FN = 0\n",
    "    \n",
    "    for list in sorted_innerlists:\n",
    "        if list[0]['training_label'] == 1 and list[0]['test_label'] == 1:\n",
    "            TP += 1\n",
    "        elif list[0]['training_label'] == 0 and list[0]['test_label'] == 0:\n",
    "            TN += 1\n",
    "        elif list[0]['training_label'] == 1 and list[0]['test_label'] == 0:\n",
    "            FN += 1\n",
    "        elif list[0]['training_label'] == 0 and list[0]['test_label'] == 1:\n",
    "            FP += 1\n",
    "\n",
    "    accuracy = (TP + TN)/(TP + TN + FP + FN)\n",
    "    return accuracy"
   ]
  },
  {
   "cell_type": "markdown",
   "metadata": {},
   "source": [
    "### Applying the functions to solve assignment 4"
   ]
  },
  {
   "cell_type": "code",
   "execution_count": 19,
   "metadata": {},
   "outputs": [
    {
     "name": "stdout",
     "output_type": "stream",
     "text": [
      "The accuracy of the model is 0.96\n"
     ]
    }
   ],
   "source": [
    "#Assignment 4 solution\n",
    "\n",
    "# 1. Create a list with innerlists of the distances between each test datapoint and all training datapoints(test and training data alreade prepared)\n",
    "list_distances = model_testing(training_data, test_data)   # use function to create the list of distances\n",
    "\n",
    "# 2. Sort the innerlists of the created lists, in ascending order\n",
    "sorted_innerlists = sort_innerlists(list_distances)\n",
    "\n",
    "# 3. Calculate the accuracy\n",
    "accuracy = calculate_accuracy(sorted_innerlists)\n",
    "\n",
    "print(f\"The accuracy of the model is {accuracy}\")"
   ]
  },
  {
   "cell_type": "markdown",
   "metadata": {},
   "source": [
    "### Solving the last part of assignment 4\n",
    "#### Repeating steps of assignment 3 and 4, 10 times, plotting the accuracy and report mean accuracy"
   ]
  },
  {
   "cell_type": "code",
   "execution_count": 20,
   "metadata": {},
   "outputs": [
    {
     "name": "stdout",
     "output_type": "stream",
     "text": [
      "The accuracies in the 10 test rounds are: [1.0, 0.94, 0.92, 0.96, 0.9, 0.96, 0.94, 0.94, 0.96, 0.96]\n"
     ]
    }
   ],
   "source": [
    "#Assignment 4 last part solution\n",
    "\n",
    "# Solution steps: Loop 10 times through these steps and save the returned output in a list\n",
    "\n",
    "# 1. Shuffle the pokemon list\n",
    "# Unpacking of the variables created in the function\n",
    "# training_data, test_data = randomize_list(pokemon_list)\n",
    "\n",
    "# 2. Create a list with innerlists of the distances between each test datapoint and all training datapoints(test and training data alreade prepared)\n",
    "#list_distances = model_testing(training_data, test_data)   # use function to create the list of distances\n",
    "\n",
    "# 3. Sort the innerlists of the created lists, in ascending order\n",
    "#sorted_innerlists = sort_innerlists(list_distances)\n",
    "\n",
    "# 4. Calculate the accuracy\n",
    "#accuracy = calculate_accuracy(sorted_innerlists)\n",
    "\n",
    "list_accuracies = []    # Accuracies for all 10 tests to be plotted\n",
    "for i in range(10):\n",
    "    training_data, test_data = randomize_list(pokemon_list)\n",
    "    list_distances = model_testing(training_data, test_data)\n",
    "    sorted_innerlists = sort_innerlists(list_distances)\n",
    "    accuracy = calculate_accuracy(sorted_innerlists)\n",
    "    list_accuracies.append(accuracy)\n",
    "\n",
    "print(f\"The accuracies in the 10 test rounds are: {list_accuracies}\")\n"
   ]
  },
  {
   "cell_type": "markdown",
   "metadata": {},
   "source": [
    "### Calculating the mean"
   ]
  },
  {
   "cell_type": "code",
   "execution_count": 21,
   "metadata": {},
   "outputs": [
    {
     "name": "stdout",
     "output_type": "stream",
     "text": [
      "The mean accuracy for the 10 test rounds is 0.9480000000000001\n"
     ]
    }
   ],
   "source": [
    "# mean = total/count\n",
    "total = sum(list_accuracies)\n",
    "count = len(list_accuracies)\n",
    "mean = total/count\n",
    "\n",
    "print(f\"The mean accuracy for the 10 test rounds is {mean}\") "
   ]
  },
  {
   "cell_type": "markdown",
   "metadata": {},
   "source": [
    "### Plotting the graph"
   ]
  },
  {
   "cell_type": "code",
   "execution_count": 29,
   "metadata": {},
   "outputs": [
    {
     "data": {
      "image/png": "[encoded data removed]",
      "text/plain": [
       "<Figure size 640x480 with 1 Axes>"
      ]
     },
     "metadata": {},
     "output_type": "display_data"
    }
   ],
   "source": [
    "y = list_accuracies\n",
    "x = [1, 2, 3, 4, 5, 6, 7, 8, 9, 10]\n",
    "\n",
    "plt.title(\"Accuracies over 10 testrounds\")\n",
    "plt.xlabel(\"Testround\")\n",
    "plt.ylabel(\"Accuracy\")\n",
    "plt.plot(x, y, label = \"Accuracy\")\n",
    "plt.axhline(y = mean, color = \"red\", label = \"Mean accuracy\")\n",
    "plt.legend()\n",
    "plt.show()"
   ]
  }
 ],
 "metadata": {
  "kernelspec": {
   "display_name": "python-programming-YOUNIS-MOUSSAVI-yU_f8x7q",
   "language": "python",
   "name": "python3"
  },
  "language_info": {
   "codemirror_mode": {
    "name": "ipython",
    "version": 3
   },
   "file_extension": ".py",
   "mimetype": "text/x-python",
   "name": "python",
   "nbconvert_exporter": "python",
   "pygments_lexer": "ipython3",
   "version": "3.11.5"
  },
  "orig_nbformat": 4
 },
 "nbformat": 4,
 "nbformat_minor": 2
}
