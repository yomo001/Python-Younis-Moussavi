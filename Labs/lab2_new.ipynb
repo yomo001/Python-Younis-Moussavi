{
 "cells": [
  {
   "cell_type": "markdown",
   "metadata": {},
   "source": [
    "### Läs in värden för csv fil, datapoints Pokemon"
   ]
  },
  {
   "cell_type": "code",
   "execution_count": 2,
   "metadata": {},
   "outputs": [
    {
     "name": "stdout",
     "output_type": "stream",
     "text": [
      "[{'width': 21.959384499160468, 'height': 31.23956701424158, 'label': 0}, {'width': 23.63591632187622, 'height': 36.46821490673444, 'label': 1}, {'width': 17.714056417303343, 'height': 31.44170391314962, 'label': 0}, {'width': 21.78020031891186, 'height': 33.213397759738264, 'label': 1}, {'width': 25.20630552859312, 'height': 36.558816149350534, 'label': 1}, {'width': 19.332572350434354, 'height': 32.25325633655492, 'label': 0}, {'width': 24.73645685241186, 'height': 35.33291181124776, 'label': 1}, {'width': 23.79257560586339, 'height': 38.10372825362463, 'label': 1}, {'width': 24.557612968127465, 'height': 36.73144402805611, 'label': 1}, {'width': 20.191281253428173, 'height': 35.06966921830237, 'label': 0}, {'width': 25.813562951888365, 'height': 35.561029988644336, 'label': 1}, {'width': 24.923378667802954, 'height': 34.463907946680294, 'label': 1}, {'width': 25.311244044578427, 'height': 34.117212558131975, 'label': 1}, {'width': 22.819091361866796, 'height': 34.25516433025548, 'label': 1}, {'width': 19.639358214988224, 'height': 34.56117030001663, 'label': 0}, {'width': 18.341233265627693, 'height': 31.399261188293124, 'label': 0}, {'width': 22.723629043769336, 'height': 34.83845262048311, 'label': 1}, {'width': 25.82936770950206, 'height': 33.16210202637511, 'label': 1}, {'width': 20.23890182459327, 'height': 32.78945132868386, 'label': 0}, {'width': 17.905128921789093, 'height': 28.88813385482529, 'label': 0}, {'width': 24.385289647525166, 'height': 37.335669057387726, 'label': 1}, {'width': 26.525412887538252, 'height': 35.2192205449002, 'label': 1}, {'width': 19.299333494980544, 'height': 30.486337996080024, 'label': 0}, {'width': 20.118681851201636, 'height': 31.89116680793916, 'label': 0}, {'width': 22.980962976720388, 'height': 35.3191819848619, 'label': 1}, {'width': 17.96926166354966, 'height': 32.48406633310577, 'label': 0}, {'width': 21.58631807419169, 'height': 30.975094109600928, 'label': 0}, {'width': 18.659636883604406, 'height': 33.04492931889734, 'label': 0}, {'width': 19.209914415003638, 'height': 31.420355685575746, 'label': 0}, {'width': 18.16229126686346, 'height': 29.93643755301725, 'label': 0}, {'width': 19.120619567709372, 'height': 30.699542112256864, 'label': 0}, {'width': 25.17676132371397, 'height': 34.393601274285054, 'label': 1}, {'width': 18.583516818010633, 'height': 31.317010181098944, 'label': 0}, {'width': 24.68867147060795, 'height': 35.363481550256644, 'label': 1}, {'width': 23.02865997158701, 'height': 35.4082866561793, 'label': 1}, {'width': 20.282109030336354, 'height': 33.18796105898338, 'label': 0}, {'width': 17.672876665469843, 'height': 32.67247775608707, 'label': 0}, {'width': 20.795121649361587, 'height': 32.493051910886486, 'label': 0}, {'width': 20.101930916301317, 'height': 31.19190374413498, 'label': 0}, {'width': 20.39204407747099, 'height': 32.08774193592624, 'label': 0}, {'width': 23.868174335146136, 'height': 35.449698119416254, 'label': 1}, {'width': 26.388368121945867, 'height': 35.62090746957761, 'label': 1}, {'width': 25.567802785102412, 'height': 35.66631613405574, 'label': 1}, {'width': 23.99071038023876, 'height': 35.06411342600334, 'label': 1}, {'width': 23.792145242488125, 'height': 35.107650004447365, 'label': 1}, {'width': 24.111063562798908, 'height': 31.418267572382227, 'label': 1}, {'width': 20.098954730848863, 'height': 33.067467402673685, 'label': 0}, {'width': 20.88810038727894, 'height': 32.644004609994596, 'label': 0}, {'width': 24.587154114074174, 'height': 35.61397200548726, 'label': 1}, {'width': 21.65956855815321, 'height': 36.81907508404582, 'label': 1}, {'width': 18.59843317023302, 'height': 32.60944545701523, 'label': 0}, {'width': 21.069573240979203, 'height': 32.21936612110862, 'label': 0}, {'width': 24.87225986527509, 'height': 36.149522366845794, 'label': 1}, {'width': 20.276898330625336, 'height': 33.84658247356705, 'label': 0}, {'width': 19.592545899041802, 'height': 30.59392660926762, 'label': 0}, {'width': 20.323269906838078, 'height': 32.29574812465895, 'label': 0}, {'width': 21.35018601896744, 'height': 33.94708664610186, 'label': 0}, {'width': 20.1569063412357, 'height': 31.639314277796213, 'label': 0}, {'width': 18.929553010373773, 'height': 33.331523282909906, 'label': 0}, {'width': 22.121125492746756, 'height': 34.690328304537594, 'label': 1}, {'width': 19.499062316347583, 'height': 31.139578977011656, 'label': 0}, {'width': 26.517189386365075, 'height': 34.7011323493234, 'label': 1}, {'width': 23.388322747322558, 'height': 36.769999842308025, 'label': 1}, {'width': 20.579090632339703, 'height': 30.771060416224586, 'label': 0}, {'width': 20.240420339246214, 'height': 33.87654102727224, 'label': 1}, {'width': 24.59096971887165, 'height': 33.61859674823029, 'label': 1}, {'width': 25.116586706562245, 'height': 36.20121874558056, 'label': 1}, {'width': 25.557501503948984, 'height': 36.39246631338593, 'label': 1}, {'width': 24.387651550868913, 'height': 33.2827564295772, 'label': 1}, {'width': 19.69944356712352, 'height': 30.714803909172808, 'label': 0}, {'width': 22.826788929142136, 'height': 37.16482263385777, 'label': 1}, {'width': 24.609041154081922, 'height': 36.104823979389685, 'label': 1}, {'width': 19.893039297257797, 'height': 30.792717627266093, 'label': 0}, {'width': 20.554378047506688, 'height': 31.190868044454003, 'label': 0}, {'width': 19.55060327163345, 'height': 34.602756266320824, 'label': 0}, {'width': 23.619820901736276, 'height': 36.98566859418098, 'label': 1}, {'width': 25.15076144887497, 'height': 33.89409391341271, 'label': 1}, {'width': 24.47796159427686, 'height': 35.32146634770389, 'label': 1}, {'width': 24.004087953898246, 'height': 35.618803262029324, 'label': 1}, {'width': 20.759216855120783, 'height': 32.46166610892119, 'label': 0}, {'width': 22.493387946548573, 'height': 36.78517041843648, 'label': 1}, {'width': 20.008781128403864, 'height': 32.15292152986537, 'label': 0}, {'width': 22.42591934771403, 'height': 34.789785253591695, 'label': 1}, {'width': 22.15365577923418, 'height': 37.131777154514445, 'label': 1}, {'width': 19.56686423226426, 'height': 30.326934442372128, 'label': 0}, {'width': 24.991105175469915, 'height': 34.10979431232785, 'label': 1}, {'width': 25.5491811833759, 'height': 33.52624549604696, 'label': 1}, {'width': 21.762001750531006, 'height': 33.05861298355044, 'label': 0}, {'width': 18.989418138097026, 'height': 30.90556767082746, 'label': 0}, {'width': 20.216002852334192, 'height': 33.41610156154373, 'label': 1}, {'width': 19.689909518113225, 'height': 31.931042667213433, 'label': 0}, {'width': 25.922634453956498, 'height': 35.2215760062586, 'label': 1}, {'width': 20.670175582205307, 'height': 32.56517816055985, 'label': 0}, {'width': 26.5173046073707, 'height': 35.18452932633369, 'label': 1}, {'width': 19.615470460641276, 'height': 31.431998074581394, 'label': 0}, {'width': 19.63004376836659, 'height': 33.17007380684688, 'label': 0}, {'width': 23.213535136458052, 'height': 30.885396636777646, 'label': 0}, {'width': 20.286130095999752, 'height': 32.05337469378953, 'label': 0}, {'width': 21.23487155577698, 'height': 36.5105588800243, 'label': 1}, {'width': 21.735098682375444, 'height': 36.51127780882874, 'label': 1}, {'width': 18.310337204918557, 'height': 32.21783772801109, 'label': 0}, {'width': 19.510846016895872, 'height': 29.897476657136767, 'label': 0}, {'width': 24.686621418656394, 'height': 33.104763826036056, 'label': 1}, {'width': 23.417849657642716, 'height': 30.787174197048245, 'label': 0}, {'width': 27.194383786280955, 'height': 36.267507265697255, 'label': 1}, {'width': 22.943474306364404, 'height': 37.07911595862419, 'label': 1}, {'width': 18.424438779822488, 'height': 31.79940219340467, 'label': 0}, {'width': 23.506242342727596, 'height': 34.65976495915212, 'label': 1}, {'width': 22.091553997471266, 'height': 31.28659385225738, 'label': 0}, {'width': 23.982852691650397, 'height': 36.01635437187656, 'label': 1}, {'width': 22.69081372502663, 'height': 35.561787418827784, 'label': 1}, {'width': 25.23472228644244, 'height': 32.641361593924174, 'label': 1}, {'width': 25.094170820930774, 'height': 34.58523945069137, 'label': 1}, {'width': 21.19030359241021, 'height': 35.40347944144049, 'label': 0}, {'width': 23.22258522384455, 'height': 30.98700760873653, 'label': 0}, {'width': 23.6967469082275, 'height': 32.52744160379351, 'label': 0}, {'width': 21.07884990354048, 'height': 32.02998372994636, 'label': 0}, {'width': 16.866105280907732, 'height': 28.984730409305136, 'label': 0}, {'width': 25.102866296361412, 'height': 33.30022994232253, 'label': 1}, {'width': 25.276930013476704, 'height': 35.131360854176535, 'label': 1}, {'width': 19.213188999276543, 'height': 31.71415755285442, 'label': 0}, {'width': 19.245073847748515, 'height': 32.58876412530819, 'label': 0}, {'width': 25.31359693611633, 'height': 35.516462459726284, 'label': 1}, {'width': 18.43905922308554, 'height': 30.82782241883467, 'label': 0}, {'width': 19.64717255190365, 'height': 32.82976709158487, 'label': 0}, {'width': 23.729020953235672, 'height': 40.1471703193656, 'label': 1}, {'width': 24.77859198674412, 'height': 34.15166673260206, 'label': 1}, {'width': 20.860495554922544, 'height': 29.030638237258632, 'label': 0}, {'width': 24.601954468608902, 'height': 32.78817486174627, 'label': 1}, {'width': 21.78836263199249, 'height': 32.339722449295664, 'label': 0}, {'width': 23.10295249458573, 'height': 34.771846982043876, 'label': 1}, {'width': 20.01813734259072, 'height': 32.22092994622254, 'label': 0}, {'width': 23.846379201803554, 'height': 36.1414458257896, 'label': 1}, {'width': 23.783158802270272, 'height': 36.043496466883504, 'label': 1}, {'width': 24.961373776424374, 'height': 33.9228476372155, 'label': 1}, {'width': 25.023623126719983, 'height': 34.28266788814326, 'label': 1}, {'width': 18.836400960218388, 'height': 35.028108243261656, 'label': 0}, {'width': 23.062887108583702, 'height': 35.04075442599907, 'label': 1}, {'width': 23.114574183632723, 'height': 35.530813208835745, 'label': 1}, {'width': 23.64067859798334, 'height': 38.192278809575996, 'label': 1}, {'width': 23.631672104136165, 'height': 34.52980905331491, 'label': 1}, {'width': 20.411629224757448, 'height': 32.263992292489995, 'label': 0}, {'width': 19.574019952530243, 'height': 31.935886159584427, 'label': 0}, {'width': 21.457545842765146, 'height': 31.659809960209728, 'label': 0}, {'width': 18.124817511542226, 'height': 31.997288449746307, 'label': 0}, {'width': 18.990689973799388, 'height': 32.387963045016726, 'label': 0}, {'width': 23.541999631800756, 'height': 32.4751927528317, 'label': 0}, {'width': 19.64060341428934, 'height': 30.2915567287162, 'label': 0}, {'width': 21.989953947825015, 'height': 33.64590281447322, 'label': 1}, {'width': 22.30210323807139, 'height': 32.73237945145149, 'label': 0}]\n"
     ]
    }
   ],
   "source": [
    "import csv\n",
    "import matplotlib.pyplot as plt\n",
    "\n",
    "# Läsa in datapunkter, gör om till dictionary\n",
    "\n",
    "pokemon_list = []\n",
    "\n",
    "with open(\"..\\\\data\\\\datapoints.csv\") as file:\n",
    "    reader = csv.DictReader(file)\n",
    "    for row in reader:\n",
    "        pokemon_list.append({\"width\": float(row[\"width\"]), \"height\": float(row[\"height\"]), \"label\": int(row[\"label\"])})\n",
    "print(pokemon_list)"
   ]
  },
  {
   "cell_type": "markdown",
   "metadata": {},
   "source": [
    "### Läsa in värden för testpoints"
   ]
  },
  {
   "cell_type": "code",
   "execution_count": 3,
   "metadata": {},
   "outputs": [
    {
     "name": "stdout",
     "output_type": "stream",
     "text": [
      "['Test points:', '1. (25, 32)', '2. (24.2, 31.5)', '3. (22, 34)', '4. (20.5, 34)']\n"
     ]
    }
   ],
   "source": [
    "#Läsa in värden för testpoints\n",
    "with open(\"..\\\\data\\\\testpoints.txt\") as file: \n",
    "   lines = [testpoint.strip(\"\\n\") for testpoint in file.readlines()] \n",
    "print(lines) \n"
   ]
  },
  {
   "cell_type": "code",
   "execution_count": 4,
   "metadata": {},
   "outputs": [
    {
     "name": "stdout",
     "output_type": "stream",
     "text": [
      "['25, 32', '24.2, 31.5', '22, 34', '20.5, 34']\n"
     ]
    }
   ],
   "source": [
    "# Få fram siffror utan parentes\n",
    "sliced_testpoints = []\n",
    "\n",
    "for item in lines[1:]:\n",
    "   # ta fram index \n",
    "   start_index = item.index(\"(\")\n",
    "   stop_index = item.index(\")\")\n",
    "   # skapa varje värde, se till att parenteser ej kommer med\n",
    "   sliced_string = item[start_index+1: stop_index]\n",
    "   # appenda till lista\n",
    "   sliced_testpoints.append(sliced_string)\n",
    "print(sliced_testpoints)"
   ]
  },
  {
   "cell_type": "markdown",
   "metadata": {},
   "source": [
    "### Final format for testpoints"
   ]
  },
  {
   "cell_type": "code",
   "execution_count": 5,
   "metadata": {},
   "outputs": [
    {
     "data": {
      "text/plain": [
       "[{'width': 25.0, 'height': 32.0},\n",
       " {'width': 24.2, 'height': 31.5},\n",
       " {'width': 22.0, 'height': 34.0},\n",
       " {'width': 20.5, 'height': 34.0}]"
      ]
     },
     "execution_count": 5,
     "metadata": {},
     "output_type": "execute_result"
    }
   ],
   "source": [
    "# Fredrik visat hur man kan göra på detta sätt\n",
    "testpoints = []\n",
    "\n",
    "for text in sliced_testpoints:\n",
    "    width, height = text.split(', ')\n",
    "    testpoints.append({\"width\": float(width), \"height\": float(height)})\n",
    "\n",
    "testpoints"
   ]
  },
  {
   "cell_type": "markdown",
   "metadata": {},
   "source": [
    "### Plot data and testpoints"
   ]
  },
  {
   "cell_type": "code",
   "execution_count": 6,
   "metadata": {},
   "outputs": [
    {
     "data": {
      "text/plain": [
       "Text(0, 0.5, 'Height')"
      ]
     },
     "execution_count": 6,
     "metadata": {},
     "output_type": "execute_result"
    },
    {
     "data": {
      "image/png": "[encoded data removed]",
      "text/plain": [
       "<Figure size 640x480 with 1 Axes>"
      ]
     },
     "metadata": {},
     "output_type": "display_data"
    }
   ],
   "source": [
    "# plotta testpunker\n",
    "\n",
    "for i in testpoints:\n",
    "    plt.scatter(i[\"width\"], i[\"height\"], marker = \"o\", color = \"green\")\n",
    "\n",
    "#Plotta datapunkter \n",
    "\n",
    "for i in pokemon_list:\n",
    "    if i[\"label\"] == 0:\n",
    "        plt.scatter(i[\"width\"], i[\"height\"], marker = \"o\", color = \"blue\")\n",
    "    else:\n",
    "        plt.scatter(i[\"width\"], i[\"height\"], marker = \"o\", color = \"red\")\n",
    "\n",
    "plt.xlabel(\"Width\")\n",
    "plt.ylabel(\"Height\")"
   ]
  },
  {
   "cell_type": "markdown",
   "metadata": {},
   "source": [
    "### Function to determine distance between datapoints and testpoints"
   ]
  },
  {
   "cell_type": "code",
   "execution_count": 7,
   "metadata": {},
   "outputs": [],
   "source": [
    "import math\n",
    "\n",
    "def list_distances(pokemon_list, testpoints):\n",
    "    list_distances = []\n",
    "    test_width = testpoints[\"width\"]\n",
    "    test_height = testpoints[\"height\"]\n",
    "\n",
    "    for i in pokemon_list:\n",
    "        difference_width = (i[\"width\"]- test_width)**2\n",
    "        difference_height = (i[\"height\"]- test_height)**2\n",
    "        distance = math.sqrt(difference_width + difference_height)\n",
    "        label = i[\"label\"]\n",
    "        list_distances.append({\"distance\": distance, \"label\": label})\n",
    "    return list_distances\n"
   ]
  },
  {
   "cell_type": "markdown",
   "metadata": {},
   "source": [
    "### Create the lists of distance for all testpoints"
   ]
  },
  {
   "cell_type": "code",
   "execution_count": 22,
   "metadata": {},
   "outputs": [
    {
     "name": "stdout",
     "output_type": "stream",
     "text": [
      "[{'distance': 2.2557001491052464, 'label': 0}, {'distance': 5.000134973720603, 'label': 1}, {'distance': 6.486205561934189, 'label': 0}, {'distance': 2.964989440060515, 'label': 1}, {'distance': 5.157932885353089, 'label': 1}, {'distance': 4.925367705290264, 'label': 0}, {'distance': 3.8702711671538257, 'label': 1}, {'distance': 6.6162845679926585, 'label': 1}, {'distance': 5.243652701472216, 'label': 1}, {'distance': 5.367714999626179, 'label': 0}, {'distance': 4.369845531409012, 'label': 1}, {'distance': 3.050905933231468, 'label': 1}, {'distance': 2.8433545155422912, 'label': 1}, {'distance': 3.081856445972628, 'label': 1}, {'distance': 5.492742220139161, 'label': 0}, {'distance': 5.859632749240489, 'label': 0}, {'distance': 3.650333833995459, 'label': 1}, {'distance': 2.3275356665040023, 'label': 1}, {'distance': 4.165691237268443, 'label': 0}, {'distance': 6.8152216876346685, 'label': 0}, {'distance': 5.838609903121851, 'label': 1}, {'distance': 4.386359146164021, 'label': 1}, {'distance': 5.004402347095072, 'label': 0}, {'distance': 4.100020646697308, 'label': 0}, {'distance': 4.009015128135599, 'label': 1}, {'distance': 6.307970098634282, 'label': 0}, {'distance': 2.6658693522137704, 'label': 0}, {'distance': 5.751732787769724, 'label': 0}, {'distance': 4.9907211264915, 'label': 0}, {'distance': 6.236878567986388, 'label': 0}, {'distance': 5.142065577760276, 'label': 0}, {'distance': 3.0540122819084328, 'label': 1}, {'distance': 5.619463373614143, 'label': 0}, {'distance': 3.8942636653621205, 'label': 1}, {'distance': 4.080041917558165, 'label': 1}, {'distance': 4.266038230819813, 'label': 0}, {'distance': 6.631594311527737, 'label': 0}, {'distance': 3.5467377518448497, 'label': 0}, {'distance': 4.109634231612954, 'label': 0}, {'distance': 3.853046702438224, 'label': 0}, {'distance': 3.9636124314034547, 'label': 1}, {'distance': 4.665922567935458, 'label': 1}, {'distance': 4.38509687325458, 'label': 1}, {'distance': 3.570253024416765, 'label': 1}, {'distance': 3.6306313580166933, 'label': 1}, {'distance': 0.12078857390630211, 'label': 1}, {'distance': 4.390390228450257, 'label': 0}, {'distance': 3.5039157513317574, 'label': 0}, {'distance': 4.132148832021597, 'label': 1}, {'distance': 5.8946036050306905, 'label': 1}, {'distance': 5.710378286106572, 'label': 0}, {'distance': 3.212017949792982, 'label': 0}, {'distance': 4.697870961005528, 'label': 1}, {'distance': 4.571342911388546, 'label': 0}, {'distance': 4.695700403755523, 'label': 0}, {'distance': 3.9575562274117435, 'label': 0}, {'distance': 3.756284438114169, 'label': 0}, {'distance': 4.045493146890496, 'label': 0}, {'distance': 5.579613696870172, 'label': 0}, {'distance': 3.807875248434635, 'label': 1}, {'distance': 4.714734183323097, 'label': 0}, {'distance': 3.9517863011766865, 'label': 1}, {'distance': 5.332140123856518, 'label': 1}, {'distance': 3.693553514652896, 'label': 0}, {'distance': 4.61803186911516, 'label': 1}, {'distance': 2.1543698620911247, 'label': 1}, {'distance': 4.789737872206024, 'label': 1}, {'distance': 5.077306073188801, 'label': 1}, {'distance': 1.7926052526260061, 'label': 1}, {'distance': 4.5685381804857625, 'label': 0}, {'distance': 5.828887039409312, 'label': 1}, {'distance': 4.622955607281442, 'label': 1}, {'distance': 4.364648765908399, 'label': 0}, {'distance': 3.6587049602886585, 'label': 0}, {'distance': 5.589632043877193, 'label': 0}, {'distance': 5.516263926902485, 'label': 1}, {'distance': 2.5759722434270564, 'label': 1}, {'distance': 3.8315620436743862, 'label': 1}, {'distance': 4.123459935674309, 'label': 1}, {'distance': 3.5726447283675626, 'label': 0}, {'distance': 5.553877118995497, 'label': 1}, {'distance': 4.241771110489734, 'label': 0}, {'distance': 3.7376528966137013, 'label': 1}, {'distance': 5.992031257259302, 'label': 1}, {'distance': 4.779333619320275, 'label': 0}, {'distance': 2.727063209996072, 'label': 1}, {'distance': 2.434329615279367, 'label': 1}, {'distance': 2.893632647193814, 'label': 0}, {'distance': 5.244379194295331, 'label': 0}, {'distance': 4.420823279295339, 'label': 1}, {'distance': 4.530641669318392, 'label': 0}, {'distance': 4.100926411473111, 'label': 1}, {'distance': 3.6870401318935104, 'label': 0}, {'distance': 4.352660910288609, 'label': 1}, {'distance': 4.585033844925612, 'label': 0}, {'distance': 4.865557160219275, 'label': 0}, {'distance': 1.1622608231748421, 'label': 0}, {'distance': 3.952796627346967, 'label': 0}, {'distance': 5.822172015745565, 'label': 1}, {'distance': 5.5846793804914725, 'label': 1}, {'distance': 5.933246905659891, 'label': 0}, {'distance': 4.955425929391221, 'label': 0}, {'distance': 1.6769219846042456, 'label': 1}, {'distance': 1.0582437258984485, 'label': 0}, {'distance': 5.629872093397717, 'label': 1}, {'distance': 5.718862797667169, 'label': 1}, {'distance': 5.7833164431348445, 'label': 0}, {'distance': 3.235029255526091, 'label': 1}, {'distance': 2.1192184242011822, 'label': 0}, {'distance': 4.5215716035347695, 'label': 1}, {'distance': 4.333100535219056, 'label': 1}, {'distance': 1.540570186049894, 'label': 1}, {'distance': 3.2122023480949005, 'label': 1}, {'distance': 4.929038873412081, 'label': 0}, {'distance': 1.1038572544225178, 'label': 0}, {'distance': 1.1440716426799353, 'label': 0}, {'distance': 3.1658270133785145, 'label': 0}, {'distance': 7.753231124157447, 'label': 0}, {'distance': 2.013950196588773, 'label': 1}, {'distance': 3.7876852967442622, 'label': 1}, {'distance': 4.991407358088606, 'label': 0}, {'distance': 5.0731351741131245, 'label': 0}, {'distance': 4.16798138509737, 'label': 1}, {'distance': 5.8000225288990945, 'label': 0}, {'distance': 4.74304947159542, 'label': 0}, {'distance': 8.659987055106283, 'label': 1}, {'distance': 2.71405695369736, 'label': 1}, {'distance': 4.153316440386073, 'label': 0}, {'distance': 1.3494302017035518, 'label': 1}, {'distance': 2.553650051714465, 'label': 0}, {'distance': 3.450868862046961, 'label': 1}, {'distance': 4.243549843326297, 'label': 0}, {'distance': 4.6548971011889, 'label': 1}, {'distance': 4.5625778600159395, 'label': 1}, {'distance': 2.5396615326825405, 'label': 1}, {'distance': 2.901998557989246, 'label': 1}, {'distance': 6.419948787624172, 'label': 0}, {'distance': 3.718866444638356, 'label': 1}, {'distance': 4.174398678535782, 'label': 1}, {'distance': 6.715611371710977, 'label': 1}, {'distance': 3.0826513745096094, 'label': 1}, {'distance': 3.8646393562266543, 'label': 0}, {'distance': 4.646470503909989, 'label': 0}, {'distance': 2.747106482813683, 'label': 0}, {'distance': 6.095501461759736, 'label': 0}, {'distance': 5.284447872615416, 'label': 0}, {'distance': 1.1764205836884245, 'label': 0}, {'distance': 4.7168243941979755, 'label': 0}, {'distance': 3.0804549082722037, 'label': 1}, {'distance': 2.2629121130302403, 'label': 0}]\n"
     ]
    }
   ],
   "source": [
    "distance_list1 = list_distances(pokemon_list, testpoints[0])\n",
    "distance_list2 =list_distances(pokemon_list, testpoints[1])\n",
    "distance_list3 =list_distances(pokemon_list, testpoints[2])\n",
    "distance_list4 =list_distances(pokemon_list, testpoints[3])\n",
    "\n",
    "print(distance_list2)"
   ]
  },
  {
   "cell_type": "markdown",
   "metadata": {},
   "source": [
    "### Sort the lists in ascending order and answer to the first part"
   ]
  },
  {
   "cell_type": "code",
   "execution_count": 13,
   "metadata": {},
   "outputs": [
    {
     "name": "stdout",
     "output_type": "stream",
     "text": [
      "sorted_list1[0] ={'distance': 0.6829635758323602, 'label': 1}\n",
      "sorted_list2[0] ={'distance': 0.12078857390630211, 'label': 1}\n",
      "sorted_list3[0] ={'distance': 0.3542396645807627, 'label': 1}\n",
      "sorted_list4[0] ={'distance': 0.2707605811313157, 'label': 0}\n",
      "\n"
     ]
    }
   ],
   "source": [
    "sorted_list1 = sorted(distance_list1, key=lambda x: x[\"distance\"])\n",
    "sorted_list2 = sorted(distance_list2, key=lambda x: x[\"distance\"])\n",
    "sorted_list3 = sorted(distance_list3, key=lambda x: x[\"distance\"])\n",
    "sorted_list4 = sorted(distance_list4, key=lambda x: x[\"distance\"])\n",
    "print(f\"{sorted_list1[0] =}\\n{sorted_list2[0] =}\\n{sorted_list3[0] =}\\n{sorted_list4[0] =}\\n\")"
   ]
  },
  {
   "cell_type": "markdown",
   "metadata": {},
   "source": [
    "### Uppgift 1 "
   ]
  },
  {
   "cell_type": "markdown",
   "metadata": {},
   "source": [
    "### Input function"
   ]
  },
  {
   "cell_type": "code",
   "execution_count": 19,
   "metadata": {},
   "outputs": [
    {
     "name": "stdout",
     "output_type": "stream",
     "text": [
      "[{'width': 22.0, 'height': 22.0}]\n"
     ]
    }
   ],
   "source": [
    "# Function för input\n",
    "\n",
    "def input_datapoints():\n",
    "    input_list = []\n",
    "    while True:\n",
    "        try:\n",
    "            input_width = float(input(\"Input width: \"))\n",
    "            input_height = float(input(\"Input height: \"))\n",
    "            if input_width < 0 or input_height < 0:\n",
    "                raise ValueError(\"Value must be positive\")\n",
    "            input_list.append({\"width\":float(input_width), \"height\":float(input_height)})\n",
    "            break\n",
    "        except ValueError:\n",
    "            print(\"You have to enter a positive numeric number: \")        #Källa\n",
    "    return input_list\n",
    "\n",
    "list = input_datapoints()\n",
    "print(list)"
   ]
  },
  {
   "cell_type": "markdown",
   "metadata": {},
   "source": [
    "### Answer to uppgift 1, calling function for input in the function for distance"
   ]
  },
  {
   "cell_type": "code",
   "execution_count": 20,
   "metadata": {},
   "outputs": [
    {
     "ename": "TypeError",
     "evalue": "list indices must be integers or slices, not str",
     "output_type": "error",
     "traceback": [
      "\u001b[1;31m---------------------------------------------------------------------------\u001b[0m",
      "\u001b[1;31mTypeError\u001b[0m                                 Traceback (most recent call last)",
      "\u001b[1;32mc:\\Users\\yonis\\Documents\\GitHub\\python-programming-YOUNIS-MOUSSAVI\\Labs\\lab2_new.ipynb Cell 20\u001b[0m line \u001b[0;36m1\n\u001b[0;32m     <a href='vscode-notebook-cell:/c%3A/Users/yonis/Documents/GitHub/python-programming-YOUNIS-MOUSSAVI/Labs/lab2_new.ipynb#X25sZmlsZQ%3D%3D?line=11'>12</a>\u001b[0m     sorted_list \u001b[39m=\u001b[39m \u001b[39msorted\u001b[39m(distance_list, key\u001b[39m=\u001b[39m\u001b[39mlambda\u001b[39;00m x: x[\u001b[39m\"\u001b[39m\u001b[39mdistance\u001b[39m\u001b[39m\"\u001b[39m])\n\u001b[0;32m     <a href='vscode-notebook-cell:/c%3A/Users/yonis/Documents/GitHub/python-programming-YOUNIS-MOUSSAVI/Labs/lab2_new.ipynb#X25sZmlsZQ%3D%3D?line=12'>13</a>\u001b[0m     \u001b[39mreturn\u001b[39;00m sorted_list\n\u001b[1;32m---> <a href='vscode-notebook-cell:/c%3A/Users/yonis/Documents/GitHub/python-programming-YOUNIS-MOUSSAVI/Labs/lab2_new.ipynb#X25sZmlsZQ%3D%3D?line=14'>15</a>\u001b[0m classify_by_input()\n\u001b[0;32m     <a href='vscode-notebook-cell:/c%3A/Users/yonis/Documents/GitHub/python-programming-YOUNIS-MOUSSAVI/Labs/lab2_new.ipynb#X25sZmlsZQ%3D%3D?line=15'>16</a>\u001b[0m     \u001b[39m# classify which pokemon it is\u001b[39;00m\n\u001b[0;32m     <a href='vscode-notebook-cell:/c%3A/Users/yonis/Documents/GitHub/python-programming-YOUNIS-MOUSSAVI/Labs/lab2_new.ipynb#X25sZmlsZQ%3D%3D?line=16'>17</a>\u001b[0m     \u001b[39m# if distances_to_pichu < distances_to_pikashu:\u001b[39;00m\n\u001b[0;32m     <a href='vscode-notebook-cell:/c%3A/Users/yonis/Documents/GitHub/python-programming-YOUNIS-MOUSSAVI/Labs/lab2_new.ipynb#X25sZmlsZQ%3D%3D?line=17'>18</a>\u001b[0m     \u001b[39m#     output = \"This is Pichu!\"\u001b[39;00m\n\u001b[0;32m     <a href='vscode-notebook-cell:/c%3A/Users/yonis/Documents/GitHub/python-programming-YOUNIS-MOUSSAVI/Labs/lab2_new.ipynb#X25sZmlsZQ%3D%3D?line=18'>19</a>\u001b[0m     \u001b[39m# else:\u001b[39;00m\n\u001b[0;32m     <a href='vscode-notebook-cell:/c%3A/Users/yonis/Documents/GitHub/python-programming-YOUNIS-MOUSSAVI/Labs/lab2_new.ipynb#X25sZmlsZQ%3D%3D?line=19'>20</a>\u001b[0m     \u001b[39m#     output = \"This is Pikashu!\"\u001b[39;00m\n\u001b[0;32m     <a href='vscode-notebook-cell:/c%3A/Users/yonis/Documents/GitHub/python-programming-YOUNIS-MOUSSAVI/Labs/lab2_new.ipynb#X25sZmlsZQ%3D%3D?line=20'>21</a>\u001b[0m     \u001b[39m# return output\u001b[39;00m\n",
      "\u001b[1;32mc:\\Users\\yonis\\Documents\\GitHub\\python-programming-YOUNIS-MOUSSAVI\\Labs\\lab2_new.ipynb Cell 20\u001b[0m line \u001b[0;36m9\n\u001b[0;32m      <a href='vscode-notebook-cell:/c%3A/Users/yonis/Documents/GitHub/python-programming-YOUNIS-MOUSSAVI/Labs/lab2_new.ipynb#X25sZmlsZQ%3D%3D?line=5'>6</a>\u001b[0m input_data \u001b[39m=\u001b[39m input_datapoints()\n\u001b[0;32m      <a href='vscode-notebook-cell:/c%3A/Users/yonis/Documents/GitHub/python-programming-YOUNIS-MOUSSAVI/Labs/lab2_new.ipynb#X25sZmlsZQ%3D%3D?line=7'>8</a>\u001b[0m \u001b[39m# calculate distances of input datapoints and pokemons datapoints, OBS FÖR ENSKILD DATAPUNKT\u001b[39;00m\n\u001b[1;32m----> <a href='vscode-notebook-cell:/c%3A/Users/yonis/Documents/GitHub/python-programming-YOUNIS-MOUSSAVI/Labs/lab2_new.ipynb#X25sZmlsZQ%3D%3D?line=8'>9</a>\u001b[0m distance_list \u001b[39m=\u001b[39m list_distances(pokemon_list, input_data)\n\u001b[0;32m     <a href='vscode-notebook-cell:/c%3A/Users/yonis/Documents/GitHub/python-programming-YOUNIS-MOUSSAVI/Labs/lab2_new.ipynb#X25sZmlsZQ%3D%3D?line=10'>11</a>\u001b[0m \u001b[39m# sort and print the distance_list\u001b[39;00m\n\u001b[0;32m     <a href='vscode-notebook-cell:/c%3A/Users/yonis/Documents/GitHub/python-programming-YOUNIS-MOUSSAVI/Labs/lab2_new.ipynb#X25sZmlsZQ%3D%3D?line=11'>12</a>\u001b[0m sorted_list \u001b[39m=\u001b[39m \u001b[39msorted\u001b[39m(distance_list, key\u001b[39m=\u001b[39m\u001b[39mlambda\u001b[39;00m x: x[\u001b[39m\"\u001b[39m\u001b[39mdistance\u001b[39m\u001b[39m\"\u001b[39m])\n",
      "\u001b[1;32mc:\\Users\\yonis\\Documents\\GitHub\\python-programming-YOUNIS-MOUSSAVI\\Labs\\lab2_new.ipynb Cell 20\u001b[0m line \u001b[0;36m5\n\u001b[0;32m      <a href='vscode-notebook-cell:/c%3A/Users/yonis/Documents/GitHub/python-programming-YOUNIS-MOUSSAVI/Labs/lab2_new.ipynb#X25sZmlsZQ%3D%3D?line=2'>3</a>\u001b[0m \u001b[39mdef\u001b[39;00m \u001b[39mlist_distances\u001b[39m(pokemon_list, testpoints):\n\u001b[0;32m      <a href='vscode-notebook-cell:/c%3A/Users/yonis/Documents/GitHub/python-programming-YOUNIS-MOUSSAVI/Labs/lab2_new.ipynb#X25sZmlsZQ%3D%3D?line=3'>4</a>\u001b[0m     list_distances \u001b[39m=\u001b[39m []\n\u001b[1;32m----> <a href='vscode-notebook-cell:/c%3A/Users/yonis/Documents/GitHub/python-programming-YOUNIS-MOUSSAVI/Labs/lab2_new.ipynb#X25sZmlsZQ%3D%3D?line=4'>5</a>\u001b[0m     test_width \u001b[39m=\u001b[39m testpoints[\u001b[39m\"\u001b[39;49m\u001b[39mwidth\u001b[39;49m\u001b[39m\"\u001b[39;49m]\n\u001b[0;32m      <a href='vscode-notebook-cell:/c%3A/Users/yonis/Documents/GitHub/python-programming-YOUNIS-MOUSSAVI/Labs/lab2_new.ipynb#X25sZmlsZQ%3D%3D?line=5'>6</a>\u001b[0m     test_height \u001b[39m=\u001b[39m testpoints[\u001b[39m\"\u001b[39m\u001b[39mheight\u001b[39m\u001b[39m\"\u001b[39m]\n\u001b[0;32m      <a href='vscode-notebook-cell:/c%3A/Users/yonis/Documents/GitHub/python-programming-YOUNIS-MOUSSAVI/Labs/lab2_new.ipynb#X25sZmlsZQ%3D%3D?line=7'>8</a>\u001b[0m     \u001b[39mfor\u001b[39;00m i \u001b[39min\u001b[39;00m pokemon_list:\n",
      "\u001b[1;31mTypeError\u001b[0m: list indices must be integers or slices, not str"
     ]
    }
   ],
   "source": [
    "# Function för classificering\n",
    "\n",
    "def classify_by_input():\n",
    "    # take input with try, except handling\n",
    "\n",
    "    input_data = input_datapoints()\n",
    "\n",
    "    # calculate distances of input datapoints and pokemons datapoints, OBS FÖR ENSKILD DATAPUNKT\n",
    "    distance_list = list_distances(pokemon_list, input_data)\n",
    "    \n",
    "    # sort and print the distance_list\n",
    "    sorted_list = sorted(distance_list, key=lambda x: x[\"distance\"])\n",
    "    return sorted_list\n",
    "\n",
    "classify_by_input()\n",
    "    # classify which pokemon it is\n",
    "    # if distances_to_pichu < distances_to_pikashu:\n",
    "    #     output = \"This is Pichu!\"\n",
    "    # else:\n",
    "    #     output = \"This is Pikashu!\"\n",
    "    # return output"
   ]
  },
  {
   "cell_type": "markdown",
   "metadata": {},
   "source": [
    "### Lösning uppgift 1"
   ]
  },
  {
   "cell_type": "code",
   "execution_count": 10,
   "metadata": {},
   "outputs": [
    {
     "ename": "NameError",
     "evalue": "name 'list_distance_test_sum' is not defined",
     "output_type": "error",
     "traceback": [
      "\u001b[1;31m---------------------------------------------------------------------------\u001b[0m",
      "\u001b[1;31mNameError\u001b[0m                                 Traceback (most recent call last)",
      "\u001b[1;32mc:\\Users\\yonis\\Documents\\GitHub\\python-programming-YOUNIS-MOUSSAVI\\Labs\\lab2_new.ipynb Cell 15\u001b[0m line \u001b[0;36m2\n\u001b[0;32m      <a href='vscode-notebook-cell:/c%3A/Users/yonis/Documents/GitHub/python-programming-YOUNIS-MOUSSAVI/Labs/lab2_new.ipynb#X24sZmlsZQ%3D%3D?line=0'>1</a>\u001b[0m \u001b[39m# Test av function för classificiering\u001b[39;00m\n\u001b[1;32m----> <a href='vscode-notebook-cell:/c%3A/Users/yonis/Documents/GitHub/python-programming-YOUNIS-MOUSSAVI/Labs/lab2_new.ipynb#X24sZmlsZQ%3D%3D?line=1'>2</a>\u001b[0m classify_by_input()\n",
      "\u001b[1;32mc:\\Users\\yonis\\Documents\\GitHub\\python-programming-YOUNIS-MOUSSAVI\\Labs\\lab2_new.ipynb Cell 15\u001b[0m line \u001b[0;36m9\n\u001b[0;32m      <a href='vscode-notebook-cell:/c%3A/Users/yonis/Documents/GitHub/python-programming-YOUNIS-MOUSSAVI/Labs/lab2_new.ipynb#X24sZmlsZQ%3D%3D?line=5'>6</a>\u001b[0m input_height \u001b[39m=\u001b[39m input_datapoints(\u001b[39m\"\u001b[39m\u001b[39mEnter height(cm) \u001b[39m\u001b[39m\"\u001b[39m)\n\u001b[0;32m      <a href='vscode-notebook-cell:/c%3A/Users/yonis/Documents/GitHub/python-programming-YOUNIS-MOUSSAVI/Labs/lab2_new.ipynb#X24sZmlsZQ%3D%3D?line=7'>8</a>\u001b[0m \u001b[39m# calculate distances of input datapoints and pokemons datapoints, OBS FÖR ENSKILD DATAPUNKT\u001b[39;00m\n\u001b[1;32m----> <a href='vscode-notebook-cell:/c%3A/Users/yonis/Documents/GitHub/python-programming-YOUNIS-MOUSSAVI/Labs/lab2_new.ipynb#X24sZmlsZQ%3D%3D?line=8'>9</a>\u001b[0m distances_to_pikashu\u001b[39m=\u001b[39m list_distance_test_sum(pikashu_width, pikashu_height, input_width, input_height)\n\u001b[0;32m     <a href='vscode-notebook-cell:/c%3A/Users/yonis/Documents/GitHub/python-programming-YOUNIS-MOUSSAVI/Labs/lab2_new.ipynb#X24sZmlsZQ%3D%3D?line=9'>10</a>\u001b[0m distances_to_pichu\u001b[39m=\u001b[39m list_distance_test_sum(pichu_width, pichu_height, input_width, input_height)\n\u001b[0;32m     <a href='vscode-notebook-cell:/c%3A/Users/yonis/Documents/GitHub/python-programming-YOUNIS-MOUSSAVI/Labs/lab2_new.ipynb#X24sZmlsZQ%3D%3D?line=11'>12</a>\u001b[0m \u001b[39m# classify which pokemon it is\u001b[39;00m\n",
      "\u001b[1;31mNameError\u001b[0m: name 'list_distance_test_sum' is not defined"
     ]
    }
   ],
   "source": [
    "# Test av function för classificiering\n",
    "classify_by_input()"
   ]
  },
  {
   "cell_type": "markdown",
   "metadata": {},
   "source": [
    "# Uppgift 2"
   ]
  },
  {
   "cell_type": "markdown",
   "metadata": {},
   "source": [
    "# Ta reda på vilken pokemon testpoints är utifrån 10 närmsta datapoints\n",
    "\n",
    "### Märka avstånd från Pikashu"
   ]
  },
  {
   "cell_type": "code",
   "execution_count": null,
   "metadata": {},
   "outputs": [
    {
     "name": "stdout",
     "output_type": "stream",
     "text": [
      "75\n"
     ]
    }
   ],
   "source": [
    "# Listor på avstånd samtliga datapunkter\n",
    "\n",
    "list_distance_test(pikashu_width, pikashu_height, test_width[0], test_height[0])\n",
    "\n",
    "# Skapa variabler för enskilda datapoints avstånd från Pikashu\n",
    "Testpoints1_pikashu = list_distance_test(pikashu_width, pikashu_height, test_width[0], test_height[0])\n",
    "Testpoints2_pikashu = list_distance_test(pikashu_width, pikashu_height, test_width[1], test_height[1])\n",
    "Testpoints3_pikashu = list_distance_test(pikashu_width, pikashu_height, test_width[2], test_height[2])\n",
    "Testpoints4_pikashu = list_distance_test(pikashu_width, pikashu_height, test_width[3], test_height[3])\n",
    "\n",
    "# Label så att jag vet att det är Pikashu\n",
    "Testpoints1_pikashu_labeled = [{'Pikashu': item} for item in Testpoints1_pikashu]\n",
    "Testpoints2_pikashu_labeled = [{'Pikashu': item} for item in Testpoints2_pikashu]\n",
    "Testpoints3_pikashu_labeled = [{'Pikashu': item} for item in Testpoints3_pikashu]\n",
    "Testpoints4_pikashu_labeled = [{'Pikashu': item} for item in Testpoints4_pikashu]\n",
    "\n",
    "print(len(Testpoints1_pikashu))\n",
    "# # Skriv ut samtliga datapoints per set\n",
    "# counter = 1\n",
    "# for i, item in enumerate(list_all_testpoints):\n",
    "#     testpoint = item[i]\n",
    "#     counter += 1\n",
    "#     print(f\"Testpoint {counter} = {testpoint}\")"
   ]
  },
  {
   "cell_type": "markdown",
   "metadata": {},
   "source": [
    "### Märka avstånd från Pichu"
   ]
  },
  {
   "cell_type": "code",
   "execution_count": null,
   "metadata": {},
   "outputs": [
    {
     "name": "stdout",
     "output_type": "stream",
     "text": [
      "[{'Pichu': 3.1342624251608395}, {'Pichu': 7.307302403132844}, {'Pichu': 5.673083371066072}, {'Pichu': 5.704966703971587}, {'Pichu': 5.941049878001488}, {'Pichu': 6.685810462664509}, {'Pichu': 4.826104975673654}, {'Pichu': 7.747316085065725}, {'Pichu': 5.898200680170333}, {'Pichu': 4.882531262929347}, {'Pichu': 7.047382618425012}, {'Pichu': 3.564218901072862}, {'Pichu': 6.42589151240829}, {'Pichu': 5.819027290950527}, {'Pichu': 7.1423070986768105}, {'Pichu': 6.021486941395395}, {'Pichu': 6.452730547409747}, {'Pichu': 4.865156387958634}, {'Pichu': 7.357918366756199}, {'Pichu': 4.233686588600583}, {'Pichu': 4.964282456451075}, {'Pichu': 4.60879121150983}, {'Pichu': 5.015947705672343}, {'Pichu': 4.162025992565388}, {'Pichu': 6.4305117713172235}, {'Pichu': 3.9365436620361485}, {'Pichu': 5.071247993436599}, {'Pichu': 5.5872714480411}, {'Pichu': 4.686072056373611}, {'Pichu': 4.136700195030928}, {'Pichu': 4.8565059845288605}, {'Pichu': 6.214763141648545}, {'Pichu': 5.567821812542812}, {'Pichu': 4.58854357477802}, {'Pichu': 5.454138565345194}, {'Pichu': 5.247721252778881}, {'Pichu': 4.518655670216102}, {'Pichu': 6.039061589767436}, {'Pichu': 4.2658384027079705}, {'Pichu': 4.993560935692461}, {'Pichu': 5.684902165452815}, {'Pichu': 3.4066543870057955}, {'Pichu': 6.109408845524667}, {'Pichu': 5.3105382062056155}, {'Pichu': 4.366555374904225}, {'Pichu': 5.4144052810540435}, {'Pichu': 5.495953297029337}, {'Pichu': 2.1056584162623655}, {'Pichu': 4.714172072567614}, {'Pichu': 6.693208616772818}, {'Pichu': 5.878045241193087}, {'Pichu': 1.9935260555425007}, {'Pichu': 6.578620283943528}, {'Pichu': 2.9946629996148713}, {'Pichu': 5.108567218536976}, {'Pichu': 2.045814476254729}, {'Pichu': 1.405938571427235}, {'Pichu': 3.921264732586414}, {'Pichu': 8.674796482099524}, {'Pichu': 5.793866365621854}, {'Pichu': 5.78496484113067}, {'Pichu': 6.664828892024575}, {'Pichu': 5.416758727816007}, {'Pichu': 5.094370062024012}, {'Pichu': 3.2295550662804375}, {'Pichu': 4.9867590255021295}, {'Pichu': 6.867269665311389}, {'Pichu': 4.595958909911408}, {'Pichu': 5.42635882153703}, {'Pichu': 3.558751286516523}, {'Pichu': 6.87518302317118}, {'Pichu': 6.02182051503479}, {'Pichu': 1.5334840155713727}, {'Pichu': 5.625114236539731}, {'Pichu': 2.795536907095536}]\n"
     ]
    }
   ],
   "source": [
    "# Listor på avstånd samtliga datapunkter\n",
    "\n",
    "\n",
    "# Skapa variabler för enskilda datapoints avstånd från Pikashu\n",
    "Testpoints1_pichu = list_distance_test(pichu_width, pichu_height, test_width[0], test_height[0])\n",
    "Testpoints2_pichu = list_distance_test(pichu_width, pichu_height, test_width[1], test_height[1])\n",
    "Testpoints3_pichu = list_distance_test(pichu_width, pichu_height, test_width[2], test_height[2])\n",
    "Testpoints4_pichu = list_distance_test(pichu_width, pichu_height, test_width[3], test_height[3])\n",
    "\n",
    "# Label så att jag vet att det är Pikashu\n",
    "Testpoints1_pichu_labeled = [{'Pichu': item} for item in Testpoints1_pichu]\n",
    "Testpoints2_pichu_labeled = [{'Pichu': item} for item in Testpoints2_pichu]\n",
    "Testpoints3_pichu_labeled = [{'Pichu': item} for item in Testpoints3_pichu]\n",
    "Testpoints4_pichu_labeled = [{'Pichu': item} for item in Testpoints4_pichu]\n",
    "\n",
    "print(Testpoints1_pichu_labeled)"
   ]
  },
  {
   "cell_type": "markdown",
   "metadata": {},
   "source": [
    "### Slå ihop båda dictionaries för varje datapoint"
   ]
  },
  {
   "cell_type": "code",
   "execution_count": null,
   "metadata": {},
   "outputs": [
    {
     "name": "stdout",
     "output_type": "stream",
     "text": [
      "[{'Pikashu': 0.6829635758323602}, {'Pikashu': 0.8829834980050161}, {'Pikashu': 1.0623655711316322}, {'Pikashu': 1.1483506635878937}, {'Pikashu': 1.3042926733824607}, {'Pichu': 1.405938571427235}, {'Pikashu': 1.4214199522923856}, {'Pikashu': 1.4277016205320445}, {'Pichu': 1.5334840155713727}, {'Pikashu': 1.6220435525527015}, {'Pikashu': 1.6694793213039807}, {'Pikashu': 1.9000844105707402}, {'Pikashu': 1.92323556047951}, {'Pichu': 1.9935260555425007}, {'Pichu': 2.045814476254729}, {'Pichu': 2.1056584162623655}, {'Pikashu': 2.109813062390686}, {'Pikashu': 2.1399677267653545}, {'Pikashu': 2.163028256061473}, {'Pikashu': 2.2827901216880258}, {'Pikashu': 2.4001190857580688}, {'Pikashu': 2.4650990240276256}, {'Pikashu': 2.5869540314674677}, {'Pichu': 2.795536907095536}, {'Pikashu': 2.876152825708887}, {'Pichu': 2.9946629996148713}, {'Pikashu': 3.0505182472152863}, {'Pikashu': 3.098060619590939}, {'Pichu': 3.1342624251608395}, {'Pikashu': 3.1372167034396403}, {'Pikashu': 3.143582515448482}, {'Pikashu': 3.2260589926366356}, {'Pichu': 3.2295550662804375}, {'Pikashu': 3.334126822030886}, {'Pikashu': 3.3433151410232775}, {'Pikashu': 3.3510903150659375}, {'Pikashu': 3.3588576822580993}, {'Pikashu': 3.362240740336625}, {'Pikashu': 3.3778593209502157}, {'Pichu': 3.4066543870057955}, {'Pikashu': 3.430652024164659}, {'Pikashu': 3.4408493296965403}, {'Pikashu': 3.5275260880435244}, {'Pikashu': 3.5304180020226754}, {'Pichu': 3.558751286516523}, {'Pikashu': 3.5623398762857184}, {'Pichu': 3.564218901072862}, {'Pikashu': 3.605356269957816}, {'Pikashu': 3.6306261788740977}, {'Pikashu': 3.637476512909947}, {'Pikashu': 3.638499417218305}, {'Pikashu': 3.6527823993100914}, {'Pikashu': 3.710023449738221}, {'Pikashu': 3.7533422243175028}, {'Pikashu': 3.7958915903422024}, {'Pikashu': 3.8779552531299815}, {'Pikashu': 3.8850327604803505}, {'Pichu': 3.921264732586414}, {'Pichu': 3.9365436620361485}, {'Pikashu': 3.9373340521618427}, {'Pikashu': 3.940277250995002}, {'Pikashu': 4.002683153175278}, {'Pikashu': 4.123400140778744}, {'Pichu': 4.136700195030928}, {'Pikashu': 4.143149899216151}, {'Pikashu': 4.151488096450845}, {'Pichu': 4.162025992565388}, {'Pikashu': 4.2028361148591715}, {'Pikashu': 4.2226255076897}, {'Pichu': 4.233686588600583}, {'Pikashu': 4.244840499882802}, {'Pichu': 4.2658384027079705}, {'Pikashu': 4.299117871608259}, {'Pichu': 4.366555374904225}, {'Pikashu': 4.4277046244228595}, {'Pichu': 4.518655670216102}, {'Pikashu': 4.5634818565112445}, {'Pichu': 4.58854357477802}, {'Pichu': 4.595958909911408}, {'Pichu': 4.60879121150983}, {'Pikashu': 4.671795022653235}, {'Pichu': 4.686072056373611}, {'Pichu': 4.714172072567614}, {'Pikashu': 4.752080478758416}, {'Pikashu': 4.798639230476866}, {'Pichu': 4.826104975673654}, {'Pichu': 4.8565059845288605}, {'Pichu': 4.865156387958634}, {'Pichu': 4.882531262929347}, {'Pichu': 4.964282456451075}, {'Pichu': 4.9867590255021295}, {'Pikashu': 4.989185538891209}, {'Pichu': 4.993560935692461}, {'Pichu': 5.015947705672343}, {'Pikashu': 5.034918277630381}, {'Pichu': 5.071247993436599}, {'Pichu': 5.094370062024012}, {'Pichu': 5.108567218536976}, {'Pikashu': 5.1161513634857485}, {'Pikashu': 5.1731794550630665}, {'Pichu': 5.247721252778881}, {'Pichu': 5.3105382062056155}, {'Pikashu': 5.370962028110472}, {'Pikashu': 5.401940384712471}, {'Pichu': 5.4144052810540435}, {'Pichu': 5.416758727816007}, {'Pichu': 5.42635882153703}, {'Pichu': 5.454138565345194}, {'Pikashu': 5.479663935838978}, {'Pichu': 5.495953297029337}, {'Pichu': 5.567821812542812}, {'Pikashu': 5.568770787369253}, {'Pichu': 5.5872714480411}, {'Pikashu': 5.603413173924324}, {'Pichu': 5.625114236539731}, {'Pichu': 5.673083371066072}, {'Pichu': 5.684902165452815}, {'Pichu': 5.704966703971587}, {'Pichu': 5.78496484113067}, {'Pichu': 5.793866365621854}, {'Pichu': 5.819027290950527}, {'Pikashu': 5.8636138074868}, {'Pikashu': 5.868288693195262}, {'Pikashu': 5.875485819203661}, {'Pichu': 5.878045241193087}, {'Pichu': 5.898200680170333}, {'Pichu': 5.941049878001488}, {'Pichu': 6.021486941395395}, {'Pichu': 6.02182051503479}, {'Pichu': 6.039061589767436}, {'Pichu': 6.109408845524667}, {'Pichu': 6.214763141648545}, {'Pikashu': 6.222007092703426}, {'Pikashu': 6.339721723349097}, {'Pichu': 6.42589151240829}, {'Pichu': 6.4305117713172235}, {'Pichu': 6.452730547409747}, {'Pichu': 6.578620283943528}, {'Pichu': 6.664828892024575}, {'Pichu': 6.685810462664509}, {'Pichu': 6.693208616772818}, {'Pichu': 6.867269665311389}, {'Pichu': 6.87518302317118}, {'Pichu': 7.047382618425012}, {'Pichu': 7.1423070986768105}, {'Pichu': 7.307302403132844}, {'Pichu': 7.357918366756199}, {'Pichu': 7.747316085065725}, {'Pikashu': 8.245712337334218}, {'Pichu': 8.674796482099524}]\n",
      "[{'Pikashu': 0.12078857390630211}, {'Pichu': 1.0582437258984485}, {'Pichu': 1.1038572544225178}, {'Pichu': 1.1440716426799353}, {'Pichu': 1.1622608231748421}, {'Pichu': 1.1764205836884245}, {'Pikashu': 1.3494302017035518}, {'Pikashu': 1.540570186049894}, {'Pikashu': 1.6769219846042456}, {'Pikashu': 1.7926052526260061}, {'Pikashu': 2.013950196588773}, {'Pichu': 2.1192184242011822}, {'Pikashu': 2.1543698620911247}, {'Pichu': 2.2557001491052464}, {'Pichu': 2.2629121130302403}, {'Pikashu': 2.3275356665040023}, {'Pikashu': 2.434329615279367}, {'Pikashu': 2.5396615326825405}, {'Pichu': 2.553650051714465}, {'Pikashu': 2.5759722434270564}, {'Pichu': 2.6658693522137704}, {'Pikashu': 2.71405695369736}, {'Pikashu': 2.727063209996072}, {'Pichu': 2.747106482813683}, {'Pikashu': 2.8433545155422912}, {'Pichu': 2.893632647193814}, {'Pikashu': 2.901998557989246}, {'Pikashu': 2.964989440060515}, {'Pikashu': 3.050905933231468}, {'Pikashu': 3.0540122819084328}, {'Pikashu': 3.0804549082722037}, {'Pikashu': 3.081856445972628}, {'Pikashu': 3.0826513745096094}, {'Pichu': 3.1658270133785145}, {'Pichu': 3.212017949792982}, {'Pikashu': 3.2122023480949005}, {'Pikashu': 3.235029255526091}, {'Pikashu': 3.450868862046961}, {'Pichu': 3.5039157513317574}, {'Pichu': 3.5467377518448497}, {'Pikashu': 3.570253024416765}, {'Pichu': 3.5726447283675626}, {'Pikashu': 3.6306313580166933}, {'Pikashu': 3.650333833995459}, {'Pichu': 3.6587049602886585}, {'Pichu': 3.6870401318935104}, {'Pichu': 3.693553514652896}, {'Pikashu': 3.718866444638356}, {'Pikashu': 3.7376528966137013}, {'Pichu': 3.756284438114169}, {'Pikashu': 3.7876852967442622}, {'Pikashu': 3.807875248434635}, {'Pikashu': 3.8315620436743862}, {'Pichu': 3.853046702438224}, {'Pichu': 3.8646393562266543}, {'Pikashu': 3.8702711671538257}, {'Pikashu': 3.8942636653621205}, {'Pikashu': 3.9517863011766865}, {'Pichu': 3.952796627346967}, {'Pichu': 3.9575562274117435}, {'Pikashu': 3.9636124314034547}, {'Pikashu': 4.009015128135599}, {'Pichu': 4.045493146890496}, {'Pikashu': 4.080041917558165}, {'Pichu': 4.100020646697308}, {'Pikashu': 4.100926411473111}, {'Pichu': 4.109634231612954}, {'Pikashu': 4.123459935674309}, {'Pikashu': 4.132148832021597}, {'Pichu': 4.153316440386073}, {'Pichu': 4.165691237268443}, {'Pikashu': 4.16798138509737}, {'Pikashu': 4.174398678535782}, {'Pichu': 4.241771110489734}, {'Pichu': 4.243549843326297}, {'Pichu': 4.266038230819813}, {'Pikashu': 4.333100535219056}, {'Pikashu': 4.352660910288609}, {'Pichu': 4.364648765908399}, {'Pikashu': 4.369845531409012}, {'Pikashu': 4.38509687325458}, {'Pikashu': 4.386359146164021}, {'Pichu': 4.390390228450257}, {'Pikashu': 4.420823279295339}, {'Pikashu': 4.5215716035347695}, {'Pichu': 4.530641669318392}, {'Pikashu': 4.5625778600159395}, {'Pichu': 4.5685381804857625}, {'Pichu': 4.571342911388546}, {'Pichu': 4.585033844925612}, {'Pikashu': 4.61803186911516}, {'Pikashu': 4.622955607281442}, {'Pichu': 4.646470503909989}, {'Pikashu': 4.6548971011889}, {'Pikashu': 4.665922567935458}, {'Pichu': 4.695700403755523}, {'Pikashu': 4.697870961005528}, {'Pichu': 4.714734183323097}, {'Pichu': 4.7168243941979755}, {'Pichu': 4.74304947159542}, {'Pichu': 4.779333619320275}, {'Pikashu': 4.789737872206024}, {'Pichu': 4.865557160219275}, {'Pichu': 4.925367705290264}, {'Pichu': 4.929038873412081}, {'Pichu': 4.955425929391221}, {'Pichu': 4.9907211264915}, {'Pichu': 4.991407358088606}, {'Pikashu': 5.000134973720603}, {'Pichu': 5.004402347095072}, {'Pichu': 5.0731351741131245}, {'Pikashu': 5.077306073188801}, {'Pichu': 5.142065577760276}, {'Pikashu': 5.157932885353089}, {'Pikashu': 5.243652701472216}, {'Pichu': 5.244379194295331}, {'Pichu': 5.284447872615416}, {'Pikashu': 5.332140123856518}, {'Pichu': 5.367714999626179}, {'Pichu': 5.492742220139161}, {'Pikashu': 5.516263926902485}, {'Pikashu': 5.553877118995497}, {'Pichu': 5.579613696870172}, {'Pikashu': 5.5846793804914725}, {'Pichu': 5.589632043877193}, {'Pichu': 5.619463373614143}, {'Pikashu': 5.629872093397717}, {'Pichu': 5.710378286106572}, {'Pikashu': 5.718862797667169}, {'Pichu': 5.751732787769724}, {'Pichu': 5.7833164431348445}, {'Pichu': 5.8000225288990945}, {'Pikashu': 5.822172015745565}, {'Pikashu': 5.828887039409312}, {'Pikashu': 5.838609903121851}, {'Pichu': 5.859632749240489}, {'Pikashu': 5.8946036050306905}, {'Pichu': 5.933246905659891}, {'Pikashu': 5.992031257259302}, {'Pichu': 6.095501461759736}, {'Pichu': 6.236878567986388}, {'Pichu': 6.307970098634282}, {'Pichu': 6.419948787624172}, {'Pichu': 6.486205561934189}, {'Pikashu': 6.6162845679926585}, {'Pichu': 6.631594311527737}, {'Pikashu': 6.715611371710977}, {'Pichu': 6.8152216876346685}, {'Pichu': 7.753231124157447}, {'Pikashu': 8.659987055106283}]\n",
      "[{'Pikashu': 0.3542396645807627}, {'Pichu': 0.6519647482541766}, {'Pikashu': 0.7008741349478479}, {'Pikashu': 0.816734341258668}, {'Pikashu': 0.8579157852141035}, {'Pikashu': 0.8973115610243981}, {'Pichu': 0.9710060151668015}, {'Pikashu': 1.1075386177382338}, {'Pichu': 1.3031224890836763}, {'Pikashu': 1.3461990822323129}, {'Pikashu': 1.4875815207342666}, {'Pichu': 1.6202971378762345}, {'Pikashu': 1.6439371858073848}, {'Pikashu': 1.6444013489262639}, {'Pichu': 1.6737120185115284}, {'Pikashu': 1.7077480915796448}, {'Pikashu': 1.7155324212589445}, {'Pichu': 1.7299180039581528}, {'Pikashu': 1.7439646335628667}, {'Pichu': 1.7535804077615467}, {'Pikashu': 1.76390552481855}, {'Pikashu': 1.8771209895239604}, {'Pikashu': 1.89358514230719}, {'Pichu': 1.9001464747169599}, {'Pichu': 1.9294103718804911}, {'Pichu': 1.9563094573960946}, {'Pichu': 1.9763638260851724}, {'Pichu': 2.0090671876663815}, {'Pichu': 2.101346173476415}, {'Pikashu': 2.1068158682061107}, {'Pichu': 2.1174489746952774}, {'Pichu': 2.1370294497376925}, {'Pichu': 2.1685940158292953}, {'Pichu': 2.1747371345713127}, {'Pichu': 2.2466371092852984}, {'Pikashu': 2.2572694126733985}, {'Pichu': 2.353007539337426}, {'Pikashu': 2.3646775644763354}, {'Pichu': 2.3907944829947794}, {'Pichu': 2.402237693284112}, {'Pichu': 2.4264257134238285}, {'Pikashu': 2.4930540041642852}, {'Pichu': 2.4984501500752905}, {'Pichu': 2.511069498428839}, {'Pichu': 2.52247090162043}, {'Pikashu': 2.5252106726360255}, {'Pikashu': 2.576216708298593}, {'Pichu': 2.593588273149158}, {'Pikashu': 2.6188914686504963}, {'Pikashu': 2.624562330413968}, {'Pichu': 2.6277827270254503}, {'Pichu': 2.6632442338398308}, {'Pikashu': 2.71210861218339}, {'Pichu': 2.7149502862963106}, {'Pichu': 2.715999165948967}, {'Pichu': 2.760731766719033}, {'Pikashu': 2.7827281984730075}, {'Pikashu': 2.808303219174342}, {'Pichu': 2.8260458964665824}, {'Pikashu': 2.8275265483536036}, {'Pikashu': 2.8279656556915502}, {'Pikashu': 2.828534236231383}, {'Pikashu': 2.831851418128588}, {'Pikashu': 2.8395559329032127}, {'Pikashu': 2.8703113459026537}, {'Pikashu': 2.9599583474026283}, {'Pikashu': 2.961132728873718}, {'Pikashu': 2.96237862718073}, {'Pikashu': 2.993119603648083}, {'Pichu': 2.99496766493296}, {'Pikashu': 3.0146369955189263}, {'Pikashu': 3.0368071962874588}, {'Pikashu': 3.0438216113424925}, {'Pikashu': 3.0493068137639905}, {'Pichu': 3.053062131944169}, {'Pichu': 3.0953521283331136}, {'Pikashu': 3.0984414109548264}, {'Pichu': 3.1011453496079766}, {'Pikashu': 3.135544329782416}, {'Pichu': 3.142372644578664}, {'Pikashu': 3.1490313246687394}, {'Pikashu': 3.1525408493615013}, {'Pichu': 3.159279217353264}, {'Pikashu': 3.180795087194005}, {'Pichu': 3.1852700257460884}, {'Pichu': 3.1884610224139243}, {'Pikashu': 3.2010520881366085}, {'Pikashu': 3.2204190493511833}, {'Pichu': 3.251590038638726}, {'Pikashu': 3.271036874926728}, {'Pikashu': 3.313317960374455}, {'Pichu': 3.3264644059977115}, {'Pikashu': 3.334956025795599}, {'Pichu': 3.3426668451424026}, {'Pikashu': 3.352220119250369}, {'Pichu': 3.389405674848602}, {'Pikashu': 3.3967685685045343}, {'Pichu': 3.41388488060498}, {'Pikashu': 3.4667344426113016}, {'Pichu': 3.4742172867104877}, {'Pichu': 3.504370844107113}, {'Pikashu': 3.508464990401311}, {'Pichu': 3.511772670858716}, {'Pichu': 3.5277520132198252}, {'Pikashu': 3.5806606097821314}, {'Pikashu': 3.5875232597490463}, {'Pichu': 3.604357258503348}, {'Pikashu': 3.64411622300917}, {'Pichu': 3.6748195648747957}, {'Pikashu': 3.7419474305683624}, {'Pichu': 3.7995654654534383}, {'Pichu': 3.7998871510277605}, {'Pikashu': 3.8155571893782123}, {'Pichu': 3.837439722177999}, {'Pikashu': 3.9199655698464673}, {'Pikashu': 3.937743792071673}, {'Pichu': 4.0106200587983425}, {'Pichu': 4.097525339166175}, {'Pikashu': 4.100767582173447}, {'Pikashu': 4.102186639935328}, {'Pikashu': 4.108443622399278}, {'Pikashu': 4.120688900349362}, {'Pichu': 4.170991631647757}, {'Pichu': 4.198484100914219}, {'Pikashu': 4.287156634797212}, {'Pichu': 4.306379734690595}, {'Pichu': 4.317304087859387}, {'Pichu': 4.344052451472348}, {'Pichu': 4.362097302029076}, {'Pichu': 4.379937664239531}, {'Pichu': 4.3953729927041705}, {'Pichu': 4.4058552240021625}, {'Pichu': 4.431638551272536}, {'Pikashu': 4.478159541857968}, {'Pichu': 4.488921516719566}, {'Pikashu': 4.501891588999062}, {'Pichu': 4.526180692407121}, {'Pikashu': 4.571278434262896}, {'Pikashu': 4.67002683511745}, {'Pikashu': 4.678153032837124}, {'Pikashu': 4.686775068189645}, {'Pichu': 4.768963181147457}, {'Pichu': 4.798602435120132}, {'Pichu': 4.991411750402146}, {'Pichu': 5.098335680332091}, {'Pichu': 5.589324474471035}, {'Pikashu': 5.667734302097119}, {'Pikashu': 6.3857040639241465}, {'Pichu': 6.54974386013312}, {'Pichu': 7.177033095511829}]\n",
      "[{'Pichu': 0.2707605811313157}, {'Pikashu': 0.28744341743036106}, {'Pikashu': 0.6493009828376893}, {'Pichu': 0.8407637696691934}, {'Pichu': 0.851831021898391}, {'Pichu': 1.0151129754784294}, {'Pichu': 1.0274319382465231}, {'Pichu': 1.1133281192301259}, {'Pichu': 1.124575148410337}, {'Pichu': 1.202331622739514}, {'Pichu': 1.2383861848494575}, {'Pichu': 1.4104415650150028}, {'Pichu': 1.444878347721123}, {'Pichu': 1.4480192388791888}, {'Pikashu': 1.5025498131266093}, {'Pikashu': 1.531452768921502}, {'Pichu': 1.535574593175068}, {'Pichu': 1.5600206852540037}, {'Pichu': 1.5640567739825006}, {'Pichu': 1.574438926437964}, {'Pichu': 1.7067995982298647}, {'Pichu': 1.713390784506707}, {'Pichu': 1.738255491707451}, {'Pikashu': 1.7619878067907175}, {'Pichu': 1.8431716894671715}, {'Pichu': 1.8695108150249657}, {'Pichu': 1.8884984356948464}, {'Pichu': 1.9112809460273177}, {'Pichu': 1.9153029485760777}, {'Pichu': 1.955650358582758}, {'Pichu': 1.9583386884336649}, {'Pichu': 2.05329766841169}, {'Pichu': 2.0734262480472276}, {'Pikashu': 2.0815681782469024}, {'Pichu': 2.100952341857356}, {'Pichu': 2.1015232135019137}, {'Pichu': 2.1430307889856643}, {'Pichu': 2.2032789055790927}, {'Pichu': 2.2083206061216387}, {'Pichu': 2.221898070059663}, {'Pichu': 2.2623008187478555}, {'Pikashu': 2.333086706515624}, {'Pichu': 2.355758549827558}, {'Pikashu': 2.3764530125987187}, {'Pichu': 2.3854874423691874}, {'Pichu': 2.528514082090588}, {'Pikashu': 2.6159017744477597}, {'Pichu': 2.6231580670549377}, {'Pikashu': 2.6905101225183685}, {'Pikashu': 2.714978720498617}, {'Pichu': 2.716068186727245}, {'Pikashu': 2.7661453516728254}, {'Pikashu': 2.7985683819269487}, {'Pichu': 2.809658220446095}, {'Pikashu': 2.8098787164291394}, {'Pichu': 2.8232473359350836}, {'Pichu': 2.8361705833041593}, {'Pichu': 2.8842478405221668}, {'Pikashu': 2.894372567220588}, {'Pichu': 2.9500324421949697}, {'Pichu': 3.024993402488167}, {'Pikashu': 3.0297503596938}, {'Pichu': 3.0304924806554383}, {'Pikashu': 3.048242702040877}, {'Pikashu': 3.0777886257073117}, {'Pichu': 3.106822397079694}, {'Pichu': 3.1224659141859332}, {'Pichu': 3.1232901973285374}, {'Pichu': 3.145729970845275}, {'Pikashu': 3.17617187834649}, {'Pichu': 3.2140539205319114}, {'Pichu': 3.2299080735828443}, {'Pichu': 3.2642091711658043}, {'Pichu': 3.2971718419237437}, {'Pichu': 3.379958014554466}, {'Pichu': 3.381331684027194}, {'Pichu': 3.402763421234703}, {'Pikashu': 3.4250211335375393}, {'Pichu': 3.443453063617748}, {'Pikashu': 3.473486552441141}, {'Pichu': 3.5196049530451994}, {'Pichu': 3.5248842375886658}, {'Pikashu': 3.5415541195544655}, {'Pichu': 3.577109537846466}, {'Pikashu': 3.649300801812203}, {'Pikashu': 3.6669091875005773}, {'Pichu': 3.7131416259101364}, {'Pichu': 3.7823749832562408}, {'Pichu': 3.782880845651459}, {'Pichu': 3.789743124759239}, {'Pichu': 3.806719583560265}, {'Pikashu': 3.8599425371126417}, {'Pikashu': 3.8671707398420008}, {'Pikashu': 3.928110108507248}, {'Pikashu': 3.9308423744176246}, {'Pikashu': 3.9532610488413633}, {'Pikashu': 3.972913790539018}, {'Pikashu': 3.990746296576089}, {'Pikashu': 4.00191296995417}, {'Pikashu': 4.024418942496187}, {'Pichu': 4.060861171095146}, {'Pikashu': 4.108710464511378}, {'Pichu': 4.130862748505259}, {'Pikashu': 4.1917122699030225}, {'Pichu': 4.220085707782305}, {'Pikashu': 4.277212951004919}, {'Pikashu': 4.281266951537369}, {'Pikashu': 4.281279269892258}, {'Pikashu': 4.318275050664232}, {'Pichu': 4.340057172978059}, {'Pikashu': 4.39428428605729}, {'Pikashu': 4.4050029088044}, {'Pikashu': 4.4390452106716705}, {'Pikashu': 4.4411958478444955}, {'Pikashu': 4.44763863435052}, {'Pikashu': 4.462040840249035}, {'Pikashu': 4.492447049009281}, {'Pikashu': 4.532446064497981}, {'Pikashu': 4.616763280714393}, {'Pikashu': 4.631296875232388}, {'Pikashu': 4.651967127304087}, {'Pikashu': 4.655755177820431}, {'Pichu': 4.688008306467822}, {'Pikashu': 4.693295051678048}, {'Pikashu': 4.812671611514255}, {'Pikashu': 4.872073761250511}, {'Pikashu': 4.891319809368384}, {'Pikashu': 4.909077075787017}, {'Pikashu': 4.925798762454573}, {'Pichu': 4.982420433294937}, {'Pikashu': 5.046818191211925}, {'Pikashu': 5.071358196043053}, {'Pikashu': 5.114512370216978}, {'Pikashu': 5.120758118245789}, {'Pikashu': 5.238230967898468}, {'Pikashu': 5.261334402974566}, {'Pikashu': 5.334719723406867}, {'Pikashu': 5.35694426092369}, {'Pikashu': 5.394833936025085}, {'Pikashu': 5.538119344066859}, {'Pikashu': 5.558526096035063}, {'Pikashu': 5.594838382217373}, {'Pichu': 5.732759492488654}, {'Pikashu': 6.057900187577562}, {'Pikashu': 6.1073906182985205}, {'Pikashu': 6.1327860278041015}, {'Pikashu': 6.147527893586072}, {'Pichu': 6.193393245773701}, {'Pikashu': 6.943650282936518}, {'Pikashu': 7.067981570293685}]\n"
     ]
    }
   ],
   "source": [
    "# Slå ihop båda dictionaries för pikashu och pichu\n",
    "combined_dictionary1 = Testpoints1_pikashu_labeled + Testpoints1_pichu_labeled\n",
    "combined_dictionary2 = Testpoints2_pikashu_labeled + Testpoints2_pichu_labeled\n",
    "combined_dictionary3 = Testpoints3_pikashu_labeled + Testpoints3_pichu_labeled\n",
    "combined_dictionary4 = Testpoints4_pikashu_labeled + Testpoints4_pichu_labeled\n",
    "\n",
    "# Sortera i stigande ordning  \n",
    "combined_dictionary1_sorted = sorted(combined_dictionary1, key=lambda x: list(x.values())[0]) # https://blogboard.io/blog/knowledge/python-sorted-lambda/\n",
    "combined_dictionary2_sorted = sorted(combined_dictionary2, key=lambda x: list(x.values())[0])\n",
    "combined_dictionary3_sorted = sorted(combined_dictionary3, key=lambda x: list(x.values())[0])\n",
    "combined_dictionary4_sorted = sorted(combined_dictionary4, key=lambda x: list(x.values())[0])\n",
    "\n",
    "print(combined_dictionary1_sorted)\n",
    "print(combined_dictionary2_sorted)\n",
    "print(combined_dictionary3_sorted)\n",
    "print(combined_dictionary4_sorted)\n",
    "\n"
   ]
  },
  {
   "cell_type": "markdown",
   "metadata": {},
   "source": [
    "### Lösning uppgift 2"
   ]
  },
  {
   "cell_type": "code",
   "execution_count": null,
   "metadata": {},
   "outputs": [
    {
     "name": "stdout",
     "output_type": "stream",
     "text": [
      "This is Pikashu! count_of_pikashu = 8 and count_of_pichu = 2\n",
      "Hmm, who is this?! count_of_pikashu = 5 and count_of_pichu = 5\n",
      "This is Pikashu! count_of_pikashu = 7 and count_of_pichu = 3\n",
      "This is Pichu! count_of_pikashu = 2 and count_of_pichu = 8\n"
     ]
    }
   ],
   "source": [
    "# Räkna antal Pikashu bland 10 lägsta avstånden på datapoints till testpoint\n",
    "#Include all lists in one list:\n",
    "all_combined_labeled = [combined_dictionary1_sorted, combined_dictionary2_sorted, combined_dictionary3_sorted, combined_dictionary4_sorted ]\n",
    "\n",
    "for list in all_combined_labeled:\n",
    "    nearest_10_points = list[:10]\n",
    "    count_of_pikashu = sum(1 for d in nearest_10_points if 'Pikashu' in d)    #OBS KÄLLA\n",
    "    count_of_pichu = sum(1 for d in nearest_10_points if 'Pichu' in d)\n",
    "    if count_of_pikashu > count_of_pichu:\n",
    "        print(f\"This is Pikashu! {count_of_pikashu = } and {count_of_pichu = }\")\n",
    "    elif count_of_pikashu == count_of_pichu:\n",
    "        print(f\"Hmm, who is this?! {count_of_pikashu = } and {count_of_pichu = }\")\n",
    "    else:\n",
    "        print(f\"This is Pichu! {count_of_pikashu = } and {count_of_pichu = }\")"
   ]
  }
 ],
 "metadata": {
  "kernelspec": {
   "display_name": "python-programming-YOUNIS-MOUSSAVI-yU_f8x7q",
   "language": "python",
   "name": "python3"
  },
  "language_info": {
   "codemirror_mode": {
    "name": "ipython",
    "version": 3
   },
   "file_extension": ".py",
   "mimetype": "text/x-python",
   "name": "python",
   "nbconvert_exporter": "python",
   "pygments_lexer": "ipython3",
   "version": "3.11.5"
  },
  "orig_nbformat": 4
 },
 "nbformat": 4,
 "nbformat_minor": 2
}
