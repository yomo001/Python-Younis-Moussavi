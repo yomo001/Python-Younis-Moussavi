{
 "cells": [
  {
   "cell_type": "code",
   "execution_count": 2,
   "metadata": {},
   "outputs": [
    {
     "data": {
      "text/plain": [
       "3333"
      ]
     },
     "execution_count": 2,
     "metadata": {},
     "output_type": "execute_result"
    }
   ],
   "source": [
    "from geometry_shapes import GeometricShapes, Circle, Rectangle, Cube, Sphere\n",
    "import math\n",
    "\n",
    "my_circle1 = Circle(x=0,y=0, radius=1)\n",
    "my_circle2 = Circle(x=1,y=1, radius=1)\n",
    "\n",
    "my_rectangle1 = Rectangle(x=0,y=0,width=1, height=1)\n",
    "my_rectangle2 = Rectangle(x=1,y=1,width=1, height=2)\n",
    "\n",
    "my_cube1 = Cube(x=0,y=0, z=0, width=1, height=1, depth=1)\n",
    "my_cube2 = Cube(x=1,y=1, z=1, width=2, height=3, depth=2)\n",
    "\n",
    "my_sphere1 = Sphere(x=0,y=0, z=0, radius=1)\n",
    "my_sphere2 = Sphere(x=1,y=1, z=1, radius=1)\n",
    "\n"
   ]
  }
 ],
 "metadata": {
  "kernelspec": {
   "display_name": "python-programming-YOUNIS-MOUSSAVI-yU_f8x7q",
   "language": "python",
   "name": "python3"
  },
  "language_info": {
   "codemirror_mode": {
    "name": "ipython",
    "version": 3
   },
   "file_extension": ".py",
   "mimetype": "text/x-python",
   "name": "python",
   "nbconvert_exporter": "python",
   "pygments_lexer": "ipython3",
   "version": "3.11.5"
  }
 },
 "nbformat": 4,
 "nbformat_minor": 2
}
