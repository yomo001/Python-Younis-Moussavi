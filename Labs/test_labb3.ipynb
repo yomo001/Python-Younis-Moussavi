{
 "cells": [
  {
   "cell_type": "code",
   "execution_count": 2,
   "metadata": {},
   "outputs": [
    {
     "data": {
      "text/plain": [
       "False"
      ]
     },
     "execution_count": 2,
     "metadata": {},
     "output_type": "execute_result"
    }
   ],
   "source": [
    "from geometry_shapes import Circle, Rectangle, Cube, Sphere\n",
    "import math\n",
    "\n",
    "my_circle = Circle(0,0,1)\n",
    "my_circle2 = Circle(0,0,3)\n",
    "\n",
    "my_rectangle = Rectangle(0,0,1,1)\n",
    "\n",
    "my_cube = Cube(0,0,0,3,2,3)\n",
    "\n",
    "my_sphere = Sphere(0,0,0,1)\n",
    "\n",
    "# my_circle.plot()\n",
    "# my_circle.translate(0,3)\n",
    "# my_circle.plot()\n",
    "\n",
    "my_cube.is_cube()"
   ]
  }
 ],
 "metadata": {
  "kernelspec": {
   "display_name": "python-programming-YOUNIS-MOUSSAVI-yU_f8x7q",
   "language": "python",
   "name": "python3"
  },
  "language_info": {
   "codemirror_mode": {
    "name": "ipython",
    "version": 3
   },
   "file_extension": ".py",
   "mimetype": "text/x-python",
   "name": "python",
   "nbconvert_exporter": "python",
   "pygments_lexer": "ipython3",
   "version": "3.11.5"
  }
 },
 "nbformat": 4,
 "nbformat_minor": 2
}
