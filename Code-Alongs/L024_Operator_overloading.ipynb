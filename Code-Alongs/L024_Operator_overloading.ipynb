{
 "cells": [
  {
   "cell_type": "markdown",
   "metadata": {},
   "source": [
    "# Operator overloading"
   ]
  },
  {
   "cell_type": "code",
   "execution_count": 8,
   "metadata": {},
   "outputs": [
    {
     "data": {
      "text/plain": [
       "17"
      ]
     },
     "execution_count": 8,
     "metadata": {},
     "output_type": "execute_result"
    }
   ],
   "source": [
    "class Cat:\n",
    "    def __init__(self, name, age):\n",
    "        self.name = name\n",
    "        self.age = age\n",
    "\n",
    "    def __add__(self, other):                         #Eftersom den är en dundermethod - är det inte tänkt att anropa via cat_a.add, snarare automatiskt när vi summerar något. Den letar efter + operator och returnerar det __add__ returnerar\n",
    "        #return 5                                     # När den ser en plus operator, tar den det i return. Här en femma, bara för att visa hur den funkar.\n",
    "        return self.age + other.age                   # När den ser en plus operator, tar den det i return. Härr adderar ålder, detta är mer praktiskt hur man faktiskt använder den.\n",
    "        #return self.name                             # För att se vem den ser som \"self\"  --> \"Pelle\"\n",
    "        #return other.name                            # För att se vem den ser som \"other\" --> \"Måns\"\n",
    "cat_a = Cat(\"Pelle\", 8)\n",
    "cat_b = Cat(\"Måns\", 9)\n",
    "\n",
    "cat_a + cat_b                                         # Här kollar den först på cat_b, kollar vad det är för datatyp och om den har en __add__, sedan skickar den in den innan operatorn som \"self\", och den efter operatorn som \"other\"\n",
    "                                                      # Därför funkar t.ex. inte \"Hej\" + cat_a"
   ]
  },
  {
   "cell_type": "code",
   "execution_count": null,
   "metadata": {},
   "outputs": [],
   "source": []
  },
  {
   "cell_type": "code",
   "execution_count": 9,
   "metadata": {},
   "outputs": [
    {
     "data": {
      "text/plain": [
       "['Kiwi', 'Orange', 'Apple', 'Pear']"
      ]
     },
     "execution_count": 9,
     "metadata": {},
     "output_type": "execute_result"
    }
   ],
   "source": [
    "5 + 3 \n",
    "\"Hello\" + \"World\"\n",
    "[\"Kiwi\", \"Orange\"] + [\"Apple\", \"Pear\"]"
   ]
  },
  {
   "cell_type": "code",
   "execution_count": 11,
   "metadata": {},
   "outputs": [
    {
     "data": {
      "text/plain": [
       "5"
      ]
     },
     "execution_count": 11,
     "metadata": {},
     "output_type": "execute_result"
    }
   ],
   "source": [
    "class Temperature:\n",
    "    def __init__(self, kelvin = None, celsius = None):\n",
    "        if kelvin is not None:\n",
    "            self.kelvin = kelvin                 \n",
    "        if celsius is not None:\n",
    "            self.celsius = celsius      \n",
    "\n",
    "    @property\n",
    "    def kelvin(self):\n",
    "        return self._kelvin                              # Detta blir getter metod. Med underscore markerar vi bara - att inte sätta den/skriva ut den o ändra ngt utanför\n",
    "                                                         # Om det bara är @property, så blir det read only, och man kan inte sätta värden. Då behövs setter metod.   \n",
    "        \n",
    "    @kelvin.setter\n",
    "    def kelvin(self, kelvin):\n",
    "        self._kelvin = kelvin\n",
    "\n",
    "t1 = Temperature(kelvin = 5)                             \n",
    "\n",
    "# Vad händer i bakgrunden när denna klass instanseras till objektet t1?\n",
    "# Först börjar den vid def __init__, och när den kommer till del med att sätta self.kelvin = kelvin, ser den att \n",
    "# det är ett property. Då går den ner till dess property, och ser att den har en setter,\n",
    "# Går ner till setter, tar referens (self) till objektet som propetyn tillhör, tar in ett värde här som vi satt,\n",
    "# Sedan sätter self._kelvin = 5 (och gör det som ska returneras.)\n",
    "\n",
    "t1.kelvin   # output --> 5\n"
   ]
  },
  {
   "cell_type": "code",
   "execution_count": 20,
   "metadata": {},
   "outputs": [
    {
     "data": {
      "text/plain": [
       "5.0"
      ]
     },
     "execution_count": 20,
     "metadata": {},
     "output_type": "execute_result"
    }
   ],
   "source": [
    "# Fortsättning men vill ha property för celcius också, och att den returnerar celsius till kelvin.\n",
    "\n",
    "class Temperature:\n",
    "    def __init__(self, kelvin = None, celsius = None):\n",
    "        if kelvin is not None:\n",
    "            self.kelvin = kelvin                 \n",
    "        if celsius is not None:\n",
    "            self.celsius = celsius      \n",
    "\n",
    "    @property\n",
    "    def kelvin(self):\n",
    "        return self._kelvin                              # Detta blir getter metod. Med underscore markerar vi bara - att inte sätta den/skriva ut den o ändra ngt utanför\n",
    "                                                         # Om det bara är @property, så blir det read only, och man kan inte sätta värden. Då behövs setter metod.   \n",
    "        \n",
    "    @kelvin.setter\n",
    "    def kelvin(self, kelvin):\n",
    "        self._kelvin = kelvin\n",
    "\n",
    "    @property\n",
    "    def celsius(self):\n",
    "        return self._kelvin - 273.15                     # celsius = kelvin - 273.15\n",
    "\n",
    "    @celsius.setter\n",
    "    def celsius(self, celsius):\n",
    "        #self._celsius = celsius                        # Med detta så hade den försökt läsa av self._kelvin - 273.15 i dess property och sett att ._kelvin attributet inte finns. Funkar ej därför.\n",
    "        self._kelvin = celsius + 273.15                 # Nu blir det korrekt, när man ange t1.kelvin får man ut kelvin, och t1.celsius får man ut celsius.\n",
    "\n",
    "\n",
    "t1 = Temperature(celsius = 5)                             \n",
    "\n",
    "t1.celsius\n",
    "\n",
    "# Data lagras enbart som kelvin här, oavsett vilken property vi väljer (celsius eller kelvin), sätter vi self._kelvin, \n",
    "# Vad händer i bakgrunden när denna klass instanseras till objektet t1?\n",
    "# Först börjar den vid def __init__, och när den kommer till del med att sätta self.celsius = celsius, ser den att \n",
    "# det är ett property. Då går den ner till dess property, och ser att den har en setter,\n",
    "# Går ner till setter, tar referens (self) till objektet som propetyn tillhör, tar in ett värde här som vi satt, och bestämmer self._kelvin\n",
    "# Sedan till property och där returneras celsius värdet genom att subtrahera kelvin mot varandra.\n",
    "\n"
   ]
  },
  {
   "cell_type": "code",
   "execution_count": 42,
   "metadata": {},
   "outputs": [
    {
     "name": "stdout",
     "output_type": "stream",
     "text": [
      "Kelvin = 278.15, Celsius = 5.0\n",
      "Kelvin = 5, Celsius = -268.15\n",
      "Kelvin = 2, Celsius = -271.15\n"
     ]
    },
    {
     "ename": "TypeError",
     "evalue": "unsupported operand type(s) for +: 'float' and 'Temperature'",
     "output_type": "error",
     "traceback": [
      "\u001b[1;31m---------------------------------------------------------------------------\u001b[0m",
      "\u001b[1;31mTypeError\u001b[0m                                 Traceback (most recent call last)",
      "\u001b[1;32mc:\\Users\\yonis\\Documents\\GitHub\\python-programming-YOUNIS-MOUSSAVI\\Code-Alongs\\L024_Operator_overloading.ipynb Cell 7\u001b[0m line \u001b[0;36m6\n\u001b[0;32m     <a href='vscode-notebook-cell:/c%3A/Users/yonis/Documents/GitHub/python-programming-YOUNIS-MOUSSAVI/Code-Alongs/L024_Operator_overloading.ipynb#X13sZmlsZQ%3D%3D?line=61'>62</a>\u001b[0m \u001b[39m5.0\u001b[39m \u001b[39m+\u001b[39m \u001b[39m3.0\u001b[39m \u001b[39m+\u001b[39m \u001b[39m2.0\u001b[39m \n\u001b[0;32m     <a href='vscode-notebook-cell:/c%3A/Users/yonis/Documents/GitHub/python-programming-YOUNIS-MOUSSAVI/Code-Alongs/L024_Operator_overloading.ipynb#X13sZmlsZQ%3D%3D?line=63'>64</a>\u001b[0m \u001b[39m#Anropar add metod för 5.0 floaten, skickar in 5.0 som self och 3.0 som other, returnerar 8.0\u001b[39;00m\n\u001b[0;32m     <a href='vscode-notebook-cell:/c%3A/Users/yonis/Documents/GitHub/python-programming-YOUNIS-MOUSSAVI/Code-Alongs/L024_Operator_overloading.ipynb#X13sZmlsZQ%3D%3D?line=64'>65</a>\u001b[0m \u001b[39m#Sedan har vi 8.0 + 2.0, där self är 8.0 och other är 2.0. Då båda är float funkar det fortfarande\u001b[39;00m\n\u001b[1;32m---> <a href='vscode-notebook-cell:/c%3A/Users/yonis/Documents/GitHub/python-programming-YOUNIS-MOUSSAVI/Code-Alongs/L024_Operator_overloading.ipynb#X13sZmlsZQ%3D%3D?line=66'>67</a>\u001b[0m t1 \u001b[39m+\u001b[39;49m t2 \u001b[39m+\u001b[39;49m t3 \n",
      "\u001b[1;31mTypeError\u001b[0m: unsupported operand type(s) for +: 'float' and 'Temperature'"
     ]
    }
   ],
   "source": [
    "# Fortsättning vill ha finare utskrift av både celsius och kelvin\n",
    "\n",
    "class Temperature:\n",
    "    def __init__(self, kelvin = None, celsius = None):\n",
    "        if kelvin is not None:\n",
    "            self.kelvin = kelvin                 \n",
    "        if celsius is not None:\n",
    "            self.celsius = celsius      \n",
    "\n",
    "    @property\n",
    "    def kelvin(self):\n",
    "        return self._kelvin                              # Detta blir getter metod. Med underscore markerar vi bara - att inte sätta den/skriva ut den o ändra ngt utanför\n",
    "                                                         # Om det bara är @property, så blir det read only, och man kan inte sätta värden. Då behövs setter metod.   \n",
    "        \n",
    "    @kelvin.setter\n",
    "    def kelvin(self, kelvin):\n",
    "        self._kelvin = kelvin\n",
    "\n",
    "    @property\n",
    "    def celsius(self):\n",
    "        return self._kelvin - 273.15                     # celsius = kelvin - 273.15\n",
    "\n",
    "    @celsius.setter\n",
    "    def celsius(self, celsius):\n",
    "        #self._celsius = celsius                        # Med detta så hade den försökt läsa av self._kelvin - 273.15 i dess property och sett att ._kelvin attributet inte finns. Funkar ej därför.\n",
    "        self._kelvin = celsius + 273.15                 # Nu blir det korrekt, när man ange t1.kelvin får man ut kelvin, och t1.celsius får man ut celsius.\n",
    "\n",
    "    def __repr__(self):\n",
    "        return f\"Kelvin = {self.kelvin}, Celsius = {self.celsius}\"\n",
    "    \n",
    "    def __add__(self, other):\n",
    "        return self.kelvin + other.kelvin             # OBS VIKTIGT: här hade också funkat med self._kelvin + other.kelvin, men han tycker att det ska undvikas då vi redan har en property kelvin som ger sammma värde. Använd property då det går och enbart _kelvin i getter o setter metoderna. Men sedan håller oss till att använda properties då vi definierat de en gång.\n",
    "     \n",
    "\n",
    "# instanse av temperaturerna, internt lagras som kelvin oavsett\n",
    "t1 = Temperature(celsius = 5)                             \n",
    "t2 = Temperature(kelvin = 5) \n",
    "t3 = Temperature(kelvin=2)\n",
    "\n",
    "# implementerat __repr__ metod så både kelvin och celsius står med när vi skriver ut\n",
    "print(t1)\n",
    "print(t2)\n",
    "print(t3)\n",
    "# t1.kelvin\n",
    "# str(t1)                                             # Har man inte implementerat str kan mn väl\n",
    "\n",
    "\n",
    "# Nu vill jag kunna sätta \n",
    "# t1 + t2 och få ut en float med kelvin värden summerade\n",
    "\n",
    "t1 + t2         \n",
    "\n",
    "# OBS han kanske förklarade fel ordning förut, nedan är rätt:\n",
    "# Python kollar om det finns ett plustecken efter första objektet (t1), då anropar den det objektet\n",
    "# och anropar dess add den finns definierad. Finns det inte så blir det ett fel\n",
    "# self blir t1 , i add, och other blir t2. \n",
    "\n",
    "# Z. t1 + 5.0 \n",
    "# Varför går inte ovan, trots att 5.0 också är float?\n",
    "# Den beter sig som beskrivet ovan, MEN när den kommer till 5.0, ser den att 5.0 inte har kelvin property, blir fel. \n",
    "\n",
    "5.0 + 3.0 + 2.0 \n",
    "\n",
    "#Anropar add metod för 5.0 floaten, skickar in 5.0 som self och 3.0 som other, returnerar 8.0\n",
    "#Sedan har vi 8.0 + 2.0, där self är 8.0 och other är 2.0. Då båda är float funkar det fortfarande\n",
    "\n",
    "t1 + t2 + t3 \n",
    "\n",
    "# Varför funkar då inte ovan? \n",
    "# För att resultatet av t1 + t2 blir en float, och den vill addera denna float med t3. \n",
    "# Blir samma som Z ovan. \n",
    "# För att funka måste add metod göras om. \n",
    "\n",
    "#Lämnade vid 11 min."
   ]
  }
 ],
 "metadata": {
  "kernelspec": {
   "display_name": "python-programming-YOUNIS-MOUSSAVI-yU_f8x7q",
   "language": "python",
   "name": "python3"
  },
  "language_info": {
   "codemirror_mode": {
    "name": "ipython",
    "version": 3
   },
   "file_extension": ".py",
   "mimetype": "text/x-python",
   "name": "python",
   "nbconvert_exporter": "python",
   "pygments_lexer": "ipython3",
   "version": "3.11.5"
  },
  "orig_nbformat": 4
 },
 "nbformat": 4,
 "nbformat_minor": 2
}
