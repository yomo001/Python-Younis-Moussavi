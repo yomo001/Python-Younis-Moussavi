{
 "cells": [
  {
   "cell_type": "markdown",
   "metadata": {},
   "source": [
    "# Operator overloading"
   ]
  },
  {
   "cell_type": "code",
   "execution_count": 1,
   "metadata": {},
   "outputs": [
    {
     "data": {
      "text/plain": [
       "17"
      ]
     },
     "execution_count": 1,
     "metadata": {},
     "output_type": "execute_result"
    }
   ],
   "source": [
    "class Cat:\n",
    "    def __init__(self, name, age):\n",
    "        self.name = name\n",
    "        self.age = age\n",
    "\n",
    "    def __add__(self, other):                         #Eftersom den är en dundermethod - är det inte tänkt att anropa via cat_a.add, snarare automatiskt när vi summerar något. Den letar efter + operator och returnerar det __add__ returnerar\n",
    "        #return 5                                     # När den ser en plus operator, tar den det i return. Här en femma, bara för att visa hur den funkar.\n",
    "        return self.age + other.age                   # När den ser en plus operator, tar den det i return. Härr adderar ålder, detta är mer praktiskt hur man faktiskt använder den.\n",
    "        #return self.name                             # För att se vem den ser som \"self\"  --> \"Pelle\"\n",
    "        #return other.name                            # För att se vem den ser som \"other\" --> \"Måns\"\n",
    "cat_a = Cat(\"Pelle\", 8)\n",
    "cat_b = Cat(\"Måns\", 9)\n",
    "\n",
    "cat_a + cat_b                                         # Här kollar den först på cat_b, kollar vad det är för datatyp och om den har en __add__, sedan skickar den in den innan operatorn som \"self\", och den efter operatorn som \"other\"\n",
    "                                                      # Därför funkar t.ex. inte \"Hej\" + cat_a"
   ]
  },
  {
   "cell_type": "markdown",
   "metadata": {},
   "source": [
    "#### Nedan visar han hur saker beroende på class har olika add funktionaliteter, \n",
    "- Olika __add__ varianter"
   ]
  },
  {
   "cell_type": "code",
   "execution_count": 2,
   "metadata": {},
   "outputs": [
    {
     "data": {
      "text/plain": [
       "['Kiwi', 'Orange', 'Apple', 'Pear']"
      ]
     },
     "execution_count": 2,
     "metadata": {},
     "output_type": "execute_result"
    }
   ],
   "source": [
    "5 + 3 \n",
    "\"Hello\" + \"World\"\n",
    "[\"Kiwi\", \"Orange\"] + [\"Apple\", \"Pear\"]"
   ]
  },
  {
   "cell_type": "code",
   "execution_count": 3,
   "metadata": {},
   "outputs": [
    {
     "data": {
      "text/plain": [
       "5"
      ]
     },
     "execution_count": 3,
     "metadata": {},
     "output_type": "execute_result"
    }
   ],
   "source": [
    "class Temperature:\n",
    "    def __init__(self, kelvin = None, celsius = None):\n",
    "        if kelvin is not None:\n",
    "            self.kelvin = kelvin                 \n",
    "        if celsius is not None:\n",
    "            self.celsius = celsius      \n",
    "\n",
    "    @property\n",
    "    def kelvin(self):\n",
    "        return self._kelvin    # Detta blir getter metod. Med underscore markerar vi bara till andra - att inte bestämma/ändra den utanför\n",
    "                               # Om det bara är @property, så blir det read only, och man kan inte sätta värden. Då behövs setter metod.   \n",
    "        \n",
    "    @kelvin.setter\n",
    "    def kelvin(self, kelvin):\n",
    "        self._kelvin = kelvin\n",
    "\n",
    "t1 = Temperature(kelvin = 5)                             \n",
    "\n",
    "# Vad händer i bakgrunden när denna klass instanseras till objektet t1?\n",
    "# Först börjar den vid def __init__, och när den kommer till del med att sätta self.kelvin = kelvin, ser den att \n",
    "# det är ett property. Då går den ner till dess property, och ser att den har en setter,\n",
    "# Går ner till setter, tar referens (self) till objektet som propertyn tillhör, tar in ett värde här som vi satt,\n",
    "# Sedan sätter self._kelvin = 5 (och gör det som ska returneras.)\n",
    "\n",
    "t1.kelvin   # output --> 5\n"
   ]
  },
  {
   "cell_type": "code",
   "execution_count": 6,
   "metadata": {},
   "outputs": [
    {
     "ename": "NameError",
     "evalue": "name 'celsius' is not defined",
     "output_type": "error",
     "traceback": [
      "\u001b[1;31m---------------------------------------------------------------------------\u001b[0m",
      "\u001b[1;31mNameError\u001b[0m                                 Traceback (most recent call last)",
      "\u001b[1;32mc:\\Users\\yonis\\Documents\\GitHub\\python-programming-YOUNIS-MOUSSAVI\\Code-Alongs\\L024_Operator_overloading.ipynb Cell 6\u001b[0m line \u001b[0;36m2\n\u001b[0;32m     <a href='vscode-notebook-cell:/c%3A/Users/yonis/Documents/GitHub/python-programming-YOUNIS-MOUSSAVI/Code-Alongs/L024_Operator_overloading.ipynb#W5sZmlsZQ%3D%3D?line=22'>23</a>\u001b[0m     \u001b[39m@celsius\u001b[39m\u001b[39m.\u001b[39msetter\n\u001b[0;32m     <a href='vscode-notebook-cell:/c%3A/Users/yonis/Documents/GitHub/python-programming-YOUNIS-MOUSSAVI/Code-Alongs/L024_Operator_overloading.ipynb#W5sZmlsZQ%3D%3D?line=23'>24</a>\u001b[0m     \u001b[39mdef\u001b[39;00m \u001b[39mcelsius\u001b[39m(\u001b[39mself\u001b[39m, celsius):\n\u001b[0;32m     <a href='vscode-notebook-cell:/c%3A/Users/yonis/Documents/GitHub/python-programming-YOUNIS-MOUSSAVI/Code-Alongs/L024_Operator_overloading.ipynb#W5sZmlsZQ%3D%3D?line=24'>25</a>\u001b[0m         \u001b[39m#self._celsius = celsius                        # Med detta så hade den försökt läsa av self._kelvin - 273.15 i dess property och sett att ._kelvin attributet inte finns här. Funkar ej därför.\u001b[39;00m\n\u001b[0;32m     <a href='vscode-notebook-cell:/c%3A/Users/yonis/Documents/GitHub/python-programming-YOUNIS-MOUSSAVI/Code-Alongs/L024_Operator_overloading.ipynb#W5sZmlsZQ%3D%3D?line=25'>26</a>\u001b[0m         \u001b[39mself\u001b[39m\u001b[39m.\u001b[39m_kelvin \u001b[39m=\u001b[39m celsius \u001b[39m+\u001b[39m \u001b[39m273.15\u001b[39m                 \u001b[39m# Nu blir det korrekt, när man ange t1.kelvin får man ut kelvin, och t1.celsius får man ut celsius.\u001b[39;00m\n\u001b[1;32m---> <a href='vscode-notebook-cell:/c%3A/Users/yonis/Documents/GitHub/python-programming-YOUNIS-MOUSSAVI/Code-Alongs/L024_Operator_overloading.ipynb#W5sZmlsZQ%3D%3D?line=27'>28</a>\u001b[0m t1 \u001b[39m=\u001b[39m Temperature(cccc \u001b[39m=\u001b[39;49m \u001b[39m5\u001b[39;49m)                             \n\u001b[0;32m     <a href='vscode-notebook-cell:/c%3A/Users/yonis/Documents/GitHub/python-programming-YOUNIS-MOUSSAVI/Code-Alongs/L024_Operator_overloading.ipynb#W5sZmlsZQ%3D%3D?line=29'>30</a>\u001b[0m t1\u001b[39m.\u001b[39mcelsius      \u001b[39m#celsius är property namnet, så det är referens för just attributet. Sedan hur den tar fram värde för detta, definieras under propertyn. \u001b[39;00m\n\u001b[0;32m     <a href='vscode-notebook-cell:/c%3A/Users/yonis/Documents/GitHub/python-programming-YOUNIS-MOUSSAVI/Code-Alongs/L024_Operator_overloading.ipynb#W5sZmlsZQ%3D%3D?line=31'>32</a>\u001b[0m \u001b[39m# Data lagras enbart som kelvin här, oavsett vilken property vi väljer (celsius eller kelvin), sätter vi self._kelvin, viktigt att ta höjd för och förstå.\u001b[39;00m\n\u001b[0;32m     <a href='vscode-notebook-cell:/c%3A/Users/yonis/Documents/GitHub/python-programming-YOUNIS-MOUSSAVI/Code-Alongs/L024_Operator_overloading.ipynb#W5sZmlsZQ%3D%3D?line=32'>33</a>\u001b[0m \u001b[39m# Vad händer i bakgrunden när denna klass instanseras till objektet t1?\u001b[39;00m\n\u001b[0;32m     <a href='vscode-notebook-cell:/c%3A/Users/yonis/Documents/GitHub/python-programming-YOUNIS-MOUSSAVI/Code-Alongs/L024_Operator_overloading.ipynb#W5sZmlsZQ%3D%3D?line=33'>34</a>\u001b[0m \u001b[39m# Först börjar den vid def __init__, och när den kommer till del med att sätta self.celsius = celsius, ser den att \u001b[39;00m\n\u001b[0;32m     <a href='vscode-notebook-cell:/c%3A/Users/yonis/Documents/GitHub/python-programming-YOUNIS-MOUSSAVI/Code-Alongs/L024_Operator_overloading.ipynb#W5sZmlsZQ%3D%3D?line=34'>35</a>\u001b[0m \u001b[39m# det är ett property. Då går den ner till dess property, och ser att den har en setter,\u001b[39;00m\n\u001b[0;32m     <a href='vscode-notebook-cell:/c%3A/Users/yonis/Documents/GitHub/python-programming-YOUNIS-MOUSSAVI/Code-Alongs/L024_Operator_overloading.ipynb#W5sZmlsZQ%3D%3D?line=35'>36</a>\u001b[0m \u001b[39m# Går ner till setter, tar referens (self) till objektet som propetyn tillhör, tar in ett värde här som vi satt, och bestämmer self._kelvin\u001b[39;00m\n\u001b[0;32m     <a href='vscode-notebook-cell:/c%3A/Users/yonis/Documents/GitHub/python-programming-YOUNIS-MOUSSAVI/Code-Alongs/L024_Operator_overloading.ipynb#W5sZmlsZQ%3D%3D?line=36'>37</a>\u001b[0m \u001b[39m# Sedan till property och där returneras celsius värdet genom att subtrahera kelvin mot varandra.\u001b[39;00m\n",
      "\u001b[1;32mc:\\Users\\yonis\\Documents\\GitHub\\python-programming-YOUNIS-MOUSSAVI\\Code-Alongs\\L024_Operator_overloading.ipynb Cell 6\u001b[0m line \u001b[0;36m7\n\u001b[0;32m      <a href='vscode-notebook-cell:/c%3A/Users/yonis/Documents/GitHub/python-programming-YOUNIS-MOUSSAVI/Code-Alongs/L024_Operator_overloading.ipynb#W5sZmlsZQ%3D%3D?line=4'>5</a>\u001b[0m \u001b[39mif\u001b[39;00m kelvin \u001b[39mis\u001b[39;00m \u001b[39mnot\u001b[39;00m \u001b[39mNone\u001b[39;00m:\n\u001b[0;32m      <a href='vscode-notebook-cell:/c%3A/Users/yonis/Documents/GitHub/python-programming-YOUNIS-MOUSSAVI/Code-Alongs/L024_Operator_overloading.ipynb#W5sZmlsZQ%3D%3D?line=5'>6</a>\u001b[0m     \u001b[39mself\u001b[39m\u001b[39m.\u001b[39mkelvin \u001b[39m=\u001b[39m kelvin                 \n\u001b[1;32m----> <a href='vscode-notebook-cell:/c%3A/Users/yonis/Documents/GitHub/python-programming-YOUNIS-MOUSSAVI/Code-Alongs/L024_Operator_overloading.ipynb#W5sZmlsZQ%3D%3D?line=6'>7</a>\u001b[0m \u001b[39mif\u001b[39;00m celsius \u001b[39mis\u001b[39;00m \u001b[39mnot\u001b[39;00m \u001b[39mNone\u001b[39;00m:\n\u001b[0;32m      <a href='vscode-notebook-cell:/c%3A/Users/yonis/Documents/GitHub/python-programming-YOUNIS-MOUSSAVI/Code-Alongs/L024_Operator_overloading.ipynb#W5sZmlsZQ%3D%3D?line=7'>8</a>\u001b[0m     \u001b[39mself\u001b[39m\u001b[39m.\u001b[39mcccc \u001b[39m=\u001b[39m celsius\n",
      "\u001b[1;31mNameError\u001b[0m: name 'celsius' is not defined"
     ]
    }
   ],
   "source": [
    "# Fortsättning men vill ha property för celcius också, och att den returnerar celsius till kelvin.\n",
    "\n",
    "class Temperature:\n",
    "    def __init__(self, kelvin = None, celsius = None):\n",
    "        if kelvin is not None:\n",
    "            self.kelvin = kelvin                 \n",
    "        if celsius is not None:\n",
    "            self.celsius = celsius      \n",
    "\n",
    "    @property\n",
    "    def kelvin(self):\n",
    "        return self._kelvin                              # Detta blir getter metod. Med underscore markerar vi bara - att inte sätta den/skriva ut den o ändra ngt utanför\n",
    "                                                         # Om det bara är @property, så blir det read only, och man kan inte sätta värden. Då behövs setter metod.   \n",
    "        \n",
    "    @kelvin.setter\n",
    "    def kelvin(self, kelvin):\n",
    "        self._kelvin = kelvin\n",
    "\n",
    "    @property\n",
    "    def celsius(self):\n",
    "        return self._kelvin - 273.15                     # celsius = kelvin - 273.15\n",
    "\n",
    "    @celsius.setter\n",
    "    def celsius(self, celsius):\n",
    "        #self._celsius = celsius                        # Med detta så hade den försökt läsa av self._kelvin - 273.15 i dess property och sett att ._kelvin attributet inte finns här. Funkar ej därför.\n",
    "        self._kelvin = celsius + 273.15                 # Nu blir det korrekt, när man ange t1.kelvin får man ut kelvin, och t1.celsius får man ut celsius.\n",
    "\n",
    "t1 = Temperature(celsius = 5)                             \n",
    "\n",
    "t1.celsius      #celsius är property namnet, så det är referens för just attributet. Sedan hur den tar fram värde för detta, definieras under propertyn. \n",
    "\n",
    "# Data lagras enbart som kelvin här, oavsett vilken property vi väljer (celsius eller kelvin), sätter vi self._kelvin, viktigt att ta höjd för och förstå.\n",
    "# Vad händer i bakgrunden när denna klass instanseras till objektet t1?\n",
    "# Först börjar den vid def __init__, och när den kommer till del med att sätta self.celsius = celsius, ser den att \n",
    "# det är ett property. Då går den ner till dess property, och ser att den har en setter,\n",
    "# Går ner till setter, tar referens (self) till objektet som propetyn tillhör, tar in ett värde här som vi satt, och bestämmer self._kelvin\n",
    "# Sedan till property och där returneras celsius värdet genom att subtrahera kelvin mot varandra.\n",
    "\n"
   ]
  },
  {
   "cell_type": "code",
   "execution_count": 2,
   "metadata": {},
   "outputs": [],
   "source": [
    "# Fortsättning vill ha finare utskrift av både celsius och kelvin\n",
    "\n",
    "class Temperature:\n",
    "    def __init__(self, kelvin = None, celsius = None):\n",
    "        if kelvin is not None:\n",
    "            self.kelvin = kelvin                 \n",
    "        if celsius is not None:\n",
    "            self.celsius = celsius      \n",
    "\n",
    "    @property\n",
    "    def kelvin(self):\n",
    "        return self._kelvin                              # Detta blir getter metod. Med underscore markerar vi bara - att inte sätta den/skriva ut den o ändra ngt utanför\n",
    "                                                         # Om det bara är @property, så blir det read only, och man kan inte sätta värden. Då behövs setter metod.   \n",
    "        \n",
    "    @kelvin.setter\n",
    "    def kelvin(self, kelvin):\n",
    "        self._kelvin = kelvin\n",
    "\n",
    "    @property\n",
    "    def celsius(self):\n",
    "        return self._kelvin - 273.15                     # celsius = kelvin - 273.15\n",
    "\n",
    "    @celsius.setter\n",
    "    def celsius(self, celsius):\n",
    "        #self._celsius = celsius                        # Med detta så hade den försökt läsa av self._kelvin - 273.15 i dess property och sett att ._kelvin attributet inte finns. Funkar ej därför.\n",
    "        self._kelvin = celsius + 273.15                 # Nu blir det korrekt, när man ange t1.kelvin får man ut kelvin, och t1.celsius får man ut celsius.\n",
    "\n",
    "    def __repr__(self):\n",
    "        return f\"Kelvin = {self.kelvin}, Celsius = {self.celsius}\"\n",
    "    \n",
    "    def __add__(self, other):\n",
    "        return self.kelvin + other.kelvin             \n",
    "    # OBS VIKTIGT: här hade också funkat med self._kelvin + other.kelvin, men han tycker att det ska undvikas \n",
    "    # då vi redan har en property kelvin som ger sammma värde. Använd property då det går och enbart _kelvin \n",
    "    # i getter o setter metoderna. Men sedan håller oss till att använda properties då vi definierat de en gång.\n",
    "     \n",
    "\n",
    "# instanse av temperaturerna, internt lagras som kelvin oavsett\n",
    "t1 = Temperature(celsius = 5)                             \n",
    "t2 = Temperature(kelvin = 5) \n",
    "t3 = Temperature(kelvin=2)"
   ]
  },
  {
   "cell_type": "code",
   "execution_count": 22,
   "metadata": {},
   "outputs": [
    {
     "name": "stdout",
     "output_type": "stream",
     "text": [
      "Kelvin = 278.15, Celsius = 5.0\n",
      "Kelvin = 5, Celsius = -268.15\n",
      "Kelvin = 2, Celsius = -271.15\n"
     ]
    },
    {
     "data": {
      "text/plain": [
       "Kelvin = 278.15, Celsius = 5.0"
      ]
     },
     "execution_count": 22,
     "metadata": {},
     "output_type": "execute_result"
    }
   ],
   "source": [
    "# Ser output nu från ovan kod.\n",
    "\n",
    "# implementerat __repr__ metod så både kelvin och celsius står med när vi skriver ut\n",
    "print(t1)\n",
    "print(t2)\n",
    "print(t3)  \n",
    "t1                        "
   ]
  },
  {
   "cell_type": "code",
   "execution_count": null,
   "metadata": {},
   "outputs": [],
   "source": [
    "# Nu vill jag kunna sätta t1 + t2 och få ut en float med kelvin värden summerade.\n",
    "# Detta löses med __add__\n",
    "\n",
    "t1 + t2         \n",
    "\n",
    "# OBS han kanske förklarade fel ordning förut, nedan är rätt:\n",
    "# Python kollar om det finns ett plustecken efter första objektet (t1), då anropar den det objektet t1\n",
    "# och anropar dess __add__ för att se om den finns definierad. Finns det inte så blir det ett fel.\n",
    "# self blir t1 , i __add__, och other blir t2. \n",
    "\n",
    "# t1 + 5.0 \n",
    "# Varför går inte ovan, trots att 5.0 också är float liksom kelvin värdet i t1 som vi vill addera det med?\n",
    "# Den beter sig som beskrivet ovan (i ordningen då den kör koden), MEN när den kommer till 5.0, ser den att 5.0 inte har kelvin property, blir fel. \n",
    "# Alltså, t1 har ett kelvin property, som kan adderas med ett annat, men 5.0 är bara en float, är inget objekt och har inget Kelvin property. \n",
    "\n",
    "# Bra practice är att jämföra med pythons egna metoder, t.ex. hur floats adderar:\n",
    "5.0 + 3.0 + 2.0 \n",
    "\n",
    "#Här anropas add metod för 5.0 floaten, skickar in 5.0 som self och 3.0 som other, returnerar 8.0\n",
    "#Sedan görs samma sak men med de två första summerade: 8.0 som tas in som self och 2.0 som other. Då båda är float funkar det fortfarande.\n",
    "\n",
    "\n",
    "t1 + t2 + t3\n",
    "\n",
    "# Varför funkar då inte ovan? Varje ens kelvin är ju en float??\n",
    "# FÖR ATT resultatet av t1 + t2 blir en float, MEN sedan tar den denna float som self, för att addera med t3 som other. Här blir felet. För i floatens\n",
    "# __add__ metod så kan den inte addera med objekt. \n",
    "# För att detta ska funka måste add metoden göras om. \n",
    "# Då behöver jag när jag skriver t1 + t2 få tillbaka en ny temperatur och inte float\n",
    "# Se nästa sida för fortsättning"
   ]
  },
  {
   "cell_type": "code",
   "execution_count": null,
   "metadata": {},
   "outputs": [],
   "source": [
    "# fortsättning tidigare block, att få till så att t1 + t2 + t3 funkar\n",
    "\n",
    "class Temperature:\n",
    "    def __init__(self, kelvin = None, celsius = None):\n",
    "        if kelvin is not None:\n",
    "            self.kelvin = kelvin                 \n",
    "        if celsius is not None:\n",
    "            self.celsius = celsius      \n",
    "\n",
    "    @property\n",
    "    def kelvin(self):\n",
    "        return self._kelvin                              # Detta blir getter metod. Med underscore markerar vi bara - att inte sätta den/skriva ut den o ändra ngt utanför\n",
    "                                                         # Om det bara är @property, så blir det read only, och man kan inte sätta värden. Då behövs setter metod.   \n",
    "        \n",
    "    @kelvin.setter\n",
    "    def kelvin(self, kelvin):\n",
    "        self._kelvin = kelvin\n",
    "\n",
    "    @property\n",
    "    def celsius(self):\n",
    "        return self._kelvin - 273.15                     # celsius = kelvin - 273.15\n",
    "\n",
    "    @celsius.setter\n",
    "    def celsius(self, celsius):\n",
    "        #self._celsius = celsius                        # Med detta så hade den försökt läsa av self._kelvin - 273.15 i dess property och sett att ._kelvin attributet inte finns. Funkar ej därför.\n",
    "        self._kelvin = celsius + 273.15                 # Nu blir det korrekt, när man ange t1.kelvin får man ut kelvin, och t1.celsius får man ut celsius.\n",
    "\n",
    "    def __repr__(self):\n",
    "        return f\"Kelvin = {self.kelvin}, Celsius = {self.celsius}\"\n",
    "    \n",
    "    def __add__(self, other):\n",
    "        if type(other) in [float, int]:                            #smidigt sätt för att inte behöva skriva type float or type int.\n",
    "            return Temperature(kelvin = self.kelvin + other) \n",
    "        else:\n",
    "            return Temperature(kelvin = self.kelvin + other.kelvin)           # Här instanseras nytt objekt när vi adderar, med Kelvin = summan av två objekts kelvin.\n",
    "     \n",
    "\n",
    "# instanse av temperaturerna, internt lagras som kelvin oavsett\n",
    "t1 = Temperature(celsius = 5)                             \n",
    "t2 = Temperature(kelvin = 5) \n",
    "t3 = Temperature(kelvin=2)\n",
    "\n"
   ]
  },
  {
   "cell_type": "code",
   "execution_count": null,
   "metadata": {},
   "outputs": [],
   "source": [
    "# Output utifrån ovan kod\n",
    "\n",
    "t1 + t2\n",
    "# Detta behöver ge en temperatur tillbaka istället för float - se på __add__\n",
    "# vid __add__ instanseras nytt objekt när vi adderar, med Kelvin = summan av två objekts kelvin.\n",
    "# Output blir samma som i __repr__ eftersom vi returnerar själva objektet.\n",
    "\n",
    "# Nu funkar även:\n",
    "t1 + t2 + t3 \n",
    "# t1 + t2 blir ett temperaturobjekt som sedan summeras med t3, enligt tidigare beskrivning.\n",
    "# Dessa referenser finns bara sålänge vi är inne i additionen(t1+t2), sparas ej.\n",
    "# Vill man spara detta mellansteg får man lagra det i egen variabel.\n",
    "\n",
    "t2 + 2.0 \n",
    "# Detta funkar inte. Kan man lösa så att även denna funkar? Ja, se if-satsen under add\n",
    "\n",
    "t2 + 2.0 + t3 \n",
    "# Funkar också nu, eftersom t2 + 2.0 tillsammans blir nytt objekt som summeras med t3 o.s.v."
   ]
  },
  {
   "cell_type": "code",
   "execution_count": null,
   "metadata": {},
   "outputs": [],
   "source": [
    "# Samma variant men effektivisera koden under add med turnory operator istället\n",
    "\n",
    "class Temperature:\n",
    "    def __init__(self, kelvin = None, celsius = None):\n",
    "        if kelvin is not None:\n",
    "            self.kelvin = kelvin                 \n",
    "        if celsius is not None:\n",
    "            self.celsius = celsius      \n",
    "\n",
    "    @property\n",
    "    def kelvin(self):\n",
    "        return self._kelvin                              # Detta blir getter metod. Med underscore markerar vi bara - att inte sätta den/skriva ut den o ändra ngt utanför\n",
    "                                                         # Om det bara är @property, så blir det read only, och man kan inte sätta värden. Då behövs setter metod.   \n",
    "        \n",
    "    @kelvin.setter\n",
    "    def kelvin(self, kelvin):\n",
    "        self._kelvin = kelvin\n",
    "\n",
    "    @property\n",
    "    def celsius(self):\n",
    "        return self._kelvin - 273.15                     # celsius = kelvin - 273.15\n",
    "\n",
    "    @celsius.setter\n",
    "    def celsius(self, celsius):\n",
    "        #self._celsius = celsius                        # Med detta så hade den försökt läsa av self._kelvin - 273.15 i dess property och sett att ._kelvin attributet inte finns. Funkar ej därför.\n",
    "        self._kelvin = celsius + 273.15                 # Nu blir det korrekt, när man ange t1.kelvin får man ut kelvin, och t1.celsius får man ut celsius.\n",
    "\n",
    "    def __repr__(self):\n",
    "        return f\"Kelvin = {self.kelvin}, Celsius = {self.celsius}\"\n",
    "    \n",
    "    def __add__(self, other):\n",
    "        kelvin = other if type(other) in [float, int] else other.kelvin    #smidigt sätt för att inte behöva skriva type float or type int.\n",
    "        return Temperature(kelvin = self.kelvin + kelvin) \n",
    "          # Med turnory operator\n",
    "     \n",
    "\n",
    "# instanse av temperaturerna, internt lagras som kelvin oavsett\n",
    "t1 = Temperature(celsius = 5)                             \n",
    "t2 = Temperature(kelvin = 5) \n",
    "t3 = Temperature(kelvin=2)\n"
   ]
  },
  {
   "cell_type": "code",
   "execution_count": null,
   "metadata": {},
   "outputs": [],
   "source": [
    "# Output utifrån ovan kod\n",
    "\n",
    "t1 + t2\n",
    "# Detta behöver ge en temperatur tillbaka istället för float - se på __add__\n",
    "# vid __add__ instanseras nytt objekt när vi adderar, med Kelvin = summan av två objekts kelvin.\n",
    "# Output blir samma som i __repr__ eftersom vi returnerar själva objektet.\n",
    "\n",
    "# Nu funkar även:\n",
    "t1 + t2 + t3 \n",
    "# t1 + t2 blir ett temperaturobjekt som sedan summeras med t3, enligt tidigare beskrivning.\n",
    "# Dessa referenser finns bara sålänge vi är inne i additionen(t1+t2), sparas ej.\n",
    "# Vill man spara detta mellansteg får man lagra det i egen variabel.\n",
    "\n",
    "t2 + 2.0 \n",
    "# Detta funkar inte. Kan man lösa så att även denna funkar? Ja, se if-satsen under add\n",
    "\n",
    "t2 + 2.0 + t3 \n",
    "# Funkar också nu, eftersom t2 + 2.0 tillsammans blir nytt objekt som summeras med t3 o.s.v.\n",
    "\n",
    "t2 + 2.0 + t3 + Cat(\"Mjau\", 3)\n",
    "# Nu funkar inte detta, med detta objekt instanserande. Hur kan detta lösas?\n",
    "# Lägger till mer under __add__, se nästa"
   ]
  },
  {
   "cell_type": "code",
   "execution_count": null,
   "metadata": {},
   "outputs": [],
   "source": [
    "# Samma variant men även kunna addera instanserande av objekt. RAISE ANVÄNDS HÄR och utvecklar även if satsen\n",
    "# Han testade sig fram på ett intressant sätt: skrev 5.0 + \"5.0\" för att se hur python löst detta, och såg felmeddelandet, och vi ska lägga till samma via raise\n",
    "# Även __radd__ gås igenom här, när man efter att tar emot operator addera, inte börjar med att kolla till vänster och den datatypens add, men till höger istället först.\n",
    "\n",
    "class Temperature:\n",
    "    def __init__(self, kelvin = None, celsius = None):\n",
    "        if kelvin is not None:\n",
    "            self.kelvin = kelvin                 \n",
    "        if celsius is not None:\n",
    "            self.celsius = celsius      \n",
    "\n",
    "    @property\n",
    "    def kelvin(self):\n",
    "        return self._kelvin                              # Detta blir getter metod. Med underscore markerar vi bara - att inte sätta den/skriva ut den o ändra ngt utanför                                                # Om det bara är @property, så blir det read only, och man kan inte sätta värden. Då behövs setter metod.   \n",
    "        \n",
    "    @kelvin.setter\n",
    "    def kelvin(self, kelvin):\n",
    "        self._kelvin = kelvin\n",
    "\n",
    "    @property\n",
    "    def celsius(self):\n",
    "        return self._kelvin - 273.15                     # celsius = kelvin - 273.15\n",
    "\n",
    "    @celsius.setter\n",
    "    def celsius(self, celsius):\n",
    "        #self._celsius = celsius                        # Med detta så hade den försökt läsa av self._kelvin - 273.15 i dess property och sett att ._kelvin attributet inte finns. Funkar ej därför.\n",
    "        self._kelvin = celsius + 273.15                 # Nu blir det korrekt, när man ange t1.kelvin får man ut kelvin, och t1.celsius får man ut celsius.\n",
    "\n",
    "    def __repr__(self):\n",
    "        return f\"Kelvin = {self.kelvin}, Celsius = {self.celsius}\"\n",
    "    \n",
    "    def __add__(self, other):\n",
    "        if type(other) not in [float, int, Temperature]:\n",
    "            raise TypeError(f\"unsupported operand type(s) for +: 'Temperature' and '{type(other)}' )\")    # Raise här för att hantera fel, när man vill addera sträng via instanserande av objektet som returnerar sträng  \n",
    "        \n",
    "        kelvin = other if type(other) in [float, int] else other.kelvin    #smidigt sätt för att inte behöva skriva type float or type int.\n",
    "        return Temperature(kelvin = self.kelvin + kelvin) \n",
    "          # Med turnory operator\n",
    "    \n",
    "    def __radd__(self, other):          # Denna är typ reverse add - så den anropas bara om den tll vänster inte stöder att man kan plussa på datatyp till höger.self blir alltså other, och other blir self.\n",
    "        return self.__add___(other)                #returnerar med exakt samma metod som add, så det blir exakt samma princip\n",
    "\n",
    "# instanse av temperaturerna, internt lagras som kelvin oavsett\n",
    "t1 = Temperature(celsius = 5)                             \n",
    "t2 = Temperature(kelvin = 5) \n",
    "t3 = Temperature(kelvin = 2)\n",
    "\n",
    "\n"
   ]
  },
  {
   "cell_type": "code",
   "execution_count": null,
   "metadata": {},
   "outputs": [],
   "source": [
    "# Output utifrån ovan kod\n",
    "\n",
    "t1 + t2\n",
    "# Detta behöver ge en temperatur tillbaka istället för float - se på __add__\n",
    "# vid __add__ instanseras nytt objekt när vi adderar, med Kelvin = summan av två objekts kelvin.\n",
    "# Output blir samma som i __repr__ eftersom vi returnerar själva objektet.\n",
    "\n",
    "# Nu funkar även:\n",
    "t1 + t2 + t3 \n",
    "# t1 + t2 blir ett temperaturobjekt som sedan summeras med t3, enligt tidigare beskrivning.\n",
    "# Dessa referenser finns bara sålänge vi är inne i additionen(t1+t2), sparas ej.\n",
    "# Vill man spara detta mellansteg får man lagra det i egen variabel.\n",
    "\n",
    "t2 + 2.0 \n",
    "# Detta funkar inte. Kan man lösa så att även denna funkar? Ja, se if-satsen under add\n",
    "\n",
    "t2 + 2.0 + t3 \n",
    "# Funkar också nu, eftersom t2 + 2.0 tillsammans blir nytt objekt som summeras med t3 o.s.v.\n",
    "\n",
    "#t2 + 2.0 + t3 + Cat(\"Mjau\", 3)\n",
    "# Nu funkar inte detta, med detta objekt instanserande. Hur kan detta lösas?\n",
    "# Lägger till raise\n",
    "\n",
    "#2 + t2\n",
    "# VARFÖR , ger detta felmeddelande?\n",
    "# Här kommer den vilka se att vi vill addera ngt till en integet, den går in i integersklassens add metod (som inte är denna för klassen med self).\n",
    "# Där ser den att t2 är objekt när den skickas in som other, och kan inte addera, därför fås felmeddelandet.\n",
    "# MEN med __radd__ kan detta hanteras\n",
    "\n",
    "# sum([25, 55, 55])\n",
    "\n",
    "# sum([t2, t1, t3])\n",
    "\n",
    "2 + t1"
   ]
  }
 ],
 "metadata": {
  "kernelspec": {
   "display_name": "python-programming-YOUNIS-MOUSSAVI-yU_f8x7q",
   "language": "python",
   "name": "python3"
  },
  "language_info": {
   "codemirror_mode": {
    "name": "ipython",
    "version": 3
   },
   "file_extension": ".py",
   "mimetype": "text/x-python",
   "name": "python",
   "nbconvert_exporter": "python",
   "pygments_lexer": "ipython3",
   "version": "3.11.5"
  },
  "orig_nbformat": 4
 },
 "nbformat": 4,
 "nbformat_minor": 2
}
