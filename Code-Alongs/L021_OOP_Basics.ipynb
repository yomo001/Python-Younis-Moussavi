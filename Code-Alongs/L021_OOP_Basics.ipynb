{
 "cells": [
  {
   "cell_type": "markdown",
   "metadata": {},
   "source": [
    "# Object oriented programming (OOP)\n",
    "- A \"class\" is a blue print that can be used to create objects. Annat exempel är \"Cookie-cutter\"; kan skära ut en form, och sedan kan man göra massa instanser av dessa.\n",
    "- An \"instance\" is the actually object containing data and methods. I princip samma sak som objekt. Om en klass är en student som ska ha namn och betyg, är instansen studenterna som har olika namn och betyg. Eller om en klass tar fram med en pepparkaksform, så är instanserna de pepparkakstjärnor man gjort med olika egenskaper (genom olika metoder - ögon, mun, mönster=, som finns i en skål för just den formen).\n",
    "- Allt i python är objekt och funkar på samma sätt\n",
    "- Används när man vill representera entiter, objekt. T.ex. button, osv. Tänk entitet som ska förekomma flera gånger men se olika ut, ha olika egenskaper."
   ]
  },
  {
   "cell_type": "markdown",
   "metadata": {},
   "source": [
    "#### Lite bakgrund om hur man alternativt skapar variabler som ska representera en entitet, för att komma in på varför klasser är smidiga att använda i dessa fall"
   ]
  },
  {
   "cell_type": "code",
   "execution_count": 48,
   "metadata": {},
   "outputs": [
    {
     "data": {
      "text/plain": [
       "str"
      ]
     },
     "execution_count": 48,
     "metadata": {},
     "output_type": "execute_result"
    }
   ],
   "source": [
    "name = \"Fredrik\"\n",
    "type(name)     # name variabeln är nu en str, som också är ett objekt med massa metoder\n",
    "name.upper()   # Metod som hör till str objektet\n",
    "# Men str tillhör en klass, t.ex.\n",
    "\n",
    "# class str:\n",
    "#     def upper(self):\n",
    "#         ...\n",
    "\n"
   ]
  },
  {
   "cell_type": "code",
   "execution_count": 4,
   "metadata": {},
   "outputs": [
    {
     "name": "stdout",
     "output_type": "stream",
     "text": [
      "Fredrik Johansson\n",
      "Anna Karlsson\n"
     ]
    }
   ],
   "source": [
    "# This is not the clearest way, but making a dictionary is better, as below\n",
    "# student_a = [\"Fredrik\", \"Johansson\", 42, 3.4]\n",
    "# student_b = [\"Anna\", \"Karlsson\", 24, 4.2]\n",
    "\n",
    "# students = [student_a, student_b]\n",
    "# def set_grade(student, grade):\n",
    "#     students[3] = grade\n",
    "\n",
    "# A dictionary instead\n",
    "student_a = {\"FirstName\": \"Fredrik\", \"LastName\":\"Johansson\", \"Age\": 42, \"Grade\": 3.4}\n",
    "student_b = {\"FirstName\":\"Anna\", \"LastName\":\"Karlsson\", \"Age\": 24, \"Grade\": 4.2}\n",
    "\n",
    "students = [student_a, student_b]\n",
    "\n",
    "def set_grade(student, grade):\n",
    "    student[\"Grade\"] = grade\n",
    "\n",
    "def get_name(student):\n",
    "    return f'{student[\"FirstName\"]} {student[\"LastName\"]}'\n",
    "\n",
    "for student in students:           # loopar och ger alla i listan students 3 i betyg och skriver ut namnen\n",
    "    set_grade(student, 3.0)\n",
    "    print(get_name(student))"
   ]
  },
  {
   "cell_type": "markdown",
   "metadata": {},
   "source": [
    "### Nu mer för att visa hur denna \"Student\" kan skapas som klass\n",
    "- Funktioner i en klass kallas för METODER\n",
    "- __init__ initierar en instans av klassen (=objekt) och blir referens för de olika objekterna inom klassen.\n",
    "så att programmet vet vilket objekt man ska köra en viss metod på, ändra ett visst atribut för.\n",
    "- Class attributes: if changed affects all instances of the class.\n",
    "Variabel i en klass = attribut för instansen av en klass (annars är variabel generellt plats i minnet för värde i Python)\n",
    "Dessa attribut nås genom en punkt (instans.attribut)\n",
    "- Instance attributes: Specific for each instance, change in one, does not affect others from same class. Under __init__ eller mer. Initieras när man skapar en instans av klassen (ett objekt), därför finns parametrarna i __init__ .\n",
    "\n"
   ]
  },
  {
   "cell_type": "code",
   "execution_count": 30,
   "metadata": {},
   "outputs": [],
   "source": [
    "class Student:                                # Best Practice: börja en klass med STOR BOKSTAV\n",
    "    count_students = 0\n",
    "    count_students += 1\n",
    "    \n",
    "    def __init__(self, name, grade):          # __init__ används (\"alltid\") i början. Ser ut som en funktion, men de kallas för METODER i klasser. \n",
    "        #__init__ körs när man gör instans av klassen. Self alltid först men andra kan läggas sen. \n",
    "        #Self blir referens till de objekt/instanser man skapar, kan då köra metoder för rätt instans/objekt genom denna referens\n",
    "        self.name = name\n",
    "        self.grade = grade\n",
    "       \n",
    "        #self.grade = 0.0 , går att göra så utan att ha grade i parentes ovan, görs inte normalt sett men bara för att visa. Innebär att\n",
    "\n",
    "    def set_grade(self, grade):\n",
    "       self.grade = grade\n",
    "\n",
    "    # def set_grade(student, grade):     # Går även att skriva objektets variabel här istället för self, namnet ej viktigt men self är best practice och tydligare\n",
    "    #     student.grade = grade\n"
   ]
  },
  {
   "cell_type": "markdown",
   "metadata": {},
   "source": [
    "## Mer om grunderna \n",
    "### Praktiskt\n",
    "#### Objekt attribut\n",
    "- Under __init__ funktionen finns attribut/variabler till denna klassens objekt. De får objektet när det skapas, och har man input parametrar så kan man påverka vad detta ska vara. Ett objekt med minnesplats skapas där massa metadata finns, bl.a. attribut osv, och kan accessas via denna minnesplats.\n",
    "- De kan man ta fram genom att skriva namn på objektets variabel, följt av punkt och namn på attributets variabel. (objekt.attribut)\n",
    "- Man kan även ändra de direkt genom att skriva namn på objektets variabel punkt namn på attributets variabel likamed nytt värde (objekt.attribut = \"Nytt värde\"). På detta sätt läggs även nya attribut till objektet om de inte redan finns.\n",
    "\n",
    "#### Klass attribut\n",
    "- Klass attribut skrivs direkt under klass namnet. Alla objekt som skapas får samma attribut av dessa. Ändras ett av dom så ändras det hos alla objekt (men så är inte fallet för objekt attribut).\n",
    "- De skrivs ut genom att man anger namn på klass punkt attributet (Klass.attribut)\n",
    "- Man kan ändra dessa direkt genom att ange namn på klass punkt attribut = \"Nytt värde\" (Klass.attribut = \"Nytt värde\"). På detta sätt läggs även nya attribut till klassen om de inte redan finns.\n"
   ]
  },
  {
   "cell_type": "code",
   "execution_count": 40,
   "metadata": {},
   "outputs": [],
   "source": [
    "# Instansera en klass / Skapa objekt\n",
    "student_a = Student(\"Younis\", 44)\n",
    "\n",
    "# Komma åt attribut, ändra och skapa nya\n",
    "student_a.name\n",
    "student_a.name = \"Nytt värde\"\n",
    "student_a.new_attribute = \"Nytt värde på nytt attribut\"\n",
    "\n",
    "# Komma åt klass attribut, ändra och skapa nya\n",
    "\n",
    "Student.count_students\n",
    "Student.count_students = \"Nytt värde\"\n",
    "Student.new_class_attribute = \"Nytt värde på nytt klass attribut\"\n"
   ]
  },
  {
   "cell_type": "markdown",
   "metadata": {},
   "source": [
    "### Mer om koppling self och instanser och tanken bakom klasser\n",
    "- Vid metod är alltid första parametern self, refererar alltid till specifik instans. Närmare bestämt instansen som anropar metoden __init__. Tänk er att detta är en blueprint, skrivs bara en gång, för att sedan instansen/objektet ska kunna refereras till bland alla objekt inom samma klass om sådana finns.\n",
    "- Metoder säger hur en student ska bete sig, då har den dessa metoder, sedan trycker vi ut massa studenter med formen (skapar klassen), då kommer varje  student kunna använda dessa metoder vi väljer, men måste särskilja på vilken student som anropar och därför finns __init__.\n",
    "- den, när vi anropar n viss instans, så blir self en referens till just den instans som anropar. Och via detta då hanterar rätt instans"
   ]
  },
  {
   "cell_type": "code",
   "execution_count": 47,
   "metadata": {},
   "outputs": [
    {
     "name": "stdout",
     "output_type": "stream",
     "text": [
      "{'grade': 4.5, 'name': 'Fredrik'}\n",
      "{'grade': 3.3, 'name': 'Anna'}\n",
      "\n",
      "{'grade': 4.5, 'name': 'Fredrik'}\n",
      "{'grade': 3.3, 'name': 'Anna'}\n"
     ]
    }
   ],
   "source": [
    "# Mer om INIT. När nedan objekt/instans skapas, så anropas den av __init__.\n",
    "student_a = Student(\"Fredrik\", 4.5)                   # anropar en metod som heter __new__ vars uppgift är att skapa ny instans, nytt objekt i minnet. Lägger data och metadata för objektet, returnerar referens till detta i minnet. Därefter tar den detta och skickar in i __init__. Den får alltid in objektet som skapats, där används det fö att initiera objektet.\n",
    "student_b = Student(\"Anna\", 3.3)                                        # I andra programmeringsspråk är den en metod för detta (konstruktor), men här två metoder som gör detta.\n",
    "\n",
    "print(student_a.__dict__)\n",
    "print(student_b.__dict__)\n",
    "# Student.set_grade(student_a, 4,5),  #när man kallar på metoden via klassnamnet, \n",
    "# student.a.set_grade(student_a, 4.5)  # när man kallar metod som instans, skickas den första in först, o sedan nästa - ngt blir fel?\n",
    "# student.a.set_grade(4.5) , # här funkar annorlunda när den inte skrivs i början.\n",
    "# student_a.age = 42  # SKAPAS PÅ NYTT DÅ DEN EJ FINNS, EFTERSM DET BARA ÄR EN INTERN DICTIONARY. Men tänk att det är attribut på objekt, så tänker man när man kodar, dict bara för att först, och normala sättet är definiera dessa under klassen (self.age = age)\n",
    "print()\n",
    "print(student_a.__dict__)\n",
    "print(student_b.__dict__)"
   ]
  },
  {
   "cell_type": "code",
   "execution_count": 27,
   "metadata": {},
   "outputs": [
    {
     "name": "stdout",
     "output_type": "stream",
     "text": [
      "Fredrik\n",
      "Anna\n",
      "Fredrik\n"
     ]
    }
   ],
   "source": [
    "student_a = Student()               # ny instans, en faktisk student objekt som ska hålla detta data. Anropar INIT- skickar in self som är referens till objektet jag skapar. \n",
    "student_b = Student() \n",
    "\n",
    "# Dot notation, punkt följt med namn på attribut (variabel (som hör ihop med skapat objekt))\n",
    "student_a.name = \"Fredrik\"\n",
    "student_a.age = 32\n",
    "\n",
    "student_b.name = \"Anna\"\n",
    "\n",
    "\n",
    "print(student_a.name)\n",
    "print(student_b.name)\n",
    "print(student_a.__dict__[\"name\"])         #INBYGGT DICTIONARY, Så fort vi skapat klass o instans av den, så skapas denna dictionary för den i Python, hade gått skriva print(student_a.__dict__[\"name\"]). tanken är dock att göra med uttrycket ovan istället .name\n",
    "\n",
    "# Our instances get the underscore-underscore attributes automatically. They are calle underscore - underscore to make sure we do not mix with our own attributes, variabel."
   ]
  },
  {
   "cell_type": "code",
   "execution_count": null,
   "metadata": {},
   "outputs": [],
   "source": [
    "#\"test\".något efter punkten kommer hjälp, lådor är metoder, små lådor attribut? Skiftnyckel properties?"
   ]
  },
  {
   "cell_type": "markdown",
   "metadata": {},
   "source": [
    "### Exempel"
   ]
  },
  {
   "cell_type": "code",
   "execution_count": 112,
   "metadata": {},
   "outputs": [
    {
     "name": "stdout",
     "output_type": "stream",
     "text": [
      "I'm Misse, and my best friend is Mjau\n",
      "I'm Kisse, and my best friend is Kisse\n",
      "I'm Mjau, and my best friend is Misse\n",
      "Misse\n",
      "Hello I'm Misse, and I'm 3 years old\n",
      "Hello I'm Kisse, and I'm 2 years old\n"
     ]
    },
    {
     "ename": "NameError",
     "evalue": "name 'greet_other' is not defined",
     "output_type": "error",
     "traceback": [
      "\u001b[1;31m---------------------------------------------------------------------------\u001b[0m",
      "\u001b[1;31mNameError\u001b[0m                                 Traceback (most recent call last)",
      "\u001b[1;32mc:\\Users\\yonis\\Documents\\GitHub\\python-programming-YOUNIS-MOUSSAVI\\Code-Alongs\\L021_OOP_Basics.ipynb Cell 11\u001b[0m line \u001b[0;36m6\n\u001b[0;32m     <a href='vscode-notebook-cell:/c%3A/Users/yonis/Documents/GitHub/python-programming-YOUNIS-MOUSSAVI/Code-Alongs/L021_OOP_Basics.ipynb#X13sZmlsZQ%3D%3D?line=64'>65</a>\u001b[0m my_cat\u001b[39m.\u001b[39mgreet()\n\u001b[0;32m     <a href='vscode-notebook-cell:/c%3A/Users/yonis/Documents/GitHub/python-programming-YOUNIS-MOUSSAVI/Code-Alongs/L021_OOP_Basics.ipynb#X13sZmlsZQ%3D%3D?line=65'>66</a>\u001b[0m my_other_cat\u001b[39m.\u001b[39mgreet()\n\u001b[1;32m---> <a href='vscode-notebook-cell:/c%3A/Users/yonis/Documents/GitHub/python-programming-YOUNIS-MOUSSAVI/Code-Alongs/L021_OOP_Basics.ipynb#X13sZmlsZQ%3D%3D?line=67'>68</a>\u001b[0m my_cat\u001b[39m.\u001b[39;49mgreet(my_other_cat)\n\u001b[0;32m     <a href='vscode-notebook-cell:/c%3A/Users/yonis/Documents/GitHub/python-programming-YOUNIS-MOUSSAVI/Code-Alongs/L021_OOP_Basics.ipynb#X13sZmlsZQ%3D%3D?line=68'>69</a>\u001b[0m my_cat\u001b[39m.\u001b[39mgreet(my_third_cat)\n\u001b[0;32m     <a href='vscode-notebook-cell:/c%3A/Users/yonis/Documents/GitHub/python-programming-YOUNIS-MOUSSAVI/Code-Alongs/L021_OOP_Basics.ipynb#X13sZmlsZQ%3D%3D?line=74'>75</a>\u001b[0m \u001b[39m#  Man vill ha så få variabler som möjligt, mer i listor när man kodar. annars tappar man namn på variablerna\u001b[39;00m\n\u001b[0;32m     <a href='vscode-notebook-cell:/c%3A/Users/yonis/Documents/GitHub/python-programming-YOUNIS-MOUSSAVI/Code-Alongs/L021_OOP_Basics.ipynb#X13sZmlsZQ%3D%3D?line=75'>76</a>\u001b[0m \u001b[39m#  cats = []\u001b[39;00m\n\u001b[0;32m     <a href='vscode-notebook-cell:/c%3A/Users/yonis/Documents/GitHub/python-programming-YOUNIS-MOUSSAVI/Code-Alongs/L021_OOP_Basics.ipynb#X13sZmlsZQ%3D%3D?line=76'>77</a>\u001b[0m \u001b[39m# cats.append = Cat(\"Misse\", 3) \u001b[39;00m\n\u001b[1;32m   (...)\u001b[0m\n\u001b[0;32m     <a href='vscode-notebook-cell:/c%3A/Users/yonis/Documents/GitHub/python-programming-YOUNIS-MOUSSAVI/Code-Alongs/L021_OOP_Basics.ipynb#X13sZmlsZQ%3D%3D?line=90'>91</a>\u001b[0m \u001b[39m# for cat in cats[1:]:               \u001b[39;00m\n\u001b[0;32m     <a href='vscode-notebook-cell:/c%3A/Users/yonis/Documents/GitHub/python-programming-YOUNIS-MOUSSAVI/Code-Alongs/L021_OOP_Basics.ipynb#X13sZmlsZQ%3D%3D?line=91'>92</a>\u001b[0m \u001b[39m#     cats[0].greet(cat)\u001b[39;00m\n",
      "\u001b[1;32mc:\\Users\\yonis\\Documents\\GitHub\\python-programming-YOUNIS-MOUSSAVI\\Code-Alongs\\L021_OOP_Basics.ipynb Cell 11\u001b[0m line \u001b[0;36m1\n\u001b[0;32m      <a href='vscode-notebook-cell:/c%3A/Users/yonis/Documents/GitHub/python-programming-YOUNIS-MOUSSAVI/Code-Alongs/L021_OOP_Basics.ipynb#X13sZmlsZQ%3D%3D?line=8'>9</a>\u001b[0m     \u001b[39mprint\u001b[39m(\u001b[39mf\u001b[39m\u001b[39m\"\u001b[39m\u001b[39mHello I\u001b[39m\u001b[39m'\u001b[39m\u001b[39mm \u001b[39m\u001b[39m{\u001b[39;00m\u001b[39mself\u001b[39m\u001b[39m.\u001b[39mname\u001b[39m}\u001b[39;00m\u001b[39m, and I\u001b[39m\u001b[39m'\u001b[39m\u001b[39mm \u001b[39m\u001b[39m{\u001b[39;00m\u001b[39mself\u001b[39m\u001b[39m.\u001b[39mage\u001b[39m}\u001b[39;00m\u001b[39m years old\u001b[39m\u001b[39m\"\u001b[39m)\n\u001b[0;32m     <a href='vscode-notebook-cell:/c%3A/Users/yonis/Documents/GitHub/python-programming-YOUNIS-MOUSSAVI/Code-Alongs/L021_OOP_Basics.ipynb#X13sZmlsZQ%3D%3D?line=9'>10</a>\u001b[0m \u001b[39melse\u001b[39;00m:\n\u001b[1;32m---> <a href='vscode-notebook-cell:/c%3A/Users/yonis/Documents/GitHub/python-programming-YOUNIS-MOUSSAVI/Code-Alongs/L021_OOP_Basics.ipynb#X13sZmlsZQ%3D%3D?line=10'>11</a>\u001b[0m     greet_other(other)\n",
      "\u001b[1;31mNameError\u001b[0m: name 'greet_other' is not defined"
     ]
    }
   ],
   "source": [
    "class Cat():\n",
    "    def __init__(self, name, age):\n",
    "        self.name = name\n",
    "        self.age = age\n",
    "        #self.best_friend = None\n",
    "\n",
    "    def greet(self, other = None):\n",
    "        if other is None:        \n",
    "            print(f\"Hello I'm {self.name}, and I'm {self.age} years old\")\n",
    "        else:\n",
    "            if self.age > other.age:\n",
    "                print (f\"Hi {other.name}, my name is {self.name} and I'm {self.age - other.age} years older than you\")            # här kallar inte klassen på sin egen instans, jag kallar på olika instansers attribut och att skriva ut namnet direkt ersätter self.\n",
    "            elif self.age == other.age:\n",
    "                print(f\"Hi {other.name}, my name is {self.name} and we are both {self.age} year old\")  \n",
    "            else:\n",
    "                print (f\"Hi {other.name}, my name is {self.name} and I'm {self.age - other.age} years younger than you\")\n",
    "\n",
    "    def print_best_friend(self): \n",
    "        if not hasattr(self, \"best_friend\"): return     #vanlig funktion, av pythons inbyggda, inte metod av annat  HADE KUNNAT UNDER klassen lägga till detta och inte behöva se om den har attributet\n",
    "        if self.best_friend is None: return  # i dessa fall bättra än nestlade if-satser\n",
    "        print(f\"I'm {self.name}, and my best friend is {self.best_friend.name}\")\n",
    "\n",
    "\n",
    "# Below saved for understanding\n",
    "    # def greet(self, other = None):\n",
    "    #     if other == None:         # eller \"if name is None\"\n",
    "    #         print(f\"Hello I'm {self.name}, and I'm {self.age} years old\")\n",
    "    #     else:\n",
    "    #         print (f\"Hi {other.name}, my name is {my_cat.name}\")            # här kallar inte klassen på sin egen instans, jag kallar på olika instansers attribut och att skriva ut namnet direkt ersätter self.\n",
    "    #        # Denna del är mkt viktig för att förstå self. Om my_cat kallar på denna, så är den instansen \"self\", eftersom den refererar till sig själv. \n",
    "    #        # print (f\"Hi {my_other_cat.name}, my name is {self.name}\")  \n",
    "    #        # När vi sedan refererar till \"my_other_cat\", så måste den skrivas för self blir till my_cat, hade gåt att skriva såhär:\n",
    "    #        # print (f\"Hi {my_other_cat.name}, my name is {self.name}\")  \n",
    "    #        # print (f\"Hi {other.name}, my name is {self.name}\")    DÅ BLIR DET ALLTID REFERENS TILL DEN INSTANS MAN SKICKAR IN, OBEROENDE AV EXAKT VARIABEL\n",
    "\n",
    "\n",
    "\n",
    "my_cat = Cat(\"Misse\", 3) \n",
    "my_other_cat = Cat(\"Kisse\", 2)\n",
    "my_third_cat = Cat(\"Mjau\", 5)\n",
    "my_fourth_cat = Cat(\"Jens\", 3)\n",
    "\n",
    "my_cat.best_friend = my_third_cat\n",
    "my_other_cat.best_friend = my_other_cat\n",
    "my_third_cat.best_friend = my_cat\n",
    "my_fourth_cat.best_friend = None\n",
    "\n",
    "\n",
    "cats = [my_cat, my_other_cat, my_third_cat, my_fourth_cat]\n",
    "\n",
    "for cat in cats:               # Här är det enklare när man har lista att få alla instanser att göra ngt. \n",
    "    cat.print_best_friend()\n",
    "\n",
    "\n",
    "\n",
    "print(my_cat.name)\n",
    "\n",
    "my_cat.greet()\n",
    "my_other_cat.greet()\n",
    "\n",
    "my_cat.greet(my_other_cat)\n",
    "my_cat.greet(my_third_cat)\n",
    "\n",
    "\n",
    "\n",
    "\n",
    "\n",
    "#  Man vill ha så få variabler som möjligt, mer i listor när man kodar. annars tappar man namn på variablerna\n",
    "#  cats = []\n",
    "# cats.append = Cat(\"Misse\", 3) \n",
    "# cats.append  = Cat(\"Kisse\", 2)\n",
    "# cats.append = Cat(\"Mjau\", 5)\n",
    "# cats.append  = Cat(\"Jens\", 3)\n",
    "\n",
    "# cats[0].best_friend = cats[2]\n",
    "# cats[1].best_friend = cats[1]\n",
    "# cats[2].best_friend = cats[0]\n",
    "# cats[3].best_friend = None\n",
    "\n",
    "\n",
    "# for cat in cats:               \n",
    "#     cat.greet()\n",
    "\n",
    "# for cat in cats[1:]:               \n",
    "#     cats[0].greet(cat)\n"
   ]
  },
  {
   "cell_type": "code",
   "execution_count": 107,
   "metadata": {},
   "outputs": [
    {
     "name": "stdout",
     "output_type": "stream",
     "text": [
      "Kalle\n",
      "Måns\n"
     ]
    }
   ],
   "source": [
    "student = Student(\"Kalle\", 4.3)\n",
    "\n",
    "student.pet = Cat(\"Måns\", 6)                   #kallas ngt att skapa objekt såhär kolla upp\n",
    "\n",
    "print(student.name)                            # Klassen Student har ett objekt som heter name\n",
    "\n",
    "print(student.pet.name)                        # Klassen Student har ett objekt av Katt klass som heter Måns"
   ]
  }
 ],
 "metadata": {
  "kernelspec": {
   "display_name": "python-programming-YOUNIS-MOUSSAVI-yU_f8x7q",
   "language": "python",
   "name": "python3"
  },
  "language_info": {
   "codemirror_mode": {
    "name": "ipython",
    "version": 3
   },
   "file_extension": ".py",
   "mimetype": "text/x-python",
   "name": "python",
   "nbconvert_exporter": "python",
   "pygments_lexer": "ipython3",
   "version": "3.11.5"
  },
  "orig_nbformat": 4
 },
 "nbformat": 4,
 "nbformat_minor": 2
}
