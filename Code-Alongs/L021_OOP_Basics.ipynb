{
 "cells": [
  {
   "cell_type": "markdown",
   "metadata": {},
   "source": [
    "# Object oriented programming (OOP)\n",
    "- A \"class\" is a blue print that can be used to create objects. Annat exempel är \"Cookie-cutter\"; kan skära ut en form, och sedan kan man göra massa instanser av dessa.\n",
    "- An \"instance\" is the actually object containing data and methods. I princip samma sak som objekt. Om en klass är en student som ska ha namn och betyg, är instansen studenterna som har olika namn och betyg. Eller om en klass tar fram med en pepparkaksform, så är instanserna de pepparkakstjärnor man gjort med olika egenskaper (genom olika metoder - ögon, mun, mönster=, som finns i en skål för just den formen).\n",
    "- Allt i python är objekt och funkar på samma sätt\n",
    "- Används när man vill representera entiter, objekt. T.ex. button, osv. Tänk entitet som ska förekomma flera gånger men se olika ut, ha olika egenskaper.\n",
    "- Objekt som skapas från en klass får en plats i minnet, där övriga metoder till det objektet samt attribut finns sparat i massa metadata på samma plats. Man måste därför anropa på särskilda sätt beroende på vad man vill få ut så att programmet vet vad vi vill få ut från minnesplatsen"
   ]
  },
  {
   "cell_type": "markdown",
   "metadata": {},
   "source": [
    "#### Lite bakgrund om hur man alternativt skapar variabler som ska representera en entitet, för att komma in på varför klasser är smidiga att använda i dessa fall"
   ]
  },
  {
   "cell_type": "code",
   "execution_count": 2,
   "metadata": {},
   "outputs": [
    {
     "data": {
      "text/plain": [
       "'FREDRIK'"
      ]
     },
     "execution_count": 2,
     "metadata": {},
     "output_type": "execute_result"
    }
   ],
   "source": [
    "name = \"Fredrik\"\n",
    "type(name)     # name variabeln är nu en str, som också är ett objekt med massa metoder\n",
    "name.upper()   # Metod som hör till str objektet\n",
    "# Men str tillhör en klass, t.ex.\n",
    "\n",
    "# class str:\n",
    "#     def upper(self):\n",
    "#         ...\n",
    "\n"
   ]
  },
  {
   "cell_type": "code",
   "execution_count": 3,
   "metadata": {},
   "outputs": [
    {
     "name": "stdout",
     "output_type": "stream",
     "text": [
      "Fredrik Johansson\n",
      "Anna Karlsson\n"
     ]
    }
   ],
   "source": [
    "# This is not the clearest way, but making a dictionary is better, as below\n",
    "# student_a = [\"Fredrik\", \"Johansson\", 42, 3.4]\n",
    "# student_b = [\"Anna\", \"Karlsson\", 24, 4.2]\n",
    "\n",
    "# students = [student_a, student_b]\n",
    "# def set_grade(student, grade):\n",
    "#     students[3] = grade\n",
    "\n",
    "# A dictionary instead\n",
    "student_a = {\"FirstName\": \"Fredrik\", \"LastName\":\"Johansson\", \"Age\": 42, \"Grade\": 3.4}\n",
    "student_b = {\"FirstName\":\"Anna\", \"LastName\":\"Karlsson\", \"Age\": 24, \"Grade\": 4.2}\n",
    "\n",
    "students = [student_a, student_b]\n",
    "\n",
    "def set_grade(student, grade):\n",
    "    student[\"Grade\"] = grade\n",
    "\n",
    "def get_name(student):\n",
    "    return f'{student[\"FirstName\"]} {student[\"LastName\"]}'\n",
    "\n",
    "for student in students:           # loopar och ger alla i listan students 3 i betyg och skriver ut namnen\n",
    "    set_grade(student, 3.0)\n",
    "    print(get_name(student))"
   ]
  },
  {
   "cell_type": "markdown",
   "metadata": {},
   "source": [
    "### Nu mer för att visa hur denna \"Student\" kan skapas som klass\n",
    "- Funktioner i en klass kallas för METODER\n",
    "- __init__ initierar en instans av klassen (=objekt) och blir referens för de olika objekterna inom klassen.\n",
    "så att programmet vet vilket objekt man ska köra en viss metod på, ändra ett visst atribut för.\n",
    "- Class attributes: if changed affects all instances of the class.\n",
    "Variabel i en klass = attribut för instansen av en klass (annars är variabel generellt plats i minnet för värde i Python)\n",
    "Dessa attribut nås genom en punkt (instans.attribut)\n",
    "- Instance attributes: Specific for each instance, change in one, does not affect others from same class. Under __init__ eller mer. Initieras när man skapar en instans av klassen (ett objekt), därför finns parametrarna i __init__ .\n",
    "\n"
   ]
  },
  {
   "cell_type": "code",
   "execution_count": 4,
   "metadata": {},
   "outputs": [],
   "source": [
    "class Student:                                # Best Practice: börja en klass med STOR BOKSTAV\n",
    "    count_students = 0\n",
    "    count_students += 1\n",
    "    \n",
    "    def __init__(self, name, grade):          # __init__ används (\"alltid\") i början. Ser ut som en funktion, men de kallas för METODER i klasser. \n",
    "        #__init__ körs när man gör instans av klassen. Self alltid först men andra kan läggas sen. \n",
    "        #Self blir referens till de objekt/instanser man skapar, kan då köra metoder för rätt instans/objekt genom denna referens\n",
    "        self.name = name\n",
    "        self.grade = grade\n",
    "       \n",
    "        #self.grade = 0.0 , går att göra så utan att ha grade i parentes ovan, görs inte normalt sett men bara för att visa. Innebär att\n",
    "\n",
    "    def set_grade(self, grade):\n",
    "       self.grade = grade\n",
    "\n",
    "    # def set_grade(student, grade):     # Går även att skriva objektets variabel här istället för self, namnet ej viktigt men self är best practice och tydligare\n",
    "    #     student.grade = grade\n"
   ]
  },
  {
   "cell_type": "markdown",
   "metadata": {},
   "source": [
    "## Mer om grunderna \n",
    "### Praktiskt\n",
    "#### Objekt attribut\n",
    "- Under __init__ funktionen finns attribut/variabler till denna klassens objekt. De får objektet när det skapas, och har man input parametrar så kan man påverka vad detta ska vara. Ett objekt med minnesplats skapas där massa metadata finns, bl.a. attribut osv, och kan accessas via denna minnesplats.\n",
    "- De kan man ta fram genom att skriva namn på objektets variabel, följt av punkt och namn på attributets variabel. (objekt.attribut)\n",
    "- Man kan även ändra de direkt genom att skriva namn på objektets variabel punkt namn på attributets variabel likamed nytt värde (objekt.attribut = \"Nytt värde\"). På detta sätt läggs även nya attribut till objektet om de inte redan finns.\n",
    "\n",
    "#### Klass attribut\n",
    "- Klass attribut skrivs direkt under klass namnet. Alla objekt som skapas får samma attribut av dessa. Ändras ett av dom så ändras det hos alla objekt (men så är inte fallet för objekt attribut).\n",
    "- De skrivs ut genom att man anger namn på klass punkt attributet (Klass.attribut)\n",
    "- Man kan ändra dessa direkt genom att ange namn på klass punkt attribut = \"Nytt värde\" (Klass.attribut = \"Nytt värde\"). På detta sätt läggs även nya attribut till klassen om de inte redan finns.\n",
    "- Man kan anropa en metod till ett visst objekt via klass namnet: Klass.objekt.metod(objektnamn(istället för self), parameter (om tillämpbart))\n",
    "\n",
    "\n",
    "#### Sparas som dictionary\n",
    "- Objektets attribut sparas i en dictionary i bakgrunden (__dict__), går att skriva ut via detta såsom en dictionary\n",
    "- Vanligast är dock via objekt.attribut, dictionary bara bra att veta för bakgrunden.\n",
    "\n"
   ]
  },
  {
   "cell_type": "code",
   "execution_count": 5,
   "metadata": {},
   "outputs": [],
   "source": [
    "# Instansera en klass / Skapa objekt\n",
    "student_a = Student(\"Younis\", 44)\n",
    "student_b = Student(\"Shahlaa\", 41)\n",
    "\n",
    "# Komma åt attribut, ändra och skapa nya\n",
    "student_b.name\n",
    "student_a.name = \"Nytt värde\"\n",
    "student_a.new_attribute = \"Nytt värde på nytt attribut\"\n",
    "\n",
    "\n",
    "# Komma åt klass attribut, ändra och skapa nya\n",
    "\n",
    "Student.count_students   # få fram värde för attributet count_students för hela klassen\n",
    "Student.count_students = \"Nytt värde\"\n",
    "Student.new_class_attribute = \"Nytt värde på helt nytt klass attribut\"\n",
    "Student.set_grade(student_a, 4.5)  #när man kallar på metoden via klassnamnet, , måste då skriva in även objektets namn i self för att referering ska bli rätt\n",
    "\n",
    "# Sparas som dictionary för objektet med attributen -\n",
    "#print(student_a.__dict__)      # skriver ut alla värden för variablerna/attributen som en dictionary för objektet student_a\n",
    "#print(student_b.__dict__)      # skriver ut alla värden för variablerna/attributen som en dictionary för objektet student_a\n",
    "#print(student_b.__dict__[\"name\"]), hade därför kunnat kalla på \"name\" såhär. Men görs inte så, görs via objektnamn istället\n",
    "# student_b.name\n",
    " \n",
    "\n"
   ]
  },
  {
   "cell_type": "markdown",
   "metadata": {},
   "source": [
    "### Mer om koppling self och instanser och tanken bakom klasser\n",
    "- Vid metod är alltid första parametern self, refererar alltid till specifik instans. Närmare bestämt instansen som anropar metoden __init__. Tänk er att detta är en blueprint, skrivs bara en gång, för att sedan instansen/objektet ska kunna refereras till bland alla objekt inom samma klass om sådana finns.\n",
    "- Metoder säger hur en student ska bete sig, då har den dessa metoder, sedan trycker vi ut massa studenter med formen (skapar klassen), då kommer varje  student kunna använda dessa metoder vi väljer, men måste särskilja på vilken student som anropar och därför finns __init__.\n",
    "- den, när vi anropar n viss instans, så blir self en referens till just den instans som anropar. Och via detta då hanterar rätt instans"
   ]
  },
  {
   "cell_type": "code",
   "execution_count": 6,
   "metadata": {},
   "outputs": [],
   "source": [
    "# Mer om INIT. När nedan objekt/instans skapas, så anropas den av __init__.\n",
    "student_a = Student(\"Fredrik\", 4.5)                   # anropar en metod som heter __new__ vars uppgift är att skapa ny instans, nytt objekt i minnet. Lägger data och metadata för objektet, returnerar referens till detta i minnet. Därefter tar den detta och skickar in i __init__. Den får alltid in objektet som skapats, där används det fö att initiera objektet.\n",
    "student_b = Student(\"Anna\", 3.3)                                        # I andra programmeringsspråk är den en metod för detta (konstruktor), men här två metoder som gör detta.\n",
    "\n",
    "# student_a.set_grade(student_a, 4.5)  # när man kallar metod som instans, skickas den första in först, o sedan nästa - ngt blir fel?\n",
    "# student_a.set_grade(4.5) , # här funkar annorlunda när den inte skrivs i början.\n",
    "\n"
   ]
  },
  {
   "cell_type": "markdown",
   "metadata": {},
   "source": [
    "### Övningsexempel som gör tillsammans med Fredrik, tillämpar det vi gått igenom hittills\n",
    "\n",
    "##### Del 1 \n",
    "- Skapa en klass där man kan skriva in my_cat = Cat(\"Misse\", 3), d.v.s. namn och ålder\n",
    "##### Del 2\n",
    "- my_cat.greet() --> \"Hello, I'm Misse, and I'm 3 years old\"\n",
    "##### Del 3\n",
    "- my_cat.greet(my_other_cat)  --> \"Hi Kisse, my name is Misse\"\n",
    "- Utmaningen här är att man anropar två olika objekt i samma klass. Då ska man hålla reda på vad som anropas i uttrycket och vad som läggs in som argument. Det som anropas blir self, och det andra objektet blir argument.\n",
    "##### Del 4\n",
    "- my_cat.greet(my_third_cat) --> \"Hi Kisse, my name is Misse, and I'm 1 year older than you\""
   ]
  },
  {
   "cell_type": "code",
   "execution_count": 7,
   "metadata": {},
   "outputs": [],
   "source": [
    "#Del 1\n",
    "class Cat():\n",
    "    def __init__(self, name, age):\n",
    "        self.name = name\n",
    "        self.age = age\n",
    "        #self.best_friend = None\n",
    "\n",
    "#Del 2\n",
    "    # def greet(self):\n",
    "    #     print(f\"Hello, I'm {self.name}, and I'm {self.age} years old\")   # VARFÖR går inte att bara skriva name här?\n",
    "\n",
    "#Del 3   OBS- när man kallar två olika objekt inom samma klass, är det objekt man kallar self, och det andra blir input argument.\n",
    "    # def greet(self, other = None):\n",
    "    #     if other is None:\n",
    "    #         print(f\"Hello, I'm {self.name}, and I'm {self.age} years old\")   # VARFÖR går inte att bara skriva name här?\n",
    "    #     else: print(f\"Hello, {other.name}, my name is {self.name}\") # Här blir my_cat self eftersom den ankallar metoden, och argumentet är my_other_cat, som då blir argumentet in i metoden och inte self\n",
    "    #     # Därför ska man skriva other.name, man anropar objektet och vill få ut dess namn, på samma sätt som self men den är inte referens nu så man anger dess namn.\n",
    "    #     # Jämför därför detta med att self också egentligen kan skrivas med dess objektnamn, men att self är som referens till den och man slipper, men inte andra\n",
    "\n",
    "#Del 4\n",
    "    def greet(self, other = None):\n",
    "            if other is None:\n",
    "                print(f\"Hello, I'm {self.name}, and I'm {self.age} years old\")   # VARFÖR går inte att bara skriva name här?\n",
    "            else:\n",
    "                if other.age == self.age:\n",
    "                    print(f\"Hello, {other.name}, my name is {self.name} and we are both {self.age} years old\") # Här blir my_cat self eftersom den ankallar metoden, och argumentet är my_other_cat, som då blir argumentet in i metoden och inte self\n",
    "                elif other.age < self.age:\n",
    "                    print(f\"Hello, {other.name}, my name is {self.name} and I'm {self.age - other.age} years older than you\") # Här blir my_cat self eftersom den ankallar metoden, och argumentet är my_other_cat, som då blir argumentet in i metoden och inte self\n",
    "                else:\n",
    "                    print(f\"Hello, {other.name}, my name is {self.name} and I'm {self.age - other.age} years younger than you\")\n",
    "        # Därför ska man skriva other.name, man anropar objektet och vill få ut dess namn, på samma sätt som self men den är inte referens nu så man anger dess namn.\n",
    "        # Jämför därför detta med att self också egentligen kan skrivas med dess objektnamn, men att self är som referens till den och man slipper, men inte andra\n"
   ]
  },
  {
   "cell_type": "code",
   "execution_count": 8,
   "metadata": {},
   "outputs": [
    {
     "name": "stdout",
     "output_type": "stream",
     "text": [
      "Hello, I'm Misse, and I'm 3 years old\n",
      "Hello, I'm Kisse, and I'm 2 years old\n",
      "Hello, Kisse, my name is Misse and I'm 1 years older than you\n",
      "Hello, Mjau, my name is Misse and I'm -2 years younger than you\n"
     ]
    }
   ],
   "source": [
    "# Körning av ovan kod\n",
    "my_cat = Cat(\"Misse\", 3)\n",
    "my_other_cat = Cat(\"Kisse\", 2)\n",
    "my_third_cat = Cat(\"Mjau\", 5)\n",
    "my_fourth_cat = Cat(\"Jens\", 3)\n",
    "\n",
    "my_cat.greet()\n",
    "my_other_cat.greet()\n",
    "my_cat.greet(my_other_cat)\n",
    "my_cat.greet(my_third_cat)"
   ]
  },
  {
   "cell_type": "markdown",
   "metadata": {},
   "source": [
    "### FORTSÄTTNING: Övningsexempel som görs tillsammans med Fredrik, tillämpar det vi gått igenom hittills\n",
    "\n",
    "##### Del 5\n",
    "- for cat in cats:\n",
    "    cat.print_best_friend()  --> \"My name is Misse, and my best friend is Mjau\""
   ]
  },
  {
   "cell_type": "code",
   "execution_count": 19,
   "metadata": {},
   "outputs": [],
   "source": [
    "class Cat():\n",
    "    def __init__(self, name, age):\n",
    "        self.name = name\n",
    "        self.age = age\n",
    "\n",
    "    def greet(self, other = None):\n",
    "            if other is None:\n",
    "                print(f\"Hello, I'm {self.name}, and I'm {self.age} years old\")   # VARFÖR går inte att bara skriva name här?\n",
    "            else:\n",
    "                if other.age == self.age:\n",
    "                    print(f\"Hello, {other.name}, my name is {self.name} and we are both {self.age} years old\") # Här blir my_cat self eftersom den ankallar metoden, och argumentet är my_other_cat, som då blir argumentet in i metoden och inte self\n",
    "                elif other.age < self.age:\n",
    "                    print(f\"Hello, {other.name}, my name is {self.name} and I'm {self.age - other.age} years older than you\") # Här blir my_cat self eftersom den ankallar metoden, och argumentet är my_other_cat, som då blir argumentet in i metoden och inte self\n",
    "                else:\n",
    "                    print(f\"Hello, {other.name}, my name is {self.name} and I'm {self.age - other.age} years younger than you\")\n",
    "    \n",
    "# Del 5 se output nedan nästa kodblock\n",
    "    def print_best_friend(self):\n",
    "        if not hasattr(self,\"best_friend\"): return  # han föredrar såhär, inte nestlade if satser, istället för att ha på djupet. \"Platt kod\", clean code\n",
    "        if self.best_friend is None: return\n",
    "        print(f\"My name is {self.name}, and my best friend is {self.best_friend.name}\") \n",
    " \n"
   ]
  },
  {
   "cell_type": "code",
   "execution_count": 23,
   "metadata": {},
   "outputs": [
    {
     "name": "stdout",
     "output_type": "stream",
     "text": [
      "My name is Misse, and my best friend is Mjau\n",
      "My name is Kisse, and my best friend is Kisse\n",
      "My name is Mjau, and my best friend is Misse\n"
     ]
    }
   ],
   "source": [
    "# Körning av ovan kod, från del 5\n",
    "my_cat = Cat(\"Misse\", 3)\n",
    "my_other_cat = Cat(\"Kisse\", 2)\n",
    "my_third_cat = Cat(\"Mjau\", 5)\n",
    "my_fourth_cat = Cat(\"Jens\", 3)\n",
    "\n",
    "# Del 5, \n",
    "## Formlerna nedan: composition, objekt som består av andra typer av objekt\n",
    "my_cat.best_friend = my_third_cat    # Då kommer self.best_friend peka på denna variabel, och man sätter till .name för att det ska bli dennes namn, annars pekar på objekt o bara visar plats i minnet\n",
    "my_other_cat.best_friend = my_other_cat  \n",
    "my_third_cat.best_friend = my_cat\n",
    "my_fourth_cat.best_friend = None\n",
    "\n",
    "cats = [my_cat, my_other_cat, my_third_cat, my_fourth_cat]\n",
    "    \n",
    "for cat in cats:\n",
    "    cat.print_best_friend()"
   ]
  },
  {
   "cell_type": "markdown",
   "metadata": {},
   "source": [
    "##### Nedan visas hur man enklare kan lägga in objekt i listor för färre variabler och enklare hantering i t.ex. loopar. \"Clean code\""
   ]
  },
  {
   "cell_type": "code",
   "execution_count": null,
   "metadata": {},
   "outputs": [],
   "source": [
    "#  Man vill ha så få variabler som möjligt, mer i listor när man kodar. annars tappar man namn på variablerna\n",
    "#  cats = []\n",
    "# cats.append = Cat(\"Misse\", 3) \n",
    "# cats.append  = Cat(\"Kisse\", 2)\n",
    "# cats.append = Cat(\"Mjau\", 5)\n",
    "# cats.append  = Cat(\"Jens\", 3)\n",
    "\n",
    "# cats[0].best_friend = cats[2]\n",
    "# cats[1].best_friend = cats[1]\n",
    "# cats[2].best_friend = cats[0]\n",
    "# cats[3].best_friend = None\n",
    "\n",
    "\n",
    "# for cat in cats:               \n",
    "#     cat.greet()\n",
    "\n",
    "# for cat in cats[1:]:               \n",
    "#     cats[0].greet(cat)"
   ]
  },
  {
   "cell_type": "markdown",
   "metadata": {},
   "source": [
    "##### Annat exempel"
   ]
  },
  {
   "cell_type": "code",
   "execution_count": null,
   "metadata": {},
   "outputs": [
    {
     "name": "stdout",
     "output_type": "stream",
     "text": [
      "Kalle\n",
      "Måns\n"
     ]
    }
   ],
   "source": [
    "14:44\n",
    "\n",
    "student = Student(\"Kalle\", 4.3)\n",
    "student.pet = Cat(\"Måns\", 6)                   # Kallas ngt att skapa objekt såhär kolla upp\n",
    "\n",
    "print(student.name)                            # Klassen Student har ett objekt som heter name\n",
    "\n",
    "print(student.pet.name)                        # Klassen Student har ett objekt av Katt klass som heter Måns"
   ]
  }
 ],
 "metadata": {
  "kernelspec": {
   "display_name": "python-programming-YOUNIS-MOUSSAVI-yU_f8x7q",
   "language": "python",
   "name": "python3"
  },
  "language_info": {
   "codemirror_mode": {
    "name": "ipython",
    "version": 3
   },
   "file_extension": ".py",
   "mimetype": "text/x-python",
   "name": "python",
   "nbconvert_exporter": "python",
   "pygments_lexer": "ipython3",
   "version": "3.11.5"
  },
  "orig_nbformat": 4
 },
 "nbformat": 4,
 "nbformat_minor": 2
}
