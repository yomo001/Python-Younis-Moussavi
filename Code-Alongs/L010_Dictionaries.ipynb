{
 "cells": [
  {
   "cell_type": "markdown",
   "metadata": {},
   "source": [
    "# Dictionaries\n",
    "- Dictionaries is also a list but are used to store data in key-value pairs. Two variables of different datatypes. The key points to a value. \"Nyckel är uppslag för att få upp värdet, måste vara unika\"\n",
    "- Keys are used to access values, and must be unique\n",
    "- Only immutable types (eg. string, int, float, bool) can be used as keys, e.g. not lists, etc.\n",
    "- Dictionaries are ordered and mutable (changeable), man kan ändra värden inuti samma dictionary.\n",
    "När man ska komma åt värde i dictionary, till skillnad från lista där index är en integer, skriver man värdet på nyckel inom hakparentes, (dock används index som värdet för en key är en lista, för att komma åt avsett objekt i listan)\n"
   ]
  },
  {
   "cell_type": "code",
   "execution_count": 2,
   "metadata": {},
   "outputs": [
    {
     "name": "stdout",
     "output_type": "stream",
     "text": [
      "5\n",
      "len(teacher['lastname']) = 9\n",
      "len(teacher['languages']) = 3\n",
      "len((teacher['languages'][-1]) )= 10\n",
      "((teacher['contact info']['adress'][0]) )= 'sweden'\n",
      "(teacher['languages'][-1]) = 'Javascript'\n",
      "Fredrik\n",
      "42\n",
      "teacher = {'firstname': 'Fredrik', 'lastname': 'Johansson', 'age': 42, 'languages': ['Python', 'C#', 'Javascript'], 'contact info': {'phone': '0701981713', 'email': 'younis@dvv.se', 'adress': ['sweden', 'lebanon']}, 'length': 1.8}\n",
      "teacher = {'firstname': 'Kalle', 'age': 42, 'languages': ['Python', 'C#', 'Javascript'], 'contact info': {'phone': '0701981713', 'email': 'younis@dvv.se', 'adress': ['sweden', 'lebanon']}, 'length': 1.8}\n",
      "removed_value = 'Johansson'\n"
     ]
    }
   ],
   "source": [
    "# Create empty dictionary\n",
    "empty_dictionary = {}\n",
    "\n",
    "# Create dictionary with items\n",
    "teacher = {\n",
    "    \"firstname\":\"Fredrik\",\n",
    "    \"lastname\":\"Johansson\", \n",
    "    \"age\":42,\n",
    "    \"languages\": [\"Python\", \"C#\", \"Javascript\"],\n",
    "    \"contact info\": {\n",
    "        \"phone\":\"0701981713\",\n",
    "        \"email\":\"younis@dvv.se\",\n",
    "        \"adress\": [\n",
    "            'sweden',\n",
    "            'lebanon'\n",
    "            ]\n",
    "        }\n",
    "    }\n",
    "\n",
    "\n",
    "\n",
    "# Get number of items in dictionary\n",
    "print(f\"{len(teacher)}\")          # Counts key-value pairs\n",
    "print(f\"{len(teacher['lastname']) = }\")            # characters for the corresponding value of the key\n",
    "print(f\"{len(teacher['languages']) = }\")           # count for the corresponding values in list of the key (since it is a list)\n",
    "print(f\"{len((teacher['languages'][-1]) )= }\")     # count characters in the value of index -1 of list. Same logic for dictionaries\n",
    "print(f\"{((teacher['contact info']['adress'][0]) )= }\") \n",
    "# print(f\"{((teacher['contact info'][2][0]) )= }\")    I dictionaries används keys som index, och int indexes för values som listor i dictionaries.\n",
    "\n",
    "# Get value in a list by reference to key and index.\n",
    "print(f\"{(teacher['languages'][-1]) = }\") \n",
    "\n",
    "# print(teacher[0])     index does not work to choose like in lists, instead keys have to be chosen, see below\n",
    "print(teacher[\"firstname\"])\n",
    "print(teacher[\"age\"])          # prints an integer\n",
    "\n",
    "# Add key to dictionary, adds a new key-value pair since the key does not already exist (no duplicates allowed), if already exists, replaces?\n",
    "teacher[\"length\"] = 1.80                \n",
    "print(f\"{teacher = }\")\n",
    "\n",
    "# Remove key and return value from dictionary\n",
    "removed_value = teacher.pop(\"lastname\")         #cuts/pops out the value of the key and assigns it/returns to the variable\n",
    "\n",
    "teacher[\"firstname\"] = \"Kalle\"        # changes the value for the key firstname since it already exists\n",
    "print(f\"{teacher = }\")\n",
    "print(f\"{removed_value = }\")\n",
    "\n",
    "#del(teacher)        delete entire dictionary  \n",
    "# del(teacher[\"firstname\"])     delete without returning value "
   ]
  },
  {
   "cell_type": "code",
   "execution_count": null,
   "metadata": {},
   "outputs": [],
   "source": []
  }
 ],
 "metadata": {
  "kernelspec": {
   "display_name": "Python 3",
   "language": "python",
   "name": "python3"
  },
  "language_info": {
   "codemirror_mode": {
    "name": "ipython",
    "version": 3
   },
   "file_extension": ".py",
   "mimetype": "text/x-python",
   "name": "python",
   "nbconvert_exporter": "python",
   "pygments_lexer": "ipython3",
   "version": "3.11.5"
  },
  "orig_nbformat": 4
 },
 "nbformat": 4,
 "nbformat_minor": 2
}
