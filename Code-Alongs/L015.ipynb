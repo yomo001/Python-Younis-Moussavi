{
 "cells": [
  {
   "cell_type": "code",
   "execution_count": 2,
   "metadata": {},
   "outputs": [],
   "source": [
    "#print(\"Hello)    #syntax error, skrivit fel i koden, ger syntax error\n",
    "#print(f\"Your name is {x}\")      #Run time error (\"name error\", name inte definierad), ej fel i kod men under körning krashar för ngt är fel\n",
    "\n",
    "#name = input(\"Enter name: \") \n",
    "#print(\"Your name is {x}\")      # Logical error, program körs (ingen syntax eller run time error), men ej det resultat vi ville ha\n",
    "\n",
    "def input_int(prompt = \"Input: \"):\n",
    "    while True:\n",
    "        try:   # try används när man vet att ngt kan gå fel, man ber den testa ngt under visst villkor\n",
    "            #my_int = int(input(prompt))   #man kan förutspå vad som hade kunnat ge runtime error, t.ex. att ngn anger en \n",
    "            # sträng här och hantera detta i koden\n",
    "            #print(x)                #bästa är dock att ha varje sak i egen try-except, eftersom det är olika saker.\n",
    "            return int(input(prompt))          #istället för under else går att ha här, även istället för my_int =\n",
    "        except ValueError:       #man specificerar att det är vid denna typ av fel vi vill köra try/except, och lägger den kod man faktiskt tror kan få fel i kodblocket\n",
    "            print(\"my_int is not an integer.\")\n",
    "        #except NameError:       # Flera except går att ha. Den tar dock den första som är true\n",
    "            #print(\"x is not defined\")\n",
    "        #except:\n",
    "        # print(\"Some other kind of error\")\n",
    "\n",
    "        #else:            #try o except hänger alltid ihop, men går lägga till else t.ex.i python, som körs om inget går fel\n",
    "            #break      Behövs ej med en return\n",
    "            #return my_int     #avbryter    hela funktionen och ger tillbaka värdet, därför hade inte break behövts\n",
    "\n"
   ]
  },
  {
   "cell_type": "code",
   "execution_count": 3,
   "metadata": {},
   "outputs": [
    {
     "name": "stdout",
     "output_type": "stream",
     "text": [
      "my_int is not an integer.\n",
      "my_int is not an integer.\n",
      "age = 4, length = 44, weigt = 44\n"
     ]
    }
   ],
   "source": [
    "age = input_int(\"Input age: \")\n",
    "length = input_int(\"Input length: \")\n",
    "weight = input(\"Input weight: \")\n",
    "\n",
    "print(f\"age = {age}, length = {length}, weigt = {weight}\")"
   ]
  }
 ],
 "metadata": {
  "kernelspec": {
   "display_name": "python-programming-YOUNIS-MOUSSAVI-yU_f8x7q",
   "language": "python",
   "name": "python3"
  },
  "language_info": {
   "codemirror_mode": {
    "name": "ipython",
    "version": 3
   },
   "file_extension": ".py",
   "mimetype": "text/x-python",
   "name": "python",
   "nbconvert_exporter": "python",
   "pygments_lexer": "ipython3",
   "version": "3.11.5"
  }
 },
 "nbformat": 4,
 "nbformat_minor": 2
}
