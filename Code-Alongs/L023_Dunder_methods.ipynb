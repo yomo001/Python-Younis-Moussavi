{
 "cells": [
  {
   "cell_type": "markdown",
   "metadata": {},
   "source": [
    "# Dunder methods (double underscore __)\n",
    "- \\_\\_init__() is called when a new object/instance is created. The purpose of this method is to initialize the object. \n",
    "- __str__, skriver jag ut objektet via print - då kommer den att skriva ut dess minnesplats (där dess metadata finns).\n",
    "Men med __str__, så ankallas str metoden som definieras under klassen för objektet, och det som returneras i den metoden är det som skrivs ut med print.\n",
    "- \n",
    "\n",
    "\n",
    "Dunder - specialmetoder som inte är tänkta att anropas direkt. Andra programmeringstekniska syntax används istället i Python för att komma åt dessa på olika sätt.\n",
    "- Summering: __str__ används när objektet konverteras till sträng (via print eller annat sätt)  och __repr__ används när repr(objekt) används, eller om det inte görs om till sträng. "
   ]
  },
  {
   "cell_type": "code",
   "execution_count": 2,
   "metadata": {},
   "outputs": [
    {
     "name": "stdout",
     "output_type": "stream",
     "text": [
      "Mjau\n",
      "Mjau\n",
      "Cat (\"Mjau\")\n"
     ]
    }
   ],
   "source": [
    "class Cat:\n",
    "    def __init__(self, name):\n",
    "        self.name = name\n",
    "\n",
    "    def __str__(self):                       # Med denna dundermetod, så printas det som denna dundermetod returnerar (när vi vill printa själva objektet) - OM det omvandlas till str (printas)\n",
    "        return self.name                     # Syfte med denna - konvertera till sträng för slutanvändare\n",
    "\n",
    "    # def __repr__(self):                         # Funkar som __str__, men med denna metod får man returnering även om den inte konverteras till str (printas)\n",
    "    #     return \"This is a representation of a cat\"    # Denna del är tänkt mer för en utvecklare att se.\n",
    "    \n",
    "    def __repr__(self):                  # Med denna metod får man returnering även om den inte konverteras till str (printas)\n",
    "        return f'Cat (\"{self.name}\")'      # Denna del är tänkt mer för en utvecklare att se. Man brukar returnera den såhär, så att den ser ut så som instansen ser ut (Cat(\"name\"))\n",
    "\n",
    "\n",
    "my_cat = Cat(\"Mjau\")           # Skapar ny klass\n",
    "print(my_cat.name)             # Visar att den skriver ut namn när man skriver ut att man vill ha attributet name för selfobjektet \"my_cat\"\n",
    "\n",
    "my_int = 5                     \n",
    "my_bool = True\n",
    "my_string1 = str(my_bool)\n",
    "my_string2 = str(my_int)          # Diverse varianter för att påvisa hur saker skrivs ut som str när vi omvandlar till olika datatyper\n",
    "my_string3 = str(my_cat)          # Här kommr den kolla om det finns str för det objektets klass, då tilldelas det str värdet som returneas i metoden till variabeln my_string3\n",
    "\n",
    "# my_cat                          # Output ----> Enbart __str__: pekar mot objektets minnesplats som blir output när inte print används. __repr__ : Det som returneras här visas i output även om inte print används.\n",
    "# str(my_cat)                     # Här kommer den kolla om det finns str för det objektets klass, då skrivs det som returneras ut i dundermetoden __str__\n",
    "# repr(my_cat)                    # Med __repr__ så görs denna om till en sträng när man inte printar ut.\n",
    "\n",
    "# print(my_cat)                   # Här skrivs det som returneras i __str__ metoden eftersom man kör print.\n",
    "print(str(my_cat))              # Här kommer den kolla om det finns str för det objektets klass, då skrivs det som returneras ut i dundermetoden __str__\n",
    "print(repr(my_cat))             # Här kommer den kolla om det finns repr för det objektets klass, då skrivs det som returneras ut i dundermetoden __repr__\n",
    "\n",
    "\n",
    "# Summering: __str__ används när objektet konverteras till sträng (via print eller annat sätt)  och __repr__ används när repr(objekt) används, eller om det inte görs om till sträng. "
   ]
  },
  {
   "cell_type": "code",
   "execution_count": 44,
   "metadata": {},
   "outputs": [
    {
     "name": "stdout",
     "output_type": "stream",
     "text": [
      "Cat (\"Mjau\")\n"
     ]
    },
    {
     "data": {
      "text/plain": [
       "'Mjau'"
      ]
     },
     "execution_count": 44,
     "metadata": {},
     "output_type": "execute_result"
    }
   ],
   "source": [
    "my_cat = Cat(\"Mjau\")\n",
    "print(repr(my_cat))\n",
    "#eval(\"1+5\")                     # Denna bedömer något som python kod i en sträng. T.ex. om man evaluerar kod från användaren, som skriver som sträng och blir kod. Dock farligt då det kan förstöra kod om han gör det medvetet. \"Code - injections\"\n",
    "copycat = eval(repr(my_cat))     # Här returneras strängen som motsvarar instansen --> pythonkod då som instanserar det objektet med samma namn     Cat (\"Mjau\"). Därför bra att __repr__ använder sådana uttryck som i sig tydligt kan beskriva koden för utvecklare samt köras.\n",
    "copycat.name                     # Här skriver man ut namnet för det objektet, som har namnet \"Mjau\", eftersom man instanserat objektet innan och nu skriver ut name\n"
   ]
  },
  {
   "cell_type": "code",
   "execution_count": 21,
   "metadata": {},
   "outputs": [
    {
     "name": "stdout",
     "output_type": "stream",
     "text": [
      "This is a cat called Mjau\n",
      "This is a cat called Pelle\n",
      "This is a cat called Måns\n"
     ]
    }
   ],
   "source": [
    "cats = [Cat(\"Mjau\"), Cat(\"Pelle\"), Cat(\"Måns\")]\n",
    "\n",
    "for cat in cats:\n",
    "    print(cat)                 # omvandlas till str och skriver därför ut det som returneras i __str__ metoden\n",
    "    # print(str(cat))          # via dundermetoden __str__ och skriver ut det den returnerar\n",
    "\n"
   ]
  }
 ],
 "metadata": {
  "kernelspec": {
   "display_name": "python-programming-YOUNIS-MOUSSAVI-yU_f8x7q",
   "language": "python",
   "name": "python3"
  },
  "language_info": {
   "codemirror_mode": {
    "name": "ipython",
    "version": 3
   },
   "file_extension": ".py",
   "mimetype": "text/x-python",
   "name": "python",
   "nbconvert_exporter": "python",
   "pygments_lexer": "ipython3",
   "version": "3.11.5"
  },
  "orig_nbformat": 4
 },
 "nbformat": 4,
 "nbformat_minor": 2
}
