{
 "cells": [
  {
   "cell_type": "markdown",
   "metadata": {},
   "source": [
    "Statiskst vs dynamiskt typat språk\n",
    "Dynamiskt (python) = kan ändra typ på variabel under kodens gång. kan upp täcka fel under körning då och hantera med try except.\n",
    "Statiska: Avgörs under compiling, man deklarerar variabels datatyp i koden som sedan inte kan ändras. Statistkt typade språk : alla problem som upptäcks först i runtime i Python, upptäcks när det kompileras i andra språk.\n",
    "Fördel är flexibilitet i Python, men svårare att felsöka och snabbhet minskar också. Python gjort för att vara väldigt högnivå, lätt att komma igång med och skriva kod i. Jämfört med de mer statiskt typade, lågnivå språken. Man offrar dock snabbheten. Så hantering av listor i Python kan vara långsamt pga detta.\n",
    "Numpy däremot använder statiskt ngt, så det blir snabbare"
   ]
  },
  {
   "cell_type": "markdown",
   "metadata": {},
   "source": [
    "# Numpy - Library to handle arrays. \n",
    "- Statically typed (element types cant be mixed or altered)\n",
    "- non resizeable (cannot append or remove elements), but it is mutable\n",
    "- much faster than pythons dynamically typed lists\n",
    "- support use of vector operations "
   ]
  },
  {
   "cell_type": "markdown",
   "metadata": {},
   "source": [
    "# Create arrays"
   ]
  },
  {
   "cell_type": "code",
   "execution_count": 7,
   "metadata": {},
   "outputs": [
    {
     "data": {
      "text/plain": [
       "dtype('float64')"
      ]
     },
     "execution_count": 7,
     "metadata": {},
     "output_type": "execute_result"
    }
   ],
   "source": [
    "import numpy as np  # Best practice\n",
    "\n",
    "my_array = np.array([5, 2, 6, 8], dtype = float)     # bara en datatyp, och den sparar inte info om datatyp, vad man kan göra(typ operatorer som kan hantera osv, så tar mindre minne o snabbare. Mer så arrayer funkar i andra statiska program, o inga metadata\n",
    "my_array.dtype                      #kan ange datatyp, men den sköter det bra självt\"\n"
   ]
  },
  {
   "cell_type": "code",
   "execution_count": 11,
   "metadata": {},
   "outputs": [
    {
     "data": {
      "text/plain": [
       "array([13, 11, 10, 19, 15, 10, 14, 17, 14, 15])"
      ]
     },
     "execution_count": 11,
     "metadata": {},
     "output_type": "execute_result"
    }
   ],
   "source": [
    "a2 = np.random.random(2)\n",
    "a3 = np.random.randint(10, 20, 10)\n",
    "a3"
   ]
  },
  {
   "cell_type": "code",
   "execution_count": 14,
   "metadata": {},
   "outputs": [
    {
     "data": {
      "text/plain": [
       "array([1., 1., 1., 1., 1., 1., 1., 1., 1., 1.])"
      ]
     },
     "execution_count": 14,
     "metadata": {},
     "output_type": "execute_result"
    }
   ],
   "source": [
    "a4 = np.zeros(10)\n",
    "a5 = np.ones(10)\n",
    "a5"
   ]
  },
  {
   "cell_type": "code",
   "execution_count": null,
   "metadata": {},
   "outputs": [],
   "source": [
    "a6 = np.linspace(0, 10, 100)    # ger 100 jämnt utspridda värden från 0 till 10\n",
    "a7 = np.arange(0, 10, 0.1)     # anger hur mkt den ska öka med per gång tills kommer upp närmast 10\n",
    "\n",
    "a8 = a7            #change the places in memory that a7 points to, to a8 \n",
    "a8[3] = 3\n",
    "a7"
   ]
  },
  {
   "cell_type": "code",
   "execution_count": 5,
   "metadata": {},
   "outputs": [
    {
     "name": "stdout",
     "output_type": "stream",
     "text": [
      "[5, True, 'Hello']\n"
     ]
    }
   ],
   "source": [
    "my_list = [5, True, \"Hello\"] \n",
    "print(my_list)    # Här går den tillbaka till objekt i minnet som kommer ihåg datatyp och mer info, så det tar mer på minnet i python\n",
    "print(my_list[2] + \"3\")  # Här går den tillbaka, tittar på datatyp, kan operatorn göra detta på dessa osv, all denna info lagras som metadata i minnet, kommer ifrån detta i Numpy."
   ]
  },
  {
   "cell_type": "code",
   "execution_count": null,
   "metadata": {},
   "outputs": [],
   "source": []
  }
 ],
 "metadata": {
  "kernelspec": {
   "display_name": "python-programming-YOUNIS-MOUSSAVI-yU_f8x7q",
   "language": "python",
   "name": "python3"
  },
  "language_info": {
   "codemirror_mode": {
    "name": "ipython",
    "version": 3
   },
   "file_extension": ".py",
   "mimetype": "text/x-python",
   "name": "python",
   "nbconvert_exporter": "python",
   "pygments_lexer": "ipython3",
   "version": "3.11.5"
  },
  "orig_nbformat": 4
 },
 "nbformat": 4,
 "nbformat_minor": 2
}
