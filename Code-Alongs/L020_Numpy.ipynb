{
 "cells": [
  {
   "cell_type": "markdown",
   "metadata": {},
   "source": [
    "Statiskst vs dynamiskt typat språk\n",
    "Dynamiskt (python) = kan ändra typ på variabel under kodens gång. kan upp täcka fel under körning då och hantera med try except.\n",
    "Statiska: Avgörs under compiling, man deklarerar variabels datatyp i koden som sedan inte kan ändras. Statistkt typade språk : alla problem som upptäcks först i runtime i Python, upptäcks när det kompileras i andra språk.\n",
    "Fördel är flexibilitet i Python, men svårare att felsöka och snabbhet minskar också. Python gjort för att vara väldigt högnivå, lätt att komma igång med och skriva kod i. Jämfört med de mer statiskt typade, lågnivå språken. Man offrar dock snabbheten. Så hantering av listor i Python kan vara långsamt pga detta.\n",
    "Numpy däremot använder statiskt ngt, så det blir snabbare"
   ]
  },
  {
   "cell_type": "markdown",
   "metadata": {},
   "source": [
    "# Numpy - Library to handle arrays. \n",
    "- Statically typed (element types cant be mixed or altered)\n",
    "- non resizeable (cannot append or remove elements), but it is mutable\n",
    "- much faster than pythons dynamically typed lists\n",
    "- support use of vector operations "
   ]
  },
  {
   "cell_type": "markdown",
   "metadata": {},
   "source": [
    "# Create arrays"
   ]
  },
  {
   "cell_type": "code",
   "execution_count": 2,
   "metadata": {},
   "outputs": [
    {
     "data": {
      "text/plain": [
       "dtype('float64')"
      ]
     },
     "execution_count": 2,
     "metadata": {},
     "output_type": "execute_result"
    }
   ],
   "source": [
    "import numpy as np  # Best practice\n",
    "\n",
    "my_array = np.array([5, 2, 6, 8], dtype = float)     # bara en datatyp, och den sparar inte info om datatyp, vad man kan göra(typ operatorer som kan hantera osv, så tar mindre minne o snabbare. Mer så arrayer funkar i andra statiska program, o inga metadata\n",
    "my_array.dtype                      #kan ange datatyp, men den sköter det bra självt\"\n"
   ]
  },
  {
   "cell_type": "code",
   "execution_count": 11,
   "metadata": {},
   "outputs": [
    {
     "data": {
      "text/plain": [
       "array([13, 11, 10, 19, 15, 10, 14, 17, 14, 15])"
      ]
     },
     "execution_count": 11,
     "metadata": {},
     "output_type": "execute_result"
    }
   ],
   "source": [
    "a2 = np.random.random(2)\n",
    "a3 = np.random.randint(10, 20, 10)\n",
    "a3"
   ]
  },
  {
   "cell_type": "code",
   "execution_count": 14,
   "metadata": {},
   "outputs": [
    {
     "data": {
      "text/plain": [
       "array([1., 1., 1., 1., 1., 1., 1., 1., 1., 1.])"
      ]
     },
     "execution_count": 14,
     "metadata": {},
     "output_type": "execute_result"
    }
   ],
   "source": [
    "a4 = np.zeros(10)\n",
    "a5 = np.ones(10)\n",
    "a5"
   ]
  },
  {
   "cell_type": "code",
   "execution_count": 3,
   "metadata": {},
   "outputs": [
    {
     "data": {
      "text/plain": [
       "array([0. , 0.1, 0.2, 3. , 0.4, 0.5, 0.6, 0.7, 0.8, 0.9, 1. , 1.1, 1.2,\n",
       "       1.3, 1.4, 1.5, 1.6, 1.7, 1.8, 1.9, 2. , 2.1, 2.2, 2.3, 2.4, 2.5,\n",
       "       2.6, 2.7, 2.8, 2.9, 3. , 3.1, 3.2, 3.3, 3.4, 3.5, 3.6, 3.7, 3.8,\n",
       "       3.9, 4. , 4.1, 4.2, 4.3, 4.4, 4.5, 4.6, 4.7, 4.8, 4.9, 5. , 5.1,\n",
       "       5.2, 5.3, 5.4, 5.5, 5.6, 5.7, 5.8, 5.9, 6. , 6.1, 6.2, 6.3, 6.4,\n",
       "       6.5, 6.6, 6.7, 6.8, 6.9, 7. , 7.1, 7.2, 7.3, 7.4, 7.5, 7.6, 7.7,\n",
       "       7.8, 7.9, 8. , 8.1, 8.2, 8.3, 8.4, 8.5, 8.6, 8.7, 8.8, 8.9, 9. ,\n",
       "       9.1, 9.2, 9.3, 9.4, 9.5, 9.6, 9.7, 9.8, 9.9])"
      ]
     },
     "execution_count": 3,
     "metadata": {},
     "output_type": "execute_result"
    }
   ],
   "source": [
    "a6 = np.linspace(0, 10, 100)    # ger 100 jämnt utspridda värden från 0 till 10\n",
    "a7 = np.arange(0, 10, 0.1)     # anger hur mkt den ska öka med per gång tills kommer upp närmast 10\n",
    "\n",
    "a8 = a7            #change the places in memory that a7 points to, to a8 \n",
    "a8[3] = 3\n",
    "a7"
   ]
  },
  {
   "cell_type": "code",
   "execution_count": 5,
   "metadata": {},
   "outputs": [
    {
     "name": "stdout",
     "output_type": "stream",
     "text": [
      "[5, True, 'Hello']\n"
     ]
    }
   ],
   "source": [
    "my_list = [5, True, \"Hello\"] \n",
    "print(my_list)    # Här går den tillbaka till objekt i minnet som kommer ihåg datatyp och mer info, så det tar mer på minnet i python\n",
    "print(my_list[2] + \"3\")  # Här går den tillbaka, tittar på datatyp, kan operatorn göra detta på dessa osv, all denna info lagras som metadata i minnet, kommer ifrån detta i Numpy."
   ]
  },
  {
   "cell_type": "markdown",
   "metadata": {},
   "source": [
    "# Vectorized operations"
   ]
  },
  {
   "cell_type": "code",
   "execution_count": 10,
   "metadata": {},
   "outputs": [
    {
     "data": {
      "text/plain": [
       "[2, 4, 7, 1, 7, 3, 2, 5, 2, 2, 4, 7, 1, 7, 3, 2, 5, 2]"
      ]
     },
     "execution_count": 10,
     "metadata": {},
     "output_type": "execute_result"
    }
   ],
   "source": [
    "x = [2, 4, 7, 1, 7, 3, 2, 5, 2]\n",
    "x * 2        # De konkatineras till dubbla sträng, går inte göra matematiska operationer så"
   ]
  },
  {
   "cell_type": "code",
   "execution_count": 7,
   "metadata": {},
   "outputs": [
    {
     "data": {
      "text/plain": [
       "[4, 8, 14, 2, 14, 6, 4, 10, 4]"
      ]
     },
     "execution_count": 7,
     "metadata": {},
     "output_type": "execute_result"
    }
   ],
   "source": [
    "y = [value * 2 for value in x]\n",
    "y"
   ]
  },
  {
   "cell_type": "code",
   "execution_count": 11,
   "metadata": {},
   "outputs": [
    {
     "data": {
      "text/plain": [
       "array([2, 4, 7, 1, 7, 3, 2, 5, 2])"
      ]
     },
     "execution_count": 11,
     "metadata": {},
     "output_type": "execute_result"
    }
   ],
   "source": [
    "x = np.array([2, 4, 7, 1, 7, 3, 2, 5, 2])\n",
    "x"
   ]
  },
  {
   "cell_type": "code",
   "execution_count": 14,
   "metadata": {},
   "outputs": [
    {
     "data": {
      "text/plain": [
       "array([1.41421356, 2.        , 2.64575131, 1.        , 2.64575131,\n",
       "       1.73205081, 1.41421356, 2.23606798, 1.41421356])"
      ]
     },
     "execution_count": 14,
     "metadata": {},
     "output_type": "execute_result"
    }
   ],
   "source": [
    "import math\n",
    "np.sqrt(x)    # gör som vectorized operation, tar på alla element i samma array samtidigt. \n",
    "# math.sqrt(x) funkar inte, tar bara ett enskilt tal , skalär (scalar)\n",
    "#  "
   ]
  },
  {
   "cell_type": "code",
   "execution_count": 15,
   "metadata": {},
   "outputs": [
    {
     "data": {
      "text/plain": [
       "[<matplotlib.lines.Line2D at 0x2e37e4fdf50>]"
      ]
     },
     "execution_count": 15,
     "metadata": {},
     "output_type": "execute_result"
    },
    {
     "data": {
      "image/png": "[encoded data removed]",
      "text/plain": [
       "<Figure size 640x480 with 1 Axes>"
      ]
     },
     "metadata": {},
     "output_type": "display_data"
    }
   ],
   "source": [
    "import matplotlib.pyplot as plt\n",
    "\n",
    "x = np.linspace(-10, 10, 1000)\n",
    "plt.plot(x, x**2)\n",
    "\n",
    "11:14 , vid plot lämnade jag"
   ]
  }
 ],
 "metadata": {
  "kernelspec": {
   "display_name": "python-programming-YOUNIS-MOUSSAVI-yU_f8x7q",
   "language": "python",
   "name": "python3"
  },
  "language_info": {
   "codemirror_mode": {
    "name": "ipython",
    "version": 3
   },
   "file_extension": ".py",
   "mimetype": "text/x-python",
   "name": "python",
   "nbconvert_exporter": "python",
   "pygments_lexer": "ipython3",
   "version": "3.11.5"
  },
  "orig_nbformat": 4
 },
 "nbformat": 4,
 "nbformat_minor": 2
}
