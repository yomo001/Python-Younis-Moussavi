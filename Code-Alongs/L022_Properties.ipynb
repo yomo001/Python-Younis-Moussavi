{
 "cells": [
  {
   "cell_type": "markdown",
   "metadata": {},
   "source": [
    "# Properties (sing. Property, sv. Egenskap)\n",
    "A property is a python construction (or OOP concept) that works similar to an attribute, with the difference than an attribute stores (and reads) the value directly to memory, while a property uses getter and setter methods to change the values of the property - **it can use logical expressions, in contrast to only having it as a \"regular\" attribute**\n",
    "\n",
    "From the \"Outside\" (of the class definition) when the property of an object is set, the objects internal setter method will be called to handle the operation. This method is marked in the class definition by a decorator called {name}.setter (where \"name\" is the name of the property)\n",
    "\n",
    "When the property is read (from the \"outside\"), the objects internal getter method will be called to return a value. The getter method is marked in the the class definition by a decorator called @property\n",
    "\n",
    "**Egna:** \n",
    "Man behöver inte ha get och set som i java t.ex. \n",
    "@ kallas för \"decorator\". De skrivs innan en funktion och ändrar för hur en funktion fungerar.\n",
    "\n",
    "** **Egentligen handlar det om att man skapar ett enkelt \"interface\" där man kan ange enbart attribut namnet och samtidigt tillämpa logiska expressions, utan att behöva gå via metoder**\n",
    "   - **object.attributedecorated för att få fram eller object.attributedecorated = new_value för att ändra, samma som enbart attribut.** \n"
   ]
  },
  {
   "cell_type": "markdown",
   "metadata": {},
   "source": [
    "#### Tanken med properties är att när man kör den med olika instanser ser det ut som attribut, men i bakgrunden körs metoderna\n",
    "- Vanligt att privat attribut används med property, som heter samma sak som metodnamnet. Liksom exemplet med salary\n",
    " - Nedan är detta inte gjort.\n",
    " - Det man vinner med properties - kan lägga logik på hur man får ut attribute värdet. Så om man inte ska lägga på logik, så spelar det ingen större roll i hur det används. Alltså attribut kan man hämta och ändra direkt i minnet - inget mer. Properties kan man applicera logik på och det ger mer enkelhet. T.ex. man kallar attributet med bara dess namn, men tillbaka får vi den med ngn logik (t.ex. ett värde om input är negativt osv)\n",
    "  - Används vid enklare logik, t.ex. man har first och lastname och har fullname som en property och läser av båda. Klistra in hans kod nedan här från exemplet han visade. \n",
    " - Så om det enda property gör att returnera attributet, och setter också bara sätter nytt värde på attributet, så är det onödigt och blir samma sak som att direkt skriva ut objekt.attribut,   eller objekt.attribut = nytt_värde\n",
    " - Går att ha flera properties"
   ]
  },
  {
   "cell_type": "markdown",
   "metadata": {},
   "source": [
    "#### Här visas hur man har get och set metoder utan att använda property"
   ]
  },
  {
   "cell_type": "code",
   "execution_count": null,
   "metadata": {},
   "outputs": [],
   "source": [
    "class Employee:\n",
    "    def __init__(self, name, salary):\n",
    "        self.name = name       # Tar in parameter name och så att det skapas internt för objektet med self\n",
    "        self._salary = 0 if salary < 0 else salary    #TURNARY OPERATOR, hade passat här och användas istälelt för if sats nedan\n",
    "\n",
    "        # if salary < 0:\n",
    "        #     self.salary = 0    # Kan avgöra hur vi vill sätta default om lön är fel.\n",
    "        # else:\n",
    "        #     self.salary = salary\n",
    "    \n",
    "    def set_salary(self, salary):\n",
    "        self._salary = 0 if salary < 0 else salary\n",
    "\n",
    "    def get_salary(self):\n",
    "        return self._salary"
   ]
  },
  {
   "cell_type": "code",
   "execution_count": null,
   "metadata": {},
   "outputs": [],
   "source": [
    "employee = Employee(\"Anders\", 40000)\n",
    "employee2 = Employee(\"Bertil\", -40000)        # Hur gör vi så att den inte går att sätta till -40000?\n",
    "\n",
    "# employee = 50000    ; OBS ett int objekt har inget attribut som heter salary kan inte göra så direkt.\n",
    "\n",
    "\n",
    "employee.salary = 50000\n",
    "employee2.set_salary(-40000) # HÄR ÄNDRAS DET \"INNANFÖR\", VIA METODEN OCH DET ÄR OK VID UNDERSCORE.ATTRIBUT(Privat)\n",
    "\n",
    "employee._salary = -50       # HÄR ÄNDRAS DET UTANFÖR, vilket man inte vill om det är underscore innan. Man vil latt det ska gå via metoden. UNDERSCORE SIGNALERAR ATT DETTA ÄR PRIVAT VARIABEL SOM INTE SKA ÄNDRAS UTANFÖR KLASSEN\n",
    "\n",
    "print(employee.salary)\n",
    "print(employee2.salary)\n",
    "\n",
    "print(employee.get_salary())\n",
    "print(employee2.get_salary())"
   ]
  },
  {
   "cell_type": "markdown",
   "metadata": {},
   "source": [
    "#### Här visas hur man gör när man använder properties istället"
   ]
  },
  {
   "cell_type": "code",
   "execution_count": null,
   "metadata": {},
   "outputs": [],
   "source": [
    "class Employee:\n",
    "    def __init__(self, name, salary):\n",
    "        self.name = name       # Det \"vanliga\" - Tar in parameter name och så att det skapas internt för objektet med self\n",
    "        self._salary = salary  # Underscore för att markera privat attribut, brukar göras så särskilt med decoratorn property\n",
    "\n",
    "    @property                  # Getter decorator\n",
    "    def salary(self):\n",
    "        return self._salary        # underscore före attribut: inte tänkt att ändras eller skrivas av utanför klassdefinitionen, och inte krocka med properties nämner han, hur inte krocka?\n",
    "\n",
    "    @salary.setter              # Setter decorator ,  @property hämtar härifrån\n",
    "    def salary(self, salary):\n",
    "        self._salary = 0 if salary < 0 else salary"
   ]
  },
  {
   "cell_type": "code",
   "execution_count": null,
   "metadata": {},
   "outputs": [],
   "source": [
    "employee = Employee(\"Anders\", 40000)\n",
    "employee2 = Employee(\"Bertil\", -40000)        # Hur gör vi så att den inte går att sätta till -40000?\n",
    "\n",
    "# employee = 50000    ; OBS ett int objekt har inget attribut som heter salary kan inte göra så direkt.\n",
    "\n",
    "employee.salary = -5000        \n",
    "print(employee.salary)"
   ]
  },
  {
   "cell_type": "markdown",
   "metadata": {},
   "source": [
    "#### Mer exempel med properties"
   ]
  },
  {
   "cell_type": "code",
   "execution_count": null,
   "metadata": {},
   "outputs": [],
   "source": [
    "class Person:\n",
    "    def __init__(self, firstname, lastname):\n",
    "        self.firstname = firstname\n",
    "        self.lastname = lastname\n",
    "\n",
    "    @property                # tar du bort property här, och försöker anropa print(person.fullname) så hänvisas till minnesplats\n",
    "    def fullname(self):\n",
    "        return f\"{self.firstname} {self.lastname}\"    # När den är dekorerad med property så hämtas return direkt via metoden.\n",
    "    \n",
    "person = Person(\"Fredrik\", \"Johansson\")\n",
    "# print(person.firstname, person.lastname)\n",
    "\n",
    "# Getter och setter via property, hur det görs i kod, fullname = property här.\n",
    "name = person.fullname        # här anropar den ngt, fullname är en property som anropar en getter metod i detta fall.\n",
    "person.fullname = name       # Här sätter den fullname till name , men då vi inte har med setter så funkar det inte. \n",
    "\n",
    "\n",
    "print(person.fullname)\n",
    "\n"
   ]
  },
  {
   "cell_type": "markdown",
   "metadata": {},
   "source": [
    "#### Fler exempel på hur det kan användas för att returnera annat än enbart attribut när attribut namn anges, t.ex. första bokstav på efternamn. Påvisar skillnad där firstname enbart är attribut, och lastname är property så där kan man tillämpa logiker"
   ]
  },
  {
   "cell_type": "code",
   "execution_count": 2,
   "metadata": {},
   "outputs": [
    {
     "name": "stdout",
     "output_type": "stream",
     "text": [
      "Fredrik\n",
      "J\n",
      "Kalle K\n"
     ]
    }
   ],
   "source": [
    "class Person:\n",
    "    def __init__(self, firstname, lastname):\n",
    "        self.firstname = firstname\n",
    "        self._lastname = lastname\n",
    "\n",
    "    @property                # tar du bort property här, och försöker anropa print(person.lastname) så hänvisas till minnesplats\n",
    "    def lastname(self):\n",
    "        return self._lastname[0]    # När den är dekorerad med property så hämtas return direkt via metoden, med logiker.\n",
    "\n",
    "    @lastname.setter\n",
    "    def lastname(self, name):\n",
    "        self._lastname = name\n",
    "\n",
    "person = Person(\"Fredrik\", \"Johansson\")\n",
    "\n",
    "name = person.firstname\n",
    "print(name)\n",
    "person.firstname =\"Kalle\"\n",
    "\n",
    "name =person.lastname\n",
    "print(name)\n",
    "person.lastname = \"Karlsson\"\n",
    "\n",
    "print(person.firstname, person.lastname)"
   ]
  },
  {
   "cell_type": "markdown",
   "metadata": {},
   "source": [
    "#### Exempel på uppgift , sätta ålder mellan 0 - 100, egen lösning"
   ]
  },
  {
   "cell_type": "code",
   "execution_count": 3,
   "metadata": {},
   "outputs": [
    {
     "data": {
      "text/plain": [
       "-10000"
      ]
     },
     "execution_count": 3,
     "metadata": {},
     "output_type": "execute_result"
    }
   ],
   "source": [
    "class Person:\n",
    "    def __init__(self, firstname, lastname, age):\n",
    "        self.firstname = firstname\n",
    "        self.lastname = lastname\n",
    "        self._age = age\n",
    "\n",
    "    @property                # tar du bort property här, och försöker anropa print(person.fullname) så hänvisas till minnesplats\n",
    "    def age(self):\n",
    "        return self._age   # När den är dekorerad med property så hämtas return direkt via metoden.\n",
    "\n",
    "    @age.setter\n",
    "    def age (self, age):\n",
    "        self._age = 0 if  age < 0 else age\n",
    "        self._age = 100 if  age > 100 else age\n",
    "\n",
    "person = Person(\"Fredrik\", \"Johansson\", -10000) \n",
    "\n",
    "person.age"
   ]
  },
  {
   "cell_type": "markdown",
   "metadata": {},
   "source": [
    "#### Fredriks genomgång av samma uppgift, ange age och alltid få värde mellan 0 och 100"
   ]
  },
  {
   "cell_type": "code",
   "execution_count": 4,
   "metadata": {},
   "outputs": [
    {
     "data": {
      "text/plain": [
       "100"
      ]
     },
     "execution_count": 4,
     "metadata": {},
     "output_type": "execute_result"
    }
   ],
   "source": [
    "# Hans genomgång, exempel om det är utanför definition i init\n",
    "\n",
    "\n",
    "class Person:\n",
    "    def __init__(self, firstname, lastname):\n",
    "        self.firstname = firstname\n",
    "        self.lastname = lastname\n",
    "   \n",
    "    @property\n",
    "    def age(self):\n",
    "        return self._age\n",
    "\n",
    "    @age.setter\n",
    "    def age(self, age):\n",
    "        if type(age) != int(age):   # om man vill ha det beteendet, \n",
    "            self._age = 0\n",
    "        if age < 0:\n",
    "            self._age = 0\n",
    "        elif age > 100:\n",
    "            self._age = 100\n",
    "        else:\n",
    "            self_age = age\n",
    "\n",
    "person = Person(\"Fredrik\", \"Johansson\") \n",
    "\n",
    "person.age = 10000\n",
    "\n",
    "person.age"
   ]
  },
  {
   "cell_type": "markdown",
   "metadata": {},
   "source": [
    "#### Lite övriga frågor, framförallt om \"privata attribut\" och ändring av dessa samt svar på ovan uppgift\n",
    "- Måste man ha __init__?\n",
    "   - En default init finns, går att instansera objekt av klass utan init funktionen men då används den som är default, när vi lägger\n",
    "     till det så ersätts defaulten\n",
    "- I andra språk kan man inte ändra encapsulated, \"Privat attribut\", men det kan man i python. Ange underscore för att påvisa att det är ett privat attribut.Inte ska ändras utanför klassdefinition. Man vill då att det ska gå via metoden (t.ex. via set_salary): **objekt.metod_ändra_attribut(argument)**, inte **objekt._attribut = direkt_ändring**\n",
    "- Ange stora bokstäver för att påvisa att man inte vill att något ska ändras i vissa fall, när det är **KONSTANTER SOM ALDRIG SKA ÄNDRAS.**"
   ]
  }
 ],
 "metadata": {
  "kernelspec": {
   "display_name": "python-programming-YOUNIS-MOUSSAVI-yU_f8x7q",
   "language": "python",
   "name": "python3"
  },
  "language_info": {
   "codemirror_mode": {
    "name": "ipython",
    "version": 3
   },
   "file_extension": ".py",
   "mimetype": "text/x-python",
   "name": "python",
   "nbconvert_exporter": "python",
   "pygments_lexer": "ipython3",
   "version": "3.11.5"
  },
  "orig_nbformat": 4
 },
 "nbformat": 4,
 "nbformat_minor": 2
}
