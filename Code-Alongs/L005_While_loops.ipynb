{
 "cells": [
  {
   "cell_type": "markdown",
   "metadata": {},
   "source": [
    "#  Loops \n",
    "Python has two primitive loops commands:\n",
    "- while loops\n",
    "- for loops\n",
    "\n"
   ]
  },
  {
   "cell_type": "markdown",
   "metadata": {},
   "source": [
    "## The while loop\n",
    "Executes a set of statements as long as a condition is true"
   ]
  },
  {
   "cell_type": "code",
   "execution_count": 4,
   "metadata": {},
   "outputs": [
    {
     "name": "stdout",
     "output_type": "stream",
     "text": [
      "End.\n",
      "10: Hello world\n",
      " 8: Hello world\n",
      " 6: Hello world\n",
      " 4: Hello world\n",
      " 2: Hello world\n",
      "End.\n"
     ]
    }
   ],
   "source": [
    "while False:\n",
    "    print(\"Hello world\")\n",
    "print(\"End.\")\n",
    "\n",
    "#while True:                  Evig loop\n",
    "#    print(\"Hello world\")\n",
    "#print(\"End.\")\n",
    "\n",
    "counter = 10\n",
    "while counter > 0:\n",
    "    print(f\"{counter:2d}: Hello world\")\n",
    "    counter -= 2      # = counter = counter - 2\n",
    "\n",
    "print(\"End.\")\n"
   ]
  },
  {
   "cell_type": "markdown",
   "metadata": {},
   "source": [
    "## The break statement\n",
    "Used to stop the loop immediatly "
   ]
  },
  {
   "cell_type": "code",
   "execution_count": 5,
   "metadata": {},
   "outputs": [
    {
     "name": "stdout",
     "output_type": "stream",
     "text": [
      "10: Hello world!\n",
      " 9: Hello world!\n",
      " 8: Hello world!\n",
      " 7: Hello world!\n",
      " 6: Hello world!\n",
      " 5: Hello world!\n",
      " 4: Hello world!\n",
      " 3: Hello world!\n",
      " 2: Hello world!\n",
      " 1: Hello world!\n",
      "End\n"
     ]
    }
   ],
   "source": [
    "counter = 10\n",
    "\n",
    "while True:\n",
    "    print(f\"{counter:2d}: Hello world!\")\n",
    "    counter -= 1\n",
    "    if counter <= 0: break\n",
    "print(\"End\")"
   ]
  },
  {
   "cell_type": "markdown",
   "metadata": {},
   "source": [
    "## The continue statement\n",
    "Used to stop the current iteration (loop) of the loop, and continue with the next. Code next to continue will not be looped, rather it starts again from beginning."
   ]
  },
  {
   "cell_type": "code",
   "execution_count": 7,
   "metadata": {},
   "outputs": [
    {
     "name": "stdout",
     "output_type": "stream",
     "text": [
      "Print this!\n",
      "Print this!\n",
      "Print this!\n",
      "Print this!\n",
      "Print this!\n",
      "End.\n"
     ]
    }
   ],
   "source": [
    "counter = 0 \n",
    "while counter < 5:\n",
    "    counter += 1\n",
    "    print(\"Print this!\")\n",
    "    continue\n",
    "    print(\"Dont print this\")    # this line is skipped and the loop starts iterating from the beginning again.\n",
    "print(\"End.\") "
   ]
  },
  {
   "cell_type": "code",
   "execution_count": 8,
   "metadata": {},
   "outputs": [
    {
     "name": "stdout",
     "output_type": "stream",
     "text": [
      "Print this!\n",
      "Print this!\n",
      "Print this!\n",
      "Dont print this\n",
      "Print this!\n",
      "Dont print this\n",
      "Print this!\n",
      "Dont print this\n",
      "End.\n"
     ]
    }
   ],
   "source": [
    "counter = 0 \n",
    "while counter < 5:\n",
    "    counter += 1\n",
    "    print(\"Print this!\")\n",
    "    if(counter < 3): continue\n",
    "    print(\"Dont print this\")    # this line is skipped and the loop starts iterating from the beginning again.\n",
    "print(\"End.\") "
   ]
  },
  {
   "cell_type": "markdown",
   "metadata": {},
   "source": [
    "## The else statement\n",
    "Used to specify a block of code to be executed when the loop is finished.\n",
    "\n",
    "**Note:** *The else block will NOT be executed if the loop is stopped by a break statement. * Läraren använder inte denna, ej van då detta inte finns i andra språk. Men säger att det säkert finns fall där det kan användas."
   ]
  },
  {
   "cell_type": "code",
   "execution_count": 10,
   "metadata": {},
   "outputs": [
    {
     "name": "stdout",
     "output_type": "stream",
     "text": [
      "10: Hello world\n",
      " 8: Hello world\n",
      " 6: Hello world\n",
      " 4: Hello world\n",
      " 2: Hello world\n",
      "End.\n"
     ]
    }
   ],
   "source": [
    "counter = 10\n",
    "while counter > 0:\n",
    "    print(f\"{counter:2d}: Hello world\")\n",
    "    counter -= 2      # = counter = counter - 2\n",
    "else:\n",
    "    print(\"End.\")"
   ]
  }
 ],
 "metadata": {
  "kernelspec": {
   "display_name": "Python 3",
   "language": "python",
   "name": "python3"
  },
  "language_info": {
   "codemirror_mode": {
    "name": "ipython",
    "version": 3
   },
   "file_extension": ".py",
   "mimetype": "text/x-python",
   "name": "python",
   "nbconvert_exporter": "python",
   "pygments_lexer": "ipython3",
   "version": "3.11.5"
  },
  "orig_nbformat": 4
 },
 "nbformat": 4,
 "nbformat_minor": 2
}
