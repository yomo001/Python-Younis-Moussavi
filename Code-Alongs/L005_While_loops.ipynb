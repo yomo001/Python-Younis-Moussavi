{
 "cells": [
  {
   "cell_type": "markdown",
   "metadata": {},
   "source": [
    "#  Loops \n",
    "Python has two primitive loops commands:\n",
    "- while loops\n",
    "- for loops\n",
    "\n"
   ]
  },
  {
   "cell_type": "markdown",
   "metadata": {},
   "source": [
    "## The while loop\n",
    "Executes a set of statements as long as a condition is true"
   ]
  },
  {
   "cell_type": "code",
   "execution_count": 10,
   "metadata": {},
   "outputs": [
    {
     "name": "stdout",
     "output_type": "stream",
     "text": [
      "End.\n",
      "10: Hello world\n",
      " 8: Hello world\n",
      " 6: Hello world\n",
      " 4: Hello world\n",
      " 2: Hello world\n",
      "End.\n"
     ]
    }
   ],
   "source": [
    "while False:\n",
    "    print(\"Hello world\")\n",
    "print(\"End.\")\n",
    "\n",
    "#while True:                  Evig loop\n",
    "#    print(\"Hello world\")\n",
    "#print(\"End.\")\n",
    "\n",
    "counter = 10\n",
    "while counter > 0:\n",
    "    print(f\"{counter:2d}: Hello world\")\n",
    "    counter -= 2      # = counter = counter - 2\n",
    "\n",
    "print(\"End.\")\n"
   ]
  },
  {
   "cell_type": "markdown",
   "metadata": {},
   "source": [
    "## The break statement\n",
    "Used to stop the loop immediatly "
   ]
  },
  {
   "cell_type": "code",
   "execution_count": null,
   "metadata": {},
   "outputs": [],
   "source": [
    "counter = 10\n",
    "\n",
    "while True:\n",
    "    print(f\"{counter:2d}: Hello world!\")\n",
    "    counter =- 1\n",
    "    if counter <= 0: break\n",
    "print(\"End\")"
   ]
  }
 ],
 "metadata": {
  "kernelspec": {
   "display_name": "Python 3",
   "language": "python",
   "name": "python3"
  },
  "language_info": {
   "codemirror_mode": {
    "name": "ipython",
    "version": 3
   },
   "file_extension": ".py",
   "mimetype": "text/x-python",
   "name": "python",
   "nbconvert_exporter": "python",
   "pygments_lexer": "ipython3",
   "version": "3.11.5"
  },
  "orig_nbformat": 4
 },
 "nbformat": 4,
 "nbformat_minor": 2
}
