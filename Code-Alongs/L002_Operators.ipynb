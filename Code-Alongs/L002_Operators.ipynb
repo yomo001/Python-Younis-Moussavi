{
 "cells": [
  {
   "cell_type": "markdown",
   "metadata": {},
   "source": [
    "# Operators\n",
    "An operator in a programming language is a symbol that tells the compiler or interpreter to perform specific mathematical, relational or logical operation and produce final result.\n"
   ]
  },
  {
   "cell_type": "markdown",
   "metadata": {},
   "source": [
    "## Aritmetic operators\n",
    "- Addition +\n",
    "- Subtraction -\n",
    "- Multiplication *\n",
    "- Division /\n",
    "- Floor Division //  Man får enbart ut antal heltal som nämnaren passar i täljaren, resten över. T.ex. 9 // 2 = 4\n",
    "- Modulus %  Denna är för att få ut resten, det som blir över från 9/2, d.v.s. 1. 9 % 2 = 1\n",
    "- Exponentiation **\n",
    "\n",
    "# Precedence \n",
    "See relevant table"
   ]
  },
  {
   "cell_type": "code",
   "execution_count": 5,
   "metadata": {},
   "outputs": [
    {
     "name": "stdout",
     "output_type": "stream",
     "text": [
      "4.5\n",
      "4\n",
      "1\n",
      "9\n"
     ]
    }
   ],
   "source": [
    "print(9 / 2)\n",
    "\n",
    "print(9 // 2) \n",
    "print(9 % 2)\n",
    "\n",
    "print(3**2)"
   ]
  },
  {
   "cell_type": "markdown",
   "metadata": {},
   "source": [
    "# Comparison operation (sv. jämförelseoperatorer)\n",
    "- Equal ==\n",
    "- Not Equal !=\n",
    "- Greater than >\n",
    "- Less than <\n",
    "- Less or Equal <=\n",
    "- Greater or Equal >="
   ]
  },
  {
   "cell_type": "code",
   "execution_count": 11,
   "metadata": {},
   "outputs": [
    {
     "name": "stdout",
     "output_type": "stream",
     "text": [
      "False\n",
      "True\n",
      "True\n",
      "False\n",
      "False\n",
      "False\n"
     ]
    }
   ],
   "source": [
    "x = 6\n",
    "\n",
    "print(x == 5)\n",
    "print(x != 5)\n",
    "print(5 <= 5)\n",
    "print(5 < 5)\n",
    "\n",
    "X = 15\n",
    "\n",
    "print(x > 10 and x < 20)\n",
    "print(10 < x < 20)"
   ]
  },
  {
   "cell_type": "markdown",
   "metadata": {},
   "source": [
    "# Logical operators\n",
    "- and (true if both are true)\n",
    "- or (true if one or both are true)\n",
    "- not (true if false, false if true)"
   ]
  },
  {
   "cell_type": "code",
   "execution_count": 10,
   "metadata": {},
   "outputs": [
    {
     "name": "stdout",
     "output_type": "stream",
     "text": [
      "False\n",
      "True\n",
      "True\n",
      "True\n",
      "False\n",
      "False\n"
     ]
    }
   ],
   "source": [
    "print(True and False)\n",
    "print(True or False)\n",
    "print(not False)\n",
    "\n",
    "print(\"Fredrik\" < \"Frida\")\n",
    "\n"
   ]
  },
  {
   "cell_type": "markdown",
   "metadata": {},
   "source": [
    "# Operator precedence\n",
    "Operator precedence describes the order in which operations are performed.\n",
    "\n",
    "https://www.w3schools.com/python/python_operators.asp\n"
   ]
  },
  {
   "cell_type": "markdown",
   "metadata": {},
   "source": [
    "# Membership operators\n",
    "Membership operators are used to test if a sequence is presented in an object:\n",
    "- in\n",
    "- not in\n"
   ]
  },
  {
   "cell_type": "code",
   "execution_count": 6,
   "metadata": {},
   "outputs": [
    {
     "name": "stdout",
     "output_type": "stream",
     "text": [
      "'Orange' in fruits = True\n",
      "'Orange' not in fruits = False\n"
     ]
    }
   ],
   "source": [
    "fruits = [\"apple\", \"banana\", \"cherry\", \"Orange\", \"apple\"]\n",
    "print(f\"{'Orange' in fruits = }\")\n",
    "print(f\"{'Orange' not in fruits = }\")"
   ]
  }
 ],
 "metadata": {
  "kernelspec": {
   "display_name": "Python 3",
   "language": "python",
   "name": "python3"
  },
  "language_info": {
   "codemirror_mode": {
    "name": "ipython",
    "version": 3
   },
   "file_extension": ".py",
   "mimetype": "text/x-python",
   "name": "python",
   "nbconvert_exporter": "python",
   "pygments_lexer": "ipython3",
   "version": "3.11.5"
  },
  "orig_nbformat": 4
 },
 "nbformat": 4,
 "nbformat_minor": 2
}
