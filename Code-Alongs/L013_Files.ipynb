{
 "cells": [
  {
   "cell_type": "markdown",
   "metadata": {},
   "source": [
    "# Load and save data to files\n",
    "Filändelser är associerade med ett program, och operativsystemet gör att det programmet öppnas när filen klickas på och sedan laddas upp i det programmet.\n",
    "\n",
    "We can categorize files into 2 main categories, text files and binary files. \n",
    "- Text files store text / characters in a human readable format. \n",
    "- Binary files stores byte data (1's and 0's) that only computers understand. \n",
    "\n",
    "## Common text based files to store data\n",
    "Samtliga nedan är textdata strukturerade olika\n",
    "- **.txt** Plain english (or other language) text. Se exempel när vi sparar ned namn i lista nedan i kod\n",
    "- **.csv** Comma separated values, utifrån exempel nedan när vi sparar ned namn i en lista, tänk att man vill spara fler sådana kolumner i datat. Första rad labels sedan data\n",
    "- **.json** \n",
    "(Syntax som dictionary, om det läses in via dess paket i python fås det ut som dictionary (\"object\") och man kommer åt dess data via detta sätt)\n",
    "\n",
    "\n",
    "## File names and file paths\n",
    "\n",
    "A file name usually has two parts, the name and the file extension, separated with a dot (name.extension)\n",
    "\n",
    "\n",
    "e.g. hello.txt data.json myimage.jpg\n",
    "\n",
    "Paths can be expressedeither relative or absolute. \n",
    "- **Absolute:** Full path to access a file or folder. Ex. c:\\users\\younis\\documents\\myfile.txt\n",
    "- **Relative:** Relative from the current active folder: data\\data.json  \n",
    "\n",
    "## File modes\n",
    "It's possible to open a file in python in different modes:\n",
    "- **'r':** for reading (default)\n",
    "- **'a':** for appending (also writing, but keeps existing content and append new content at end of file)\n",
    "- **'w':** for writing (overwrites everything in file)\n",
    "- **'x':** Creates the specified file, returns an error if the file exists\n"
   ]
  },
  {
   "cell_type": "markdown",
   "metadata": {},
   "source": [
    "# Open file for reading"
   ]
  },
  {
   "cell_type": "code",
   "execution_count": 3,
   "metadata": {},
   "outputs": [
    {
     "name": "stdout",
     "output_type": "stream",
     "text": [
      "Testing how to change the entire content in a textfile by python\n",
      "Test\n",
      "Test 2\n",
      "\n"
     ]
    }
   ],
   "source": [
    "file = open(\"..\\data\\hello.txt\")      \n",
    "\n",
    "content = file.read()\n",
    "\n",
    "print(content)\n",
    "\n",
    "file.close()"
   ]
  },
  {
   "cell_type": "markdown",
   "metadata": {},
   "source": [
    "# Open with context management\n",
    "Preferred way to do it, minimizing the risk to introduce bugs in the code. "
   ]
  },
  {
   "cell_type": "code",
   "execution_count": 2,
   "metadata": {},
   "outputs": [
    {
     "name": "stdout",
     "output_type": "stream",
     "text": [
      "Test 2\n"
     ]
    }
   ],
   "source": [
    "new_content = input(\"Enter text: \")\n",
    "\n",
    "with open(\"..\\\\data\\\\hello.txt\", \"a\") as file:    \n",
    "    file.write(new_content + '\\n')\n",
    "    print(new_content)\n",
    "    "
   ]
  },
  {
   "cell_type": "markdown",
   "metadata": {},
   "source": [
    "# Open file for writing"
   ]
  },
  {
   "cell_type": "code",
   "execution_count": 7,
   "metadata": {},
   "outputs": [
    {
     "name": "stdout",
     "output_type": "stream",
     "text": [
      "Testing how to change the entire content in a textfile by python\n"
     ]
    }
   ],
   "source": [
    "new_content = input(\"Enter text: \")\n",
    "\n",
    "with open(\"..\\\\data\\\\hello.txt\", \"w\") as file:\n",
    "    file.write(new_content)\n",
    "\n",
    "    print(new_content)"
   ]
  },
  {
   "cell_type": "markdown",
   "metadata": {},
   "source": [
    "# Mini-uppgift\n",
    "Skapa ett program som har en tom lista. När programmet körs får användaren mata in namn(input) i en loop tills användaren matar in en tom rad. När den är klar så skrivs alla namn ut på skärmen, samt sparas till en fil (med ett namn på varje rad). Nästa gång man startar programmet så läser den in de befintliga namnen."
   ]
  },
  {
   "cell_type": "code",
   "execution_count": 1,
   "metadata": {},
   "outputs": [
    {
     "name": "stdout",
     "output_type": "stream",
     "text": [
      "['Mohammad', 'Hossein', 'Ali', 'Younis', 'Younis', 'Mohammad', 'Ali']\n",
      "Names are saved!\n"
     ]
    }
   ],
   "source": [
    "with open(\"..\\\\data\\\\namelist.txt\", \"r\") as file:\n",
    "    #names = file.readlines()   #Läser in radvis men lägger till newline(backslash n), därför strippas de, annars adderas på varandra då writelines inte lägger till\n",
    "    names = [name.strip(\"\\n\") for name in file.readlines()]  #list comprehension\n",
    "\n",
    "while True:\n",
    "    name = input(\"Enter name: \")\n",
    "    if not name: break\n",
    "    names.append(name)\n",
    "\n",
    "print(names)\n",
    "\n",
    "#for name in names:\n",
    "#    print(name)\n",
    "\n",
    "with open(\"..\\\\data\\\\namelist.txt\", \"w\") as file:    \n",
    "    file.writelines([name + '\\n' for name in names]) #skriver om alla namn i listan, de från början o de jag lagt till, därför alla är kvar. Lägger ej newline dock o bara efter varandra, så vi lägger in det här\n",
    "\n",
    "print(\"Names are saved!\")"
   ]
  },
  {
   "cell_type": "markdown",
   "metadata": {},
   "source": [
    "# Write .CSV file"
   ]
  },
  {
   "cell_type": "code",
   "execution_count": 1,
   "metadata": {},
   "outputs": [
    {
     "name": "stdout",
     "output_type": "stream",
     "text": [
      "[{'name': 'adam', 'class': 'AI23', 'email': 'adam@gmail.com'}, {'name': 'kalle', 'class': 'AI23', 'email': 'kalle@gmail.com'}, {'name': 'eva', 'class': 'AI22', 'email': 'eva@hotmail.com'}]\n"
     ]
    }
   ],
   "source": [
    "students = [\n",
    "    {\"name\": \"adam\", \"class\": \"AI23\", \"email\": \"adam@gmail.com\"},\n",
    "    {\"name\": \"kalle\", \"class\": \"AI23\", \"email\": \"kalle@gmail.com\"},\n",
    "    {\"name\": \"eva\", \"class\": \"AI22\", \"email\": \"eva@hotmail.com\"},\n",
    "] #List of dictionaries\n",
    "\n",
    "print(students)\n",
    "\n",
    "with open(\"..\\\\data\\\\students.csv\", \"w\") as file:\n",
    "    for student in students:\n",
    "        file.write(f\"{student['name']}, {student['class']}, {student['email']}\\n\") #Notera \\n på slutet\n",
    "        #THIS IS DONE SINCE YOU NEVER CAN TYPE DICTIONARY DATA OR OTHER TO FILES; ONLY TEXT OR BINARY DATA."
   ]
  },
  {
   "cell_type": "markdown",
   "metadata": {},
   "source": [
    "# Using csv package\n",
    "För att läsa in csv filer i python (reverse the above method)"
   ]
  },
  {
   "cell_type": "code",
   "execution_count": 2,
   "metadata": {},
   "outputs": [
    {
     "ename": "KeyError",
     "evalue": "'name'",
     "output_type": "error",
     "traceback": [
      "\u001b[1;31m---------------------------------------------------------------------------\u001b[0m",
      "\u001b[1;31mKeyError\u001b[0m                                  Traceback (most recent call last)",
      "\u001b[1;32mc:\\Users\\yonis\\Documents\\GitHub\\python-programming-YOUNIS-MOUSSAVI\\Code-Alongs\\L013_Files.ipynb Cell 13\u001b[0m line \u001b[0;36m1\n\u001b[0;32m      <a href='vscode-notebook-cell:/c%3A/Users/yonis/Documents/GitHub/python-programming-YOUNIS-MOUSSAVI/Code-Alongs/L013_Files.ipynb#X15sZmlsZQ%3D%3D?line=5'>6</a>\u001b[0m     reader \u001b[39m=\u001b[39m csv\u001b[39m.\u001b[39mDictReader(file)     \u001b[39m#Reads into a dictionary at once\u001b[39;00m\n\u001b[0;32m      <a href='vscode-notebook-cell:/c%3A/Users/yonis/Documents/GitHub/python-programming-YOUNIS-MOUSSAVI/Code-Alongs/L013_Files.ipynb#X15sZmlsZQ%3D%3D?line=7'>8</a>\u001b[0m     \u001b[39mfor\u001b[39;00m row \u001b[39min\u001b[39;00m reader:\n\u001b[0;32m      <a href='vscode-notebook-cell:/c%3A/Users/yonis/Documents/GitHub/python-programming-YOUNIS-MOUSSAVI/Code-Alongs/L013_Files.ipynb#X15sZmlsZQ%3D%3D?line=8'>9</a>\u001b[0m         \u001b[39m#print(row[\"name\"])\u001b[39;00m\n\u001b[1;32m---> <a href='vscode-notebook-cell:/c%3A/Users/yonis/Documents/GitHub/python-programming-YOUNIS-MOUSSAVI/Code-Alongs/L013_Files.ipynb#X15sZmlsZQ%3D%3D?line=9'>10</a>\u001b[0m         students\u001b[39m.\u001b[39mappend({\u001b[39m\"\u001b[39m\u001b[39mname\u001b[39m\u001b[39m\"\u001b[39m: row[\u001b[39m\"\u001b[39;49m\u001b[39mname\u001b[39;49m\u001b[39m\"\u001b[39;49m], \u001b[39m\"\u001b[39m\u001b[39mclass\u001b[39m\u001b[39m\"\u001b[39m: row[\u001b[39m\"\u001b[39m\u001b[39mclass\u001b[39m\u001b[39m\"\u001b[39m], \u001b[39m\"\u001b[39m\u001b[39memail\u001b[39m\u001b[39m\"\u001b[39m: row[\u001b[39m\"\u001b[39m\u001b[39memail\u001b[39m\u001b[39m\"\u001b[39m]})  \u001b[39m#första nyckel jag anger här är valfri men andra från row spelar roll\u001b[39;00m\n\u001b[0;32m     <a href='vscode-notebook-cell:/c%3A/Users/yonis/Documents/GitHub/python-programming-YOUNIS-MOUSSAVI/Code-Alongs/L013_Files.ipynb#X15sZmlsZQ%3D%3D?line=11'>12</a>\u001b[0m \u001b[39mprint\u001b[39m(students)\n",
      "\u001b[1;31mKeyError\u001b[0m: 'name'"
     ]
    }
   ],
   "source": [
    "import csv\n",
    "\n",
    "students = []\n",
    "\n",
    "with open(\"..\\\\data\\\\students.csv\") as file:\n",
    "    reader = csv.DictReader(file)     #Reads into a dictionary at once\n",
    "\n",
    "    for row in reader:\n",
    "        #print(row[\"name\"])\n",
    "        students.append({\"name\": row[\"name\"], \"class\": row[\"class\"], \"email\": row[\"email\"]})  #första nyckel jag anger här är valfri men andra från row spelar roll\n",
    "\n",
    "print(students)\n"
   ]
  },
  {
   "cell_type": "markdown",
   "metadata": {},
   "source": [
    "## Json serialization and deserialization\n",
    "Paketet gör detta: Tar objekt i python (t.ex. dictionary) o gör om till textsträng enlig json formatet som kan skrivas till fil. Omvänt tar man json kod, deserialiserar o får ut som python objekt.\n",
    "\n"
   ]
  },
  {
   "cell_type": "code",
   "execution_count": 7,
   "metadata": {},
   "outputs": [],
   "source": [
    "import json\n",
    "\n",
    "# Ta detta teacher objekt , serialisera till Json o få ut som fik\n",
    "\n",
    "teacher = {\n",
    "    \"firstname\":\"Fredrik\",\n",
    "    \"lastname\":\"Johansson\", \n",
    "    \"age\":42,\n",
    "    \"languages\": [\"Python\", \"C#\", \"Javascript\"],\n",
    "    \"contact info\": {\n",
    "        \"phone\":\"0701981713\",\n",
    "        \"email\":\"younis@dvv.se\",\n",
    "        \"adress\": [\n",
    "            'sweden',\n",
    "            'lebanon'\n",
    "            ]\n",
    "        }\n",
    "    }\n",
    "\n",
    "serialized_data = json.dumps(teacher, indent=4)\n",
    "\n",
    "#print(serialized_data)\n",
    "# Vi hade kunnat göra print(teacher) då hade python gjort om till sträng åt oss\n",
    "# Men vi gör om till sträng vi Json o ser nästan lika ut, Json kod som kan skrivas till fil.\n",
    "\n",
    "with open(\"..\\\\data\\\\teacher.json\", \"w\") as file:\n",
    "    file.write(serialized_data)"
   ]
  },
  {
   "cell_type": "code",
   "execution_count": 10,
   "metadata": {},
   "outputs": [
    {
     "name": "stdout",
     "output_type": "stream",
     "text": [
      "{'firstname': 'Fredrik', 'lastname': 'Johansson', 'age': 42, 'languages': ['Python', 'C#', 'Javascript'], 'contact info': {'phone': '0701981713', 'email': 'younis@dvv.se', 'adress': ['sweden', 'lebanon']}}\n"
     ]
    }
   ],
   "source": [
    "with open(\"..\\\\data\\\\teacher.json\", \"r\") as file:\n",
    "    data = file.read()\n",
    "\n",
    "#print(data)   #obs får ut en sträng och kan därför bara använda strängmetoder på.\n",
    "teacher = json.loads(data)    # deserialize\n",
    "type(data)    #text, stärng\n",
    "type(teacher)   #dictionary, hade json data varit lista hade vi fått lista istället etc.\n",
    "\n",
    "print(teacher)    #visar samma som print(data) men olika datatyp. Allt som skrivs till filer ska vara text, o därför görs serialization och därefter när vi vill ha i \n",
    "# python igen görs deserialization (teacher)\n",
    "\n",
    "\n"
   ]
  },
  {
   "cell_type": "code",
   "execution_count": 19,
   "metadata": {},
   "outputs": [
    {
     "name": "stdout",
     "output_type": "stream",
     "text": [
      "205\n",
      "{'aspiration': 'std', 'body-style': 'convertible', 'bore': 3.47, 'city-mpg': 21.0, 'compression-ratio': '9', 'curb-weight': 2548, 'drive-wheels': 'rwd', 'engine-location': 'front', 'engine-size': 130.0, 'engine-type': 'dohc', 'fuel-system': 'mpfi', 'fuel-type': 'gas', 'height': 48.8, 'highway-mpg': 27.0, 'horsepower': 111.0, 'length': 168.8, 'make': 'alfa-romero', 'normalized-losses': None, 'num-of-cylinders': 'four', 'num-of-doors': 'two', 'peak-rpm': 5000.0, 'price': 13495.0, 'stroke': 2.68, 'symboling': 3.0, 'wheel-base': 88.6, 'width': 64.1}\n",
      "alfa-romero\n",
      "audi\n",
      "bmw\n",
      "chevrolet\n",
      "dodge\n",
      "honda\n",
      "isuzu\n",
      "jaguar\n",
      "mazda\n",
      "mercedes-benz\n",
      "mercury\n",
      "mitsubishi\n",
      "nissan\n",
      "peugot\n",
      "plymouth\n",
      "porsche\n",
      "renault\n",
      "saab\n",
      "subaru\n",
      "toyota\n",
      "volkswagen\n",
      "volvo\n"
     ]
    }
   ],
   "source": [
    "with open(\"..\\\\data\\\\autos_json.json\", \"r\") as file:\n",
    "    data = file.read()\n",
    "\n",
    "cars = json.loads(data) \n",
    "print(len(cars))    #antal bilar\n",
    "print(cars[0])     # få ut specifik bil\n",
    "\n",
    "#for key, value in cars[0].items():       #skriva ut key o dess values\n",
    "    #print(f\"{key} = {value}\")\n",
    "\n",
    "# få ut lista med alla \"make\" keys, skapa lista från befintlig lista\n",
    "\n",
    "\n",
    "#brands = [car[\"make\"] for car in cars]    \n",
    "brands = set([car[\"make\"] for car in cars])     #Få ut alla märken, unika?\n",
    "\n",
    "#for brand in brands: \n",
    "#    print(brand)\n",
    "\n",
    "for brand in sorted(brands):  # han sade något om att det inte längre är set då, returnerar lista, det görs om till lista igen för bara listor sorteras.\n",
    "    print(brand)\n",
    "\n"
   ]
  }
 ],
 "metadata": {
  "kernelspec": {
   "display_name": "python-programming-YOUNIS-MOUSSAVI-yU_f8x7q",
   "language": "python",
   "name": "python3"
  },
  "language_info": {
   "codemirror_mode": {
    "name": "ipython",
    "version": 3
   },
   "file_extension": ".py",
   "mimetype": "text/x-python",
   "name": "python",
   "nbconvert_exporter": "python",
   "pygments_lexer": "ipython3",
   "version": "3.11.5"
  },
  "orig_nbformat": 4
 },
 "nbformat": 4,
 "nbformat_minor": 2
}
