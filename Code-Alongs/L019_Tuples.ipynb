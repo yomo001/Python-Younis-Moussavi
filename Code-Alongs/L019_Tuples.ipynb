{
 "cells": [
  {
   "cell_type": "markdown",
   "metadata": {},
   "source": [
    "# Tuples\n",
    "- Tuples are used to store multiple items in a singe variable\n",
    "- Tuple items are ordered, unchangeable and allow duplicate values\n",
    "- Tuple allows different data types, and a mix of data types.\n",
    "- Tuple items are indexed, the first item has index [0], the second item has index [], and so on.\n",
    "- Tuples are written with round brackets. Ex. (), (1, ), (1, 2), (1, 2, 3) etc.\n",
    "\n",
    "Cannot append to Tuple, not used as list. It is typically used when we know exact what values we want, and do not need to change. To group a few values together in a variable. "
   ]
  },
  {
   "cell_type": "code",
   "execution_count": 5,
   "metadata": {},
   "outputs": [
    {
     "name": "stdout",
     "output_type": "stream",
     "text": [
      "my_tuple[0] = 'Fredrik'\n",
      "my_tuple = ('Kalle', 42, 'Everyloop')\n"
     ]
    }
   ],
   "source": [
    "# Create empty tuple\n",
    "\n",
    "empty_tuple = ()\n",
    "\n",
    "\n",
    "# Create tuple with one item\n",
    "single_item_tuple = (1, )\n",
    "\n",
    "# Create tuple with items\n",
    "my_tuple = (\"Fredrik\", 42, \"Everyloop\")\n",
    "\n",
    "# Tuples can be indexed (and sliced)\n",
    "print(f\"{my_tuple[0] = }\")\n",
    "\n",
    "# But individual items cannot be altered\n",
    "#my_tuple[0] = \"Kalle\"     # Type Error. \n",
    "\n",
    "# The workaround to alter items is to convert to list and back.\n",
    "\n",
    "my_list = list(my_tuple)\n",
    "my_list[0] = \"Kalle\"\n",
    "my_tuple = tuple(my_list)\n",
    "print(f\"{my_tuple = }\")\n",
    "\n"
   ]
  },
  {
   "cell_type": "markdown",
   "metadata": {},
   "source": [
    "# Unpacking a tuple\n",
    "When we create a tuple, normally assign values to it. This is called \"packing\" a tuple. Variables can also be packed, not only values. \n",
    "We are also allowed to extract the values back into variables. This is also called \"unpacking\"."
   ]
  },
  {
   "cell_type": "code",
   "execution_count": 7,
   "metadata": {},
   "outputs": [
    {
     "name": "stdout",
     "output_type": "stream",
     "text": [
      "name = 'Kalle'\n",
      "age = 42\n",
      "company = 'Everyloop'\n",
      "Kalle\n"
     ]
    }
   ],
   "source": [
    "# Assign variables to its values\n",
    "name, age, company = my_tuple\n",
    "\n",
    "# Unpacking\n",
    "print(f\"{name = }\")\n",
    "print(f\"{age = }\")\n",
    "print(f\"{company = }\")\n"
   ]
  },
  {
   "cell_type": "markdown",
   "metadata": {},
   "source": [
    "# Looping through a tuple"
   ]
  },
  {
   "cell_type": "code",
   "execution_count": 8,
   "metadata": {},
   "outputs": [
    {
     "name": "stdout",
     "output_type": "stream",
     "text": [
      "Kalle\n",
      "42\n",
      "Everyloop\n"
     ]
    }
   ],
   "source": [
    "for item in my_tuple:\n",
    "    print(item)"
   ]
  },
  {
   "cell_type": "code",
   "execution_count": 11,
   "metadata": {},
   "outputs": [
    {
     "name": "stdout",
     "output_type": "stream",
     "text": [
      "Kalle\n",
      "42\n",
      "Everyloop\n"
     ]
    }
   ],
   "source": [
    "for i in range(len(my_tuple)):\n",
    "    print(my_tuple[i])"
   ]
  },
  {
   "cell_type": "code",
   "execution_count": null,
   "metadata": {},
   "outputs": [],
   "source": []
  }
 ],
 "metadata": {
  "kernelspec": {
   "display_name": "python-programming-YOUNIS-MOUSSAVI-yU_f8x7q",
   "language": "python",
   "name": "python3"
  },
  "language_info": {
   "codemirror_mode": {
    "name": "ipython",
    "version": 3
   },
   "file_extension": ".py",
   "mimetype": "text/x-python",
   "name": "python",
   "nbconvert_exporter": "python",
   "pygments_lexer": "ipython3",
   "version": "3.11.5"
  },
  "orig_nbformat": 4
 },
 "nbformat": 4,
 "nbformat_minor": 2
}
