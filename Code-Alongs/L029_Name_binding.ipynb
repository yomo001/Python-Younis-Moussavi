{
 "cells": [
  {
   "cell_type": "markdown",
   "metadata": {},
   "source": [
    "# Name binding\n",
    "- Everything in python is an object, meaning every entity has some metadata (attributes) and associated functionality(methods). \n",
    "- Names can be bound to any object."
   ]
  },
  {
   "cell_type": "markdown",
   "metadata": {},
   "source": [
    "### Mutable vs immutable object\n",
    "- Numerics, strings and tuples are immutable, meaning their values can't change after they are created.\n",
    "- Almost everything else, including list, dictionaries and user-defined objects, are mutable, meaning the value has methods that can change the value **in-place**.\n"
   ]
  },
  {
   "cell_type": "code",
   "execution_count": 1,
   "metadata": {},
   "outputs": [
    {
     "name": "stdout",
     "output_type": "stream",
     "text": [
      "1 140734155383592\n",
      "2 140734155383624\n"
     ]
    }
   ],
   "source": [
    "# Påvisa att objekten är det till höger om likamed tecknet, och det till vänster är bara variabelnamn som pekar mot det objektets plats i minnet.\n",
    "# Samt hur ändring av värde som variabeln pekar mot, inte ändrar grundvärdet, utan istället skapar nytt objekt och variabelnamnet pekar dit istället\n",
    "\n",
    "a = 1                     # Vad händer? I python får värdet 1 en plats i minnet som blir ett objekt, som får en viss datatyp m.m. (metadata). Namnet/variabeln a refererar sedan till objektets plats i minnet, binds till det objektnamnet i minnet. \n",
    "print(a, id(a))           # id visar dess minnesplats\n",
    "\n",
    "a = 2                     # Vad händer? I python får värdet 2 en annan plats i minnet som blir ett objekt, som får en viss datatyp m.m. (metadata). Namnet/variabeln a refererar sedan till objektets plats i minnet, binds till det objektnamnet i minnet. \n",
    "print(a, id(a))           # Vid utskrift av id ser man att man nu har två olika objekt på olika platser i minnet.\n",
    "\n",
    "#Vad är skillnaden mot andra språk?\n",
    "    # Vad händer i andra språk? a blir istället referens till plats i minnet, och får ett värde som motsvarar 1 (i binärkod)\n",
    "    # Om vi sedan hade ändrat värdet till 2 liksom ovan, så hade samma plats i minnet uppdaterats med nytt värde. \n"
   ]
  },
  {
   "cell_type": "markdown",
   "metadata": {},
   "source": [
    "# Rebinding the name vs. mutating the value \n",
    "### (Rebinding: binder namnet till nytt objekt) vs (mutating: ändrar innehållet på samma värde, men samma objekt i minnet- går bara med mutables)\n",
    "- Variables in Python doesn't work the same way as in languages like c# and java. \n",
    "- ***a doesn't refer to a place in memory*** where we store different values in Python, in contrast to some other languages.\n",
    "- ***Rather, values themselves are objects in memory, and a is the name bound to it.***\n",
    "    - So, in Python: Changing from a = 1, to a = 2 doesn't mutate the value of 'a', but rather creates a new object '2' and rebinds a name to it."
   ]
  },
  {
   "cell_type": "code",
   "execution_count": 2,
   "metadata": {},
   "outputs": [
    {
     "name": "stdout",
     "output_type": "stream",
     "text": [
      "a = 1 140734155383592\n",
      "b = 1 140734155383592\n",
      "\n",
      "a = 1 140734155383592\n",
      "b = 2 140734155383624\n"
     ]
    }
   ],
   "source": [
    "a = 1              # Vi skapar objektet 1 i minnet, skapar name a som binds till den platsen i minnet. \n",
    "b = a              # Sedan skapas namn b som binds till samma objekt som a är bundet till\n",
    "                   # De kommer peka mot samma objekt i minnet eftersom objektet 1 redan finns.\n",
    "\n",
    "# Nu ser vi i utskriften att de pekar mot samma objekt i minnet\n",
    "print(f\"{a = }\", id(a))\n",
    "print(f\"{b = }\", id(b))\n",
    "\n",
    "print() \n",
    "\n",
    "b = 2             # Vi skapar objektet 2 i minnet, och nu kommer namnet b att peka på denna nya plats i minnet.  \n",
    "\n",
    "# Nu ser vi i utskriften att de pekar mot OLIKA objekt i minnet\n",
    "print(f\"{a = }\", id(a))\n",
    "print(f\"{b = }\", id(b))\n"
   ]
  },
  {
   "cell_type": "code",
   "execution_count": 3,
   "metadata": {},
   "outputs": [
    {
     "name": "stdout",
     "output_type": "stream",
     "text": [
      "cat_a = <__main__.Cat object at 0x000001DD98716B10> 2051256970000\n",
      "cat_a = <__main__.Cat object at 0x000001DD98716B10> 0x1dd98716b10\n"
     ]
    }
   ],
   "source": [
    "class Cat:\n",
    "    def __init__(self, name):\n",
    "        self.name = name\n",
    "\n",
    "cat_a = Cat(\"Bill\")\n",
    "\n",
    "\n",
    "print(f\"{cat_a = }\", id(cat_a))                     \n",
    "# printar namn på klassen och plats i minnet. Får då namn på klassen samt minnesplats                                      \n",
    "# __str__ och __repr__, ärvs och är inställda så att detta skrivs ut när objektet printas.\n",
    "    # MEN varför visas det olika minnestplatser mellan cat_a och ID vid utskrift?\n",
    "        # cat_a använder hexa decimalsystemet, och ID använder 10 decimalsystemet. Omvandlar man till hex får man samma, se nedan\n",
    "\n",
    "print(f\"{cat_a = }\", hex(id(cat_a)))\n",
    "\n"
   ]
  },
  {
   "cell_type": "code",
   "execution_count": 4,
   "metadata": {},
   "outputs": [
    {
     "name": "stdout",
     "output_type": "stream",
     "text": [
      "cat_a.name = 'Bill' 2051257056112\n",
      "cat_b.name = 'Bill' 2051257056112\n",
      "cat_a.name = 'Bull' 2051257074608\n",
      "cat_b.name = 'Bull' 2051257074608\n",
      "\n",
      "cat_a.name = 'Måns' 2051257032640\n",
      "cat_b.name = 'Bull' 2051257074608\n"
     ]
    }
   ],
   "source": [
    "cat_b = cat_a                                  # Skapar annat variabelnamn som pekar på samma objekt som cat_a pekar mot, som b = a skapades.\n",
    "\n",
    "print(f\"{cat_a.name = }\", id(cat_a.name))\n",
    "print(f\"{cat_b.name = }\", id(cat_b.name))\n",
    "\n",
    "# Deras namn nu pekar mot samma plats i minnet, eftersom de pekar mot exakt samma objekt. \n",
    "# Output: cat_a.name = 'Måns' 3165788730464\n",
    "# Output: cat_b.name = 'Måns' 3165788730464\n",
    "\n",
    "cat_b.name = \"Bull\"                            # User defined object är mutable. Alltså objekt vi skapar går att ändra. Alla namn som refererar till det objektet får samma värde då.\n",
    "                                               # VIKTIGT!!!!: Tumregeln är alltså: När ett mutable värde ändras - kommer alla namn/variabelnamn OCKSÅ att peka mot samma ändrade värde, eftersom de pekar mot den minnesplatsen\n",
    "print(f\"{cat_a.name = }\", id(cat_a.name))\n",
    "print(f\"{cat_b.name = }\", id(cat_b.name))\n",
    "\n",
    "# Output: cat_a.name = 'Bull' 3165796581104\n",
    "# cat_b.name = 'Bull' 3165796581104\n",
    "\n",
    "print()\n",
    "\n",
    "cat_a = Cat(\"Måns\")                          # NU HAR DET SKAPATS NYTT OBJEKT SÅ cat_a är inte längre samma sak som cat_b, de pekar inte längre mot samma objekt.\n",
    "                                             # När man reassignar ett namn till NYTT objekt, påverkar det inte båda namnen - DÅ ÄR DE FRISTÅENDE FRÅN VARANDRA. \n",
    "                                             # Ta exemplet när b ändrades till b = 2, det reassignades till nytt objekt (eftersom int inte är mutable görs det direkt, \n",
    "                                             # men här blev det genom skapande av nytt objekt eftersom man vid enbart ändringar bara hade ändrat i befintligt.)\n",
    "print(f\"{cat_a.name = }\", id(cat_a.name))\n",
    "print(f\"{cat_b.name = }\", id(cat_b.name))\n",
    "\n",
    "\n",
    "# Output: cat_a.name = 'Måns' 3165766439744\n",
    "# Output: cat_b.name = 'Bull' 3165796581104\n"
   ]
  },
  {
   "cell_type": "markdown",
   "metadata": {},
   "source": [
    "### Names and values\n",
    "- Names refers to values. (att namn blir references för värden, bundna till deras minnesplats)\n",
    "- Assignments never copies data. Innebär att när man sätter b = a , så är den bunden mot samma minnesplats, den kopierar inte över värdet som a pekar mot till ny plats i minnet som b sedan binds mot. Snarare är b bunden mot exakt samma plats  minnet.\n",
    "- Many names can refer to one value/object. Detta blir naturligt med tanke på att de binds till samma minnesplats.\n",
    "- Changes in a value are visible through all of its names if it is mutable (som exemplet på cat_a och cat_b names). \n",
    "- Names are reassigned independently of other names. T.ex. när nytt cat objekt skapades med annat namn så spelar ingen roll vad andra pekade på.\n",
    "- Objects live(finns i minnet) until nothing references them (no names binded to them left). OM Cat_a referar till Måns, och även cat_b när vi sätter den = cat_a. Om vi sedan tar bort cat_a , \n",
    "kan python se att det fortfarande finns en referens som pekar på det (cat_b). Men om även den tas bort städar python upp (Python garbage collection)\n",
    "- Python keeps track of how many references each object has and automatically cleans up objecs that have none. THis is called \"garbage Collection\",\n",
    "and means that you dont have to get rid of objects, they go away by themselves when they are no longer needed. This is in contrast to some other languages.\n"
   ]
  },
  {
   "cell_type": "markdown",
   "metadata": {},
   "source": [
    "#### Nedan påvisas hur samma objekt refereras till av olika variabler (enskild, lista och som attribut i objekt som är user defined"
   ]
  },
  {
   "cell_type": "code",
   "execution_count": 5,
   "metadata": {},
   "outputs": [
    {
     "name": "stdout",
     "output_type": "stream",
     "text": [
      "2051257046064\n",
      "2051257046064\n",
      "2051257046064\n"
     ]
    }
   ],
   "source": [
    "a = \"Pelle\"                                                # Objektet \"Pelle\" skapat, med variabelnamnet/namnet a som är bundet till detta objekts minnesplats.\n",
    "b = [\"Måns\", \"Pelle\", \"Bill\", \"Bull\"]                      # Lista med referenser till varje enskilt objekt inunti. Varje värde i listan är alltså objekt med egen minnesplats\n",
    "\n",
    "c = Cat(\"Pelle\")                                            # c blir referens till objektet Cat med namn \"Pelle\", eftersom värdet \"Pelle\" redan finns sparat i minnet (se ovan), och har namn bundna dit.\n",
    "                                                            # Mer utförligt beskrivet:namnet \"c\" refererar till ett objekt (en specifik instans av klassen Cat), och det objektet har ett attribut \"name\"\n",
    "                                                            # som i sin tur är en referens till ett annat objekt (sträng \"Pelle\"); och ja varje enskilt objekt har en specifik plats i minnet,              \n",
    "\n",
    "print(id(a))                #a är referens här till minnesplatsen för \"Pelle\"\n",
    "print(id(b[1]))             #b är referens här till minnesplatsen för \"Pelle\"\n",
    "print(id(c.name))           #c är referens här till minnesplatsen för \"Pelle\"\n",
    "\n",
    "# Immutable sträng skapats först i a, sedan lista med referenser och då pekar a mot samma objekt(\"Pelle\") i listan. \n",
    "# Sedan i c refereras till ett objekt (specifik instans av klassen Cat), vars attribut name i sin tur är en referens till annat \n",
    "# objekt (sträng \"Pelle\")\n",
    "\n",
    "# Vad händer om a är reassigned till \"Kalle\" enligt nedan?\n",
    "\n",
    "a = \"Kalle\" \n",
    "\n",
    "# Då skapas objektet Kalle och a pekar mot annan plats i objektet, MEN \"PELLE\" FINNS KVAR, då DET OBJEKTET FORTFARANDE HAR NAMN SOM REFERERAR/ÄR BUNDNA TILL DET (a och b). \n"
   ]
  },
  {
   "cell_type": "markdown",
   "metadata": {},
   "source": [
    "### References can be more than just names\n",
    "Anything that can appear on the left-hand side of an assignment statement is a reference (till vänster om likhetstecknet), such as:\n",
    "- list items, for example:\n",
    "-       a = [1, 2, 3]\n",
    "        b = a  \n",
    "        b[0] = 99  \n",
    "        print(a)  # Output: [99, 2, 3]\n",
    "- dictionary keys and values\n",
    "- object attributes\n",
    "- ... and so on"
   ]
  },
  {
   "cell_type": "code",
   "execution_count": 6,
   "metadata": {},
   "outputs": [
    {
     "name": "stdout",
     "output_type": "stream",
     "text": [
      "a = [1, 2, 3] 2051257048768\n",
      "b = [1, 2, 3] 2051257048768\n",
      "\n",
      "a = [1, 2, 3, 4] 2051257048768\n",
      "b = [1, 2, 3, 4] 2051257048768\n"
     ]
    }
   ],
   "source": [
    "a = [1, 2, 3]\n",
    "b = a \n",
    "\n",
    "print(f\"{a = }\", id(a))\n",
    "print(f\"{b = }\", id(b))\n",
    "\n",
    "# Same output, due to the obvious reasons. \n",
    "\n",
    "print()\n",
    "\n",
    "# Example of how list items are references.\n",
    "b.append(4)     # Fortfarande samma objekt så a får också 4. Because b refers to the exact same object as a, \n",
    "                # and appends to the list that is referenced to by both a and b.\n",
    "                # Since they refer to the exact same list in the same place, both will have the \"4\"\n",
    "\n",
    "# This can be observed when printing them out:\n",
    "print(f\"{a = }\", id(a))\n",
    "print(f\"{b = }\", id(b))\n",
    "\n"
   ]
  },
  {
   "cell_type": "markdown",
   "metadata": {},
   "source": [
    "#### If we do not want the two names to refer to the same object"
   ]
  },
  {
   "cell_type": "code",
   "execution_count": 7,
   "metadata": {},
   "outputs": [
    {
     "name": "stdout",
     "output_type": "stream",
     "text": [
      "\n",
      "a == b = True\n",
      "a is b = False\n",
      "a == b = False\n",
      "a is b = False\n",
      "a = [1, 2, 3, 4] 2051257048768\n",
      "b = [1, 2, 3, 4, 5] 2051257120064\n"
     ]
    }
   ],
   "source": [
    "# Om vi vill att b ska vara eget oberoende objekt, \n",
    "# Alltså, när jag appendar till den så ska den inte få samma värde som a.\n",
    "\n",
    "print()\n",
    "\n",
    "b = a.copy()  # Skapas en ny instans/objekt med samma värde som det a pekar mot, \n",
    "              # och läggs på ny plats i minnet och namnet b pekar dit nu.\n",
    "              # OBS - om man glömmer () på slutet, så referar den bara till COPY metoden av a,\n",
    "              # och inte erhåller resultatet av metoden.\n",
    "\n",
    "print(f\"{a == b = }\")    # Kollar om de har samma värde vilket de har nu efter att kopian skapats(samma listor) - True\n",
    "print(f\"{a is b = }\")    # Kollar om de är samma objekt, vilket de inte är längre                               - False \n",
    "\n",
    "b.append(5)    # Appendar värdet 5 enbart till nya objektet som b refererar till (kopia av listan objekten som a refereade till)\n",
    "\n",
    "print(f\"{a == b = }\")    # Kollar om de har samma värde, vilket de INTE längre har efter appenden - False\n",
    "print(f\"{a is b = }\")    # Kollar om de är samma objekt, vilket de fortfarande inte är            - False \n",
    "\n",
    "\n",
    "# Här kan vi slutligen printa ut och se att både list items samt minnesplats skiljer sig.\n",
    "print(f\"{a = }\", id(a))\n",
    "print(f\"{b = }\", id(b))"
   ]
  },
  {
   "cell_type": "markdown",
   "metadata": {},
   "source": [
    "### Identity vs equality\n",
    "- The *is* operator checks whether two variables refer to the same object. Inbyggd i python och går inte att overrida- betyder alltid det.\n",
    "- The *==* operator checks whether the values of two variables are equal. Denna kan betyda det som varje objekt bestämmer att det ska betyda, flexibel. \n",
    "- När man vill jämföra om ett namn eller en referens är None bör man använda: **my_cat is None** och inte my_cat == None\n",
    "-       Här vill man se om variabeln/namnet refererar till exakt samma objekt i minnet som None.\n",
    "-       Detta är korrekta sättet att se om en variabel är None, annars vid användning av == kan man få \"True\" tillbaka om den är det\n",
    "-       Det går att ändra funktionalitet a ==, och få oförväntade svar.\n",
    "\n",
    "- **But in most other cases** when you want to compare a variable with a value, we use == (Equality) because what we want to actually compare is the values.\n"
   ]
  },
  {
   "cell_type": "markdown",
   "metadata": {},
   "source": [
    "#### Other ways to copy objects\n",
    "- Lists have built in copy method\n",
    "- But user defined objects has not\n",
    "-   Here we can import the copy module via import copy"
   ]
  },
  {
   "cell_type": "code",
   "execution_count": 8,
   "metadata": {},
   "outputs": [
    {
     "name": "stdout",
     "output_type": "stream",
     "text": [
      "cat_a.name = ['Pelle'] 2051256964992\n",
      "cat_b.name = ['Pelle'] 2051256964992\n"
     ]
    }
   ],
   "source": [
    "import copy            \n",
    "\n",
    "cat_a = Cat(\"Pelle\")\n",
    "cat_a.friends = [\"Bill\", \"Bull\"]      # Skapar ett attribut till instanserade objektet som är en lista med två namn\n",
    "\n",
    "cat_b = cat_a                         # Skapar nytt namn/variabel som referarar / bunden till samma plats i minnet som objektet.\n",
    "\n",
    "# Om jag nu ändrar något i objektet via namnet cat_b, vad händer? \n",
    "\n",
    "cat_b.name = [\"Pelle\"]\n",
    "\n",
    "print(f\"{cat_a.name = }\" , id(cat_a.name))\n",
    "print(f\"{cat_b.name = }\" , id(cat_b.name))\n",
    "\n",
    "# Objektet som båda refererar till ändras, då båda utskrifter blir samma eftersom de referar till exakt samma ändrade objekt:\n",
    "\n",
    "# Output: cat_a.name = ['Pelle'] 2019592110400\n",
    "# Output: cat_b.name = ['Pelle'] 2019592110400\n"
   ]
  },
  {
   "cell_type": "code",
   "execution_count": 9,
   "metadata": {},
   "outputs": [
    {
     "name": "stdout",
     "output_type": "stream",
     "text": [
      "cat_a.name = ['Pelle'] 2051256964992\n",
      "cat_b.name = ['Pelle'] 2051256964992\n",
      "\n",
      "cat_a.name = ['Pelle'] 2051256964992\n",
      "cat_b.name = ['Pelle'] 2051256964992\n",
      "\n",
      "cat_a = <__main__.Cat object at 0x000001DD98735CD0> 2051257097424\n",
      "cat_b = <__main__.Cat object at 0x000001DD986EB450> 2051256792144\n"
     ]
    }
   ],
   "source": [
    "# När vi vill kopiera user defined objects - Vad gör jag om jag nu vill ändra namn på cat_b, så att inte cat_a ändras?\n",
    "\n",
    "# Vi skriver ut igen för att se att de är på samma plats:\n",
    "\n",
    "print(f\"{cat_a.name = }\" , id(cat_a.name))\n",
    "print(f\"{cat_b.name = }\" , id(cat_b.name))\n",
    "\n",
    "print()\n",
    "\n",
    "# Vi använder copy modulen och dess metod copy/deepcopy\n",
    "cat_b = copy.copy(cat_a) \n",
    "\n",
    "# Nu efter att vi har kopierat, tittar vi igen, och observera att namnet \"Pelle\" FORTFARANDE har samma ID\n",
    "# eftersom det fortfarande är samma attribut som bägge objekt referar till.\n",
    "\n",
    "print(f\"{cat_a.name = }\" , id(cat_a.name))\n",
    "print(f\"{cat_b.name = }\" , id(cat_b.name))\n",
    "\n",
    "print()\n",
    "\n",
    "#Output för båda: cat_a.name/cat_b.name = ['Pelle'] 2019592110400\n",
    "\n",
    "#Nu testar vi att skriva ut enbart objekten och ser att de dock är olika objekt på olika platser i minnet som namnen referar till\n",
    "print(f\"{cat_a = }\" , id(cat_a))\n",
    "print(f\"{cat_b = }\" , id(cat_b))\n"
   ]
  },
  {
   "cell_type": "markdown",
   "metadata": {},
   "source": [
    "### Shallow vs. Deep copy\n",
    "- Assignment statements in Python do not create copies of objects, they only bind names to an object. \n",
    "- A **Shallow copy** means constructing a new collection object and then populating with references to the child objetcs found in the original. In essence, a shallow copy is only one level deep.\n",
    "the copying process does not recurse and therefore won't create copies of the child objects themselves.\n",
    "- A **deep_copy** makes the copying process recursive. It means first constructing a new collection object, and then recursively populating it with copies of the child objects found in the original. \n",
    "Copying an object this way walks the whole object tree to create a fully independent clone of the original object and all of its children. "
   ]
  },
  {
   "cell_type": "code",
   "execution_count": 10,
   "metadata": {},
   "outputs": [
    {
     "name": "stdout",
     "output_type": "stream",
     "text": [
      "cat_a.friends = ['Bill', 'Bull', 'Pelle'] 2051256814016\n",
      "cat_b.friends = ['Bill', 'Bull', 'Pelle'] 2051256814016\n",
      "\n",
      "\n",
      "cat_a.friends = ['Bill', 'Bull', 'Pelle'] 2051256814016\n",
      "cat_b.friends = ['Bill', 'Bull', 'Pelle', 'Måns'] 2051257076672\n"
     ]
    }
   ],
   "source": [
    "# HÄR ÄR JAG NU. \n",
    "\n",
    "cat_b.friends.append(\"Pelle\")                    # Referens till samma lista som cat_a, trots att cat_b kopierade och blev eget objekt, varför?\n",
    "                                                 # FÖR ATT vi gjorde en \"shallow copy\" \n",
    "                                                 # vilket innebär att enbart \"skalet\" på objektet cat_a \n",
    "                                                 # kopierades och inte tillhörande objekt. Så friends listan den referar till \n",
    "                                                 # är fortfarande exakt samma som för cat_a\n",
    "                                                 \n",
    "# Därför får vi exakt samma utskrift på listan friends - då de fortfarande refererar till samma lista\n",
    "print(f\"{cat_a.friends = }\" , id(cat_a.friends))\n",
    "print(f\"{cat_b.friends = }\" , id(cat_b.friends))\n",
    "\n",
    "print()\n",
    "\n",
    "# DEEP COPY\n",
    "# Annan sorts copy, får med referenserna på alla nivåer. \"Rekursivt\". Alltså får med alla tillhörande objekt inuti objektet cat_a\n",
    "# Samma med listor i listor - shallow kopia hade gjort på yttre listan, och deep kopia på samtliga listor inuti\n",
    "# Såhär skapas en deepcopy, via modulen copy och sedan dess metod deepcopy\n",
    "\n",
    "cat_b = copy.deepcopy(cat_a)\n",
    "\n",
    "# Nu är cat_b ett namn som pekar mot ett helt oberoende objekt med alla dess tillhörande objekt, inklusive listan friends.\n",
    "# Påvisar detta genom att appenda till listan:\n",
    "\n",
    "cat_b.friends.append(\"Måns\")   \n",
    "\n",
    "print()\n",
    "# Skriver sedan ut för att se skillnaden nu mellan friends i objekt som cat_a samt cat_b referar till:\n",
    "print(f\"{cat_a.friends = }\" , id(cat_a.friends))\n",
    "print(f\"{cat_b.friends = }\" , id(cat_b.friends))\n",
    "\n",
    "# Vi ser att cat_b har fått objektet/attributet \"Måns\" i listan som objektet cat_b refererar till, men inte i den för cat_a."
   ]
  },
  {
   "cell_type": "markdown",
   "metadata": {},
   "source": [
    "#### Even functions are objects"
   ]
  },
  {
   "cell_type": "code",
   "execution_count": null,
   "metadata": {},
   "outputs": [],
   "source": [
    "# Även funktioner är objekt\n",
    "\n",
    "def my_func():                                            \n",
    "    print(\"This is my function\")\n",
    "\n",
    "# Här skapar python ett objekt, och tilldelar namnet my_func så att det refererar till den funktionen. \n",
    "\n",
    "print(callable(my_func))              # Callable tar referens till objekt och svarar True om det är ett objekt man kan göra anrop till (Går med funktioner och metoder)\n",
    "\n",
    "print(callable(3))\n",
    "\n",
    "my_func()    # Parentes betyder att den anropas\n",
    "my_func      # Att bara skriva den är en referens\n",
    "\n",
    "also_my_func = my_func           # Tilldelning till det namnet. Nu refererar detta nya namn till samma object som my_func pekar mot.\n",
    "\n",
    "also_my_func()\n",
    "\n",
    "\n",
    "def my_func():                                                # Nu skapas ny function och refererar namnet till nya functionen\n",
    "    print(\"Now my_func refers to a new function!\")\n",
    "\n",
    "\n",
    "my_func()              # refererar till nya\n",
    "also_my_func()         # refererar till gamla\n"
   ]
  },
  {
   "cell_type": "markdown",
   "metadata": {},
   "source": [
    "### Lots of things are assignments\n",
    "Just as many things can serve as references(tilldelat namn), there are many operations in Python that are assignments (tilldela värde). \n",
    "\n",
    "Each of these lines is an assignment to the name X: \n"
   ]
  },
  {
   "cell_type": "code",
   "execution_count": null,
   "metadata": {},
   "outputs": [],
   "source": [
    "X = ...\n",
    "\n",
    "for X in ...\n",
    "\n",
    "[... for X in ...]\n",
    "\n",
    "def X(...):\n",
    "\n",
    "class X: \n",
    "\n",
    "import X\n",
    "from ... import X\n",
    "\n",
    "with ... as X\n",
    "\n",
    "# There are more ways to assign values. "
   ]
  },
  {
   "cell_type": "markdown",
   "metadata": {},
   "source": [
    "Its not that these statements act kind of like assignments, but that they are real assignment. \n",
    "They all make the name X refer to an object, and every fact about assignments applies to all them.\n"
   ]
  },
  {
   "cell_type": "code",
   "execution_count": null,
   "metadata": {},
   "outputs": [],
   "source": [
    "print(\"Hello world\")         # Print is a name referring to a function.\n",
    "\n",
    "print = 5\n",
    "\n",
    "print(\"Hello world\")      # Det man egentligen försöker med nu är 5(\"Hello world\") vilket ej funkar.\n",
    "\n",
    "# vi kan bara ta bort namn och referenserna. Inte objekt, det hanterar python garbage.\n",
    "# Vi kan radera referens och lägga tillbaka."
   ]
  },
  {
   "cell_type": "code",
   "execution_count": null,
   "metadata": {},
   "outputs": [],
   "source": [
    "del print                      # Tar bort \n",
    "print(\"Hello world\")           # Tillbaka det inbyggda\n",
    "\n"
   ]
  },
  {
   "cell_type": "code",
   "execution_count": null,
   "metadata": {},
   "outputs": [],
   "source": [
    "def my_func():\n",
    "    x = \"Kalle\"\n",
    "\n",
    "x = \"Fredrik\"\n",
    "\n",
    "# Här pekar samma namn/variabel mot olika referenser.\n",
    "\n",
    "my_func()\n",
    "\n",
    "# Här anropar vi my_func()\n",
    "# TAPPADE HONOM HÄR ; KOLLA IGEN. \n",
    "\n",
    "print(x)\n"
   ]
  },
  {
   "cell_type": "code",
   "execution_count": null,
   "metadata": {},
   "outputs": [],
   "source": [
    "sum = 0\n",
    "\n",
    "# Sedan for loop som adderar. \n",
    "# Problemet är att python redan har inbyggd metod sum, så därefter kan man inte använda den. Då måste den deletas först.\n",
    "# Därför bättre att använda andra variabelnamn vid summering."
   ]
  },
  {
   "cell_type": "code",
   "execution_count": null,
   "metadata": {},
   "outputs": [],
   "source": [
    "def my_func(function, string):                 # här kommer print in, i nedan exempel. Functioner i annan function läggs in här. \n",
    "    function(string)\n",
    "\n",
    "my_func(print, \"Hello world\")                  # print anropas inte, utan referensen läggs in som argument\n",
    "# Funktion skickas in som argument till annan funktion. \n",
    "\n"
   ]
  },
  {
   "cell_type": "code",
   "execution_count": null,
   "metadata": {},
   "outputs": [],
   "source": [
    "# OBBBBS HÄR TOG JAG SAMTAL"
   ]
  },
  {
   "cell_type": "code",
   "execution_count": null,
   "metadata": {},
   "outputs": [],
   "source": [
    "\n",
    "#OBS ; HAN FÖRKLARAR OCKSÅ NGT OM DETTA JAG MISSAT\n",
    "my_float = float(\"24,5\")\n",
    "\n",
    "list(map(float[\"24.0\", \"32.5\", \"1\"]))"
   ]
  },
  {
   "cell_type": "code",
   "execution_count": null,
   "metadata": {},
   "outputs": [],
   "source": [
    "fruits = [\"apple\", \"orange\", \"melon\", \"kiwi\", \"pineapple\"]\n",
    "\n",
    "sorted(fruits, key = len)   # Om len applicears på varje objekt fås för varje objekt värdet på antal tecken och sorteras enligt längden. \n",
    "# I sorted skickas då en referens till en function här. "
   ]
  },
  {
   "cell_type": "markdown",
   "metadata": {},
   "source": [
    "### Python passes function arguments by assigning to them.\n",
    "- Parameters are names used in a function\n",
    "- When calling a function, we provide actual values to be used as the arguments of the function.\n",
    "- These values are assigned to the parameter names just as if an assignment statement had been used."
   ]
  },
  {
   "cell_type": "code",
   "execution_count": null,
   "metadata": {},
   "outputs": [],
   "source": [
    "def my_func(x, y):    # x är namn bundet till visst objekt och y också. När funktionen skrivs ej ännu.\n",
    "    return x + y\n",
    "\n",
    "my_func(8, 9)  # x blir namn som refererar till 8, och y blir namn som refererar till 9, men i lokala scopet. Så hanterar python parametrar.\n"
   ]
  },
  {
   "cell_type": "markdown",
   "metadata": {},
   "source": [
    "When my_func is called, the name x has 8 assigned to it, and the name y has 9 assigned to it. That assignment works exactly the same as the simple\n",
    "assignment statement we've been talking about. The names x and y are local to the function, so when the function returns, those names go away. But if the values\n",
    "they refer to are still referenced by other names, the values lives on (garbage collector otherwise deletes when no reference is left).\n",
    "\n",
    "Just like every other assignment, mutable values can be passed into functions, and changes to the value will be visible through all of its names. "
   ]
  },
  {
   "cell_type": "code",
   "execution_count": null,
   "metadata": {},
   "outputs": [],
   "source": [
    "def my_func(cat):            # cat finns bara lokalt i denna funktion, sedan går det inte att referar till cat utanför. cat kommer peka på samma objekt som cat_a redan pekar på.\n",
    "    cat.name = \"Måns\"        # när cat försvinner finns ngt fortfarande kvar???? Nämnde han, kolla upp igen. \n",
    "\n",
    "cat_a = Cat(\"Pelle\")\n",
    "\n",
    "my_func(cat_a)\n",
    "print(cat_a.name)"
   ]
  },
  {
   "cell_type": "code",
   "execution_count": null,
   "metadata": {},
   "outputs": [],
   "source": [
    "def set_list(list):\n",
    "    list = ['A','B','C']\n",
    "    return list\n",
    "\n",
    "def append_list(list):\n",
    "    list.append('D')\n",
    "    return list\n",
    "\n",
    "my_list = ['E']\n",
    "\n",
    "print(set_list(my_list))\n",
    "print(append_list(my_list))\n",
    "\n",
    "print(my_list)"
   ]
  },
  {
   "cell_type": "markdown",
   "metadata": {},
   "source": [
    "# Han summerar:\n",
    "Varje namn kan bindas till vilket objekt som helst oavsett sort. Man måste hålla reda på om de är mutable eller immutable.\n",
    "Hållar eda på att om de är mutable o man ändrar objekt ,  så kommer det reflekteras i alla namn som pekar på objektet.\n",
    "Kan introducera buggar i koden om man inte känner till detta - därför bra att känna till. \n"
   ]
  }
 ],
 "metadata": {
  "kernelspec": {
   "display_name": "python-programming-YOUNIS-MOUSSAVI-yU_f8x7q",
   "language": "python",
   "name": "python3"
  },
  "language_info": {
   "codemirror_mode": {
    "name": "ipython",
    "version": 3
   },
   "file_extension": ".py",
   "mimetype": "text/x-python",
   "name": "python",
   "nbconvert_exporter": "python",
   "pygments_lexer": "ipython3",
   "version": "3.11.5"
  }
 },
 "nbformat": 4,
 "nbformat_minor": 2
}
