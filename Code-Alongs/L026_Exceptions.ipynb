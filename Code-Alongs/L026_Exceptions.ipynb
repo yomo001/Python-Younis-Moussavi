{
 "cells": [
  {
   "cell_type": "code",
   "execution_count": 6,
   "metadata": {},
   "outputs": [
    {
     "ename": "TypeError",
     "evalue": "int() argument must be a string, a bytes-like object or a real number, not 'type'",
     "output_type": "error",
     "traceback": [
      "\u001b[1;31m---------------------------------------------------------------------------\u001b[0m",
      "\u001b[1;31mTypeError\u001b[0m                                 Traceback (most recent call last)",
      "\u001b[1;32mc:\\Users\\yonis\\Documents\\GitHub\\python-programming-YOUNIS-MOUSSAVI\\Code-Alongs\\L026_Exceptions.ipynb Cell 1\u001b[0m line \u001b[0;36m7\n\u001b[0;32m      <a href='vscode-notebook-cell:/c%3A/Users/yonis/Documents/GitHub/python-programming-YOUNIS-MOUSSAVI/Code-Alongs/L026_Exceptions.ipynb#W0sZmlsZQ%3D%3D?line=0'>1</a>\u001b[0m \u001b[39m# Finns en klasshierarki för exceptions, i python documentationen.\u001b[39;00m\n\u001b[0;32m      <a href='vscode-notebook-cell:/c%3A/Users/yonis/Documents/GitHub/python-programming-YOUNIS-MOUSSAVI/Code-Alongs/L026_Exceptions.ipynb#W0sZmlsZQ%3D%3D?line=1'>2</a>\u001b[0m \n\u001b[0;32m      <a href='vscode-notebook-cell:/c%3A/Users/yonis/Documents/GitHub/python-programming-YOUNIS-MOUSSAVI/Code-Alongs/L026_Exceptions.ipynb#W0sZmlsZQ%3D%3D?line=2'>3</a>\u001b[0m \u001b[39m# print(x)   # NameError since x is not defined\u001b[39;00m\n\u001b[0;32m      <a href='vscode-notebook-cell:/c%3A/Users/yonis/Documents/GitHub/python-programming-YOUNIS-MOUSSAVI/Code-Alongs/L026_Exceptions.ipynb#W0sZmlsZQ%3D%3D?line=3'>4</a>\u001b[0m \n\u001b[0;32m      <a href='vscode-notebook-cell:/c%3A/Users/yonis/Documents/GitHub/python-programming-YOUNIS-MOUSSAVI/Code-Alongs/L026_Exceptions.ipynb#W0sZmlsZQ%3D%3D?line=4'>5</a>\u001b[0m \u001b[39m# int(\"hej\")    # ValueError since type is correct but value wrong\u001b[39;00m\n\u001b[1;32m----> <a href='vscode-notebook-cell:/c%3A/Users/yonis/Documents/GitHub/python-programming-YOUNIS-MOUSSAVI/Code-Alongs/L026_Exceptions.ipynb#W0sZmlsZQ%3D%3D?line=6'>7</a>\u001b[0m \u001b[39mint\u001b[39;49m(\u001b[39mlist\u001b[39;49m)\n",
      "\u001b[1;31mTypeError\u001b[0m: int() argument must be a string, a bytes-like object or a real number, not 'type'"
     ]
    }
   ],
   "source": [
    "# Finns en klasshierarki för exceptions, i python documentationen.\n",
    "# Utifrån det man väljer att fånga upp, väljer man hur specifik man ska vara när man fångar upp fel.\n",
    "# print(x)   # NameError since x is not defined\n",
    "\n",
    "# int(\"hej\")    # ValueError since type is correct but value wrong\n",
    "\n",
    "# int(list)     # TypeError, fel datatyp"
   ]
  },
  {
   "cell_type": "code",
   "execution_count": 7,
   "metadata": {},
   "outputs": [
    {
     "ename": "IndexError",
     "evalue": "list index out of range",
     "output_type": "error",
     "traceback": [
      "\u001b[1;31m---------------------------------------------------------------------------\u001b[0m",
      "\u001b[1;31mIndexError\u001b[0m                                Traceback (most recent call last)",
      "\u001b[1;32mc:\\Users\\yonis\\Documents\\GitHub\\python-programming-YOUNIS-MOUSSAVI\\Code-Alongs\\L026_Exceptions.ipynb Cell 2\u001b[0m line \u001b[0;36m2\n\u001b[0;32m      <a href='vscode-notebook-cell:/c%3A/Users/yonis/Documents/GitHub/python-programming-YOUNIS-MOUSSAVI/Code-Alongs/L026_Exceptions.ipynb#W1sZmlsZQ%3D%3D?line=0'>1</a>\u001b[0m fruits \u001b[39m=\u001b[39m [\u001b[39m\"\u001b[39m\u001b[39mkiwi\u001b[39m\u001b[39m\"\u001b[39m, \u001b[39m\"\u001b[39m\u001b[39mapple\u001b[39m\u001b[39m\"\u001b[39m]\n\u001b[1;32m----> <a href='vscode-notebook-cell:/c%3A/Users/yonis/Documents/GitHub/python-programming-YOUNIS-MOUSSAVI/Code-Alongs/L026_Exceptions.ipynb#W1sZmlsZQ%3D%3D?line=1'>2</a>\u001b[0m fruits[\u001b[39m3\u001b[39;49m]\n",
      "\u001b[1;31mIndexError\u001b[0m: list index out of range"
     ]
    }
   ],
   "source": [
    "# fruits = [\"kiwi\", \"apple\"]\n",
    "# fruits[3]\n",
    "# IndexError : an index out of the range"
   ]
  },
  {
   "cell_type": "code",
   "execution_count": 18,
   "metadata": {},
   "outputs": [
    {
     "name": "stdout",
     "output_type": "stream",
     "text": [
      "There was an error.\n"
     ]
    }
   ],
   "source": [
    "x = 0\n",
    "try:\n",
    "    print(z)\n",
    "    print(5/x)\n",
    "except Exception:   # Titta i hierarkin, många Errors om inte alla är klasser som ärver av Exception, därför fångar den upp alla.\n",
    "    print(\"There was an error.\")\n",
    "\n"
   ]
  },
  {
   "cell_type": "code",
   "execution_count": null,
   "metadata": {},
   "outputs": [],
   "source": [
    "# Egna exceptions som ärver från exceptions\n",
    "\n",
    "try:\n",
    "    5 / 0\n",
    "    raise ZeroDivisionError()\n",
    "print(\"Hello\")\n",
    "except ZeroDivisionError:\n",
    "    print(\"Can't divide by zero\")"
   ]
  },
  {
   "cell_type": "code",
   "execution_count": 26,
   "metadata": {},
   "outputs": [
    {
     "name": "stdout",
     "output_type": "stream",
     "text": [
      "Fredrik did something wrong\n"
     ]
    }
   ],
   "source": [
    "class FredrikError(Exception):\n",
    "    ...\n",
    "\n",
    "\n",
    "try:\n",
    "    #5 / 0\n",
    "    raise FredrikError(\"Fredrik did something wrong\")\n",
    "    print(\"Hello\")\n",
    "except FredrikError as e:\n",
    "    print(e) # Då fås meddelandet skrivet ovan\n"
   ]
  },
  {
   "cell_type": "code",
   "execution_count": null,
   "metadata": {},
   "outputs": [],
   "source": []
  }
 ],
 "metadata": {
  "kernelspec": {
   "display_name": "python-programming-YOUNIS-MOUSSAVI-yU_f8x7q",
   "language": "python",
   "name": "python3"
  },
  "language_info": {
   "codemirror_mode": {
    "name": "ipython",
    "version": 3
   },
   "file_extension": ".py",
   "mimetype": "text/x-python",
   "name": "python",
   "nbconvert_exporter": "python",
   "pygments_lexer": "ipython3",
   "version": "3.11.5"
  }
 },
 "nbformat": 4,
 "nbformat_minor": 2
}
