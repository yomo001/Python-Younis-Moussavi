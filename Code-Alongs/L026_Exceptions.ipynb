{
 "cells": [
  {
   "cell_type": "markdown",
   "metadata": {},
   "source": [
    "### Exceptions - hiearki träd i python dokumentationen"
   ]
  },
  {
   "cell_type": "code",
   "execution_count": null,
   "metadata": {},
   "outputs": [],
   "source": [
    "# Finns en klasshierarki för exceptions, i python documentationen. \n",
    "# Den visar en översikt över alla exceptions och vilka som ärver från andra.\n",
    "\n",
    "# Man väljer vilken man ska ha \n",
    "# utifrån det man väljer att fånga upp, väljer man hur specifik man ska vara när man fångar upp fel.\n",
    "\n"
   ]
  },
  {
   "cell_type": "markdown",
   "metadata": {},
   "source": [
    "### Olika sorters fel\n",
    "\n",
    "- print(x)      # NameError since x is not defined, man vill skriva ut värde för variabelnamn som inte är definierad.\n",
    "\n",
    "- int(\"hej\")    # ValueError since type is correct but value wrong. Förväntar sig att få in en int, men får fel värde, \"str istället\"\n",
    "\n",
    "- int(list)     # TypeError, fel datatyp in i en funktion, då blir det TYPEerror. \n",
    "\n",
    "- fruits = [\"kiwi\", \"apple\"]\n",
    "    fruits[3]                   # IndexError : an index out of the range"
   ]
  },
  {
   "cell_type": "code",
   "execution_count": null,
   "metadata": {},
   "outputs": [],
   "source": [
    "print(x)      # NameError since x is not defined, man vill skriva ut värde för variabelnamn som inte är definierad."
   ]
  },
  {
   "cell_type": "code",
   "execution_count": null,
   "metadata": {},
   "outputs": [],
   "source": [
    "int(\"hej\")    # Valueerror since type is correct but value wrong. Förväntar sig att få in en int, men får fel värde, \"str istället\""
   ]
  },
  {
   "cell_type": "code",
   "execution_count": null,
   "metadata": {},
   "outputs": [],
   "source": [
    "int(list)     # TypeError, fel datatyp in i en funktion, då blir det TYPEerror. "
   ]
  },
  {
   "cell_type": "code",
   "execution_count": null,
   "metadata": {},
   "outputs": [],
   "source": [
    "fruits = [\"kiwi\", \"apple\"]\n",
    "fruits[3]    # IndexError : an index out of the range"
   ]
  },
  {
   "cell_type": "markdown",
   "metadata": {},
   "source": [
    "### Lite exempel på tillämpning av try and except"
   ]
  },
  {
   "cell_type": "code",
   "execution_count": null,
   "metadata": {},
   "outputs": [],
   "source": [
    "x = 0\n",
    "try:\n",
    "    #print(z)\n",
    "    print(5/x)\n",
    "except Exception:   # Titta i hierarkin, många Errors om inte alla är klasser som ärver av Exception, därför fångar den upp alla.\n",
    "    print(\"There was an error.\")"
   ]
  },
  {
   "cell_type": "code",
   "execution_count": 2,
   "metadata": {},
   "outputs": [
    {
     "name": "stdout",
     "output_type": "stream",
     "text": [
      "There was an error.\n"
     ]
    }
   ],
   "source": [
    "# Mer specifikt, kan fånga upp den med rätt Exception\n",
    "x = 0\n",
    "try:\n",
    "    #print(z)\n",
    "    print(5/x)\n",
    "except ZeroDivisionError:   \n",
    "    print(\"There was an error.\")"
   ]
  },
  {
   "cell_type": "code",
   "execution_count": null,
   "metadata": {},
   "outputs": [],
   "source": [
    "# Med fel specifik exception fångas det inte upp, blir istället vanligt felmeddelande\n",
    "# I detta fall var det ingen TypeError, snarare en ZeroDivisionError.\n",
    "x = 0\n",
    "try:\n",
    "    #print(z)\n",
    "    print(5/x)\n",
    "except TypeError:   \n",
    "    print(\"There was an error.\")"
   ]
  },
  {
   "cell_type": "code",
   "execution_count": null,
   "metadata": {},
   "outputs": [],
   "source": [
    "# Här finns både en kod för rätt och fel exception, men eftersom första är rätt, så exekverar den det och skriver ut, \n",
    "# hoppar över resten\n",
    "\n",
    "x = 0\n",
    "try:\n",
    "    print(z)\n",
    "    print(5/x)\n",
    "except NameError:   # Titta i hierarkin, många Errors om inte alla är klasser som ärver av Exception, därför fångar den upp alla.\n",
    "    print(\"There was an error.\")"
   ]
  },
  {
   "cell_type": "markdown",
   "metadata": {},
   "source": [
    "### Vi kan göra egna sådana som fångar upp fel, som då får ärva från Exception"
   ]
  },
  {
   "cell_type": "code",
   "execution_count": null,
   "metadata": {},
   "outputs": [],
   "source": [
    "# Först bara påvisar hur man använder det igen\n",
    "try:\n",
    "    5/0\n",
    "    print(\"Hello\")\n",
    "except ZeroDivisionError:\n",
    "    print(\"Can't divide by zero\")   # Då fås meddelandet istället för att programmet ska krasha, om sådant error uppstår "
   ]
  },
  {
   "cell_type": "code",
   "execution_count": 15,
   "metadata": {},
   "outputs": [
    {
     "name": "stdout",
     "output_type": "stream",
     "text": [
      "Can't divide by zero\n"
     ]
    }
   ],
   "source": [
    "# Visar med raise\n",
    "try:\n",
    "    5/0\n",
    "    raise ZeroDivisionError()\n",
    "    print(\"här ser du att denna inte skrivs ut om ovan fångas, koden avbryts ovan\")\n",
    "except ZeroDivisionError:\n",
    "    print(\"Can't divide by zero\")   # Då fås meddelandet istället för att programmet ska krasha, om sådant error uppstår \n"
   ]
  },
  {
   "cell_type": "code",
   "execution_count": 22,
   "metadata": {},
   "outputs": [
    {
     "name": "stdout",
     "output_type": "stream",
     "text": [
      "Denna får företräde\n"
     ]
    }
   ],
   "source": [
    "# Visar med att skapa egen klass för detta\n",
    "# När raise fångar upp en Exception, avbryts och inget under den körs. \n",
    "# Den hoppar direkt till except.\n",
    "# I detta fall fanns en till print rad under except och denna körs för FredrikError.\n",
    "\n",
    "\n",
    "class FredrikError(Exception):    # egen klass som ärver från Exception\n",
    "    ...\n",
    "\n",
    "try:\n",
    "    #5/0\n",
    "    raise FredrikError(\"Fredrik did something wrong\")\n",
    "    print(\"här ser du att denna inte skrivs ut om ovan fångas, koden avbryts ovan\")\n",
    "except FredrikError:       # gör den as e, och kan sedan printa e\n",
    "    print(\"Denna får företräde\")\n"
   ]
  },
  {
   "cell_type": "code",
   "execution_count": 23,
   "metadata": {},
   "outputs": [
    {
     "name": "stdout",
     "output_type": "stream",
     "text": [
      "Fredrik did something wrong\n"
     ]
    }
   ],
   "source": [
    "# När raise fångar upp en Exception, avbryts och inget under den körs. \n",
    "# Den hoppar direkt till except.\n",
    "# I detta fall så kommer except enbart att fånga upp FredrikError som fångades upp i raise\n",
    "# och den printar ut det som fanns där, \"Fredrik dig something wrong\"\n",
    "\n",
    "\n",
    "class FredrikError(Exception):    # egen klass som ärver från Exception\n",
    "    ...\n",
    "\n",
    "try:\n",
    "    #5/0\n",
    "    raise FredrikError(\"Fredrik did something wrong\")\n",
    "    print(\"här ser du att denna inte skrivs ut om ovan fångas, koden avbryts ovan\")\n",
    "except FredrikError as e:       \n",
    "    print(e)        \n",
    "\n",
    "# Man kan göra egna errors, t.ex. en \"CatError\" om kattens namn inte börjar på \"n\" o.s.v. \n",
    "# Bra att känna till att exceptions ärver av varandra, och hur vi fångar upp allihop med en sån exception.\n",
    "\n",
    "\n",
    "\n"
   ]
  }
 ],
 "metadata": {
  "kernelspec": {
   "display_name": "python-programming-YOUNIS-MOUSSAVI-yU_f8x7q",
   "language": "python",
   "name": "python3"
  },
  "language_info": {
   "codemirror_mode": {
    "name": "ipython",
    "version": 3
   },
   "file_extension": ".py",
   "mimetype": "text/x-python",
   "name": "python",
   "nbconvert_exporter": "python",
   "pygments_lexer": "ipython3",
   "version": "3.11.5"
  }
 },
 "nbformat": 4,
 "nbformat_minor": 2
}
