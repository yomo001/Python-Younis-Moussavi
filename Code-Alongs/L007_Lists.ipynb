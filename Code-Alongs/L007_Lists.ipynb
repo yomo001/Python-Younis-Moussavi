{
 "cells": [
  {
   "cell_type": "markdown",
   "metadata": {},
   "source": [
    "## Lists\n",
    "- Lists are used to store multiple items in a single variable.\n",
    "\n",
    "- Lists are one of 4 built-in data types in Python used to store collections of data, the other 3 are Tuple, Set, and Dictionary, all with different qualities and usage.\n",
    "\n",
    "- Lists are created using square brackets: []\n",
    "- List items are ordered (ligger i den ordning de är skrivna, kan indexeras o kommas åt, - 1 börjar motsatt håll), changeable (mutable), and allow duplicate values.\n",
    "- List items can be of any data type, and can contain different data types. "
   ]
  },
  {
   "cell_type": "code",
   "execution_count": 14,
   "metadata": {},
   "outputs": [
    {
     "name": "stdout",
     "output_type": "stream",
     "text": [
      "fruits = ['apple', 'banana', 'cherry', 'Orange', 'apple']\n",
      "len(fruits) = 5\n",
      "fruits.count('apple') = 2\n",
      "fruits =['apple', 'banana', 'cherry', 'Orange', 'apple', 'melon', 'kiwi']\n",
      "fruits = ['apple', 'banana', 'cherry', 'Orange', 'apple', 'melon', 'kiwi', 'pear', 'coconut', 'pineapple', 5, [5, 4, 2], True, 4.5]\n"
     ]
    }
   ],
   "source": [
    "empty = []\n",
    "fruits = [\"apple\", \"banana\", \"cherry\", \"Orange\", \"apple\"]\n",
    "more_fruits = [\"pear\", \"coconut\", \"pineapple\", 5, [5, 4, 2], True, 4.5]\n",
    "\n",
    "print(f\"{fruits = }\")\n",
    "print(f\"{len(fruits) = }\") # len här anger antalet frukter, to get number of items in list\n",
    "print(f\"{fruits.count('apple') = }\") #fruits är variabeln/listan/objekt och efter punkt är metoden/Funktionen kopplad till det objektet\n",
    "\n",
    "fruits.append('melon') # tar det värdet och lägger i slutet av listan. Bara append av ett värde i taget.\n",
    "fruits.append('kiwi')\n",
    "print(f\"{fruits =}\")\n",
    "\n",
    "fruits += more_fruits  #innebär fruits = fruits + more_fruits\n",
    "# fruits.extend(more_fruits) ger samma resultat.\n",
    "print(f\"{fruits = }\")\n",
    "\n",
    " #fruits.NGT är objekt, sedan efter punkt kommer \"members\", där olika metoder/funktioner finns bl.a. Kan också vara variabel efter punkten.\n",
    " \n",
    "\n",
    "\n"
   ]
  },
  {
   "cell_type": "markdown",
   "metadata": {},
   "source": [
    "# List Comprehensions\n",
    "List comprehension offers a shorter syntax when you want to create a new list based on the values of an existing list.\n",
    "\n",
    "**Basic Syntax:** [item for item in my_list] Man får varje item som den är, men kan göra saker med dom också typ multiplicera eller annat.\n",
    "**Syntax with condition:** [item for item in my_list if item]\n",
    "\n",
    "Example:\n",
    "\n",
    "Based on a list of fruits, you want a new list, containing only the fruits with the letter \"a\" in the name.\n",
    "\n",
    "Without list comprehension you will have to write a for statement with a conditional test inside."
   ]
  },
  {
   "cell_type": "code",
   "execution_count": 60,
   "metadata": {},
   "outputs": [
    {
     "name": "stdout",
     "output_type": "stream",
     "text": [
      "x = [0, 1, 2, 3, 4, 5, 6, 7, 8, 9]\n",
      "y = [0, 1, 4, 9, 16, 25, 36, 49, 64, 81]\n"
     ]
    }
   ],
   "source": [
    "x = list(range(10))\n",
    "print(f\"{x = }\")\n",
    "\n",
    "y = [item **2 for item in x]\n",
    "print(f\"{y = }\")"
   ]
  },
  {
   "cell_type": "markdown",
   "metadata": {},
   "source": [
    "# Mini-uppgift 2: \n",
    "Skapa manuellt en lista i koden med 5 frukter.\n",
    "Använd list comprehension för att skapa en ny lista med samma frukter, men med ett utropstecken i slutet på varje frukt(sträng)"
   ]
  },
  {
   "cell_type": "code",
   "execution_count": 68,
   "metadata": {},
   "outputs": [
    {
     "name": "stdout",
     "output_type": "stream",
     "text": [
      "fruits_adjusted = ['Banana!', 'Apple!', 'Orange!', 'Pineapple!', 'Watermelon!']\n"
     ]
    }
   ],
   "source": [
    "fruits = [\"Banana\", \"Apple\", \"Orange\", \"Pineapple\", \"Watermelon\"]\n",
    "fruits_adjusted = [fruit + \"!\" for fruit in fruits] \n",
    "#fruits_adjusted = [(f\"{fruit!}\") for fruit in fruits]  concatenate via f strings, eller literal value\n",
    "print(f\"{fruits_adjusted = }\")"
   ]
  },
  {
   "cell_type": "markdown",
   "metadata": {},
   "source": [
    "# Mini-uppgift 3\n",
    "a) Skapa en ny lista från listan med frukter, som tar med alla frukter där namnet är 5 bokstäver.\n",
    "b)Skapa en lista med alla heltal 0 till 100\n",
    "Skapa en ny lista som innehåller alla jämna tal från den första listan.\n"
   ]
  },
  {
   "cell_type": "code",
   "execution_count": 75,
   "metadata": {},
   "outputs": [
    {
     "name": "stdout",
     "output_type": "stream",
     "text": [
      "fruits_adjusted = ['Apple']\n"
     ]
    }
   ],
   "source": [
    "# lösning A\n",
    "fruits = [\"Banana\", \"Apple\", \"Orange\", \"Pineapple\", \"Watermelon\"]\n",
    "fruits_adjusted = [fruit for fruit in fruits if len(fruit) == 5]   #om len(fruits) skrivits hade den antagit att det är 5 items och inte skrivit ut något\n",
    "print(f\"{fruits_adjusted = }\")"
   ]
  },
  {
   "cell_type": "code",
   "execution_count": 76,
   "metadata": {},
   "outputs": [
    {
     "name": "stdout",
     "output_type": "stream",
     "text": [
      "y = [0, 2, 4, 6, 8, 10, 12, 14, 16, 18, 20, 22, 24, 26, 28, 30, 32, 34, 36, 38, 40, 42, 44, 46, 48, 50, 52, 54, 56, 58, 60, 62, 64, 66, 68, 70, 72, 74, 76, 78, 80, 82, 84, 86, 88, 90, 92, 94, 96, 98]\n"
     ]
    }
   ],
   "source": [
    "#Lösning B\n",
    "x = list(range(100))\n",
    "y = [item for item in x if item%2 ==0 ]\n",
    "print(f\"{y = }\")"
   ]
  },
  {
   "cell_type": "code",
   "execution_count": 55,
   "metadata": {},
   "outputs": [
    {
     "name": "stdout",
     "output_type": "stream",
     "text": [
      "fruits_with_a = ['apple', 'banana', 'Orange', 'apple']\n"
     ]
    }
   ],
   "source": [
    "fruits = [\"apple\", \"banana\", \"cherry\", \"Orange\", \"apple\"]\n",
    "fruits_with_a= [fruit for fruit in fruits if \"a\" in fruit]\n",
    "\n",
    "print(f\"{fruits_with_a = }\")"
   ]
  },
  {
   "cell_type": "code",
   "execution_count": null,
   "metadata": {},
   "outputs": [],
   "source": [
    "\"\""
   ]
  },
  {
   "cell_type": "markdown",
   "metadata": {},
   "source": [
    "# Mini-uppgift:\n",
    "Skriv ett program som ber användaren mata in färger, en i taget. Tills användaren input är tom. Varje färg skall läggas på en lista, och när användarens inmatning är slut så skrivs listan ut, samt hur många färger det är på listan."
   ]
  },
  {
   "cell_type": "code",
   "execution_count": 6,
   "metadata": {},
   "outputs": [],
   "source": [
    "colours = []\n",
    "while True:\n",
    "    apply = input(\"Enter a colour: \")\n",
    "    if len(apply) == 0:\n",
    "        break\n",
    "    else:\n",
    "        colours.append(apply)\n",
    "        continue\n",
    "\n",
    "print(f\"You have entered the colours {colours} and the amount of colours you entered are {len(colours)} \")\n",
    "\n"
   ]
  },
  {
   "cell_type": "markdown",
   "metadata": {},
   "source": [
    "Hans genomgång av lösning."
   ]
  },
  {
   "cell_type": "code",
   "execution_count": null,
   "metadata": {},
   "outputs": [],
   "source": [
    "colours = []\n",
    "while True:\n",
    "    apply = input(\"Enter a colour: \")\n",
    "    if not apply: #Kolla upp varför denna funkar, \n",
    "        break     #While else funkar inte om man breakar. \n",
    "    colours.append(apply) \n",
    "\n",
    "print(f\"You have entered the colours {colours} and the amount of colours you entered are {len(colours)} \")"
   ]
  },
  {
   "cell_type": "code",
   "execution_count": null,
   "metadata": {},
   "outputs": [],
   "source": [
    "colour = []\n",
    "while (input_string := input(\"Add colour :\")) and input_string != \"\":\n",
    "    colour.append(input_string)\n",
    "\n",
    "print(colour)\n",
    "print(len(colour))\n",
    "\n"
   ]
  },
  {
   "cell_type": "markdown",
   "metadata": {},
   "source": [
    "# Indexering & Slicing\n",
    "- List items are indexed, the first item has index [0], the second item has index[1] etc. (Index för att komma åt olika värden i listan)\n",
    "- Make sure the index exists, or the program will crash with a \"index out of range\"- message\n",
    "- Negative indexing: -1 refers to the last item, -2 refers to the second last item etc.\n",
    "- Slicing: Specifying a range of indexes returns a new list with the specified item. [start:stop:step(optional)] **OBS- start är inclusive och stop är exlusive**\n"
   ]
  },
  {
   "cell_type": "code",
   "execution_count": 32,
   "metadata": {},
   "outputs": [
    {
     "name": "stdout",
     "output_type": "stream",
     "text": [
      "apple\n",
      "4\n",
      "['cherry', 'Orange', 'apple']\n",
      "['apple', 'banana', 'cherry', 'Orange', 'apple']\n",
      "['melon', 'kiwi', 'pear', 'coconut', 'pineapple', 5, [5, 4, 2], True, 4.5]\n",
      "[[5, 4, 2], True, 4.5]\n",
      "['banana', 'Orange', 'melon', 'pear', 'pineapple']\n",
      "['melon', 'kiwi', 'pear', 'coconut', 'pineapple', 5, [5, 4, 2], True, 4.5, 'apple', 'banana', 'cherry', 'Orange', 'apple']\n",
      "['apple', 'cherry', 'apple', 'kiwi', 'coconut', 5, True]\n",
      "[4.5, True, [5, 4, 2], 5, 'pineapple', 'coconut', 'pear', 'kiwi', 'melon', 'apple', 'Orange', 'cherry', 'banana', 'apple']\n"
     ]
    }
   ],
   "source": [
    "print(f\"{fruits[0]}\")\n",
    "print(f\"{fruits[-3][1]}\")\n",
    "\n",
    "print(f\"{fruits[2:5]}\")\n",
    "print(f\"{fruits[:5]}\")\n",
    "print(f\"{fruits[5:]}\")\n",
    "print(f\"{fruits[-3:]}\")  #startar på -3 bakifrån o går mot slutet, får de tre sista.\n",
    "print(f\"{fruits[1:10:2]}\")\n",
    "print(f\"{fruits[5:] + fruits[:5]  }\")\n",
    "print(f\"{fruits[::2]}\") #step\n",
    "print(f\"{fruits[::-1]}\") # ta hela listan baklänges, kan också vara varannan om man skriver -2 t.ex.\n",
    "\n"
   ]
  },
  {
   "cell_type": "markdown",
   "metadata": {},
   "source": [
    "# Looping through a list\n"
   ]
  },
  {
   "cell_type": "code",
   "execution_count": 35,
   "metadata": {},
   "outputs": [
    {
     "name": "stdout",
     "output_type": "stream",
     "text": [
      "apple\n",
      "banana\n",
      "cherry\n",
      "Orange\n",
      "apple\n",
      "melon\n",
      "kiwi\n",
      "pear\n",
      "coconut\n",
      "pineapple\n",
      "apple, banana, cherry, Orange, apple, melon, kiwi, pear, coconut, pineapple, "
     ]
    }
   ],
   "source": [
    "for fruit in fruits[:-4]:     #for item in list är generella, här utan fyra sista items\n",
    "    print(fruit)\n",
    "\n",
    "for fruit in fruits[:-4]:     # ändra avslutet på print\n",
    "    print(fruit, end = \", \")"
   ]
  },
  {
   "cell_type": "code",
   "execution_count": 41,
   "metadata": {},
   "outputs": [
    {
     "name": "stdout",
     "output_type": "stream",
     "text": [
      "0: apple\n",
      "1: banana\n",
      "2: cherry\n",
      "3: Orange\n",
      "4: apple\n",
      "5: melon\n",
      "6: kiwi\n",
      "7: pear\n",
      "8: coconut\n",
      "9: pineapple\n"
     ]
    }
   ],
   "source": [
    "counter = 0\n",
    "for fruit in fruits[:-4]:\n",
    "    print(f\"{counter}: {fruit}\")\n",
    "    counter += 1"
   ]
  },
  {
   "cell_type": "code",
   "execution_count": 50,
   "metadata": {},
   "outputs": [
    {
     "name": "stdout",
     "output_type": "stream",
     "text": [
      "0: apple\n",
      "1: banana\n",
      "2: cherry\n",
      "3: Orange\n",
      "4: apple\n",
      "5: melon\n",
      "6: kiwi\n",
      "7: pear\n",
      "8: coconut\n",
      "9: pineapple\n"
     ]
    }
   ],
   "source": [
    "for index, fruit in enumerate(fruits[:-4]):\n",
    "    print(f\"{index}: {fruit}\")"
   ]
  },
  {
   "cell_type": "code",
   "execution_count": null,
   "metadata": {},
   "outputs": [],
   "source": [
    "import random"
   ]
  }
 ],
 "metadata": {
  "kernelspec": {
   "display_name": "Python 3",
   "language": "python",
   "name": "python3"
  },
  "language_info": {
   "codemirror_mode": {
    "name": "ipython",
    "version": 3
   },
   "file_extension": ".py",
   "mimetype": "text/x-python",
   "name": "python",
   "nbconvert_exporter": "python",
   "pygments_lexer": "ipython3",
   "version": "3.11.5"
  },
  "orig_nbformat": 4
 },
 "nbformat": 4,
 "nbformat_minor": 2
}
