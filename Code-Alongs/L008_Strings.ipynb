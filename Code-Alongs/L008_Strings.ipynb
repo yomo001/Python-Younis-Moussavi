{
 "cells": [
  {
   "cell_type": "markdown",
   "metadata": {},
   "source": [
    "# Strings\n",
    "- Data type used in Python for storing text.\n",
    "- Literal values with single or double quotes. 'Single', \"Double\"\n",
    "- Strings are immutable (meaning not changeable)\n"
   ]
  },
  {
   "cell_type": "markdown",
   "metadata": {},
   "source": [
    "## Concatenate \n",
    "In python we can concatenate two or more strings using the + operator."
   ]
  },
  {
   "cell_type": "code",
   "execution_count": 3,
   "metadata": {},
   "outputs": [
    {
     "name": "stdout",
     "output_type": "stream",
     "text": [
      "Hello World\n"
     ]
    }
   ],
   "source": [
    "string1 = \"Hello\"\n",
    "string2 = \"World\"\n",
    "\n",
    "string3 = string1 + \" \"+ string2\n",
    "\n",
    "print(string3)"
   ]
  },
  {
   "cell_type": "markdown",
   "metadata": {},
   "source": [
    "## Multiline strings\n",
    "Python allows string literals to span multiple rows if started and ended by \"\"\"  or '''"
   ]
  },
  {
   "cell_type": "code",
   "execution_count": 15,
   "metadata": {},
   "outputs": [
    {
     "name": "stdout",
     "output_type": "stream",
     "text": [
      "This\n",
      "is\n",
      "an\n",
      "example\n",
      "\n",
      "This\n",
      "is\n",
      "an\n",
      "example\n"
     ]
    }
   ],
   "source": [
    "text = '''This\n",
    "is\n",
    "an\n",
    "example'''\n",
    "\n",
    "print(text)\n",
    "\n",
    "# When used in blocks as below, de-indentation is required to gain the same result as above.\n",
    "if True:\n",
    "    text = \"\"\"\\nThis\n",
    "is\n",
    "an\n",
    "example\"\"\"\n",
    "    print(text)\n"
   ]
  },
  {
   "cell_type": "markdown",
   "metadata": {},
   "source": [
    "## Indexing and slicing"
   ]
  },
  {
   "cell_type": "code",
   "execution_count": 17,
   "metadata": {},
   "outputs": [
    {
     "name": "stdout",
     "output_type": "stream",
     "text": [
      "name ='Fredrik' \n",
      "name[0] ='F' \n",
      "name[-1] ='k' \n",
      "name[:3] ='Fre' \n"
     ]
    }
   ],
   "source": [
    "name = \"Fredrik\"\n",
    "print(f\"{name =} \")\n",
    "print(f\"{name[0] =} \")\n",
    "print(f\"{name[-1] =} \")\n",
    "print(f\"{name[:3] =} \")\n",
    "\n",
    "#Immutable: when new variable with same name is created, \n",
    "#it is given a new place in memory, so the variable name = \"Fredrik\" is still immutable. \n",
    "# Means you cant for example change index [0] in the same variable. name[0] = \"T\" is therefore not possible in strings.\n",
    "# so is name = \"Johan\" is created, it is an entirely new variable with new place in memory.\n"
   ]
  },
  {
   "cell_type": "markdown",
   "metadata": {},
   "source": [
    "## Looping through a string"
   ]
  },
  {
   "cell_type": "code",
   "execution_count": 18,
   "metadata": {},
   "outputs": [
    {
     "name": "stdout",
     "output_type": "stream",
     "text": [
      "F\n",
      "r\n",
      "e\n",
      "d\n",
      "r\n",
      "i\n",
      "k\n"
     ]
    }
   ],
   "source": [
    "name = \"Fredrik\"\n",
    "\n",
    "for char in name: \n",
    "    print(char)"
   ]
  },
  {
   "cell_type": "markdown",
   "metadata": {},
   "source": [
    "## Membership operators with string\n"
   ]
  },
  {
   "cell_type": "code",
   "execution_count": 24,
   "metadata": {},
   "outputs": [
    {
     "name": "stdout",
     "output_type": "stream",
     "text": [
      "'drik' in name = True \n",
      "name in 'Fredrik Johansson' = True \n",
      "'efg' not in 'abcdefg' = False \n"
     ]
    }
   ],
   "source": [
    "name = \"Fredrik\"\n",
    "\n",
    "print(f\"{'drik' in name = } \")\n",
    "print(f\"{name in 'Fredrik Johansson' = } \")\n",
    "print(f\"{'efg' not in 'abcdefg' = } \")"
   ]
  },
  {
   "cell_type": "markdown",
   "metadata": {},
   "source": [
    "## Escape characters\n",
    "To insert characters that are illegal in a string, use an escape character.\n",
    "\n",
    "An escape character is a backslash \\ followed by the character you want to insert.\n",
    "\n",
    "An example of an illegal character is a double quote inside a string that is surrounded by double quotes.\n",
    "\n",
    "### Common escape characters\n",
    "- \\\\\"Double quote\n",
    "- \\\\ 'Single quote\n",
    "- \\\\\\\\ Backslash\n",
    "- \\\\n New line\n",
    "- \\\\t Tab"
   ]
  },
  {
   "cell_type": "code",
   "execution_count": 30,
   "metadata": {},
   "outputs": [
    {
     "name": "stdout",
     "output_type": "stream",
     "text": [
      "Hello\tWorld\n",
      "Here \\ is an \"annother example\"\n"
     ]
    }
   ],
   "source": [
    "escaped_text = \"Hello\\tWorld\\nHere \\\\ is an \\\"annother example\\\"\"\n",
    "print(escaped_text)"
   ]
  },
  {
   "cell_type": "markdown",
   "metadata": {},
   "source": [
    "# String methods"
   ]
  },
  {
   "cell_type": "code",
   "execution_count": 39,
   "metadata": {},
   "outputs": [
    {
     "name": "stdout",
     "output_type": "stream",
     "text": [
      "name = 'Fredrik'\n",
      "upper_name = 'FREDRIK'\n",
      "'Hello World'.lower()= 'hello world' \n",
      "'Hello World'.upper() ='HELLO WORLD' \n"
     ]
    }
   ],
   "source": [
    "# String methods return a new string, but does not change the string that it's called upon.\n",
    "name = \"Fredrik\"\n",
    "upper_name = name.upper()\n",
    "print(f\"{name = }\")\n",
    "print(f\"{upper_name = }\")\n",
    "\n",
    "# Upper & lower case\n",
    "print(f\"{'Hello World'.lower()= } \")              # with . you can then choose an objects methods\n",
    "print(f\"{'Hello World'.upper() =} \")\n",
    "\n"
   ]
  }
 ],
 "metadata": {
  "kernelspec": {
   "display_name": "Python 3",
   "language": "python",
   "name": "python3"
  },
  "language_info": {
   "codemirror_mode": {
    "name": "ipython",
    "version": 3
   },
   "file_extension": ".py",
   "mimetype": "text/x-python",
   "name": "python",
   "nbconvert_exporter": "python",
   "pygments_lexer": "ipython3",
   "version": "3.11.5"
  },
  "orig_nbformat": 4
 },
 "nbformat": 4,
 "nbformat_minor": 2
}
