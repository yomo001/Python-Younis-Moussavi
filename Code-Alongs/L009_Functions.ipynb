{
 "cells": [
  {
   "cell_type": "markdown",
   "metadata": {},
   "source": [
    "# Abstraction levels\n",
    "In computing, an abstraction layer or abstraction level is a way of hiding the working details of a subsystem. When working on a low level of abstraction we´re dealing with the fine details of the code, while, if we work on a high level of abstraction the details are hidden from us, so we get more of an overview of the system.\n",
    "Python is a high level language. \n",
    "\n",
    "draw_rectangle() : hög nivå, anropar kanske då loop som ritar \n",
    "ngt, som i sin tur gör annat ännu mer detaljerrikt. \n",
    "En dator kan inte göra så komplicerade saker i sig.\n",
    "Kod är hierarkiskt, en function kan vara på hög nivå och tillkalla en annan på lägre nivåer, som tillkallar på ännu lägre. Man ser t.ex. enkelt funktionsanrop som ger en funktion, men underliggande kan det finnas lager av djupare lägre koder i flera olika funktioner. Dhahir - batin - batin. "
   ]
  },
  {
   "cell_type": "markdown",
   "metadata": {},
   "source": [
    "# Functions\n",
    "- A function is a block of code which only runs when it is called\n",
    "- In Python a function is defined using the **def** keyword.\n",
    "- Definition must come before call.\n",
    "- To call a function, use the functionname followed by parenthesis. \n",
    "- You can pass data, known as arguments into a function.\n",
    "- The number of arguments when calling must normally match number of parameters of definition.\n",
    "- A function may return data as result"
   ]
  },
  {
   "cell_type": "code",
   "execution_count": 8,
   "metadata": {},
   "outputs": [
    {
     "name": "stdout",
     "output_type": "stream",
     "text": [
      "Hello Fredrik!\n",
      "Hello Camilla!\n",
      "Hello Anders!\n",
      "\n",
      "Hello Apple!\n",
      "Hello Orange!\n",
      "Hello Melon!\n",
      "Hello Kiwi!\n",
      "\n",
      "Hello Anna!\n"
     ]
    }
   ],
   "source": [
    "def greet(name):    #variabeln name här är parameter, och faktiskt data man skickar in när man callar funktionen är argument, t.ex. greeting(\"Younis\")\n",
    "    print(\"Hello \" + name + \"!\")\n",
    "\n",
    "def greet_people(people):\n",
    "    #...  för att berätta att man gör klart sen\n",
    "    #pass för att berätta att man gör klart sen\n",
    "    for person in people:\n",
    "        greet(person)\n",
    "\n",
    "users = [\"Fredrik\", \"Camilla\", \"Anders\"] \n",
    "\n",
    "greet_people(users)\n",
    "#greet_people()    # Error, because the call must match the functions required positional argument\n",
    "\n",
    "print()\n",
    "fruits = [\"Apple\", \"Orange\", \"Melon\", \"Kiwi\"]\n",
    "greet_people(fruits)\n",
    "\n",
    "print()\n",
    "greet(\"Anna\")\n",
    "\n",
    "\n",
    "\n",
    "\n",
    "\n",
    "\n"
   ]
  },
  {
   "cell_type": "markdown",
   "metadata": {},
   "source": [
    "## Example of function returning a value\n"
   ]
  },
  {
   "cell_type": "code",
   "execution_count": 4,
   "metadata": {},
   "outputs": [
    {
     "name": "stdout",
     "output_type": "stream",
     "text": [
      "Ali\n",
      "Hello Hossein!\n",
      "Hello Anders!\n",
      "Hello Younis!\n"
     ]
    }
   ],
   "source": [
    "def get_greeting(name):\n",
    "    greeting = \"Hello \" + name + \"!\"\n",
    "    #return \"Hello \" + name + \"!\" \n",
    "    if name == \"Ali\":\n",
    "        return name\n",
    "    else:\n",
    "        return greeting\n",
    "\n",
    "print(get_greeting(\"Ali\"))\n",
    "print(get_greeting(\"Hossein\"))\n",
    "\n",
    "my_greeting = get_greeting(\"Anders\")\n",
    "print(my_greeting)\n",
    "\n",
    "# When returning a value, the value can be further used for other things\n",
    "# such as sending to files, etc. The function doesnt decide what to do with the string\n",
    "# rather it is decided outside of it\n",
    "# return should be in the end\n",
    "# One object only can be returned, but more can be inserted into function\n",
    "\n",
    "\n",
    "\n",
    "\n"
   ]
  },
  {
   "cell_type": "markdown",
   "metadata": {},
   "source": [
    "# Default values"
   ]
  },
  {
   "cell_type": "code",
   "execution_count": null,
   "metadata": {},
   "outputs": [],
   "source": []
  },
  {
   "cell_type": "code",
   "execution_count": 24,
   "metadata": {},
   "outputs": [
    {
     "name": "stdout",
     "output_type": "stream",
     "text": [
      "Hello Fredrik!\n",
      "Hello Ali!\n",
      "Hello Ali!\n"
     ]
    }
   ],
   "source": [
    "def greet(name, number_of_times = 1):       # default value set to 1\n",
    "    for i in range(number_of_times):\n",
    "        print(\"Hello \" + name + \"!\")\n",
    "    \n",
    "greet(\"Fredrik\")                            # when default values set, positional arguments  in called functions dont have to match exactly\n",
    "greet(\"Ali\", 2)  "
   ]
  }
 ],
 "metadata": {
  "kernelspec": {
   "display_name": "Python 3",
   "language": "python",
   "name": "python3"
  },
  "language_info": {
   "codemirror_mode": {
    "name": "ipython",
    "version": 3
   },
   "file_extension": ".py",
   "mimetype": "text/x-python",
   "name": "python",
   "nbconvert_exporter": "python",
   "pygments_lexer": "ipython3",
   "version": "3.11.5"
  },
  "orig_nbformat": 4
 },
 "nbformat": 4,
 "nbformat_minor": 2
}
