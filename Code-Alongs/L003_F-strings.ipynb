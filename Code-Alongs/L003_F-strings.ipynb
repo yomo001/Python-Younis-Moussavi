{
 "cells": [
  {
   "cell_type": "markdown",
   "metadata": {},
   "source": [
    "# f-strings (Formatted string literals)\n",
    "- Literal starts with f or F\n",
    "- Variables or expressions can be inserted using {}\n",
    "- use = after expression to print expression and result (not only result)\n",
    "- quotes can be used inside expression as long as they differ from the quote type of the f-string\n",
    "- For padding and alignment, use :{padding character(default space)}{alignment}{width}  , paddar innebär att man väljer antal tecken, alignment: <>^ \n",
    "- Alignments: Left <, Center ^, Right >. Default is left for string, right for numerics.\n",
    "- Data type: Add data type after padding and alignment eg: x:<20.2f, in this case .2f means 2 decimals and float type.\n",
    "- Data type formats: Fixed-point notation (f), Exponent notation (e), Percentage (%). (Default precision is 6 d.v.s. 6 decimaler)\n",
    "- Use comma for thousands separation eg: (1000:,) or (1000:,.2f). Comma used separate thousands, point used for decimal."
   ]
  },
  {
   "cell_type": "code",
   "execution_count": 42,
   "metadata": {},
   "outputs": [
    {
     "name": "stdout",
     "output_type": "stream",
     "text": [
      "Hello Younis!\n",
      "Hello YOUNIS!\n",
      "5 + 8 = 13\n",
      "Hej 'Younis'\n",
      "Hej \"Younis\"\n",
      "Hej \"Younis\"\n",
      "3.00\n",
      "3.00e-03\n",
      "1.00e+03\n",
      "78.00%\n",
      "1,000,000.00\n"
     ]
    }
   ],
   "source": [
    "name = \"Younis\" #input(\"Enter you name: \")\n",
    "myString = f\"Hello {name}!\"     #med \"f\" framför string literal tolkar python det som en formatted string literal, och kan lägga in saker såsom variabler direkt i.\n",
    "print(myString)\n",
    "\n",
    "myString = f\"Hello {name.upper()}!\"     #kan också lägga in funktioner/uttryck\n",
    "print(myString)\n",
    "\n",
    "\n",
    "print(f\"{5 + 8 = }\")\n",
    "\n",
    "print(f\"Hej 'Younis'\")\n",
    "print(f'Hej \"Younis\"')\n",
    "print(f\"Hej \\\"Younis\\\"\")   #Efter backslash tittar den på nästa tecken och tolkar på speciellt sätt, som ASCI kod som motsvarar ngt. T.ex. \\n tolkas som ASCI kod för radbyte, för går ej tolka med vanliga tecken\n",
    "\n",
    "print(f\"{3:.2f}\")          \n",
    "print(f\"{0.003:.2e}\")\n",
    "print(f\"{1000:.2e}\")\n",
    "print(f\"{0.78:.2%}\")\n",
    "print(f\"{1000000:,.2f}\")\n"
   ]
  },
  {
   "cell_type": "code",
   "execution_count": 33,
   "metadata": {},
   "outputs": [
    {
     "name": "stdout",
     "output_type": "stream",
     "text": [
      "first_name          last_name\n",
      "Younis              Moussavi\n",
      "Younis              Moussavi\n",
      "xxxxxxxYounisxxxxxxxMoussavi\n"
     ]
    }
   ],
   "source": [
    "first_name = \"Younis\"\n",
    "last_name = \"Moussavi\"\n",
    "\n",
    "print(f\"{'first_name':20}{'last_name'}\")    \n",
    "print(f\"{first_name:20}{last_name}\")     #se på output att nästa kommer efter 20 tecken. Anledning kan vara att man kanske vill loopa igenom lista och få två prydliga kolumner förnamn o efternamn.\n",
    "print(f\"{first_name:20}{last_name}\")\n",
    "print(f\"{first_name:x^20}{last_name}\")\n",
    "\n"
   ]
  },
  {
   "cell_type": "code",
   "execution_count": null,
   "metadata": {},
   "outputs": [],
   "source": []
  }
 ],
 "metadata": {
  "kernelspec": {
   "display_name": "Python 3",
   "language": "python",
   "name": "python3"
  },
  "language_info": {
   "codemirror_mode": {
    "name": "ipython",
    "version": 3
   },
   "file_extension": ".py",
   "mimetype": "text/x-python",
   "name": "python",
   "nbconvert_exporter": "python",
   "pygments_lexer": "ipython3",
   "version": "3.11.5"
  },
  "orig_nbformat": 4
 },
 "nbformat": 4,
 "nbformat_minor": 2
}
