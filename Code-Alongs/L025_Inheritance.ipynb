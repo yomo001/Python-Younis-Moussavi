{
 "cells": [
  {
   "cell_type": "markdown",
   "metadata": {},
   "source": [
    "# Inheritance\n",
    "- Den subklass som ärver från en superklass, eller den child som ärver från en parent, ärver:\n",
    "    - properties, attributes och metoder från parent (kallas även för MEMBERS)\n",
    "    - Man kan ärva av fler superklasser samtidigt i python (med kommatecken mellan varje när man skapar ärvande klassen)\n",
    "    - Dålig practice att ta bort något från superklassen man ärver ifrån. Tänk om man vill loopa igenom samtliga inom superklass, då kraschar det på någon.\n",
    "       - Bättre då med arv i flera nivåer, så att samtliga subklasser har det som högsta superklassen har gemensamt."
   ]
  },
  {
   "cell_type": "code",
   "execution_count": 91,
   "metadata": {},
   "outputs": [
    {
     "name": "stdout",
     "output_type": "stream",
     "text": [
      "{'name': 'Untitled animal'}\n",
      "{'name': 'Untitled animal'}\n",
      "{'name': 'Untitled animal'}\n"
     ]
    }
   ],
   "source": [
    "# Enkelt exempel på arv och hur instanserna som skapas från en subklass får samma members som i superklassen\n",
    "\n",
    "class Animal:\n",
    "    def __init__(self):\n",
    "        self.name = \"Untitled animal\"\n",
    "\n",
    "class Cat(Animal):            #Nu ärver den från Animal, får med dess properties, attribut, och metoder.\n",
    "    ...\n",
    "\n",
    "class Dog(Animal):            #Nu ärver den från Animal, får med dess properties, attribut, och metoder.\n",
    "    ...\n",
    "\n",
    "my_animal = Animal()\n",
    "my_cat = Cat()\n",
    "my_dog = Dog()\n",
    "\n",
    "print(my_animal.__dict__)     #__dict__ används bara i utbildningssyfte, använd inte i din vanliga kod.\n",
    "print(my_cat.__dict__)        # samma output som för Animal\n",
    "print(my_dog.__dict__)        # samma output som för Animal"
   ]
  },
  {
   "cell_type": "code",
   "execution_count": 92,
   "metadata": {},
   "outputs": [
    {
     "name": "stdout",
     "output_type": "stream",
     "text": [
      "{'name': 'Pelle'}\n",
      "{'name': 'Karo'}\n"
     ]
    }
   ],
   "source": [
    "# Här visas motsvarighet som hade behövt kodas om det skulle göras utan arv, för att se fördelar.\n",
    "class Cat(Animal):            \n",
    "    def __init__(self, name):\n",
    "        self.name = name\n",
    "\n",
    "class Dog(Animal):\n",
    "    def __init__(self, name):\n",
    "        self.name = name\n",
    "\n",
    "my_cat = Cat(\"Pelle\")\n",
    "my_dog = Dog(\"Karo\")\n",
    "\n",
    "print(my_cat.__dict__)       \n",
    "print(my_dog.__dict__)      "
   ]
  },
  {
   "cell_type": "markdown",
   "metadata": {},
   "source": [
    "#### Diverse info från frågor:\n",
    "- Getter metod (property) är för att hämta ut specifik property. T.ex. skriva ut my_cat.name, på visst sätt, med viss logik\n",
    "- Vill man ha något särskilt utskrivet, viss metod, får man lägga till den metoden, t.ex. \"move\" här nedan\n",
    "    - Exempel på method override nedan vid move för klassen Fish"
   ]
  },
  {
   "cell_type": "code",
   "execution_count": 93,
   "metadata": {},
   "outputs": [
    {
     "name": "stdout",
     "output_type": "stream",
     "text": [
      "My name is Pelle and I am an <class '__main__.Cat'> \n",
      "My name is Karo and I am an <class '__main__.Dog'> \n",
      "Pelle is running\n",
      "Karo is running\n",
      "Nemo is swimming\n"
     ]
    }
   ],
   "source": [
    "# Lägger till fler metoder samt overridar i Fish objektet som rör sig annorlunda\n",
    "\n",
    "class Animal:\n",
    "    def __init__(self, name):\n",
    "        self.name = name\n",
    "    \n",
    "    def move(self):\n",
    "        print(f\"{self.name} is running\")\n",
    "        # return f\"{self.name} is running\"         # Denna skriver dock inte ut. Returneras fördel är att vi kan göra vad vi vill med den. T.ex. vill skriva till en fil.\n",
    "\n",
    "    def __repr__(self):\n",
    "        return f\"My name is {self.name} and I am an {type(self)} \"     # Här tittar på man på objektets typ, och self är ju objektet i fråga.\n",
    "\n",
    "class Cat(Animal):            \n",
    "    ...\n",
    "\n",
    "class Dog(Animal):\n",
    "    ...\n",
    "\n",
    "class Fish(Animal): \n",
    "    # Method override\n",
    "    def move(self):\n",
    "       print(f\"{self.name} is swimming\") \n",
    "\n",
    "my_cat = Cat(\"Pelle\")\n",
    "my_dog = Dog(\"Karo\")\n",
    "my_fish = Fish(\"Nemo\")\n",
    "\n",
    "print(my_cat)       \n",
    "print(my_dog)\n",
    "my_cat        \n",
    "\n",
    "my_cat.move()   \n",
    "my_dog.move()\n",
    "my_fish.move()\n"
   ]
  },
  {
   "cell_type": "markdown",
   "metadata": {},
   "source": [
    "#### Tar bort variabler och skapar objekten i lista istället\n",
    "- Även bark metod skapas för Dog, samt att vi lägger till if satser i loopen för att koden inte ska krasha eftersom\n",
    "  alla instanser inte har denna metod"
   ]
  },
  {
   "cell_type": "code",
   "execution_count": null,
   "metadata": {},
   "outputs": [],
   "source": [
    "# För att få färre variabler för alla objet, tas de bort och skapas i lista istället. Samma output som ovan\n",
    "# Även bark metod skapas för Dog, samt att vi lägger till if satser i loopen för att koden inte ska krasha eftersom\n",
    "# alla instanser inte har denna metod\n",
    "\n",
    "class Animal:\n",
    "    def __init__(self, name):\n",
    "        self.name = name\n",
    "    \n",
    "    def move(self):\n",
    "        print(f\"{self.name} is running\")\n",
    "        # return f\"{self.name} is running\"         # Denna skriver dock inte ut. Returneras fördel är att vi kan göra vad vi vill med den. T.ex. vill skriva till en fil.\n",
    "\n",
    "    def __repr__(self):\n",
    "        return f\"My name is {self.name} and I am an {type(self)} \"     # Här tittar på man på objektets typ, och self är ju objektet i fråga.\n",
    "\n",
    "class Cat(Animal):            \n",
    "    ...\n",
    "\n",
    "class Dog(Animal):\n",
    "    def bark(self):\n",
    "        print(f\"{self.name} is barking: Voff!\")\n",
    "\n",
    "class Fish(Animal): \n",
    "    # Method override\n",
    "    def move(self):\n",
    "       print(f\"{self.name} is swimming\") \n",
    "    \n",
    "\n",
    "animals = [\n",
    "    Cat(\"Pelle\"), \n",
    "    Dog(\"Karo\"), \n",
    "    Fish(\"Nemo\")\n",
    "]\n",
    "\n",
    "for animal in animals:\n",
    "    animal.move()\n",
    "\n",
    "print()\n",
    "\n",
    "animals[1].bark()   \n",
    "\n",
    "# Hur gör man här för att kontrollera att bara de med \"bark\" är med?\n",
    "for animal in animals:\n",
    "    animal.move()\n",
    "    #if hasattr(animal, \"bark\"):         # Kollar om metod som heter bark finns. Så om en annan klass haft samma metod hade den också körts\n",
    "    #   animal.bark()                    \n",
    "    # if type(animal) == Dog:            \n",
    "    #     animal.bark()\n",
    "    if isinstance(animal, Dog):          \n",
    "        animal.bark()\n",
    "\n",
    "# Skillnaden mellan två sista: se nästa block\n"
   ]
  },
  {
   "cell_type": "markdown",
   "metadata": {},
   "source": [
    "##### Skillnaden mellan de två sista: titta på hans förklaring"
   ]
  },
  {
   "cell_type": "code",
   "execution_count": 111,
   "metadata": {},
   "outputs": [
    {
     "name": "stdout",
     "output_type": "stream",
     "text": [
      "Pelle is running\n",
      "Karo is running\n",
      "Nemo is swimming\n"
     ]
    }
   ],
   "source": [
    "animals = [\n",
    "    Cat(\"Pelle\"), \n",
    "    Dog(\"Karo\"), \n",
    "    Fish(\"Nemo\")\n",
    "]\n",
    "\n",
    "# Hur gör man här för att kontrollera att bara de med \"bark\" är med? \n",
    "# 3 olika sätt\n",
    "\n",
    "for animal in animals:\n",
    "    # animal.move()\n",
    "    # if hasattr(animal, \"bark\"):        # Kollar om metod som heter bark finns. Så om en annan klass haft samma metod hade den också körts\n",
    "    #   animal.bark()                    \n",
    "    # if type(animal) == Animal:         # \n",
    "    #     animal.bark()\n",
    "    if isinstance(animal, Animal):       # \n",
    "        animal.move()\n",
    "\n",
    "\n"
   ]
  },
  {
   "cell_type": "markdown",
   "metadata": {},
   "source": [
    "##### Ändra så att Dog barks loud eller inte"
   ]
  },
  {
   "cell_type": "code",
   "execution_count": 1,
   "metadata": {},
   "outputs": [
    {
     "name": "stdout",
     "output_type": "stream",
     "text": [
      "Pelle is running\n",
      "Karo is running\n",
      "Karo is barking: VOFF!\n",
      "Nemo is swimming\n",
      "Kalle is running\n",
      "Kalle is barking: voff!\n"
     ]
    }
   ],
   "source": [
    "# Ändra så att Dog barks loud eller inte\n",
    "class Animal:\n",
    "    def __init__(self, name):\n",
    "        self.name = name\n",
    "    \n",
    "    def move(self):\n",
    "        print(f\"{self.name} is running\")\n",
    "        # return f\"{self.name} is running\"         # Denna skriver dock inte ut. Returneras fördel är att vi kan göra vad vi vill med den. T.ex. vill skriva till en fil.\n",
    "\n",
    "    def __repr__(self):\n",
    "        return f\"My name is {self.name} and I am an {type(self)} \"     # Här tittar på man på objektets typ, och self är ju objektet i fråga.\n",
    "\n",
    "class Cat(Animal):            \n",
    "    ...\n",
    "\n",
    "class Dog(Animal):\n",
    "    def __init__(self, name, is_loud = True):\n",
    "        self.name = name\n",
    "        self.is_loud = is_loud\n",
    "    \n",
    "    def bark(self):\n",
    "        if self.is_loud:\n",
    "            print(f\"{self.name} is barking: VOFF!\")\n",
    "        else:\n",
    "           print(f\"{self.name} is barking: voff!\") \n",
    "\n",
    "class Fish(Animal): \n",
    "    # Method override\n",
    "    def move(self):\n",
    "       print(f\"{self.name} is swimming\") \n",
    "\n",
    "animals = [\n",
    "    Cat(\"Pelle\"), \n",
    "    Dog(\"Karo\", is_loud = True), \n",
    "    Fish(\"Nemo\"),\n",
    "    Dog(\"Kalle\", is_loud = False), \n",
    "]\n",
    "\n",
    "for animal in animals:\n",
    "    animal.move()\n",
    "    if isinstance(animal, Dog):         \n",
    "        animal.bark()\n"
   ]
  },
  {
   "cell_type": "markdown",
   "metadata": {},
   "source": [
    "Properties använder vi om något ska vara synligt utåt. Vill vi att is_loud ska vara synligt utåt? \n",
    "is_loud behöver ej användas utåt, så den kan göras privat.  Man vill ej att det ändras i efterhand\n",
    "Kan ha en property om man vill att den ska läsas utåt. \n",
    "Vill man om den är loud utan att skälla, så kan man sätta den publik"
   ]
  },
  {
   "cell_type": "code",
   "execution_count": 4,
   "metadata": {},
   "outputs": [
    {
     "name": "stdout",
     "output_type": "stream",
     "text": [
      "Pelle is running\n",
      "Karo is running\n",
      "Karo is barking: VOFF!\n",
      "Nemo is swimming\n",
      "Kalle is running\n",
      "Kalle is barking: voff!\n"
     ]
    }
   ],
   "source": [
    "# Förbättrar ovan kod, ändrar på barkdelen, \n",
    "\n",
    "class Animal:\n",
    "    def __init__(self, name):\n",
    "        self.name = name\n",
    "    \n",
    "    def move(self):\n",
    "        print(f\"{self.name} is running\")\n",
    "        # return f\"{self.name} is running\"         # Denna skriver dock inte ut. Returneras fördel är att vi kan göra vad vi vill med den. T.ex. vill skriva till en fil.\n",
    "\n",
    "    def __repr__(self):\n",
    "        return f\"My name is {self.name} and I am an {type(self)} \"     # Här tittar på man på objektets typ, och self är ju objektet i fråga.\n",
    "\n",
    "class Cat(Animal):            \n",
    "    ...\n",
    "\n",
    "class Dog(Animal):\n",
    "    def __init__(self, name, is_loud = True):\n",
    "        self.name = name\n",
    "        self._is_loud = is_loud\n",
    "   \n",
    "    def bark(self):\n",
    "        if self._is_loud:                             # Varför måste underscore finnas här, är det där det förknippas med self?\n",
    "            print(f\"{self.name} is barking: VOFF!\")\n",
    "        else:\n",
    "           print(f\"{self.name} is barking: voff!\") \n",
    "\n",
    "class Fish(Animal): \n",
    "    # Method override\n",
    "    def move(self):\n",
    "       print(f\"{self.name} is swimming\") \n",
    "\n",
    "\n",
    "animals = [\n",
    "    Cat(\"Pelle\"), \n",
    "    Dog(\"Karo\", is_loud = True), \n",
    "    Fish(\"Nemo\"),\n",
    "    Dog(\"Kalle\", is_loud = False), \n",
    "]\n",
    "\n",
    "for animal in animals:\n",
    "    animal.move()\n",
    "    if isinstance(animal, Dog):         \n",
    "        animal.bark()\n",
    "\n",
    "\n",
    "\n",
    "\n"
   ]
  },
  {
   "cell_type": "code",
   "execution_count": 3,
   "metadata": {},
   "outputs": [
    {
     "name": "stdout",
     "output_type": "stream",
     "text": [
      "Pelle is running\n",
      "\n",
      "Karo is running\n",
      "Karo is barking: VOFF !\n",
      "\n",
      "Nemo is swimming\n",
      "\n",
      "Kalle is running\n",
      "Kalle is barking: voff !\n",
      "\n"
     ]
    }
   ],
   "source": [
    "# \n",
    "\n",
    "class Animal:\n",
    "    def __init__(self, name):\n",
    "        self.name = name\n",
    "    \n",
    "    def move(self):\n",
    "        print(f\"{self.name} is running\")\n",
    "        # return f\"{self.name} is running\"         # Denna skriver dock inte ut. Returneras fördel är att vi kan göra vad vi vill med den. T.ex. vill skriva till en fil.\n",
    "\n",
    "    def __repr__(self):\n",
    "        return f\"My name is {self.name} and I am an {type(self)} \"     # Här tittar på man på objektets typ, och self är ju objektet i fråga.\n",
    "\n",
    "class Cat(Animal):            \n",
    "    ...\n",
    "\n",
    "class Dog(Animal):\n",
    "    def __init__(self, name, is_loud = True):\n",
    "        super().__init__(name)           # Anropar parent. Bra om det finns flera parametrar, underlättar o slipper skriva ut self.x = x på samtliga. Men fördel okcså vid ändring, slipper ändra sen om super ändras.\n",
    "        self._is_loud = is_loud\n",
    "   \n",
    "    def _gett_voff(self):\n",
    "        return \"VOFF\" if self._is_loud else \"voff\"           # Hade man inte haft underscore, hade man bara signalerat till den som användare att inte tänkt användas utåt.\n",
    " \n",
    "    def bark(self):                  \n",
    "            print(f\"{self.name} is barking: {self._gett_voff()} !\")       \n",
    "\n",
    "class Fish(Animal): \n",
    "    # Method override\n",
    "    def move(self):\n",
    "        super().move          #Även om vi overridar move i superdelen, så kan vi tillkalla den från superklassen. \n",
    "        print(f\"{self.name} is swimming\") \n",
    "\n",
    "animals = [\n",
    "    Cat(\"Pelle\"), \n",
    "    Dog(\"Karo\", is_loud = True), \n",
    "    Fish(\"Nemo\"),\n",
    "    Dog(\"Kalle\", is_loud = False), \n",
    "]\n",
    "\n",
    "for animal in animals:\n",
    "    animal.move()\n",
    "    if isinstance(animal, Dog):         \n",
    "        animal.bark()\n",
    "    print()\n",
    "\n"
   ]
  },
  {
   "cell_type": "code",
   "execution_count": 109,
   "metadata": {},
   "outputs": [
    {
     "name": "stdout",
     "output_type": "stream",
     "text": [
      "(isinstance(my_cat, Cat) = True\n",
      "(isinstance(my_cat, Dog) = False\n",
      "(isinstance(my_cat, Animal) = True\n",
      "(isinstance(my_cat, object) = True\n"
     ]
    }
   ],
   "source": [
    "my_cat = Cat(\"Pelle\")\n",
    "\n",
    "print(f\"({isinstance(my_cat, Cat) = }\")\n",
    "print(f\"({isinstance(my_cat, Dog) = }\")\n",
    "print(f\"({isinstance(my_cat, Animal) = }\")\n",
    "print(f\"({isinstance(my_cat, object) = }\")                              # object är grundklass i python som ALLA andra objekt ärver av.\n"
   ]
  },
  {
   "cell_type": "markdown",
   "metadata": {},
   "source": [
    "#### Förklaring nedan till hur samtliga objekt man instanserar faktiskt ärver från \"object\".\n",
    "-  När saker skrivs ut som objekt, är för att objekt klassen är skriven att det ska skrivas ut så, den objektklassen som ALLA Objekt ärver av. T.ex. även __init__ som ärvs av samtliga man skapar oavsett om man har med dom eller inte. "
   ]
  },
  {
   "cell_type": "code",
   "execution_count": 104,
   "metadata": {},
   "outputs": [
    {
     "name": "stdout",
     "output_type": "stream",
     "text": [
      "<__main__.Robot object at 0x000002B51D7273D0>\n"
     ]
    }
   ],
   "source": [
    "class Robot:\n",
    "    ...\n",
    "\n",
    "my_robot = Robot()\n",
    "\n",
    "print(my_robot)\n",
    "\n",
    "# Denna ärver __init__ metod från objekt, samt repr, str osv. \n",
    "# Output vid print är från detta arv, där den ska skriva ut på detta sätt vid print av själva objektet."
   ]
  },
  {
   "cell_type": "code",
   "execution_count": 105,
   "metadata": {},
   "outputs": [],
   "source": [
    "# Det innebär att när vi väl ändrar __init__, så har vi faktiskt overridat den som ärvts från object.\n",
    "class Robot:\n",
    "    def __init__(self):                                 # NU ÄR DETTA EN OVERRIDE, för att den ärver från det som inte är default.\n",
    "        name = \"untitled robot\"\n",
    "\n",
    "my_robot = Robot()"
   ]
  },
  {
   "cell_type": "markdown",
   "metadata": {},
   "source": [
    "##### Här går han igenom issubclass"
   ]
  },
  {
   "cell_type": "code",
   "execution_count": 106,
   "metadata": {},
   "outputs": [
    {
     "name": "stdout",
     "output_type": "stream",
     "text": [
      "(issubclass(Cat, Animal) = True\n",
      "(issubclass(Cat, Dog) = False\n",
      "(issubclass(Cat, object) = True\n",
      "(issubclass(Animal, Cat) = False\n"
     ]
    }
   ],
   "source": [
    "print(f\"({issubclass(Cat, Animal) = }\")\n",
    "print(f\"({issubclass(Cat, Dog) = }\")\n",
    "print(f\"({issubclass(Cat, object) = }\")\n",
    "print(f\"({issubclass(Animal, Cat) = }\")\n"
   ]
  },
  {
   "cell_type": "markdown",
   "metadata": {},
   "source": [
    "##### Här går han igenom hasattr"
   ]
  },
  {
   "cell_type": "code",
   "execution_count": 107,
   "metadata": {},
   "outputs": [
    {
     "name": "stdout",
     "output_type": "stream",
     "text": [
      "(hasattr(my_dog, 'name') = True\n",
      "(hasattr(my_dog, 'bark') = True\n",
      "(hasattr(my_dog, 'age') = False\n",
      "(hasattr(my_dog, '__init__') = True\n",
      "(hasattr(my_dog, '__dict__') = True\n"
     ]
    }
   ],
   "source": [
    "my_dog = Dog(\"Karo\", \"Yes\")\n",
    "\n",
    "print(f\"({hasattr(my_dog, 'name') = }\")                 # Kollar på enskild instans, man skriver inte hela klassnamnet alltså\n",
    "print(f\"({hasattr(my_dog, 'bark') = }\")\n",
    "print(f\"({hasattr(my_dog, 'age') = }\")\n",
    "print(f\"({hasattr(my_dog, '__init__') = }\")\n",
    "print(f\"({hasattr(my_dog, '__dict__') = }\")             # Visar hur alla objekt ärver denna från object"
   ]
  }
 ],
 "metadata": {
  "kernelspec": {
   "display_name": "python-programming-YOUNIS-MOUSSAVI-yU_f8x7q",
   "language": "python",
   "name": "python3"
  },
  "language_info": {
   "codemirror_mode": {
    "name": "ipython",
    "version": 3
   },
   "file_extension": ".py",
   "mimetype": "text/x-python",
   "name": "python",
   "nbconvert_exporter": "python",
   "pygments_lexer": "ipython3",
   "version": "3.11.5"
  },
  "orig_nbformat": 4
 },
 "nbformat": 4,
 "nbformat_minor": 2
}
