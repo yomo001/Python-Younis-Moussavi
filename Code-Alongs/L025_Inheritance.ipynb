{
 "cells": [
  {
   "cell_type": "markdown",
   "metadata": {},
   "source": [
    "# Inheritance\n",
    "- Den subklass som ärver från en superklass, eller den child som ärver från en parent, ärver:\n",
    "    - properties, attributes och metoder från parent\n",
    "    - Man kan ärva av fler superklasser i python (med kommatecken mellan varje när man skapar ärvande klassen)\n",
    "    - Dålig practice att ta bort något från superklassen. Tänk om man vill loopa igenom samtliga inom superklass, då kraschar det på någon.\n",
    "       - Bättre då med arv i flera nivåer, så att samtliga subklasser har det som högsta superklassen har gemensamt."
   ]
  },
  {
   "cell_type": "code",
   "execution_count": 32,
   "metadata": {},
   "outputs": [
    {
     "name": "stdout",
     "output_type": "stream",
     "text": [
      "{'name': 'Untitled animal'}\n",
      "{'name': 'Untitled animal'}\n",
      "{'name': 'Untitled animal'}\n"
     ]
    }
   ],
   "source": [
    "class Animal:\n",
    "    def __init__(self):\n",
    "        self.name = \"Untitled animal\"\n",
    "\n",
    "class Cat(Animal):            #Nu ärver den från Animal, får med dess properties, attribut, och metoder.\n",
    "    ...\n",
    "\n",
    "class Dog(Animal):            #Nu ärver den från Animal, får med dess properties, attribut, och metoder.\n",
    "    ...\n",
    "\n",
    "my_animal = Animal()\n",
    "my_cat = Cat()\n",
    "my_dog = Dog()\n",
    "\n",
    "print(my_animal.__dict__)     #__dict__ används bara i utbildningssyfte, använd inte i din vanliga kod.\n",
    "print(my_cat.__dict__)        # samma output som för Animal\n",
    "print(my_dog.__dict__)        # samma output som för Animal"
   ]
  },
  {
   "cell_type": "code",
   "execution_count": null,
   "metadata": {},
   "outputs": [],
   "source": [
    "# Utan arv, för att se fördelar\n",
    "class Cat(Animal):            \n",
    "    def __init__(self, name):\n",
    "        self.name = name\n",
    "\n",
    "class Dog(Animal):\n",
    "    def __init__(self, name):\n",
    "        self.name = name\n",
    "\n",
    "my_cat = Cat(\"Pelle\")\n",
    "my_dog = Dog(\"Karo\")\n",
    "\n",
    "print(my_cat.__dict__)       \n",
    "print(my_dog.__dict__)      "
   ]
  },
  {
   "cell_type": "markdown",
   "metadata": {},
   "source": [
    "#### Diverse info från frågor:\n",
    "- Getter är för att hämta ut specifik property. T.ex. skriva my_cat.name,\n",
    "- Vill man ha något särskilt utskrivet, viss metod, får man lägga till den metoden, t.ex. \"move\" här nedan\n",
    "- Exempel på method override nedan vid move för klassen Fish"
   ]
  },
  {
   "cell_type": "code",
   "execution_count": 29,
   "metadata": {},
   "outputs": [
    {
     "name": "stdout",
     "output_type": "stream",
     "text": [
      "Pelle is running\n",
      "Karo is running\n",
      "Nemo is swimming\n"
     ]
    }
   ],
   "source": [
    "# Med arv  #Nu ärver den från Animal, får med dess properties, attribut, och metoder.\n",
    "class Animal:\n",
    "    def __init__(self, name):\n",
    "        self.name = name\n",
    "    \n",
    "    def move(self):\n",
    "        print(f\"{self.name} is running\")\n",
    "        # return f\"{self.name} is running\"         # Denna skriver dock inte ut. Returneras fördel är att vi kan göra vad vi vill med den. T.ex. vill skriva till en fil.\n",
    "\n",
    "    def __repr__(self):\n",
    "        return f\"My name is {self.name} and I am an {type(self)} \"     # Här tittar på man på objektets typ, och self är ju objektet i fråga.\n",
    "\n",
    "class Cat(Animal):            \n",
    "    ...\n",
    "\n",
    "class Dog(Animal):\n",
    "    ...\n",
    "\n",
    "class Fish(Animal): \n",
    "    # Method override\n",
    "    def move(self):\n",
    "       print(f\"{self.name} is swimming\") \n",
    "\n",
    "my_cat = Cat(\"Pelle\")\n",
    "my_dog = Dog(\"Karo\")\n",
    "my_fish = Fish(\"Nemo\")\n",
    "\n",
    "print(my_cat)       \n",
    "print(my_dog)\n",
    "my_cat        \n",
    "\n",
    "my_cat.move()   \n",
    "my_dog.move()\n",
    "my_fish.move()\n",
    "\n",
    "\n"
   ]
  },
  {
   "cell_type": "code",
   "execution_count": 33,
   "metadata": {},
   "outputs": [
    {
     "name": "stdout",
     "output_type": "stream",
     "text": [
      "Pelle is running\n",
      "Karo is running\n",
      "Nemo is swimming\n"
     ]
    }
   ],
   "source": [
    "# För att få färre variabler för alla objet, tas de bort och skapas i lista istället. Samma output som ovan\n",
    "class Animal:\n",
    "    def __init__(self, name):\n",
    "        self.name = name\n",
    "    \n",
    "    def move(self):\n",
    "        print(f\"{self.name} is running\")\n",
    "        # return f\"{self.name} is running\"         # Denna skriver dock inte ut. Returneras fördel är att vi kan göra vad vi vill med den. T.ex. vill skriva till en fil.\n",
    "\n",
    "    def __repr__(self):\n",
    "        return f\"My name is {self.name} and I am an {type(self)} \"     # Här tittar på man på objektets typ, och self är ju objektet i fråga.\n",
    "\n",
    "class Cat(Animal):            \n",
    "    ...\n",
    "\n",
    "class Dog(Animal):\n",
    "    ...\n",
    "\n",
    "class Fish(Animal): \n",
    "    # Method override\n",
    "    def move(self):\n",
    "       print(f\"{self.name} is swimming\") \n",
    "\n",
    "animals = [\n",
    "    Cat(\"Pelle\"), \n",
    "    Dog(\"Karo\"), \n",
    "    Fish(\"Nemo\")\n",
    "]\n",
    "\n",
    "for animal in animals:\n",
    "    animal.move()"
   ]
  }
 ],
 "metadata": {
  "kernelspec": {
   "display_name": "python-programming-YOUNIS-MOUSSAVI-yU_f8x7q",
   "language": "python",
   "name": "python3"
  },
  "language_info": {
   "codemirror_mode": {
    "name": "ipython",
    "version": 3
   },
   "file_extension": ".py",
   "mimetype": "text/x-python",
   "name": "python",
   "nbconvert_exporter": "python",
   "pygments_lexer": "ipython3",
   "version": "3.11.5"
  },
  "orig_nbformat": 4
 },
 "nbformat": 4,
 "nbformat_minor": 2
}
