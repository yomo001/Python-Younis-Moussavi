{
 "cells": [
  {
   "cell_type": "markdown",
   "metadata": {},
   "source": [
    "# Inheritance\n",
    "- Den subklass som ärver från en superklass, eller den child som ärver från en parent, ärver:\n",
    "    - properties, attributes och metoder från parent\n",
    "    - Man kan ärva av fler superklasser i python (med kommatecken mellan varje när man skapar ärvande klassen)\n",
    "    - Dålig practice att ta bort något från superklassen. Tänk om man vill loopa igenom samtliga inom superklass, då kraschar det på någon.\n",
    "       - Bättre då med arv i flera nivåer, så att samtliga subklasser har det som högsta superklassen har gemensamt."
   ]
  },
  {
   "cell_type": "code",
   "execution_count": 3,
   "metadata": {},
   "outputs": [
    {
     "name": "stdout",
     "output_type": "stream",
     "text": [
      "{'name': 'Untitled animal'}\n",
      "{'name': 'Untitled animal'}\n",
      "{'name': 'Untitled animal'}\n"
     ]
    }
   ],
   "source": [
    "class Animal:\n",
    "    def __init__(self):\n",
    "        self.name = \"Untitled animal\"\n",
    "\n",
    "class Cat(Animal):            #Nu ärver den från Animal, får med dess properties, attribut, och metoder.\n",
    "    ...\n",
    "\n",
    "class Dog(Animal):            #Nu ärver den från Animal, får med dess properties, attribut, och metoder.\n",
    "    ...\n",
    "\n",
    "my_animal = Animal()\n",
    "my_cat = Cat()\n",
    "my_dog = Dog()\n",
    "\n",
    "print(my_animal.__dict__)     #__dict__ används bara i utbildningssyfte, använd inte i din vanliga kod.\n",
    "print(my_cat.__dict__)        # samma output som för Animal\n",
    "print(my_dog.__dict__)        # samma output som för Animal"
   ]
  },
  {
   "cell_type": "code",
   "execution_count": 4,
   "metadata": {},
   "outputs": [
    {
     "name": "stdout",
     "output_type": "stream",
     "text": [
      "{'name': 'Pelle'}\n",
      "{'name': 'Karo'}\n"
     ]
    }
   ],
   "source": [
    "# Utan arv, för att se fördelar\n",
    "class Cat(Animal):            \n",
    "    def __init__(self, name):\n",
    "        self.name = name\n",
    "\n",
    "class Dog(Animal):\n",
    "    def __init__(self, name):\n",
    "        self.name = name\n",
    "\n",
    "my_cat = Cat(\"Pelle\")\n",
    "my_dog = Dog(\"Karo\")\n",
    "\n",
    "print(my_cat.__dict__)       \n",
    "print(my_dog.__dict__)      "
   ]
  },
  {
   "cell_type": "markdown",
   "metadata": {},
   "source": [
    "#### Diverse info från frågor:\n",
    "- Getter är för att hämta ut specifik property. T.ex. skriva my_cat.name,\n",
    "- Vill man ha något särskilt utskrivet, viss metod, får man lägga till den metoden, t.ex. \"move\" här nedan\n",
    "- Exempel på method override nedan vid move för klassen Fish"
   ]
  },
  {
   "cell_type": "code",
   "execution_count": 5,
   "metadata": {},
   "outputs": [
    {
     "name": "stdout",
     "output_type": "stream",
     "text": [
      "My name is Pelle and I am an <class '__main__.Cat'> \n",
      "My name is Karo and I am an <class '__main__.Dog'> \n",
      "Pelle is running\n",
      "Karo is running\n",
      "Nemo is swimming\n"
     ]
    }
   ],
   "source": [
    "# Med arv  #Nu ärver den från Animal, får med dess properties, attribut, och metoder.\n",
    "class Animal:\n",
    "    def __init__(self, name):\n",
    "        self.name = name\n",
    "    \n",
    "    def move(self):\n",
    "        print(f\"{self.name} is running\")\n",
    "        # return f\"{self.name} is running\"         # Denna skriver dock inte ut. Returneras fördel är att vi kan göra vad vi vill med den. T.ex. vill skriva till en fil.\n",
    "\n",
    "    def __repr__(self):\n",
    "        return f\"My name is {self.name} and I am an {type(self)} \"     # Här tittar på man på objektets typ, och self är ju objektet i fråga.\n",
    "\n",
    "class Cat(Animal):            \n",
    "    ...\n",
    "\n",
    "class Dog(Animal):\n",
    "    ...\n",
    "\n",
    "class Fish(Animal): \n",
    "    # Method override\n",
    "    def move(self):\n",
    "       print(f\"{self.name} is swimming\") \n",
    "\n",
    "my_cat = Cat(\"Pelle\")\n",
    "my_dog = Dog(\"Karo\")\n",
    "my_fish = Fish(\"Nemo\")\n",
    "\n",
    "print(my_cat)       \n",
    "print(my_dog)\n",
    "my_cat        \n",
    "\n",
    "my_cat.move()   \n",
    "my_dog.move()\n",
    "my_fish.move()\n"
   ]
  },
  {
   "cell_type": "code",
   "execution_count": 11,
   "metadata": {},
   "outputs": [
    {
     "name": "stdout",
     "output_type": "stream",
     "text": [
      "Pelle is running\n",
      "Karo is running\n",
      "Nemo is swimming\n",
      "\n",
      "Karo is barking\n",
      "Pelle is running\n",
      "Karo is running\n",
      "Karo is barking\n",
      "Nemo is swimming\n"
     ]
    }
   ],
   "source": [
    "# För att få färre variabler för alla objet, tas de bort och skapas i lista istället. Samma output som ovan\n",
    "class Animal:\n",
    "    def __init__(self, name):\n",
    "        self.name = name\n",
    "    \n",
    "    def move(self):\n",
    "        print(f\"{self.name} is running\")\n",
    "        # return f\"{self.name} is running\"         # Denna skriver dock inte ut. Returneras fördel är att vi kan göra vad vi vill med den. T.ex. vill skriva till en fil.\n",
    "\n",
    "    def __repr__(self):\n",
    "        return f\"My name is {self.name} and I am an {type(self)} \"     # Här tittar på man på objektets typ, och self är ju objektet i fråga.\n",
    "\n",
    "class Cat(Animal):            \n",
    "    ...\n",
    "\n",
    "class Dog(Animal):\n",
    "    def bark(self):\n",
    "        print(f\"{self.name} is barking\")\n",
    "\n",
    "class Fish(Animal): \n",
    "    # Method override\n",
    "    def move(self):\n",
    "       print(f\"{self.name} is swimming\") \n",
    "    \n",
    "    \n",
    "\n",
    "animals = [\n",
    "    Cat(\"Pelle\"), \n",
    "    Dog(\"Karo\"), \n",
    "    Fish(\"Nemo\")\n",
    "]\n",
    "\n",
    "for animal in animals:\n",
    "    animal.move()\n",
    "\n",
    "print()\n",
    "\n",
    "animals[1].bark()\n",
    "# Karo is barking\n",
    "\n",
    "# Hur gör man här för att kontrollera att bara de med \"bark\" är med?\n",
    "for animal in animals:\n",
    "    animal.move()\n",
    "    #if hasattr(animal, \"bark\"):         # Kollar om metod som heter bark finns. Så om en annan klass haft samma metod hade den också körts\n",
    "    #   animal.bark()                    \n",
    "    # if type(animal) == Dog:            #  \n",
    "    #     animal.bark()\n",
    "    if isinstance(animal, Dog):          # Av alla som är hund, eller objekt som ärver av hund\n",
    "        animal.bark()\n",
    "\n",
    "# Skillnaden mellan två sista: den första är att \n"
   ]
  },
  {
   "cell_type": "code",
   "execution_count": 8,
   "metadata": {},
   "outputs": [
    {
     "name": "stdout",
     "output_type": "stream",
     "text": [
      "(isinstance(my_cat, Cat) = False\n",
      "(isinstance(my_cat, Dog) = False\n",
      "(isinstance(my_cat, Animal) = False\n",
      "(isinstance(my_cat, object) = True\n"
     ]
    }
   ],
   "source": [
    "my_Cat = Cat(\"Pelle\")\n",
    "print(f\"({isinstance(my_cat, Cat) = }\")\n",
    "print(f\"({isinstance(my_cat, Dog) = }\")\n",
    "print(f\"({isinstance(my_cat, Animal) = }\")\n",
    "print(f\"({isinstance(my_cat, object) = }\")                              # object är grundklass i python som ALLA andra objekt ärver av.\n"
   ]
  },
  {
   "cell_type": "code",
   "execution_count": 7,
   "metadata": {},
   "outputs": [
    {
     "name": "stdout",
     "output_type": "stream",
     "text": [
      "My name is Pelle and I am an <class '__main__.Cat'> \n"
     ]
    }
   ],
   "source": [
    "print(my_cat)"
   ]
  },
  {
   "cell_type": "markdown",
   "metadata": {},
   "source": [
    "När saker skrivs ut som objekt, är för att objekt klassen är skriven att det ska skrivas ut så, den objektklassen som ALLA Objekt ärver av. T.ex. även __init__ som ärvs av samtliga man skapar oavsett om man har med dom eller inte. "
   ]
  },
  {
   "cell_type": "code",
   "execution_count": 14,
   "metadata": {},
   "outputs": [
    {
     "name": "stdout",
     "output_type": "stream",
     "text": [
      "<__main__.Robot object at 0x000002B51D578E90>\n"
     ]
    }
   ],
   "source": [
    "class Robot:\n",
    "    ...\n",
    "\n",
    "my_robot = Robot()\n",
    "\n",
    "print(my_robot)\n",
    "\n",
    "# Denna ärver __init__ metod från objekt, samt repr, str osv. "
   ]
  },
  {
   "cell_type": "code",
   "execution_count": 17,
   "metadata": {},
   "outputs": [],
   "source": [
    "class Robot:\n",
    "    def __init__(self):                 # NU ÄR DETTA EN OVERRIDE, för att den ärver från det som inte är default.\n",
    "        name = \"untitled robot\"\n",
    "\n",
    "my_robot = Robot()\n"
   ]
  }
 ],
 "metadata": {
  "kernelspec": {
   "display_name": "python-programming-YOUNIS-MOUSSAVI-yU_f8x7q",
   "language": "python",
   "name": "python3"
  },
  "language_info": {
   "codemirror_mode": {
    "name": "ipython",
    "version": 3
   },
   "file_extension": ".py",
   "mimetype": "text/x-python",
   "name": "python",
   "nbconvert_exporter": "python",
   "pygments_lexer": "ipython3",
   "version": "3.11.5"
  },
  "orig_nbformat": 4
 },
 "nbformat": 4,
 "nbformat_minor": 2
}
