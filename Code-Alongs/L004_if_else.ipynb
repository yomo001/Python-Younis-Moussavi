{
 "cells": [
  {
   "cell_type": "markdown",
   "metadata": {},
   "source": [
    "#If statements\n",
    "- **if** - Essential part of if-statement\n",
    "- **elif** - Zero, One or More elif\n",
    "- **else** - Zero, One"
   ]
  },
  {
   "cell_type": "code",
   "execution_count": 24,
   "metadata": {},
   "outputs": [
    {
     "name": "stdout",
     "output_type": "stream",
     "text": [
      "Yes\n",
      "True\n"
     ]
    }
   ],
   "source": [
    "x = 5\n",
    "name = \"Pelle\"\n",
    "\n",
    "if x < 10 or name == \"Fredrik\":   #if true, it runs the code in the blocks, if false it skips the block \n",
    "    print(\"Yes\")\n",
    "    print(\"True\")\n",
    "elif name == \"Kalle\":     #if true, runs the code in its indented block, if False, skips the block\n",
    "    print(\"Hello Kalle\")\n",
    "elif name == \"Pelle\":\n",
    "    print(\"Hello Pelle\")\n",
    "elif name == \"Anders\":\n",
    "    print(\"Hello Anders\")\n",
    "else:                      #also possible without else.\n",
    "    print(\"No!\")\n",
    "    print(\"False!\")"
   ]
  },
  {
   "cell_type": "code",
   "execution_count": 38,
   "metadata": {},
   "outputs": [
    {
     "name": "stdout",
     "output_type": "stream",
     "text": [
      "Kalle\n"
     ]
    }
   ],
   "source": [
    "name = \"Kalle\"\n",
    "\n",
    "if x < 10 or name == \"Fredrik\": print(\"Yes!\"), print(\"True\") #possible to enter on one line\n",
    "elif name ==\"Kalle\": print(\"Kalle\")"
   ]
  },
  {
   "cell_type": "markdown",
   "metadata": {},
   "source": [
    "# Ternary operator\n",
    "A special operator that take three operands and returns one of those choices depending on if the middle expression evaluate to true or false. (TrueValue if expression else FalseValue)\n"
   ]
  },
  {
   "cell_type": "code",
   "execution_count": 42,
   "metadata": {},
   "outputs": [
    {
     "name": "stdout",
     "output_type": "stream",
     "text": [
      "Fred ???\n",
      "Please wait 1 second\n"
     ]
    }
   ],
   "source": [
    "name = \"Fred\"\n",
    "lastname = (\"Johansson\" if name == \"Fredrik\" else \"???\")\n",
    "\n",
    "print(f\"{name} {lastname}\")\n",
    "seconds = 1 \n",
    "print(f\"Please wait {seconds} second{'s' if seconds != 1 else ''}\")"
   ]
  },
  {
   "cell_type": "code",
   "execution_count": null,
   "metadata": {},
   "outputs": [],
   "source": []
  }
 ],
 "metadata": {
  "kernelspec": {
   "display_name": "Python 3",
   "language": "python",
   "name": "python3"
  },
  "language_info": {
   "codemirror_mode": {
    "name": "ipython",
    "version": 3
   },
   "file_extension": ".py",
   "mimetype": "text/x-python",
   "name": "python",
   "nbconvert_exporter": "python",
   "pygments_lexer": "ipython3",
   "version": "3.11.5"
  },
  "orig_nbformat": 4
 },
 "nbformat": 4,
 "nbformat_minor": 2
}
