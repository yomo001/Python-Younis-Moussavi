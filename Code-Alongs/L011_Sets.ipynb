{
 "cells": [
  {
   "cell_type": "markdown",
   "metadata": {},
   "source": [
    "# Sets\n",
    "- Set items are unordered, unchangeable, and do not allow dublicate values. For example when we have list and only want unique values, it can be done by transforming to a set\n",
    "- Items can not be accessed using indexes or slicing (since they are unordered)\n",
    "- Set items can be of any data type, and can contain different data types. "
   ]
  },
  {
   "cell_type": "code",
   "execution_count": 5,
   "metadata": {},
   "outputs": [
    {
     "name": "stdout",
     "output_type": "stream",
     "text": [
      "8\n",
      "a = {1, 3, 4, 5, 9, 11, 12}\n"
     ]
    }
   ],
   "source": [
    "# Create empty set\n",
    "empty_set = {}   #creates dictionary, because both use same gull wing brackets, rather when filling values it will decide if set or not.\n",
    "\n",
    "# Create set with values\n",
    "a = {1, 3, 5, 3, 4, 10}\n",
    "\n",
    "# Add value to set  (since it is unordered, you cannot append to the last, but can add value)\n",
    "a.add(12)\n",
    "\n",
    "a.update({9, 10, 11})    #Lägga till flera värden, slår ihop två listor t.ex. \n",
    "\n",
    "# Get number of items in set (does not count duplicates)\n",
    "print(f\"{len(a)}\")            \n",
    "\n",
    "# Remove element from set if it exists\n",
    "a.discard(10)\n",
    "\n",
    "\n",
    "#Print set\n",
    "print(f\"{a = }\") "
   ]
  },
  {
   "cell_type": "markdown",
   "metadata": {},
   "source": [
    "## Combining sets\n",
    "Sets can be combined in several ways:\n",
    "- **Union:** Return a set that contains all items from both set, duplicates are excluded.\n",
    "- **Intersection:** Return a set that contains the items that exists in both set a, and set b\n",
    "- **Difference:** Return a set that contains the items that only exists in set a, and not in set b.\n",
    "- **Symmetric difference:** Return a set that contains all items from both sets, except items that are present in both sets.\n",
    "\n",
    "Is used for such combinations and comparisons, transforming to sets and comparing."
   ]
  },
  {
   "cell_type": "code",
   "execution_count": 21,
   "metadata": {},
   "outputs": [
    {
     "name": "stdout",
     "output_type": "stream",
     "text": [
      "a = {3, 4, 5, 9, 11, 12}\n",
      "b = {2, 4, 5, 6, 10, 11, 15}\n",
      "\n",
      "a.union(b,c) = {2, 3, 4, 5, 6, 999, 9, 10, 11, 12, 15}\n",
      "a.intersection(b) = {11, 4, 5}\n",
      "a.difference(b) = {9, 3, 12}\n",
      "b.difference(a) = {2, 10, 6, 15}\n",
      "a.symmetric_difference(b) = {2, 3, 6, 9, 10, 12, 15}\n"
     ]
    }
   ],
   "source": [
    "b = {2, 4, 5, 6, 10, 11, 15}\n",
    "\n",
    "print(f\"{a = }\\n{b = }\\n\") \n",
    "\n",
    "print(f\"{a.union(b) = }\")\n",
    "print(f\"{a.intersection(b) = }\")\n",
    "\n",
    "print(f\"{a.difference(b) = }\")\n",
    "print(f\"{b.difference(a) = }\")\n",
    "print(f\"{a.symmetric_difference(b) = }\")\n",
    "\n"
   ]
  },
  {
   "cell_type": "code",
   "execution_count": 13,
   "metadata": {},
   "outputs": [
    {
     "name": "stdout",
     "output_type": "stream",
     "text": [
      "{'melon', 'kiwi', 'apple'}\n"
     ]
    }
   ],
   "source": [
    "fruits = [\"apple\", \"kiwi\", \"apple\",\"melon\", \"kiwi\"]\n",
    "\n",
    "print(set(fruits))"
   ]
  }
 ],
 "metadata": {
  "kernelspec": {
   "display_name": "Python 3",
   "language": "python",
   "name": "python3"
  },
  "language_info": {
   "codemirror_mode": {
    "name": "ipython",
    "version": 3
   },
   "file_extension": ".py",
   "mimetype": "text/x-python",
   "name": "python",
   "nbconvert_exporter": "python",
   "pygments_lexer": "ipython3",
   "version": "3.11.5"
  },
  "orig_nbformat": 4
 },
 "nbformat": 4,
 "nbformat_minor": 2
}
