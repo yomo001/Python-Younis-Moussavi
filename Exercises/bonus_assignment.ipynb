{
 "cells": [
  {
   "cell_type": "markdown",
   "metadata": {},
   "source": [
    "# Förutsägande av Huspriser med Linjär Regression\n",
    "Denna rapport beskriver en maskininlärningsmodell baserad på linjär regression för att förutsäga huspriser. Vi följer sju huvudsteg i denna rapport: \n",
    "- [Samla data]\n",
    "- [Förbereda data]\n",
    "- [Välja en modell]\n",
    "- [Träna modellen]\n",
    "- [Utvärdera modellen]\n",
    "- [Hyperparameter tuning (vid behov)]\n",
    "- [Prediktion samt driftsättning]\n",
    "\n"
   ]
  }
 ],
 "metadata": {
  "language_info": {
   "name": "python"
  }
 },
 "nbformat": 4,
 "nbformat_minor": 2
}
