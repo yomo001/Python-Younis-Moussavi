{
 "cells": [
  {
   "cell_type": "markdown",
   "metadata": {},
   "source": [
    "<a href=\"https://colab.research.google.com/github/kokchun/Python-course-AI22/blob/main/Exercises/04-list-exercise.ipynb\" target=\"_parent\"><img align=\"left\" src=\"https://colab.research.google.com/assets/colab-badge.svg\" alt=\"Open In Colab\"/></a> &nbsp; to see hints and answers."
   ]
  },
  {
   "cell_type": "markdown",
   "metadata": {},
   "source": [
    "# list exercises\n",
    "\n",
    "---\n",
    "These are introductory exercises in Python with focus in **lists**.\n",
    "\n",
    "<p class = \"alert alert-info\" role=\"alert\"><b>Remember</b> to use <b>descriptive variable names</b> in order to get readable code </p>\n",
    "\n",
    "<p class = \"alert alert-info\" role=\"alert\"><b>Remember</b> to format your answers in a neat way using <b>f-strings</b>\n",
    "\n",
    "<p class = \"alert alert-info\" role=\"alert\"><b>Remember</b> to format your input questions in a pedagogical way to guide the user\n",
    "\n",
    "The number of stars (\\*), (\\*\\*), (\\*\\*\\*) denotes the difficulty level of the task\n",
    "\n",
    "---"
   ]
  },
  {
   "cell_type": "markdown",
   "metadata": {},
   "source": [
    "## 1. Dice rolls (*)\n",
    "\n",
    "Simulate 10 dice rolls and **append** the rolls to a list or use **list comprehension**.\n",
    "\n",
    "&nbsp; a) &nbsp; sort the list in **ascending** order (*)\n",
    "\n",
    "&nbsp; b) &nbsp; sort the list in **descending** order (*)\n",
    "\n",
    "&nbsp; c) &nbsp; find the **maximum** and **minimum** value in the list (*)\n",
    "\n",
    "\n",
    "<details>\n",
    "\n",
    "<summary>Answer </summary>\n",
    "\n",
    "a)\n",
    "```\n",
    "Ascending order: [1, 1, 2, 3, 4, 4, 4, 5, 6, 6]\n",
    "```\n",
    "\n",
    "b) \n",
    "```\n",
    "Descending order: [6, 6, 5, 4, 4, 4, 3, 2, 1, 1]\n",
    "```\n",
    "\n",
    "c) \n",
    "```\n",
    "Maximum: 6\n",
    "Minimum: 1\n",
    "```\n",
    "\n",
    "</details>\n",
    "\n",
    "\n"
   ]
  },
  {
   "cell_type": "code",
   "execution_count": 2,
   "metadata": {},
   "outputs": [
    {
     "name": "stdout",
     "output_type": "stream",
     "text": [
      "[2, 2, 2, 4, 5, 3]\n",
      "[2, 2, 2, 3, 4, 5]\n",
      "[5, 4, 3, 2, 2, 2]\n",
      "5\n",
      "2\n"
     ]
    }
   ],
   "source": [
    "# append to a list\n",
    "from random import randint\n",
    "\n",
    "dice_rolls = []\n",
    "\n",
    "for roll in range(6):\n",
    "    roll = randint(1, 6)\n",
    "    dice_rolls.append(roll)\n",
    "\n",
    "print(dice_rolls)\n",
    "\n",
    "#a \n",
    "print(sorted(dice_rolls))\n",
    "\n",
    "#b\n",
    "print(sorted(dice_rolls, reverse = True))\n",
    "\n",
    "#c \n",
    "print(max(dice_rolls))\n",
    "print(min(dice_rolls))"
   ]
  },
  {
   "cell_type": "code",
   "execution_count": 3,
   "metadata": {},
   "outputs": [
    {
     "name": "stdout",
     "output_type": "stream",
     "text": [
      "[1, 3, 5, 4, 4, 4, 4, 4, 1, 6]\n",
      "[2, 6, 3, 2, 6, 2, 2, 4, 5, 5]\n"
     ]
    }
   ],
   "source": [
    "from random import randint\n",
    "# Shorter solution\n",
    "dice_rolls = []\n",
    "for roll in range(10):\n",
    "    dice_rolls.append(randint(1,6))\n",
    "\n",
    "print(dice_rolls)\n",
    "\n",
    "# With list comprehension\n",
    "\n",
    "dice_rolls2 = [randint(1,6) for roll in range(10)]\n",
    "\n",
    "print(dice_rolls2)\n"
   ]
  },
  {
   "cell_type": "code",
   "execution_count": 4,
   "metadata": {},
   "outputs": [
    {
     "data": {
      "text/plain": [
       "[3, 6, 9, 12, 15, 18]"
      ]
     },
     "execution_count": 4,
     "metadata": {},
     "output_type": "execute_result"
    }
   ],
   "source": [
    "# Generellt om list comprehensions \n",
    "\n",
    "dice_rolls = [1, 2, 3, 4, 5, 6]\n",
    "\n",
    "[roll*3 for roll in dice_rolls]   # Man gör något med varje objekt i listan\n",
    "                                  # Obs, detta blir en ny lista, objekt, som behöver refereras till om man vill kunna använda sen.\n",
    "\n",
    "\n"
   ]
  },
  {
   "cell_type": "code",
   "execution_count": 5,
   "metadata": {},
   "outputs": [
    {
     "name": "stdout",
     "output_type": "stream",
     "text": [
      "[5, 3, 6, 6, 6, 5]\n",
      "[3, 5, 5, 6, 6, 6]\n",
      "[6, 6, 6, 5, 5, 3]\n",
      "6\n",
      "3\n"
     ]
    }
   ],
   "source": [
    "# by list comprehension\n",
    "from random import randint\n",
    "\n",
    "\n",
    "dice_rolls = [randint(1,6) for roll in range(6)]\n",
    "    \n",
    "\n",
    "print(dice_rolls)\n",
    "\n",
    "#a \n",
    "print(sorted(dice_rolls))\n",
    "\n",
    "#b\n",
    "print(sorted(dice_rolls, reverse = True))\n",
    "\n",
    "#c \n",
    "\n",
    "print(max(dice_rolls))\n",
    "print(min(dice_rolls))"
   ]
  },
  {
   "cell_type": "markdown",
   "metadata": {},
   "source": [
    "--- \n",
    "## 2. Food menu (*)\n",
    "\n",
    "Create a:  \n",
    "\n",
    "&nbsp; a) &nbsp; **list** with the following elements: \"vegetarisk lasagne\", \"spaghetti\", \"fisk\", \"grönsakssoppa\", \"pannkakor\". (*)\n",
    "\n",
    "&nbsp; b) &nbsp; **list** with the weekdays (*)\n",
    "\n",
    "&nbsp; c) &nbsp; create a food menu with each day corresponding to each food item and print it out. (*)\n",
    "\n",
    "<details>\n",
    "\n",
    "<summary>Answer</summary>\n",
    "\n",
    "c) \n",
    "```\n",
    "Bambameny\n",
    "Mån: vegetarisk lasagne\n",
    "Tis: spaghetti\n",
    "Ons: fisk\n",
    "Tor: grönsakssoppa\n",
    "Fre: pannkakor\n",
    "```\n",
    "\n",
    "</details>"
   ]
  },
  {
   "cell_type": "code",
   "execution_count": 6,
   "metadata": {},
   "outputs": [
    {
     "name": "stdout",
     "output_type": "stream",
     "text": [
      "Food Menu\n",
      "Måndag: vegetarisk lasagne\n",
      "Tisdag: spaghetti\n",
      "Onsdag: fisk\n",
      "Torsdag: grönsakssoppa\n",
      "Fredag: pannkakor\n"
     ]
    }
   ],
   "source": [
    "meals = [\"vegetarisk lasagne\", \"spaghetti\", \"fisk\", \"grönsakssoppa\", \"pannkakor\"]\n",
    "weekdays = [\"Måndag\", \"Tisdag\", \"Onsdag\", \"Torsdag\", \"Fredag\", \"Lördag\", \"Söndag\"]\n",
    "\n",
    "print(\"Food Menu\")\n",
    "for weekday, meal in zip(weekdays, meals): \n",
    "    print(f\"{weekday}: {meal}\")\n",
    "\n",
    "# for weekday, meal in zip(weekdays, meals): \n",
    "#     print(weekday, meal)\n",
    "\n",
    "# i=0\n",
    "# for day in weekdays:\n",
    "#     print(f\"{day}: {meals[i]}\")\n",
    "#     i += 1\n"
   ]
  },
  {
   "cell_type": "markdown",
   "metadata": {},
   "source": [
    "--- \n",
    "## 3. Squares (*)\n",
    "\n",
    "&nbsp; a) &nbsp; Use **list comprehension** to create a list of squares from -10 to 10 (*)\n",
    "\n",
    "&nbsp; a) &nbsp; Plot this list using **matplotlib**. (*)\n",
    "\n",
    "<details>\n",
    "\n",
    "<summary>Answer</summary>\n",
    "\n",
    "a)\n",
    "```\n",
    "[100, 81, 64, 49, 36, 25, 16, 9, 4, 1, 0, 1, 4, 9, 16, 25, 36, 49, 64, 81, 100]\n",
    "```\n",
    "\n",
    "b) \n",
    "\n",
    "<img align=\"left\" src=\"../Assets/x^2_graph.png\" width=\"300\"/>\n",
    "</details>"
   ]
  },
  {
   "cell_type": "code",
   "execution_count": 4,
   "metadata": {},
   "outputs": [
    {
     "name": "stdout",
     "output_type": "stream",
     "text": [
      "[100, 81, 64, 49, 36, 25, 16, 9, 4, 1, 0, 1, 4, 9, 16, 25, 36, 49, 64, 81, 100]\n"
     ]
    }
   ],
   "source": [
    "#a)\n",
    "n = 2\n",
    "values= [item ** n for item in range(-10,11)]\n",
    "print(values)"
   ]
  },
  {
   "cell_type": "code",
   "execution_count": 7,
   "metadata": {},
   "outputs": [
    {
     "data": {
      "text/plain": [
       "[<matplotlib.lines.Line2D at 0x1f0641d5010>]"
      ]
     },
     "execution_count": 7,
     "metadata": {},
     "output_type": "execute_result"
    },
    {
     "data": {
      "image/png": "[encoded data removed]",
      "text/plain": [
       "<Figure size 640x480 with 1 Axes>"
      ]
     },
     "metadata": {},
     "output_type": "display_data"
    }
   ],
   "source": [
    "#b)\n",
    "import matplotlib.pyplot as plt\n",
    "\n",
    "\n",
    "plt.xlim(-20, 20)\n",
    "plt.plot(values)\n"
   ]
  },
  {
   "cell_type": "markdown",
   "metadata": {},
   "source": [
    "---\n",
    "## 4. Chessboard (**)\n",
    "\n",
    "&nbsp; a) &nbsp; Create this list using **list comprehension**: (*)\n",
    "\n",
    "```python\n",
    "['A1', 'B1', 'C1', 'D1', 'E1', 'F1', 'G1', 'H1']\n",
    "```\n",
    "\n",
    "&nbsp; b) &nbsp; Create a 2D list to hold the coordinates in a chessboard. (**)\n",
    "\n",
    "<details>\n",
    "\n",
    "<summary>Hint</summary>\n",
    "\n",
    "b) Use **f-string** and create a list of characters with: \n",
    "\n",
    "```python\n",
    "list(\"ABCDEFGH)\n",
    "```\n",
    "\n",
    "b) One option is to use nested list comprehension where one for-loop creates the first list and the other creates several of the first list\n",
    "\n",
    "</details>\n",
    "\n",
    "\n",
    "<details>\n",
    "\n",
    "<summary>Answer</summary>\n",
    "\n",
    "b)\n",
    "```\n",
    "[['A1', 'B1', 'C1', 'D1', 'E1', 'F1', 'G1', 'H1'],\n",
    " ['A2', 'B2', 'C2', 'D2', 'E2', 'F2', 'G2', 'H2'],\n",
    " ['A3', 'B3', 'C3', 'D3', 'E3', 'F3', 'G3', 'H3'],\n",
    " ['A4', 'B4', 'C4', 'D4', 'E4', 'F4', 'G4', 'H4'],\n",
    " ['A5', 'B5', 'C5', 'D5', 'E5', 'F5', 'G5', 'H5'],\n",
    " ['A6', 'B6', 'C6', 'D6', 'E6', 'F6', 'G6', 'H6'],\n",
    " ['A7', 'B7', 'C7', 'D7', 'E7', 'F7', 'G7', 'H7'],\n",
    " ['A8', 'B8', 'C8', 'D8', 'E8', 'F8', 'G8', 'H8']]\n",
    "```\n",
    "\n",
    "</details>"
   ]
  },
  {
   "cell_type": "code",
   "execution_count": null,
   "metadata": {},
   "outputs": [],
   "source": [
    "#a)\n",
    "characters = \"ABCDEFGH\"\n",
    "numbers = \"12345678\"\n",
    "\n",
    "print([character + \"1\" for character in characters])"
   ]
  },
  {
   "cell_type": "code",
   "execution_count": 8,
   "metadata": {},
   "outputs": [
    {
     "data": {
      "text/plain": [
       "[['A1', 'B1', 'C1', 'D1', 'E1', 'F1', 'G1', 'H1'],\n",
       " ['A2', 'B2', 'C2', 'D2', 'E2', 'F2', 'G2', 'H2'],\n",
       " ['A3', 'B3', 'C3', 'D3', 'E3', 'F3', 'G3', 'H3'],\n",
       " ['A4', 'B4', 'C4', 'D4', 'E4', 'F4', 'G4', 'H4'],\n",
       " ['A5', 'B5', 'C5', 'D5', 'E5', 'F5', 'G5', 'H5'],\n",
       " ['A6', 'B6', 'C6', 'D6', 'E6', 'F6', 'G6', 'H6'],\n",
       " ['A7', 'B7', 'C7', 'D7', 'E7', 'F7', 'G7', 'H7'],\n",
       " ['A8', 'B8', 'C8', 'D8', 'E8', 'F8', 'G8', 'H8']]"
      ]
     },
     "execution_count": 8,
     "metadata": {},
     "output_type": "execute_result"
    }
   ],
   "source": [
    "#b)\n",
    "characters = \"ABCDEFGH\"\n",
    "numbers = \"12345678\"\n",
    "\n",
    "lists_2D = []\n",
    "\n",
    "for number in numbers:\n",
    "    list_2D = []\n",
    "    for character in characters:\n",
    "        list_2D.append(character + number)\n",
    "    lists_2D.append(list_2D)\n",
    "\n",
    "lists_2D"
   ]
  },
  {
   "cell_type": "code",
   "execution_count": null,
   "metadata": {},
   "outputs": [],
   "source": [
    "# 2D, lista i lista. EN NESTLAD LISTA I HUVUDLISTAN. \n",
    "# Sen kan flera sådana finnas men inte nestlade inuti varandra, \n",
    "# då blir det fler dimensioner.\n",
    "\n",
    "# MER OM 2D \n",
    "    # Varje lista inuti listan representerar en rad, i den ordning de kommer.\n",
    "    # Varje värde inuti denna lista(rad) motsvarar en kolumn\n",
    "    # Det blir alltså som att representera en tabell med rader och kolumner.\n",
    "\n",
    "matrix = [\n",
    "    [1, 2, 3], [4, 5, 6], [7, 8, 9]\n",
    "    ]    # 3 rader, och 3 kolumner\n",
    "\n",
    "print(matrix[0][1])                            # Här väljer man att få ut värde i lista i index 0 (lista 1)\n",
    "                                               # och kolumn i index 1 för denna listan (kolumn 2) = 2\n",
    "\n",
    "\n",
    "# 3D, DJUP, rad och kolumn. \n",
    "# Se det som staplade tabeller över varandra, där alla har rad och kolumn\n",
    "# Då uppstår det ett djup.\n",
    "# I Python är det att i den nestlade listan, finns fler listor. En dimension till läggs till. \n",
    "\n",
    "# Creating a 3D list\n",
    "cube = [\n",
    "    # Layer 1 (Depth 0)\n",
    "    [\n",
    "        [1, 2, 3],\n",
    "        [4, 5, 6],\n",
    "        [7, 8, 9]\n",
    "    ],\n",
    "    \n",
    "    # Layer 2 (Depth 1)\n",
    "    [\n",
    "        [10, 11, 12],\n",
    "        [13, 14, 15],\n",
    "        [16, 17, 18]\n",
    "    ],\n",
    "\n",
    "    # Layer 3 (Depth 2)\n",
    "    [\n",
    "        [19, 20, 21],\n",
    "        [22, 23, 24],\n",
    "        [25, 26, 27]\n",
    "    ]\n",
    "]\n",
    "\n",
    "print(cube[1][1][2])\n"
   ]
  },
  {
   "cell_type": "markdown",
   "metadata": {},
   "source": [
    "---\n",
    "## 5. Dice rolls convergence (**)\n",
    "\n",
    "Simulate: \n",
    "\n",
    "&nbsp; a) &nbsp; 100 dice rolls and count the number of outcome six. (*)\n",
    "\n",
    "&nbsp; b) &nbsp; 10, 100, 1000, 10000, 100000, 1000000 dice rolls. Count the number of outcome six in each simulation and store it in a list. Compute the probability of outcome six in each simulation. (**)\n",
    "\n",
    "&nbsp; c) &nbsp; Use matplotlib to plot this list. (*)\n",
    "\n",
    "<details>\n",
    "\n",
    "<summary>Hint </summary>\n",
    "\n",
    "Use this code for plot settings: \n",
    "\n",
    "```python\n",
    "plt.plot(probability_six, '-*')\n",
    "plt.title(\"Probability of six for different number of rolls\")\n",
    "plt.xticks([0,1,2,3,4,5], num_rolls);\n",
    "plt.xlabel(\"Number of dice rolls\")\n",
    "plt.ylabel(\"Probability\")\n",
    "\n",
    "```\n",
    "</details>\n",
    "\n",
    "<details>\n",
    "\n",
    "<summary>Answer </summary>\n",
    "\n",
    "a)\n",
    "```\n",
    "The number of outcome six in 100 dice rolls is: 17 \n",
    "```\n",
    "\n",
    "b) \n",
    "```\n",
    "Count number of six: [1, 21, 161, 1642, 16560, 166406]\n",
    "P(six) = [0.1, 0.21, 0.161, 0.1642, 0.1656, 0.1664]\n",
    "```\n",
    "\n",
    "c) Note that the graph changes due to random simulation. To reproduce this result, use \n",
    "\n",
    "```python\n",
    "random.seed(1)\n",
    "```\n",
    "\n",
    "<img align=\"left\" src=\"../Assets/probability_six_graph.png\" width=\"300\"/>\n",
    "\n",
    "</details>"
   ]
  },
  {
   "cell_type": "code",
   "execution_count": 36,
   "metadata": {},
   "outputs": [
    {
     "name": "stdout",
     "output_type": "stream",
     "text": [
      "[0.1, 0.18, 0.153, 0.1689, 0.16749, 0.166982]\n"
     ]
    },
    {
     "data": {
      "text/plain": [
       "Text(0, 0.5, 'Probability')"
      ]
     },
     "execution_count": 36,
     "metadata": {},
     "output_type": "execute_result"
    },
    {
     "data": {
      "image/png": "[encoded data removed]",
      "text/plain": [
       "<Figure size 640x480 with 1 Axes>"
      ]
     },
     "metadata": {},
     "output_type": "display_data"
    }
   ],
   "source": [
    "from random import randint\n",
    "import matplotlib.pyplot as plt\n",
    "\n",
    "# 6 nestlade listor via comprehension\n",
    "dice_rolls = [[] for _ in range(6)]\n",
    "\n",
    "n=10\n",
    "for list in dice_rolls:\n",
    "    for iterations in range(n):\n",
    "        list.append(randint(1,6))\n",
    "    n *= 10\n",
    "\n",
    "# antal 6:or per lista  - output är listor med antal sexor, skapar ny lista för tydlighet\n",
    "count_sixes = []\n",
    "for list in dice_rolls:\n",
    "    count_sixes.append(list.count(6))\n",
    "\n",
    "\n",
    "# Sannolikhet att få 6 \n",
    "n = 10\n",
    "probabilites = []\n",
    "for list in count_sixes:\n",
    "    probabilites.append(list/n)\n",
    "    n *= 10\n",
    "    \n",
    "print(probabilites)\n",
    "\n",
    "\n",
    "plt.plot(probabilites, '-*')\n",
    "plt.title(\"Probability of six for different number of rolls\")\n",
    "plt.xticks([0,1,2,3,4,5],[10, 100, 1000, 10000, 100000, 1000000])\n",
    "plt.xlabel(\"Numb er of dice rolls\")\n",
    "plt.ylabel(\"Probability\")\n",
    "\n",
    "\n"
   ]
  },
  {
   "cell_type": "code",
   "execution_count": null,
   "metadata": {},
   "outputs": [],
   "source": [
    "#a)\n",
    "from random import randint\n",
    "\n",
    "# By list comprehensions\n",
    "dice_rolls = [randint(1, 6) for roll in range(100)]\n",
    "\n",
    "print(dice_rolls.count(6))                          # count the amount of number 6\n",
    "\n",
    "# By for loop\n",
    "dice_rolls2 = []\n",
    "for roll in range(100):\n",
    "    dice_rolls2.append(randint(1, 6))\n",
    "\n",
    "\n",
    "# print(dice_rolls, end = \", \")\n",
    "# print()\n",
    "# print(dice_rolls2, end = \", \" )"
   ]
  },
  {
   "cell_type": "code",
   "execution_count": null,
   "metadata": {},
   "outputs": [],
   "source": [
    "#b) Create lists with 10, 10 000 etc. rolls\n",
    "from random import randint\n",
    "\n",
    "n = 10\n",
    "dice_rolls3 = []\n",
    "\n",
    "for roll in range(6):                                       # Exclusive\n",
    "    dice_rolls3.append([randint(1, 6) for roll in range(n)])\n",
    "    n *= 10\n"
   ]
  },
  {
   "cell_type": "code",
   "execution_count": null,
   "metadata": {},
   "outputs": [],
   "source": [
    "#b) Amount of the number 6 in each list\n",
    "list_of_sixes = []\n",
    "\n",
    "for n in range(6):\n",
    "    list_of_sixes.append(dice_rolls3[n].count(6))"
   ]
  },
  {
   "cell_type": "code",
   "execution_count": null,
   "metadata": {},
   "outputs": [],
   "source": [
    "#b) Probability of the number 6 in each list\n",
    "\n",
    "list_of_probabilities = []\n",
    "\n",
    "n = 10\n",
    "for number in range(6):\n",
    "    probability = list_of_sixes[number]/n\n",
    "    list_of_probabilities.append(probability)\n",
    "    n *= 10\n",
    "\n",
    "print(list_of_probabilities)"
   ]
  },
  {
   "cell_type": "code",
   "execution_count": null,
   "metadata": {},
   "outputs": [],
   "source": [
    "#b) Plot the list of probabilites\n",
    "\n",
    "import matplotlib.pyplot as plt\n",
    "\n",
    "plt.plot(list_of_probabilities, '-*')\n",
    "plt.title(\"Probability of six for different number of rolls\")\n",
    "plt.xticks([0,1,2,3,4,5], [10, 100, 1000, 10000, 100000, 1000000])\n",
    "plt.xlabel(\"Number of dice rolls\")\n",
    "plt.ylabel(\"Probability\")\n"
   ]
  },
  {
   "cell_type": "markdown",
   "metadata": {},
   "source": [
    "--- \n",
    "## 6. Monte Carlo simulation (**)\n",
    "\n",
    "&nbsp; a) Simulate 5000 uniformly distributed points between -1 and 1, $X\\sim U(-1,1)$. Now calculate the Euclidean distances between each point and the origin (0,0), $d_i = \\sqrt{x_i^2 + y_i^2}$. For $d_i < 1$ plot the point with one color, and for $d_i > 1$ plot the point in another color, $i = \\{1,\\ldots, 5000\\}$.  (**)\n",
    "\n",
    "&nbsp; b) Calculate the fraction between number of inner points and number of outer points. What do you this will converge to when number of points reaches infinity? (**)\n",
    "\n",
    "\n",
    "<details>\n",
    "\n",
    "<summary>Hint</summary>\n",
    "\n",
    "a) \n",
    "\n",
    "Try solve this task with pen and paper before approaching to code it.\n",
    "\n",
    "b)\n",
    "\n",
    "Think in terms of theoretical areas. Also try to increase the number of simulated points, to see if you find convergence.\n",
    "\n",
    "</details>\n",
    "\n",
    "<details>\n",
    "\n",
    "<summary>Answer</summary>\n",
    "\n",
    "\n",
    "a) \n",
    "\n",
    "<img src=\"../Assets/MC_simulation_5k.png\" width = 300>\n",
    "\n",
    "\n",
    "b) \n",
    "\n",
    "0.7908\n",
    "\n",
    "No answer here, try to prove it theoretically. \n",
    "\n",
    "\n",
    "</details>"
   ]
  },
  {
   "cell_type": "code",
   "execution_count": null,
   "metadata": {},
   "outputs": [],
   "source": [
    "# Solving this with list comprehension\n",
    "import random\n",
    "import math\n",
    "import matplotlib.pyplot as plt\n",
    "\n",
    "# First part, creating the random points.\n",
    "# Number of points to generate\n",
    "num_points = 5000\n",
    "\n",
    "# Generate random points in the range [-1, 1]\n",
    "random_points = [(random.uniform(-1, 1), random.uniform(-1, 1)) for _ in range(num_points)]\n",
    "\n",
    "# Euclidean distance, egentligen som pythagoras sats, from origin (0,0)\n",
    "\n",
    "distances = [math.sqrt(x**2 + y**2) for x, y in random_points]                    # Eftersom avståndet är till 0, så blir det bara x2 eftersom x-0 = x, likaså y-0 = y\n",
    "\n",
    "# Separate points inside and outside the unit circle\n",
    "inside_circle = [(x, y) for (x, y), d in zip(random_points, distances) if d < 1]            # [(x, y) for   (x, y), d        in zip(random_points, distances)         if d < 1]\n",
    "outside_circle = [(x, y) for (x, y), d in zip(random_points, distances) if d >= 1]\n",
    "\n",
    "# Plot the points\n",
    "plt.figure(figsize=(8, 8))    # width and height\n",
    "plt.scatter(*zip(*inside_circle), color='blue', label='Inside Unit Circle', s=5)      # s = size of markers.      * = unzipping tuple into x and y lists, to be able to plot it.\n",
    "plt.scatter(*zip(*outside_circle), color='red', label='Outside Unit Circle', s=5)\n",
    "\n",
    "    \n",
    "# Set axis limits to show the unit circle\n",
    "plt.xlim(-1.1, 1.1)       # Limits of x - axis: Here from -1,1 to 1,1\n",
    "plt.ylim(-1.1, 1.1)\n",
    "\n",
    "\n",
    "# Add a legend\n",
    "plt.legend()               # Ruta med etikett för varje plot, som får dess label bredvid sig. \n",
    "\n",
    "# Display the plot\n",
    "plt.show()"
   ]
  },
  {
   "cell_type": "code",
   "execution_count": null,
   "metadata": {},
   "outputs": [],
   "source": [
    "# Solving this by for loop\n",
    "\n",
    "import random\n",
    "import math\n",
    "import matplotlib.pyplot as plt\n",
    "\n",
    "# First part, creating the random points.\n",
    "# Number of points to generate\n",
    "num_points = 5000\n",
    "\n",
    "# Generate random points in the range [-1, 1]\n",
    "\n",
    "random_points = []\n",
    "\n",
    "# Om man direkt vill lägga in tuples med x och y värden i en lista. \n",
    "for _ in range(num_points):\n",
    "    point = (random.uniform(-1,1), random.uniform(-1,1))\n",
    "    random_points.append(point)\n",
    "\n",
    "# Räkna ut euclidean distance\n",
    "\n",
    "distance_list = []\n",
    "for x, y in random_points:                                   # Här unpackar man x och y från tuples\n",
    "    euclidean_distance = math.sqrt(x**2 + y**2)\n",
    "    distance_list.append(euclidean_distance)\n",
    "\n",
    "# Sortera i avstånd över eller likamed 1 (utanför cirkel) och under 1 (innanför cirkel)\n",
    "\n",
    "outer_circle = []\n",
    "inner_circle = []\n",
    "for point, distance in zip(random_points, distance_list):\n",
    "    if distance >= 1:\n",
    "        outer_circle.append(point)\n",
    "    else:\n",
    "        inner_circle.append(point)\n",
    "\n",
    "\n",
    "\n",
    "# Plot the points\n",
    "plt.figure(figsize=(8, 8))    # width and height\n",
    "plt.scatter(*zip(*inner_circle), color='blue', label='Inside Unit Circle', s=5)      # s = size of markers.      * = unzipping tuple into x and y lists, to be able to plot it.\n",
    "plt.scatter(*zip(*outer_circle), color='red', label='Outside Unit Circle', s=5)\n",
    "\n",
    "    \n",
    "# Set axis limits to show the unit circle\n",
    "plt.xlim(-1.1, 1.1)       # Limits of x - axis: Here from -1,1 to 1,1\n",
    "plt.ylim(-1.1, 1.1)\n",
    "\n",
    "\n",
    "# Add a legend\n",
    "plt.legend()               # Ruta med etikett för varje plot, som får dess label bredvid sig. \n",
    "\n",
    "# Display the plot\n",
    "plt.show()"
   ]
  },
  {
   "cell_type": "code",
   "execution_count": null,
   "metadata": {},
   "outputs": [],
   "source": [
    "# Solving with dictionary\n",
    "\n",
    "\n"
   ]
  },
  {
   "cell_type": "markdown",
   "metadata": {},
   "source": [
    "--- \n",
    "## 7. A cute rabbit among two ferocious snakes (**)\n",
    "\n",
    "There are three identical doors, behind two of them, there are ferocious snakes and behind one of them is a cute little rabbit. Your aim is to pick a door and get the cute rabbit. You start picking one door randomly and suddenly another door opens and snake slithers away *pssss*. Now you have a choice to either stay with your door or change to the remaining door. \n",
    "\n",
    "<img src=\"../Assets/snakes_rabbits.png\" width = 200>\n",
    "\n",
    "&nbsp; a) What is your choice and why? (**)\n",
    "\n",
    "&nbsp; b) Randomly assign which door has the rabbit, and randomly pick an initial door. Now simulate 10, 100, 1000, 10000, 100000, 1000000 times for staying and for switching doors. Calculate the proportion of finding the rabbits for each set of simulations. Plot the results (**)\n",
    "\n",
    "\n",
    "<details>\n",
    "\n",
    "<summary>Hint</summary>\n",
    "\n",
    "a) \n",
    "\n",
    "Try to reason using probability.\n",
    "\n",
    "\n",
    "</details>\n",
    "\n",
    "<details>\n",
    "\n",
    "<summary>Answer</summary>\n",
    "\n",
    "\n",
    "a) \n",
    "\n",
    "You will simulate the answer in b).\n",
    "\n",
    "b) \n",
    "\n",
    "<img src=\"../Assets/mh_simulations.png\" width = 300>\n",
    "\n",
    "\n",
    "\n",
    "</details>"
   ]
  },
  {
   "cell_type": "code",
   "execution_count": null,
   "metadata": {},
   "outputs": [],
   "source": []
  },
  {
   "cell_type": "markdown",
   "metadata": {},
   "source": [
    "---\n",
    "\n",
    "Kokchun Giang\n",
    "\n",
    "[LinkedIn][linkedIn_kokchun]\n",
    "\n",
    "[GitHub portfolio][github_portfolio]\n",
    "\n",
    "[linkedIn_kokchun]: https://www.linkedin.com/in/kokchungiang/\n",
    "[github_portfolio]: https://github.com/kokchun/Portfolio-Kokchun-Giang\n",
    "\n",
    "---"
   ]
  }
 ],
 "metadata": {
  "kernelspec": {
   "display_name": "Python 3.10.1 64-bit",
   "language": "python",
   "name": "python3"
  },
  "language_info": {
   "codemirror_mode": {
    "name": "ipython",
    "version": 3
   },
   "file_extension": ".py",
   "mimetype": "text/x-python",
   "name": "python",
   "nbconvert_exporter": "python",
   "pygments_lexer": "ipython3",
   "version": "3.11.5"
  },
  "orig_nbformat": 4,
  "vscode": {
   "interpreter": {
    "hash": "7e1998ff7f8aa20ada591c520b972326324e5ea05489af9e422744c7c09f6dad"
   }
  }
 },
 "nbformat": 4,
 "nbformat_minor": 2
}
