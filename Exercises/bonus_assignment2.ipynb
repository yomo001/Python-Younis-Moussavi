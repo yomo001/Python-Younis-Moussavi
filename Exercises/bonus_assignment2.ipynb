{
 "cells": [
  {
   "cell_type": "markdown",
   "metadata": {},
   "source": [
    "# Förutsägande av Huspriser med Linjär Regression\n",
    "\n",
    "Denna rapport beskriver en maskininlärningsmodell baserad på linjär regression för att förutsäga huspriser. Vi följer sju huvudsteg i denna rapport: \n",
    "\n",
    "- [Samla data](#Steg-1:-Samla-Data)\n",
    "- [Förbereda data](#-Steg-2:-Förbereda-Data)\n",
    "- [Välja en modell](#-Steg-3:-Välja-en-Modell)\n",
    "- [Träna modellen](# Steg 4: Träning)\n",
    "- [Utvärdera modellen]\n",
    "- [Hyperparameter tuning (vid behov)]\n",
    "- [Prediktion samt driftsättning]\n",
    "\n",
    "# Steg 1: Samla Data\n",
    "\n",
    "Insamling av data sker genom erhållande av följande uppgifter som vi bedömer vara relevanta för att uppfylla syftet med modellen (att förutsäga huspriser): pris, antal rum, storlek på huset, geografiskt läge samt byggnadsår. Datat kan sparas i olika format såsom XLXS och kan hämtas från Svensk Mäklarstatistik (https://www.maklarstatistik.se). Vid önskemål så kan denna data omvandlas till andra format såsom CSV eller JSON. Både nedladdning av data samt konvertering till andra format kan göras med Pandas biblioteket i Python.\n",
    "\n",
    "# Steg 2: Förbereda Data\n",
    "\n",
    "Därefter behöver denna data förberedas. Det kan ske genom att öppna det i Excel ifall XLXS formatet behålls och se över så att tabellerna har kolumnrubriker, hantera saknade värden, eventuellt ta bort outliers och även säkerställa att vi inte har kategoriska variabler (som vi omvandlar till numeriska). Detta kan göras direkt i Excel men även i python med hjälp av bibliotek såsom Pandas och scikit-learn. Vi visualiserar även datan i detta steg för att utvärdera att vi har en bra spridning och rättvis fördelning av olika parametrar. Denna visualisering kan göras med seaborn biblioteket i Python. Den metod vi väljer för att bearbeta data och visualisera beror på omfattningen av datan. I detta fall kommer vi att spara stora datamängder och därför använda de nämnda biblioteken i Python för detta ändamål.\n",
    "\n",
    "# Steg 3: Välja en Modell\n",
    "\n",
    "Modellen som väljs är linjär regression utifrån uppgiftens instruktioner. Dessutom är det en lämplig modell i detta syfte till att kunna förutsäga huspriserna utifrån erhållna data. \n",
    "Linjär regression används för att modellera sambandet mellan en eller flera oberoende och en beroende variabel, genom att försöka hitta den mest optimala linjära ekvationen för sambandet y = kx + m, där:\n",
    "- y är huspriset (beroende variabel)\n",
    "- x är en oberoende variabel (antal rum, storlek, etc.)\n",
    "- k är lutningen på linjen\n",
    "- m är skärningspunkt på y-axeln (vilket motsvarar priset när den oberoende variabeln är 0)\n",
    "\n",
    "# Steg 4: Träning\n",
    "För att använda linjär regression måste vi dela vår data i tränings- och testdata. Vi gör det så att vi har 80 % träningsdata och 20 % testdata.\n",
    "Modellen tränas sedan genom att justera linjens lutning (m) och skärningspunkt (b) för att minimera avståndet mellan den predikterade linjen och datapunkter för vårt träningsdata.\n",
    "Här kan metoder såsom scikit-learn användas för denna träning. \n",
    "\n",
    "# Steg 5: Utvärdering\n",
    "Därefter behöver vi utvärdera modellen, och en teknik som kan användas här är att utvärdera Mean Squared Error (MSE) värdet för modellen. Ju lägre MSE värde, desto bättre optimering av modellen i förhållande till datan.  \n",
    "\n",
    "# Steg 6: Hyperparameter tuning\n",
    "Om vi behöver förbättra vår modell så kan vi göra hyperparameter tuning. Då kan t.ex. korsvalidering användas för att hitta optimala hyperparametrar. Vi använder scikit learn i Python för att göra detta om det är relevant. \n",
    "Steg 7: Prediktion\n",
    "När vi har tränat modellen och vill tillämpa den, så ska man kunna ange olika parametrar såsom antal rum, storlek på huset, ålder, geografisk placering för att sedan få en prediktion på huspriset av modellen. \n",
    "\n",
    "Driftsättningen kan ske med hjälp av ramverk såsom Django i Python för att skapa ett användarvänligt gränssnitt som användare kan interagera med för att använda modellen.\n",
    "\n",
    "***Källhänvisning***:\n",
    "- https://www.youtube.com/watch?v=nKW8Ndu7Mjw (steps of machine learning workflow)\n",
    "- https://www.djangoproject.com/ (about the use of django to create user - model interaction programs/apps)\n",
    "- https://www.analyticsvidhya.com/blog/2021/05/know-the-best-evaluation-metrics-for-your-regression-model/ (MSE as an evaluation metric for linear regression models)\n"
   ]
  }
 ],
 "metadata": {
  "language_info": {
   "name": "python"
  }
 },
 "nbformat": 4,
 "nbformat_minor": 2
}
