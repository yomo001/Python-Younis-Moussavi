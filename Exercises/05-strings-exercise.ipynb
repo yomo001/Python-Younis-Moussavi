{
 "cells": [
  {
   "cell_type": "markdown",
   "metadata": {},
   "source": [
    "<a href=\"https://colab.research.google.com/github/kokchun/Python-course-AI22/blob/main/Exercises/05-strings-exercise.ipynb\" target=\"_parent\"><img align=\"left\" src=\"https://colab.research.google.com/assets/colab-badge.svg\" alt=\"Open In Colab\"/></a> &nbsp; to see hints and answers."
   ]
  },
  {
   "cell_type": "markdown",
   "metadata": {},
   "source": [
    "# strings exercises\n",
    "\n",
    "---\n",
    "These are introductory exercises in Python with focus in **strings**.\n",
    "\n",
    "<p class = \"alert alert-info\" role=\"alert\"><b>Remember</b> to use <b>descriptive variable names</b> in order to get readable code </p>\n",
    "\n",
    "<p class = \"alert alert-info\" role=\"alert\"><b>Remember</b> to format your answers in a neat way using <b>f-strings</b>\n",
    "\n",
    "<p class = \"alert alert-info\" role=\"alert\"><b>Remember</b> to format your input questions in a pedagogical way to guide the user\n",
    "\n",
    "The number of stars (\\*), (\\*\\*), (\\*\\*\\*) denotes the difficulty level of the task\n",
    "\n",
    "---"
   ]
  },
  {
   "cell_type": "markdown",
   "metadata": {},
   "source": [
    "## 1. Counting letters (*)\n",
    "\n",
    "Let the user input a word: \n",
    "\n",
    "&nbsp; a) &nbsp; print out the number of letters in the word. (*) \n",
    "  \n",
    "&nbsp; b) &nbsp; print out the number of **uppercase** and **lowercase** letters of the word (*)   \n"
   ]
  },
  {
   "cell_type": "code",
   "execution_count": null,
   "metadata": {},
   "outputs": [],
   "source": [
    "input_word = input(\"Please enter a word: \")\n",
    "lowercase_letters = sum(1 for letter in input_word if letter.islower())     # Varför inte en list comprehension, men generator expression istället? In practice, the generator expression is more memory-efficient, especially if you're working with large input words\n",
    "uppercase_letters = sum(1 for letter in input_word if letter.isupper())\n",
    "\n",
    "print(f\"The word you typed was {input_word}, which has {len(input_word)} letters\\nwhich of {lowercase_letters} lowercase letters and {uppercase_letters} uppercase letters.\")"
   ]
  },
  {
   "cell_type": "code",
   "execution_count": null,
   "metadata": {},
   "outputs": [],
   "source": [
    "# Annan lösning på b\n",
    "\n",
    "input_word = input(\"Please enter a word: \")\n",
    "\n",
    "lowercase_count = 0\n",
    "uppercase_count = 0\n",
    "\n",
    "for letter in input_word:\n",
    "    if letter.islower():\n",
    "        lowercase_count += 1\n",
    "    else:\n",
    "        uppercase_count += 1\n",
    "\n",
    "print(f\"The word you typed was {input_word}, which has {len(input_word)} letters\\nwhich of {lowercase_count} lowercase letters and {uppercase_count} uppercase letters.\")"
   ]
  },
  {
   "cell_type": "markdown",
   "metadata": {},
   "source": [
    "---\n",
    "## 2. Print names separately (*)\n",
    "\n",
    "Ask the user to input their first and last name (same input e.g. \"Fredrik Johansson\"). Then print the names separately:\n",
    "\n",
    "<details>\n",
    "\n",
    "<summary>Answer</summary>\n",
    "\n",
    "```\n",
    "Firstname: Fredrik\n",
    "Lastname: Johansson\n",
    "```"
   ]
  },
  {
   "cell_type": "code",
   "execution_count": null,
   "metadata": {},
   "outputs": [],
   "source": [
    "input_word = input(\"Please enter your first and lastname: \")\n",
    "separator = input_word.split()    #Default splittar på bl.a. mellanslag och ger lista som output\n",
    "\n",
    "print(f\"Firstname = {separator[0]}\")\n",
    "print(f\"Lastname = {separator[1]}\")"
   ]
  },
  {
   "cell_type": "markdown",
   "metadata": {},
   "source": [
    "---\n",
    "## 3. Counting words (*)\n",
    "\n",
    "Count the number of words in this sentence: \"A picture says more than a thousand words, a matematical formula says more than a thousand pictures.\" (*) \n",
    "\n",
    "<details>\n",
    "\n",
    "<summary>Answer</summary>\n",
    "\n",
    "```\n",
    "There are 17 words in that sentence\n",
    "```"
   ]
  },
  {
   "cell_type": "code",
   "execution_count": null,
   "metadata": {},
   "outputs": [],
   "source": [
    "string = \"A picture says more than a thousand words, a matematical formula says more than a thousand pictures.\"\n",
    "list_words = string.split()\n",
    "\n",
    "len(list_words)"
   ]
  },
  {
   "cell_type": "markdown",
   "metadata": {},
   "source": [
    "---\n",
    "## 4. Print words in reverse (*)\n",
    "\n",
    "a) Ask the user to input a sentence, then print the words in reverse order. (*) \n",
    "\n",
    "b) Also, make the first letter in the first word uppercase when reversed.\n",
    "\n",
    "<details>\n",
    "\n",
    "<summary>Answer</summary>\n",
    "\n",
    "```\n",
    "a)\n",
    "Example input: This is input from the user\n",
    "Output: user the from input is This\n",
    "```\n",
    "\n",
    "```\n",
    "b)\n",
    "Example input: This is input from the user\n",
    "Output: User the from input is this\n",
    "```\n"
   ]
  },
  {
   "cell_type": "code",
   "execution_count": null,
   "metadata": {},
   "outputs": [],
   "source": [
    "#a)\n",
    "input_word = input(\"Please enter a sentence: \")\n",
    "words_list = input_word.split()\n",
    "\n",
    "reverse = \" \".join(reversed(words_list))\n",
    "\n",
    "print(reverse)"
   ]
  },
  {
   "cell_type": "code",
   "execution_count": null,
   "metadata": {},
   "outputs": [],
   "source": [
    "#b)\n",
    "\n",
    "input_word = input(\"Please enter a sentence: \")\n",
    "words_list = input_word.split()\n",
    "reverse = \" \".join(reversed(words_list))\n",
    "\n",
    "print(reverse.capitalize())"
   ]
  },
  {
   "cell_type": "markdown",
   "metadata": {},
   "source": [
    "---\n",
    "## 5. Palindrome (*)\n",
    "\n",
    "A palindrome is a sequence of characters that is the same, when read forward as backwards (ignoring spaces). For example:\n",
    "- \"Anna\" is a palindrome\n",
    "- \"Ni talar bra latin\"\n",
    "- \"bjkjb \"\n",
    "\n",
    "Let the user input a sequence of characters and check if it is a palindrome. (*)"
   ]
  },
  {
   "cell_type": "code",
   "execution_count": 18,
   "metadata": {},
   "outputs": [
    {
     "name": "stdout",
     "output_type": "stream",
     "text": [
      "This is a palindrome\n",
      "anna\n",
      "anna\n"
     ]
    }
   ],
   "source": [
    "input_sentence = input(\"Enter a sentence to check whether it is a palindrome or not: \")       # tar input\n",
    "\n",
    "#reversed_sentence = reversed(input_sentence)         # Här blir det som generator expression, ger \"iterator on the go\", inget mer. Så den måste göras till sträng via nedan\n",
    "\n",
    "replaced_sentence = input_sentence.replace(\" \", \"\")              # replacar så att vi får bort det som inte är bokstäver,tecken.\n",
    "reversed_sentence = replaced_sentence[::-1]                      # gör reversed på den\n",
    "\n",
    "if replaced_sentence.lower() == reversed_sentence.lower():          # gör så att alla får små bokstäver och kollar om de är samma\n",
    "    print(\"This is a palindrome\")\n",
    "else: \n",
    "    print(\"This is not a palindrome\")\n",
    "\n",
    "print(replaced_sentence.lower())\n",
    "print(reversed_sentence.lower())"
   ]
  },
  {
   "cell_type": "markdown",
   "metadata": {},
   "source": [
    "---\n",
    "## 6. Vowels (**)\n",
    "\n",
    "Count the number of vowels in this sentence: \"Pure mathematics is, in its way, the poetry of logical ideas\"\n",
    "\n",
    "<details>\n",
    "\n",
    "<summary>Answer</summary>\n",
    "\n",
    "```\n",
    "\n",
    "There are 22 vowels in this sentence\n",
    "\n",
    "```\n",
    "</details>"
   ]
  },
  {
   "cell_type": "code",
   "execution_count": 25,
   "metadata": {},
   "outputs": [
    {
     "name": "stdout",
     "output_type": "stream",
     "text": [
      "22\n"
     ]
    }
   ],
   "source": [
    "# Solution by counting via generator expression (comprehension without storing into list)\n",
    "sentence = \"Pure mathematics is, in its way, the poetry of logical ideas\"\n",
    "sentence = sentence.lower()\n",
    "vowels = \"AEIOUY\"     \n",
    "vowels = vowels.lower()\n",
    "\n",
    "count_vowels = sum(1 for letter in sentence if letter in vowels) \n",
    "\n",
    "print(count_vowels)"
   ]
  },
  {
   "cell_type": "code",
   "execution_count": 26,
   "metadata": {},
   "outputs": [
    {
     "name": "stdout",
     "output_type": "stream",
     "text": [
      "22\n"
     ]
    }
   ],
   "source": [
    "# Other solution\n",
    "\n",
    "sentence = \"Pure mathematics is, in its way, the poetry of logical ideas\"\n",
    "sentence = sentence.lower()\n",
    "vowels = \"AEIOUY\"     \n",
    "vowels = vowels.lower()\n",
    "\n",
    "count_vowels = 0\n",
    "for letter in sentence:\n",
    "    if letter in vowels:\n",
    "        count_vowels += 1\n",
    "\n",
    "print(count_vowels)"
   ]
  },
  {
   "cell_type": "markdown",
   "metadata": {},
   "source": [
    "---\n",
    "## 7. Rövarspråket (**)\n",
    "\n",
    "Ask the user to input a sentence, and translate it using the formula described in this article:\n",
    "\n",
    "https://en.wikipedia.org/wiki/R%C3%B6varspr%C3%A5ket\n"
   ]
  },
  {
   "cell_type": "code",
   "execution_count": null,
   "metadata": {},
   "outputs": [],
   "source": [
    "# Via generator expression\n",
    "\n",
    "# Every consonant is doubled, and an o is inserted in-between. Vowels are left intact.\n",
    "consonants = \"BCDFGHJKLMNPQRSTVXZ\"\n",
    "vowels = \"AEIOUY\" \n",
    "\n",
    "consonants = consonants.lower()\n",
    "vowels = vowels.lower()\n",
    "\n",
    "\n",
    "input_sentence = input(\"Please enter a sentence you wish to transform to rövarspråk: \")    \n",
    "\n",
    "rövarspråk = ''.join(letter + \"o\" + letter if letter in consonants else letter for letter in input_sentence)    \n",
    "# generator expression (comprehension där man ej sparar i lista), måste använda metod join för att göra till sträng\n",
    "# assignas till variabelnamn (får plats i minnet o namn som pekar dit, annars on the go. \n",
    "# letter + \"o\" + letter if letter in consonants else letter; ALLT TILL VÄNSTER OM \"FOR\" UTTRYCKET, ÄR VAD VI VILL GÖRA MED ENSTAK LOOPENHET FRÅN LOOPADE ENHETEN.\n",
    "# TILL HÖGER OM \"FOR\" UTTRYCKET: DEN LOOPADE ENHTEN. \n",
    "\n",
    "print(rövarspråk)\n",
    "\n"
   ]
  },
  {
   "cell_type": "code",
   "execution_count": 32,
   "metadata": {},
   "outputs": [
    {
     "name": "stdout",
     "output_type": "stream",
     "text": [
      "hohejoj\n"
     ]
    }
   ],
   "source": [
    "# Via for loop\n",
    "# Every consonant is doubled, and an o is inserted in-between. Vowels are left intact.\n",
    "\n",
    "consonants = \"BCDFGHJKLMNPQRSTVXZ\"\n",
    "vowels = \"AEIOUY\" \n",
    "consonants = consonants.lower()\n",
    "vowels = vowels.lower()\n",
    "\n",
    "input_sentence = input(\"Please enter a sentence you wish to transform to rövarspråk: \")    \n",
    "rövarspråk = \"\"\n",
    "for letter in input_sentence:\n",
    "    if letter in consonants:\n",
    "        letter = letter + \"o\" + letter\n",
    "    else: letter\n",
    "    rövarspråk += letter\n",
    "\n",
    "print(rövarspråk)\n",
    "\n"
   ]
  },
  {
   "cell_type": "markdown",
   "metadata": {},
   "source": [
    "---\n",
    "## 8. Encryption (**)\n",
    "\n",
    "Let the user input a word and: \n",
    "\n",
    "&nbsp; a) &nbsp; encrypt the message by replacing each letter with the next letter. If the letter is in the end of the alphabet, use the first letter instead. \n",
    "\n",
    "e.g. in Swedish: \"höst\" $\\rightarrow$ \"iatu\"\n",
    "\n",
    "&nbsp; b) &nbsp; decrypt the message\n",
    "\n",
    "&nbsp; c) &nbsp; let the user choose either encryption or decryption."
   ]
  },
  {
   "cell_type": "code",
   "execution_count": 43,
   "metadata": {},
   "outputs": [
    {
     "name": "stdout",
     "output_type": "stream",
     "text": [
      "Ifk\n"
     ]
    }
   ],
   "source": [
    "#a) One solution\n",
    "\n",
    "input_word = input(\"Please input a word: \")\n",
    "swedish_alphabet = \"ABCDEFGHIJKLMNOPQRSTUVWXYZÅÄÖ\"\n",
    "swedish_alphabet_lower = \"abcdefghijklmnopqrstuvwxyzåäö\"\n",
    "\n",
    "encrypting = \"\"\n",
    "for letter1 in input_word:\n",
    "    for index, letter2 in enumerate(swedish_alphabet):\n",
    "        if letter1 == letter2:\n",
    "            encrypting += swedish_alphabet[index+1]\n",
    "        if letter1 == \"Ö\":\n",
    "            encrypting += \"A\"\n",
    "    for index, letter3 in enumerate(swedish_alphabet_lower):\n",
    "        if letter1 == letter3:\n",
    "            encrypting += swedish_alphabet_lower[index+1]\n",
    "        if letter1 == \"ö\":\n",
    "            encrypting += \"a\"\n",
    "\n",
    "print(encrypting)\n"
   ]
  },
  {
   "cell_type": "code",
   "execution_count": 48,
   "metadata": {},
   "outputs": [
    {
     "name": "stdout",
     "output_type": "stream",
     "text": [
      "Original string: hej\n",
      "String with letters encrypted: ifk\n"
     ]
    }
   ],
   "source": [
    "#a) Annother solution\n",
    "\n",
    "input_word = input(\"Please input a word: \")\n",
    "\n",
    "encrypted = \"\"\n",
    "for letter in input_word:\n",
    "    if 'A' <= letter <= 'Ö':\n",
    "            encrypted += chr(ord(letter) + 1)           # ord transforms to unicode, + 1 gives next character then. chr transforms back to character. \n",
    "    elif letter == 'Ö':\n",
    "        encrypted += 'A'\n",
    "    elif 'a' <= letter <= 'ö':\n",
    "        encrypted += chr(ord(letter) + 1)\n",
    "    elif letter == 'ö':\n",
    "        encrypted += 'a'\n",
    "    else:\n",
    "        letter\n",
    "\n",
    "print(\"Original string:\", input_word)\n",
    "print(\"String with letters encrypted:\", encrypted)"
   ]
  },
  {
   "cell_type": "code",
   "execution_count": 49,
   "metadata": {},
   "outputs": [
    {
     "name": "stdout",
     "output_type": "stream",
     "text": [
      "Original string: ifk\n",
      "String with letters decrypted: hej\n"
     ]
    }
   ],
   "source": [
    "#b) Decrypted\n",
    "\n",
    "input_word = input(\"Please input a word: \")\n",
    "\n",
    "decrypted = \"\"\n",
    "for letter in input_word:\n",
    "    if 'A' <= letter <= 'Ö':\n",
    "            decrypted += chr(ord(letter) - 1)           # ord transforms to unicode, + 1 gives next character then. chr transforms back to character. \n",
    "    elif letter == 'A':\n",
    "        decrypted += 'Ö'\n",
    "    elif 'a' <= letter <= 'ö':\n",
    "        decrypted += chr(ord(letter) - 1)\n",
    "    elif letter == 'a':\n",
    "        decrypted += 'ö'\n",
    "    else:\n",
    "        letter\n",
    "\n",
    "print(\"Original string:\", input_word)\n",
    "print(\"String with letters decrypted:\", decrypted)"
   ]
  },
  {
   "cell_type": "code",
   "execution_count": 58,
   "metadata": {},
   "outputs": [
    {
     "name": "stdout",
     "output_type": "stream",
     "text": [
      "Original string: ifk\n",
      "String with letters decrypted: hej\n"
     ]
    }
   ],
   "source": [
    "#c) Let user choose whether to encrypt or decrypt\n",
    "\n",
    "input_word = input(\"Please input a word: \")\n",
    "choice = int(input(\"Enter 1 for encryption or 2 for decryption: \"))\n",
    "\n",
    "if choice == 1:\n",
    "    encrypted = \"\"\n",
    "    for letter in input_word:\n",
    "        if 'A' <= letter <= 'Ö':\n",
    "                encrypted += chr(ord(letter) + 1)           # ord transforms to unicode, + 1 gives next character then. chr transforms back to character. \n",
    "        elif letter == 'Ö':\n",
    "            encrypted += 'A'\n",
    "        elif 'a' <= letter <= 'ö':\n",
    "            encrypted += chr(ord(letter) + 1)\n",
    "        elif letter == 'ö':\n",
    "            encrypted += 'a'\n",
    "        else:\n",
    "            letter\n",
    "    print(\"Original string:\", input_word)\n",
    "    print(\"String with letters encrypted:\", encrypted)\n",
    "\n",
    "if choice ==2:\n",
    "    decrypted = \"\"\n",
    "    for letter in input_word:\n",
    "        if 'A' <= letter <= 'Ö':\n",
    "                decrypted += chr(ord(letter) - 1)           # ord transforms to unicode, + 1 gives next character then. chr transforms back to character. \n",
    "        elif letter == 'A':\n",
    "            decrypted += 'Ö'\n",
    "        elif 'a' <= letter <= 'ö':\n",
    "            decrypted += chr(ord(letter) - 1)\n",
    "        elif letter == 'a':\n",
    "            decrypted += 'ö'\n",
    "        else:\n",
    "            letter\n",
    "    print(\"Original string:\", input_word)\n",
    "    print(\"String with letters decrypted:\", decrypted)\n",
    "\n"
   ]
  },
  {
   "cell_type": "markdown",
   "metadata": {},
   "source": [
    "---\n",
    "\n",
    "Kokchun Giang\n",
    "\n",
    "[LinkedIn][linkedIn_kokchun]\n",
    "\n",
    "[GitHub portfolio][github_portfolio]\n",
    "\n",
    "[linkedIn_kokchun]: https://www.linkedin.com/in/kokchungiang/\n",
    "[github_portfolio]: https://github.com/kokchun/Portfolio-Kokchun-Giang\n",
    "\n",
    "---"
   ]
  }
 ],
 "metadata": {
  "kernelspec": {
   "display_name": "Python 3.9.6 64-bit",
   "language": "python",
   "name": "python3"
  },
  "language_info": {
   "codemirror_mode": {
    "name": "ipython",
    "version": 3
   },
   "file_extension": ".py",
   "mimetype": "text/x-python",
   "name": "python",
   "nbconvert_exporter": "python",
   "pygments_lexer": "ipython3",
   "version": "3.11.5"
  },
  "orig_nbformat": 4,
  "vscode": {
   "interpreter": {
    "hash": "0da836a34428266995a795f1e1e27b816fa1c02f148d9728b3fbbbc5459afca6"
   }
  }
 },
 "nbformat": 4,
 "nbformat_minor": 2
}
