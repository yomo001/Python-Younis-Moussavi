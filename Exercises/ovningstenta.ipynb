{
 "cells": [
  {
   "cell_type": "code",
   "execution_count": null,
   "metadata": {},
   "outputs": [],
   "source": [
    "frukter = [\"jordgubbe\", \"vindruva\", \"grape\"]\n",
    "\n",
    "godfrukt = frukter[2]\n",
    "\n",
    "print(godfrukt)\n",
    "print(godfrukt[-1])"
   ]
  },
  {
   "cell_type": "code",
   "execution_count": null,
   "metadata": {},
   "outputs": [],
   "source": [
    "import math\n",
    "def volume(radius, height):\n",
    "\treturn math.pi*radius**2*height\n",
    "\n",
    "try:\n",
    "    input_radius = float(input(\"Please enter radius: \"))\n",
    "    input_height = float(input(\"Please enter height: \"))\n",
    "    volume(input_radius, input_height)\n",
    "except ValueError:\n",
    "      print(\"You have to enter a numeric:\")"
   ]
  },
  {
   "cell_type": "code",
   "execution_count": null,
   "metadata": {},
   "outputs": [],
   "source": [
    "import random\n",
    "\n",
    "list_rolls = [[] for item in range(6)]\n",
    "\n",
    "for list in list_rolls:\n",
    "    for roll in range(1000000):\n",
    "        list.append(random.randint(1,6))\n",
    "\n",
    "list_counts = []\n",
    "n = 1\n",
    "for list in list_rolls:\n",
    "    list_counts.append(list.count(n))\n",
    "    n += 1\n",
    "\n",
    "list_counts"
   ]
  },
  {
   "cell_type": "code",
   "execution_count": 4,
   "metadata": {},
   "outputs": [
    {
     "name": "stdout",
     "output_type": "stream",
     "text": [
      "x x x x x \n",
      "x o x o x \n",
      "x x x x x \n",
      "x o x o x \n",
      "x x x x x \n"
     ]
    }
   ],
   "source": [
    "n = 5\n",
    "     \n",
    "for run in range(n):\n",
    "    for run2 in range(n):\n",
    "        if run % 2 == 0:\n",
    "            print('x ', end='')\n",
    "        else:\n",
    "            if run2 % 2 == 0:\n",
    "                print('x ', end='')\n",
    "            else:\n",
    "                print('o ', end='')\n",
    "    print()\n",
    "\n"
   ]
  },
  {
   "cell_type": "code",
   "execution_count": 12,
   "metadata": {},
   "outputs": [
    {
     "name": "stdout",
     "output_type": "stream",
     "text": [
      "Tusenlapp: 10343443\n",
      "Femhundralapp: 0\n",
      "Hundralapp: 4\n",
      "Tiokrona : 2\n",
      "Enkrona: 2\n"
     ]
    }
   ],
   "source": [
    "\n",
    "def change(amount):\n",
    "\t\n",
    "\n",
    "    Tusenlapp = f\"Tusenlapp: {amount // 1000}\"\n",
    "    Femhundralapp = f\"Femhundralapp: {amount % 1000 // 500}\"\n",
    "    Hundralapp = f\"Hundralapp: {amount %1000%500//100}\"\n",
    "    Tiokrona = f\"Tiokrona : {amount %1000%500%100//10}\"\n",
    "    Enkrona = f\"Enkrona: {amount %1000%500%100%10//1}\"\n",
    "\n",
    "    print(Tusenlapp)\n",
    "    print(Femhundralapp)\n",
    "    print(Hundralapp)\n",
    "    print(Tiokrona)\n",
    "    print(Enkrona)\n",
    "\n"
   ]
  }
 ],
 "metadata": {
  "kernelspec": {
   "display_name": "python-programming-YOUNIS-MOUSSAVI-yU_f8x7q",
   "language": "python",
   "name": "python3"
  },
  "language_info": {
   "codemirror_mode": {
    "name": "ipython",
    "version": 3
   },
   "file_extension": ".py",
   "mimetype": "text/x-python",
   "name": "python",
   "nbconvert_exporter": "python",
   "pygments_lexer": "ipython3",
   "version": "3.11.5"
  }
 },
 "nbformat": 4,
 "nbformat_minor": 2
}
