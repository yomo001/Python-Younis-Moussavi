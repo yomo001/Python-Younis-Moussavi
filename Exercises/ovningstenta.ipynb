{
 "cells": [
  {
   "cell_type": "code",
   "execution_count": 3,
   "metadata": {},
   "outputs": [
    {
     "name": "stdout",
     "output_type": "stream",
     "text": [
      "grape\n",
      "e\n"
     ]
    }
   ],
   "source": [
    "frukter = [\"jordgubbe\", \"vindruva\", \"grape\"]\n",
    "\n",
    "godfrukt = frukter[2]\n",
    "\n",
    "print(godfrukt)\n",
    "print(godfrukt[-1])"
   ]
  },
  {
   "cell_type": "code",
   "execution_count": 8,
   "metadata": {},
   "outputs": [
    {
     "ename": "ValueError",
     "evalue": "could not convert string to float: 'f'",
     "output_type": "error",
     "traceback": [
      "\u001b[1;31m---------------------------------------------------------------------------\u001b[0m",
      "\u001b[1;31mValueError\u001b[0m                                Traceback (most recent call last)",
      "\u001b[1;32mc:\\Users\\yonis\\Documents\\GitHub\\python-programming-YOUNIS-MOUSSAVI\\Exercises\\ovningstenta.ipynb Cell 2\u001b[0m line \u001b[0;36m1\n\u001b[0;32m     <a href='vscode-notebook-cell:/c%3A/Users/yonis/Documents/GitHub/python-programming-YOUNIS-MOUSSAVI/Exercises/ovningstenta.ipynb#W1sZmlsZQ%3D%3D?line=9'>10</a>\u001b[0m         \u001b[39mexcept\u001b[39;00m \u001b[39mValueError\u001b[39;00m:\n\u001b[0;32m     <a href='vscode-notebook-cell:/c%3A/Users/yonis/Documents/GitHub/python-programming-YOUNIS-MOUSSAVI/Exercises/ovningstenta.ipynb#W1sZmlsZQ%3D%3D?line=10'>11</a>\u001b[0m             \u001b[39mprint\u001b[39m(\u001b[39m\"\u001b[39m\u001b[39mYou have to enter an int or float\u001b[39m\u001b[39m\"\u001b[39m)\n\u001b[1;32m---> <a href='vscode-notebook-cell:/c%3A/Users/yonis/Documents/GitHub/python-programming-YOUNIS-MOUSSAVI/Exercises/ovningstenta.ipynb#W1sZmlsZQ%3D%3D?line=12'>13</a>\u001b[0m \u001b[39mprint\u001b[39m(circle_volume())\n",
      "\u001b[1;32mc:\\Users\\yonis\\Documents\\GitHub\\python-programming-YOUNIS-MOUSSAVI\\Exercises\\ovningstenta.ipynb Cell 2\u001b[0m line \u001b[0;36m6\n\u001b[0;32m      <a href='vscode-notebook-cell:/c%3A/Users/yonis/Documents/GitHub/python-programming-YOUNIS-MOUSSAVI/Exercises/ovningstenta.ipynb#W1sZmlsZQ%3D%3D?line=3'>4</a>\u001b[0m \u001b[39mdef\u001b[39;00m \u001b[39mcircle_volume\u001b[39m():\n\u001b[0;32m      <a href='vscode-notebook-cell:/c%3A/Users/yonis/Documents/GitHub/python-programming-YOUNIS-MOUSSAVI/Exercises/ovningstenta.ipynb#W1sZmlsZQ%3D%3D?line=4'>5</a>\u001b[0m     \u001b[39mwhile\u001b[39;00m \u001b[39mTrue\u001b[39;00m:\n\u001b[1;32m----> <a href='vscode-notebook-cell:/c%3A/Users/yonis/Documents/GitHub/python-programming-YOUNIS-MOUSSAVI/Exercises/ovningstenta.ipynb#W1sZmlsZQ%3D%3D?line=5'>6</a>\u001b[0m         height \u001b[39m=\u001b[39m \u001b[39mfloat\u001b[39;49m(\u001b[39minput\u001b[39;49m(\u001b[39m\"\u001b[39;49m\u001b[39mAnge höjd: \u001b[39;49m\u001b[39m\"\u001b[39;49m))\n\u001b[0;32m      <a href='vscode-notebook-cell:/c%3A/Users/yonis/Documents/GitHub/python-programming-YOUNIS-MOUSSAVI/Exercises/ovningstenta.ipynb#W1sZmlsZQ%3D%3D?line=6'>7</a>\u001b[0m         radie \u001b[39m=\u001b[39m \u001b[39mfloat\u001b[39m(\u001b[39minput\u001b[39m(\u001b[39m\"\u001b[39m\u001b[39mAnge radie: \u001b[39m\u001b[39m\"\u001b[39m))\n\u001b[0;32m      <a href='vscode-notebook-cell:/c%3A/Users/yonis/Documents/GitHub/python-programming-YOUNIS-MOUSSAVI/Exercises/ovningstenta.ipynb#W1sZmlsZQ%3D%3D?line=7'>8</a>\u001b[0m         \u001b[39mtry\u001b[39;00m:\n",
      "\u001b[1;31mValueError\u001b[0m: could not convert string to float: 'f'"
     ]
    }
   ],
   "source": [
    "import math\n",
    "\n",
    "\n",
    "def circle_volume():\n",
    "    while True:\n",
    "        height = float(input(\"Ange höjd: \"))\n",
    "        radie = float(input(\"Ange radie: \"))\n",
    "        try:\n",
    "            return math.pi*(radie**2)*height\n",
    "        except ValueError:\n",
    "            print(\"You have to enter an int or float\")\n",
    "\n",
    "print(circle_volume())\n",
    "\n"
   ]
  }
 ],
 "metadata": {
  "kernelspec": {
   "display_name": "python-programming-YOUNIS-MOUSSAVI-yU_f8x7q",
   "language": "python",
   "name": "python3"
  },
  "language_info": {
   "codemirror_mode": {
    "name": "ipython",
    "version": 3
   },
   "file_extension": ".py",
   "mimetype": "text/x-python",
   "name": "python",
   "nbconvert_exporter": "python",
   "pygments_lexer": "ipython3",
   "version": "3.11.5"
  }
 },
 "nbformat": 4,
 "nbformat_minor": 2
}
