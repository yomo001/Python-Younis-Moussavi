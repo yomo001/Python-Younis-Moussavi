{
 "cells": [
  {
   "cell_type": "markdown",
   "metadata": {},
   "source": [
    "\n",
    "<a href=\"https://colab.research.google.com/github/kokchun/Python-course-AI22/blob/main/Exercises/E11-OOP-basic-exercise.ipynb\" target=\"_parent\"><img align=\"left\" src=\"https://colab.research.google.com/assets/colab-badge.svg\" alt=\"Open In Colab\"/></a> &nbsp; to see hints and answers."
   ]
  },
  {
   "cell_type": "markdown",
   "metadata": {},
   "source": [
    "# OOP introductory exercises\n",
    "\n",
    "---\n",
    "These are introductory exercises in Python with focus in **Object oriented programming**.\n",
    "\n",
    "<p class = \"alert alert-info\" role=\"alert\"><b>Remember</b> to use <b>descriptive variable, function and class names</b> in order to get readable code </p>\n",
    "\n",
    "<p class = \"alert alert-info\" role=\"alert\"><b>Remember</b> to format your answers in a neat way using <b>f-strings</b></p>\n",
    "\n",
    "The number of stars (\\*), (\\*\\*), (\\*\\*\\*) denotes the difficulty level of the task\n",
    "\n",
    "---"
   ]
  },
  {
   "cell_type": "markdown",
   "metadata": {},
   "source": [
    "## 1. Step tracker\n",
    "\n",
    "Create a class that can be used as a step tracker. It should have a property \"steps\" that is read only; a method step() that increases \"steps\" by 1 each time it is called; and a method reset() that resets the counter.\n",
    "\n",
    "Instantiate the class, and write a loop that simulates walking 1000 steps. Then print the value of \"steps\"."
   ]
  },
  {
   "cell_type": "code",
   "execution_count": 8,
   "metadata": {},
   "outputs": [
    {
     "data": {
      "text/plain": [
       "1000"
      ]
     },
     "execution_count": 8,
     "metadata": {},
     "output_type": "execute_result"
    }
   ],
   "source": [
    "class Steptracker():\n",
    "    def __init__(self, steps = 0):\n",
    "        self._steps = steps            \n",
    "\n",
    "    @property                                                     # stilmässig skillnad, ser ut att man anropar attribut istället för metod bara.\n",
    "    def steps(self):                                              # Om två metoder görs för getter o setter här blir två olika metodnamn etc. vid anrop, men här enbart property namnet\n",
    "        return self._steps \n",
    "                                                                  \n",
    "    def step(self):\n",
    "        self._steps += 1\n",
    "\n",
    "    def reset(self):\n",
    "        self._steps = 0               # om det varit self.steps här hade property anropats o då behövs setter för att sätta nytt värde\n",
    "\n",
    "\n",
    "# Tanken med property är att i denna nedre del, ser property ut som attribut. Men istället för att enbart spara på minnet, så kör property också\n",
    "# två metoder och sedan till minnet. Den gör det vi vill att den ska göra och sedan returnerar värde till minnet.\n",
    "# När vi definierar property, med ett namn, så kommer vi att definiera den i __init__  om vi skriver self.samma (typ self.steps)\n",
    "# Eller om vi returnerar self.steps och property är steps, så blir det en evig loop, eftersom den anropar sig själv.\n",
    "# Eller när reset får self.steps, anropas property och då behövs setter igen.\n",
    "# Så fort property anropas och man vill sätta värde, behövs setter. \n",
    "\n",
    "my_steps = Steptracker()\n",
    "\n",
    "for step in range(1000):\n",
    "    my_steps.step()\n",
    "\n",
    "my_steps.steps\n",
    "\n",
    "# my_steps.reset()   # Till 0 igen.\n",
    "\n",
    "my_steps.steps     #OM man hade gått och ändrat det privata här nere, så hade man sedan kunnat sätta den till 1000 utan loopen, blir fel och fusk."
   ]
  },
  {
   "cell_type": "markdown",
   "metadata": {},
   "source": []
  },
  {
   "cell_type": "markdown",
   "metadata": {},
   "source": [
    "---\n",
    "## 2. Empty/full glass simulator (*)\n",
    "\n",
    "Create a class that represents a glass of water. It should have a method for filling the glass, and another method for emptying the glass. Also, there needs to be an internal/private attribute that keeps track of if the glass is empty or full. Depending on the current state (empty/full), the method that fills the glass should print either \"Filling the glass with water\" or \"The glass is already full\". The other method should print either \"Emptying the glass\" or \"The glass is already empty\".\n",
    "\n",
    "**Additional exercise:** Add another method to break the glass. Every glass (instance) keeps track of it's internal state, and prints what happens when the different methods are executed. Eg. \"The glass breaks. Now there is water all over the floor\", or \"The glass can not be filled, since it's broken\", etc."
   ]
  },
  {
   "cell_type": "markdown",
   "metadata": {},
   "source": [
    "#### Mer om property\n",
    "Property: En finare interface och mer \"Pythonic\" sätt att hantera get och set av variabelvärden. \n",
    "Man kommer då åt det som returneras på samma sätt som man kommer åt attribut (objekt.attribut/propertynamn)\n",
    "Den får inte anropa sig själv i returnen, alltså, måste ha underscore i returnen eller vara annorlunda. Underscore för att markera \n",
    "för andra utvecklare att den inte ska ändras utanför det inkapslade objektet.\n",
    "När man sedan sätter ett nytt värde, anropas setter metoden.\n",
    "Samma hade kunnat göras med metoder istället, men blir inte lika pythonic kodmässigt. "
   ]
  },
  {
   "cell_type": "code",
   "execution_count": 6,
   "metadata": {},
   "outputs": [
    {
     "name": "stdout",
     "output_type": "stream",
     "text": [
      "Filling the glass with water\n",
      "The glass is already full\n",
      "Emptying the glass\n",
      "The glass is already empty\n",
      "The glass breaks. Now there is water all over the floor\n",
      "Sorry, the glass is broken\n",
      "Sorry, the glass is broken\n"
     ]
    }
   ],
   "source": [
    "class Glass:\n",
    "    def __init__(self, is_full = False, broken = False):\n",
    "        self._is_full = is_full\n",
    "        self._broken = broken\n",
    "\n",
    "    def fill(self):\n",
    "        if self._broken: \n",
    "            print(\"Sorry, the glass is broken\")\n",
    "        elif self._is_full:\n",
    "            print(\"The glass is already full\")\n",
    "        else:\n",
    "            print(\"Filling the glass with water\")\n",
    "            self._is_full = True\n",
    "            \n",
    "    def empty(self):\n",
    "        if self._broken:\n",
    "            print(\"Sorry, the glass is broken\")\n",
    "        elif self._is_full:\n",
    "            print(\"Emptying the glass\")\n",
    "            self._is_full = False\n",
    "        else:\n",
    "            print(\"The glass is already empty\")\n",
    "    \n",
    "    def break_glass(self):\n",
    "        if self._broken is False:\n",
    "            print(\"The glass breaks. Now there is water all over the floor\")\n",
    "            self._broken = True\n",
    "\n",
    "\n",
    "my_glass = Glass()\n",
    "\n",
    "my_glass.fill()\n",
    "my_glass.fill()\n",
    "my_glass.empty()\n",
    "my_glass.empty()\n",
    "\n",
    "my_glass.break_glass()\n",
    "my_glass.empty()\n",
    "my_glass.fill()\n",
    "\n",
    "\n",
    "# my_glass._is_full = \"Får ej ändras\"     # Får ej ändras här, för då förstörs logiken. Man hade också kunnat ändra till egna värden och sedan fyllt om och om igen. Alltså fuska typ. \n"
   ]
  },
  {
   "cell_type": "markdown",
   "metadata": {},
   "source": [
    "---\n",
    "## 3. Red and blue (*)\n",
    "\n",
    "Create a class that has a property \"red\", and a property \"blue\". Both should be floats, and be able to take any value between 0.0 and 100.0. However, they should be \"linked\" in such a way that the sum of \"red\" and \"blue\" always is 100.0. i.e. if we set the value of \"blue\" to 8.5, and then read the value of \"red\", it should return 91.5"
   ]
  },
  {
   "cell_type": "code",
   "execution_count": 33,
   "metadata": {},
   "outputs": [
    {
     "name": "stdout",
     "output_type": "stream",
     "text": [
      "50.0\n",
      "50.0\n"
     ]
    }
   ],
   "source": [
    "class Red_and_blue():\n",
    "    def __init__(self, red = 0, blue = 0):    # Initial values\n",
    "        self._red = red                       # om self.red så är det samma namn som property, och de kan skriva över varandra\n",
    "        self._blue = blue                     # Här sätts variabelvärden (self._variabel = inital värde)\n",
    "        \n",
    "    @property\n",
    "    def blue(self):\n",
    "        return float(100 - self._red)\n",
    "    \n",
    "    @blue.setter\n",
    "    def blue(self, new_red):                         \n",
    "        if new_red < 0 or new_red > 100:                                     ##Innebär att self här (=blue objekt) får värdet 100 - self._red = objekt blå får värdet för _red \n",
    "            raise ValueError(f\"You must enter a value between 0 and 100\")\n",
    "        else:\n",
    "            self._red = 100 - new_red    \n",
    "    @property\n",
    "    def red(self):\n",
    "        return float(self._red)\n",
    "        \n",
    "    @red.setter\n",
    "    def red(self, new_red):\n",
    "        if new_red < 0 or new_red > 100:\n",
    "            raise ValueError(f\"You must enter a value between 0 and 100\")\n",
    "        else:\n",
    "            self._red = new_red\n",
    "\n",
    "my_red_and_blue = Red_and_blue()\n",
    "\n",
    "my_red_and_blue.blue = 50                        #när jag skriver ut blue här, så är det den propertyn som fått värdet från red - men värdet tillhör den propertyn.\n",
    "\n",
    "print(my_red_and_blue.red)\n",
    "print(my_red_and_blue.blue)"
   ]
  },
  {
   "cell_type": "code",
   "execution_count": null,
   "metadata": {},
   "outputs": [],
   "source": [
    "# For educational purpose \n",
    "class MyClass:\n",
    "    def __init__(self, initial_value):\n",
    "        self._my_variable = initial_value\n",
    "\n",
    "    @property\n",
    "    def my_variable(self):\n",
    "        return self._my_variable\n",
    "\n",
    "    @my_variable.setter\n",
    "    def my_variable(self, new_value):\n",
    "        if new_value >= 0:\n",
    "            self._my_variable = new_value\n",
    "        else:\n",
    "            raise ValueError(\"Value must be non-negative\")"
   ]
  },
  {
   "cell_type": "markdown",
   "metadata": {},
   "source": [
    "---\n",
    "## 4. One thousand cars (*)\n",
    "\n",
    "Create a class that represents a car. Every car can have a color and a length. When a new car is instantiated it gets a random color, and a random length (between 3 and 5 meters). Instatiate 1000 cars a save them in a list. Then print the sum of the length of all green cars in the list."
   ]
  },
  {
   "cell_type": "markdown",
   "metadata": {},
   "source": [
    "---\n",
    "## 5. Email (**)\n",
    "\n",
    "Create an email class with a property \"address\". When we set this property it should validate that we gave it a proper email address by checking that it contains one or more letter, followed by an at-sign (@), followed by one or more letter, then a dot (.), then at least to letters.\n",
    "\n",
    "We should also be able to provide the address directly, when creating an new instance of the class (it must still be validated).\n",
    "\n",
    "The class should also have the following properties: \"username\", \"domainname\", and \"topdomain\" implemented in such a way that, if we set the address to \"fredrik@everyloop.com\", the username should read \"fredrik\", the domainname should read \"everyloop.com\", and the topdomain should read \"com\".\n",
    "\n",
    "When changing any of the four properties, all the others must be updated accordingly; and the address must always remain valid."
   ]
  },
  {
   "cell_type": "markdown",
   "metadata": {},
   "source": [
    "---\n",
    "\n",
    "Fredrik Johansson\n",
    "\n",
    "[everyloop.com](https://www.everyloop.com)\n",
    "\n",
    "---"
   ]
  }
 ],
 "metadata": {
  "kernelspec": {
   "display_name": "Python 3.9.6 64-bit",
   "language": "python",
   "name": "python3"
  },
  "language_info": {
   "codemirror_mode": {
    "name": "ipython",
    "version": 3
   },
   "file_extension": ".py",
   "mimetype": "text/x-python",
   "name": "python",
   "nbconvert_exporter": "python",
   "pygments_lexer": "ipython3",
   "version": "3.11.5"
  },
  "orig_nbformat": 4,
  "vscode": {
   "interpreter": {
    "hash": "0da836a34428266995a795f1e1e27b816fa1c02f148d9728b3fbbbc5459afca6"
   }
  }
 },
 "nbformat": 4,
 "nbformat_minor": 2
}
