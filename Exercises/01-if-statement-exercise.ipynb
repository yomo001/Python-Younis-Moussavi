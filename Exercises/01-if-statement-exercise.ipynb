{
 "cells": [
  {
   "cell_type": "markdown",
   "metadata": {},
   "source": [
    "\n",
    "<a href=\"https://colab.research.google.com/github/kokchun/Python-course-AI22/blob/main/Exercises/01-if-statement-exercise.ipynb\" target=\"_parent\"><img align=\"left\" src=\"https://colab.research.google.com/assets/colab-badge.svg\" alt=\"Open In Colab\"/></a> &nbsp; to see hints and answers."
   ]
  },
  {
   "cell_type": "markdown",
   "metadata": {},
   "source": [
    "# if statements exercises\n",
    "\n",
    "---\n",
    "These are introductory exercises in Python with focus in **if** statement.\n",
    "\n",
    "<p class = \"alert alert-info\" role=\"alert\"><b>Remember</b> to use <b>descriptive variable names</b> in order to get readable code </p>\n",
    "\n",
    "<p class = \"alert alert-info\" role=\"alert\"><b>Remember</b> to format your answers in a neat way using <b>f-strings</b>\n",
    "\n",
    "<p class = \"alert alert-info\" role=\"alert\"><b>Remember</b> to format your input questions in a pedagogical way to guide the user\n",
    "\n",
    "The number of stars (\\*), (\\*\\*), (\\*\\*\\*) denotes the difficulty level of the task\n",
    "\n",
    "---"
   ]
  },
  {
   "cell_type": "markdown",
   "metadata": {},
   "source": [
    "## 1. Check sign (*)\n",
    "\n",
    "Ask the user to input a number and check if this number is **positive**, **negative** or **zero** and print it out."
   ]
  },
  {
   "cell_type": "code",
   "execution_count": 4,
   "metadata": {},
   "outputs": [
    {
     "name": "stdout",
     "output_type": "stream",
     "text": [
      "You have to enter a numeric\n",
      "You have to enter a numeric\n",
      "You have to enter a numeric\n",
      "You have to enter a numeric\n",
      "You entered the positive number 3\n"
     ]
    }
   ],
   "source": [
    "\n",
    "while True:\n",
    "    try:\n",
    "        input_number = int(input(\"Please enter a number: \"))        # måste vara under try för att testas\n",
    "        if input_number > 0:\n",
    "            print(f\"You entered the positive number {input_number}\")\n",
    "        if input_number < 0:\n",
    "            print(f\"You entered the negative number {input_number}\")\n",
    "        if input_number == 0:\n",
    "            print(f\"You entered {input_number}\")\n",
    "        break                                                       # måste avbrytas få while True är satt, annars kan villkor sättas uppe vid while\n",
    "    except ValueError:\n",
    "        print(f\"You have to enter a numeric\")"
   ]
  },
  {
   "cell_type": "markdown",
   "metadata": {},
   "source": [
    "---\n",
    "## 2. Smallest (*)\n",
    "Ask the user to input two numbers and check which one is the smallest and print it out.   "
   ]
  },
  {
   "cell_type": "code",
   "execution_count": null,
   "metadata": {},
   "outputs": [],
   "source": [
    "input_number1 = int(input(\"Please enter a number: \"))\n",
    "input_number2 = int(input(\"Please enter a number: \"))\n",
    "if input_number1 < input_number2:\n",
    "    print(f\"The smallest number you entered was {input_number1}\")\n",
    "else:\n",
    "    print(f\"The smallest number you entered was {input_number2}\")"
   ]
  },
  {
   "cell_type": "code",
   "execution_count": 5,
   "metadata": {},
   "outputs": [
    {
     "data": {
      "text/plain": [
       "'2 is smallest'"
      ]
     },
     "execution_count": 5,
     "metadata": {},
     "output_type": "execute_result"
    }
   ],
   "source": [
    "# With ternary opretor (3 operands, returns one depending on middle expression evaluation True/False)\n",
    "input_number1 = 2\n",
    "input_number2 = 3\n",
    "#   First operand                    Middle expression                  Third operand\n",
    "f\"{input_number1} is smallest\" if input_number1 < input_number2 else f\"{input_number2} is smallest\""
   ]
  },
  {
   "cell_type": "markdown",
   "metadata": {},
   "source": [
    "---\n",
    "## 3. Right angle (*)\n",
    "\n",
    "Ask the user to input three angles and check if the triangle has a right angle. Your code should make sure that all three angles are valid and make up a triangle.\n",
    "\n",
    "<img align=\"left\" src=\"../Assets/triangle_angles.png\" width=\"200\"/>"
   ]
  },
  {
   "cell_type": "code",
   "execution_count": null,
   "metadata": {},
   "outputs": [],
   "source": [
    "angles = []\n",
    "\n",
    "for i in range(3):\n",
    "    angles.append(int(input(\"Please enter a number: \")))\n",
    "\n",
    "if 90 in angles and sum(angles) == 180:\n",
    "    print(\"This has a right angle\")\n",
    "    print(\"This is a valid triangle\")\n",
    "if 90 not in angles and sum(angles) == 180:\n",
    "    print(\"This is a valid triangle but without a right angle\")   \n",
    "if sum(angles) != 180:\n",
    "    print(\"This is not a valid triange!\")\n"
   ]
  },
  {
   "cell_type": "markdown",
   "metadata": {},
   "source": [
    "----\n",
    "## 4. Medicine (*)\n",
    "\n",
    "The information in the following table is stated in a medicine package. Also it is stated that for children weight is more important than age.\n",
    "\n",
    "<table align=\"left\">\n",
    "<thead>\n",
    "    <tr>\n",
    "        <th></th>\n",
    "        <th>Age</th>\n",
    "        <th>Number of pills</th>\n",
    "    </tr>\n",
    "</thead>\n",
    "\n",
    "<tbody>\n",
    "  <tr>\n",
    "    <td>Adults & adolescent <br>over 40 kg</td>\n",
    "    <td>over 12 years</td>\n",
    "    <td>1-2</td>\n",
    "  </tr>\n",
    "\n",
    "  <tr>\n",
    "    <td>Children 26-40 kg</td>\n",
    "    <td>7-12 years</td>\n",
    "    <td>1/2-1</td>\n",
    "  </tr>\n",
    "\n",
    "  <tr>\n",
    "    <td>Children 15-25 kg</td>\n",
    "    <td>3-7 years</td>\n",
    "    <td>1/2</td>\n",
    "  </tr>\n",
    "</tbody>\n",
    "</table>"
   ]
  },
  {
   "cell_type": "markdown",
   "metadata": {},
   "source": [
    "Let the user input an **age** and a **weight**, the program should recommend the number of pills for the user."
   ]
  },
  {
   "cell_type": "code",
   "execution_count": 8,
   "metadata": {},
   "outputs": [
    {
     "name": "stdout",
     "output_type": "stream",
     "text": [
      "age = 37, weight = 81 : your dosage is 1-2 pills\n"
     ]
    }
   ],
   "source": [
    "# Dosage helping \n",
    "\n",
    "age= int(input(\"Please enter your age: \"))\n",
    "weight= int(input(\"Please enter your weight: \"))\n",
    "if age > 12 and weight > 40:\n",
    "    recommended_pills = \"1-2\"\n",
    "if 7 <= age <= 12 and 26 <= weight <= 40:\n",
    "    recommended_pills = \"1/2-1\"\n",
    "if 3 <= age <= 7 and 15 <= weight <= 25:\n",
    "    recommended_pills = \"1/2\"\n",
    "if 15 > weight:\n",
    "    recommended_pills = \"0\"\n",
    "\n",
    "\n",
    "print(f\"{age = }, {weight = } : your dosage is {recommended_pills} pills\")"
   ]
  },
  {
   "cell_type": "markdown",
   "metadata": {},
   "source": [
    "---\n",
    "## 5. Divisible (*)\n",
    "Let the user input a number. Check if the number is\n",
    "<ol type=\"a\">\n",
    "  <li>even or odd</li>\n",
    "  <li>is divisible by 5</li>\n",
    "  <li>is divisble by 5 and odd</li>\n",
    "</ol> "
   ]
  },
  {
   "cell_type": "code",
   "execution_count": null,
   "metadata": {},
   "outputs": [],
   "source": [
    "input_number= int(input(\"Please enter a number: \"))\n",
    "\n",
    "if input_number%2 == 0:\n",
    "    print(f\"You entered {input_number}, an even number\")\n",
    "\n",
    "if input_number%2 != 0:\n",
    "    print(f\"You entered {input_number}, an odd number\")\n",
    "\n",
    "if input_number%5 == 0:\n",
    "    print(f\"You entered {input_number}, a number divisible by 5\")\n",
    "\n",
    "if input_number%5 !=0 and input_number%2 ==0:\n",
    "    print(f\"You entered {input_number}, an odd number not divisible by 5\")"
   ]
  },
  {
   "cell_type": "markdown",
   "metadata": {},
   "source": [
    "---\n",
    "## 6. Luggage size (*)\n",
    "\n",
    "The maximum allowed luggage size for boarding an airplane is: \n",
    "- weight: 8kg\n",
    "- dimensions: 55x40x23cm (length x width x height) \n",
    "\n",
    "Let the user input weight, length, width and height of the luggage. The program should check if the luggage is allowed or not."
   ]
  },
  {
   "cell_type": "code",
   "execution_count": null,
   "metadata": {},
   "outputs": [],
   "source": [
    "weight = (int(input(\"Please enter the weight of your luggage: \")))\n",
    "input_length = (int(input(\"Please enter the length of your luggage: \")))\n",
    "input_width = (int(input(\"Please enter the width of your luggage: \")))\n",
    "input_height = (int(input(\"Please enter the height of your luggage: \")))\n",
    "\n",
    "if weight >= 8:\n",
    "    print(f\"The maximum weight allowed is 8 kg, you entered {weight} kg\")\n",
    "\n",
    "if input_length >= 55:\n",
    "    print(f\"The maximum length allowed is 55 cm, you entered {input_length} cm\")\n",
    "\n",
    "if input_width >= 40:\n",
    "    print(f\"The maximum width allowed is 40 cm, you entered {input_width} cm\")\n",
    "\n",
    "if input_height >= 23:\n",
    "    print(f\"The maximum width allowed is 23 cm, you entered {input_height} cm\") "
   ]
  },
  {
   "cell_type": "code",
   "execution_count": 9,
   "metadata": {},
   "outputs": [
    {
     "name": "stdout",
     "output_type": "stream",
     "text": [
      "weight = 30, length = 50, width = 50, height = 50\n",
      "Your baggage is NOT allowed!\n"
     ]
    }
   ],
   "source": [
    "weight = (int(input(\"Please enter the weight of your luggage: \")))\n",
    "length = (int(input(\"Please enter the length of your luggage: \")))\n",
    "width = (int(input(\"Please enter the width of your luggage: \")))\n",
    "height = (int(input(\"Please enter the height of your luggage: \")))\n",
    "\n",
    "if weight <= 8 and length <= 55 and width <= 40 and height <= 23:\n",
    "    print(f\"{weight = }, {length = }, {width = }, {height = }\\nYour baggage is allowed!\")\n",
    "else:\n",
    "    print(f\"{weight = }, {length = }, {width = }, {height = }\\nYour baggage is NOT allowed!\")"
   ]
  },
  {
   "cell_type": "markdown",
   "metadata": {},
   "source": [
    "---\n",
    "\n",
    "Kokchun Giang\n",
    "\n",
    "[LinkedIn][linkedIn_kokchun]\n",
    "\n",
    "[GitHub portfolio][github_portfolio]\n",
    "\n",
    "[linkedIn_kokchun]: https://www.linkedin.com/in/kokchungiang/\n",
    "[github_portfolio]: https://github.com/kokchun/Portfolio-Kokchun-Giang\n",
    "\n",
    "---"
   ]
  }
 ],
 "metadata": {
  "kernelspec": {
   "display_name": "Python 3.9.6 64-bit",
   "language": "python",
   "name": "python3"
  },
  "language_info": {
   "codemirror_mode": {
    "name": "ipython",
    "version": 3
   },
   "file_extension": ".py",
   "mimetype": "text/x-python",
   "name": "python",
   "nbconvert_exporter": "python",
   "pygments_lexer": "ipython3",
   "version": "3.11.5"
  },
  "orig_nbformat": 4,
  "vscode": {
   "interpreter": {
    "hash": "0da836a34428266995a795f1e1e27b816fa1c02f148d9728b3fbbbc5459afca6"
   }
  }
 },
 "nbformat": 4,
 "nbformat_minor": 2
}
